{
  "nbformat": 4,
  "nbformat_minor": 0,
  "metadata": {
    "colab": {
      "provenance": [],
      "collapsed_sections": [
        "Zj6S-31pwViL"
      ]
    },
    "kernelspec": {
      "name": "python3",
      "display_name": "Python 3"
    },
    "language_info": {
      "name": "python"
    }
  },
  "cells": [
    {
      "cell_type": "markdown",
      "source": [
        "# Load"
      ],
      "metadata": {
        "id": "vppMVOUFujHs"
      }
    },
    {
      "cell_type": "code",
      "execution_count": 9,
      "metadata": {
        "id": "c_eOQoqVtltJ"
      },
      "outputs": [],
      "source": [
        "%%capture\n",
        "import numpy as np\n",
        "import pandas as pd \n",
        "from tqdm import tqdm\n",
        "import matplotlib.pyplot as plt\n",
        "import time\n",
        "import csv\n",
        "import os\n",
        "import missingno as msno\n",
        "from collections import Counter\n",
        "from datetime import datetime\n",
        "from scipy.cluster.hierarchy import dendrogram, linkage\n",
        "from collections import defaultdict\n",
        "import statistics\n",
        "from sklearn.decomposition import PCA\n",
        "from sklearn.preprocessing import Normalizer, StandardScaler\n",
        "from sklearn import preprocessing\n",
        "import plotly.express as px\n",
        "import seaborn as sns"
      ]
    },
    {
      "cell_type": "code",
      "source": [
        "from google.colab import drive\n",
        "drive.mount('/content/drive')"
      ],
      "metadata": {
        "colab": {
          "base_uri": "https://localhost:8080/"
        },
        "id": "HXNW7Qhmt08y",
        "outputId": "10289334-a8d3-4338-cb3b-9029197b83e5"
      },
      "execution_count": 10,
      "outputs": [
        {
          "output_type": "stream",
          "name": "stdout",
          "text": [
            "Mounted at /content/drive\n"
          ]
        }
      ]
    },
    {
      "cell_type": "markdown",
      "source": [
        "# 1 Finding Similar Costumers"
      ],
      "metadata": {
        "id": "1xq-qJ_8uqzK"
      }
    },
    {
      "cell_type": "markdown",
      "source": [
        "## 1.1 Set up the data"
      ],
      "metadata": {
        "id": "M_6BeDFKuy6l"
      }
    },
    {
      "cell_type": "markdown",
      "source": [
        "First, we load the dataset"
      ],
      "metadata": {
        "id": "XgTVJAEbLifV"
      }
    },
    {
      "cell_type": "code",
      "source": [
        "df_bank = pd.read_csv(r'/content/drive/MyDrive/adm hw4/bank_transactions.csv')"
      ],
      "metadata": {
        "id": "Gmz1KD_aLifc"
      },
      "execution_count": 3,
      "outputs": []
    },
    {
      "cell_type": "code",
      "source": [
        "df_bank.head()"
      ],
      "metadata": {
        "colab": {
          "base_uri": "https://localhost:8080/",
          "height": 206
        },
        "id": "Tg--koIjuUHG",
        "outputId": "f69b3657-90fa-4d65-d127-d57a875dbb96"
      },
      "execution_count": 4,
      "outputs": [
        {
          "output_type": "execute_result",
          "data": {
            "text/plain": [
              "  TransactionID CustomerID CustomerDOB CustGender CustLocation  \\\n",
              "0            T1   C5841053     10/1/94          F   JAMSHEDPUR   \n",
              "1            T2   C2142763      4/4/57          M      JHAJJAR   \n",
              "2            T3   C4417068    26/11/96          F       MUMBAI   \n",
              "3            T4   C5342380     14/9/73          F       MUMBAI   \n",
              "4            T5   C9031234     24/3/88          F  NAVI MUMBAI   \n",
              "\n",
              "   CustAccountBalance TransactionDate  TransactionTime  \\\n",
              "0            17819.05          2/8/16           143207   \n",
              "1             2270.69          2/8/16           141858   \n",
              "2            17874.44          2/8/16           142712   \n",
              "3           866503.21          2/8/16           142714   \n",
              "4             6714.43          2/8/16           181156   \n",
              "\n",
              "   TransactionAmount (INR)  \n",
              "0                     25.0  \n",
              "1                  27999.0  \n",
              "2                    459.0  \n",
              "3                   2060.0  \n",
              "4                   1762.5  "
            ],
            "text/html": [
              "\n",
              "  <div id=\"df-3e990654-85dd-4c10-96e0-f65ef67fbbe2\">\n",
              "    <div class=\"colab-df-container\">\n",
              "      <div>\n",
              "<style scoped>\n",
              "    .dataframe tbody tr th:only-of-type {\n",
              "        vertical-align: middle;\n",
              "    }\n",
              "\n",
              "    .dataframe tbody tr th {\n",
              "        vertical-align: top;\n",
              "    }\n",
              "\n",
              "    .dataframe thead th {\n",
              "        text-align: right;\n",
              "    }\n",
              "</style>\n",
              "<table border=\"1\" class=\"dataframe\">\n",
              "  <thead>\n",
              "    <tr style=\"text-align: right;\">\n",
              "      <th></th>\n",
              "      <th>TransactionID</th>\n",
              "      <th>CustomerID</th>\n",
              "      <th>CustomerDOB</th>\n",
              "      <th>CustGender</th>\n",
              "      <th>CustLocation</th>\n",
              "      <th>CustAccountBalance</th>\n",
              "      <th>TransactionDate</th>\n",
              "      <th>TransactionTime</th>\n",
              "      <th>TransactionAmount (INR)</th>\n",
              "    </tr>\n",
              "  </thead>\n",
              "  <tbody>\n",
              "    <tr>\n",
              "      <th>0</th>\n",
              "      <td>T1</td>\n",
              "      <td>C5841053</td>\n",
              "      <td>10/1/94</td>\n",
              "      <td>F</td>\n",
              "      <td>JAMSHEDPUR</td>\n",
              "      <td>17819.05</td>\n",
              "      <td>2/8/16</td>\n",
              "      <td>143207</td>\n",
              "      <td>25.0</td>\n",
              "    </tr>\n",
              "    <tr>\n",
              "      <th>1</th>\n",
              "      <td>T2</td>\n",
              "      <td>C2142763</td>\n",
              "      <td>4/4/57</td>\n",
              "      <td>M</td>\n",
              "      <td>JHAJJAR</td>\n",
              "      <td>2270.69</td>\n",
              "      <td>2/8/16</td>\n",
              "      <td>141858</td>\n",
              "      <td>27999.0</td>\n",
              "    </tr>\n",
              "    <tr>\n",
              "      <th>2</th>\n",
              "      <td>T3</td>\n",
              "      <td>C4417068</td>\n",
              "      <td>26/11/96</td>\n",
              "      <td>F</td>\n",
              "      <td>MUMBAI</td>\n",
              "      <td>17874.44</td>\n",
              "      <td>2/8/16</td>\n",
              "      <td>142712</td>\n",
              "      <td>459.0</td>\n",
              "    </tr>\n",
              "    <tr>\n",
              "      <th>3</th>\n",
              "      <td>T4</td>\n",
              "      <td>C5342380</td>\n",
              "      <td>14/9/73</td>\n",
              "      <td>F</td>\n",
              "      <td>MUMBAI</td>\n",
              "      <td>866503.21</td>\n",
              "      <td>2/8/16</td>\n",
              "      <td>142714</td>\n",
              "      <td>2060.0</td>\n",
              "    </tr>\n",
              "    <tr>\n",
              "      <th>4</th>\n",
              "      <td>T5</td>\n",
              "      <td>C9031234</td>\n",
              "      <td>24/3/88</td>\n",
              "      <td>F</td>\n",
              "      <td>NAVI MUMBAI</td>\n",
              "      <td>6714.43</td>\n",
              "      <td>2/8/16</td>\n",
              "      <td>181156</td>\n",
              "      <td>1762.5</td>\n",
              "    </tr>\n",
              "  </tbody>\n",
              "</table>\n",
              "</div>\n",
              "      <button class=\"colab-df-convert\" onclick=\"convertToInteractive('df-3e990654-85dd-4c10-96e0-f65ef67fbbe2')\"\n",
              "              title=\"Convert this dataframe to an interactive table.\"\n",
              "              style=\"display:none;\">\n",
              "        \n",
              "  <svg xmlns=\"http://www.w3.org/2000/svg\" height=\"24px\"viewBox=\"0 0 24 24\"\n",
              "       width=\"24px\">\n",
              "    <path d=\"M0 0h24v24H0V0z\" fill=\"none\"/>\n",
              "    <path d=\"M18.56 5.44l.94 2.06.94-2.06 2.06-.94-2.06-.94-.94-2.06-.94 2.06-2.06.94zm-11 1L8.5 8.5l.94-2.06 2.06-.94-2.06-.94L8.5 2.5l-.94 2.06-2.06.94zm10 10l.94 2.06.94-2.06 2.06-.94-2.06-.94-.94-2.06-.94 2.06-2.06.94z\"/><path d=\"M17.41 7.96l-1.37-1.37c-.4-.4-.92-.59-1.43-.59-.52 0-1.04.2-1.43.59L10.3 9.45l-7.72 7.72c-.78.78-.78 2.05 0 2.83L4 21.41c.39.39.9.59 1.41.59.51 0 1.02-.2 1.41-.59l7.78-7.78 2.81-2.81c.8-.78.8-2.07 0-2.86zM5.41 20L4 18.59l7.72-7.72 1.47 1.35L5.41 20z\"/>\n",
              "  </svg>\n",
              "      </button>\n",
              "      \n",
              "  <style>\n",
              "    .colab-df-container {\n",
              "      display:flex;\n",
              "      flex-wrap:wrap;\n",
              "      gap: 12px;\n",
              "    }\n",
              "\n",
              "    .colab-df-convert {\n",
              "      background-color: #E8F0FE;\n",
              "      border: none;\n",
              "      border-radius: 50%;\n",
              "      cursor: pointer;\n",
              "      display: none;\n",
              "      fill: #1967D2;\n",
              "      height: 32px;\n",
              "      padding: 0 0 0 0;\n",
              "      width: 32px;\n",
              "    }\n",
              "\n",
              "    .colab-df-convert:hover {\n",
              "      background-color: #E2EBFA;\n",
              "      box-shadow: 0px 1px 2px rgba(60, 64, 67, 0.3), 0px 1px 3px 1px rgba(60, 64, 67, 0.15);\n",
              "      fill: #174EA6;\n",
              "    }\n",
              "\n",
              "    [theme=dark] .colab-df-convert {\n",
              "      background-color: #3B4455;\n",
              "      fill: #D2E3FC;\n",
              "    }\n",
              "\n",
              "    [theme=dark] .colab-df-convert:hover {\n",
              "      background-color: #434B5C;\n",
              "      box-shadow: 0px 1px 3px 1px rgba(0, 0, 0, 0.15);\n",
              "      filter: drop-shadow(0px 1px 2px rgba(0, 0, 0, 0.3));\n",
              "      fill: #FFFFFF;\n",
              "    }\n",
              "  </style>\n",
              "\n",
              "      <script>\n",
              "        const buttonEl =\n",
              "          document.querySelector('#df-3e990654-85dd-4c10-96e0-f65ef67fbbe2 button.colab-df-convert');\n",
              "        buttonEl.style.display =\n",
              "          google.colab.kernel.accessAllowed ? 'block' : 'none';\n",
              "\n",
              "        async function convertToInteractive(key) {\n",
              "          const element = document.querySelector('#df-3e990654-85dd-4c10-96e0-f65ef67fbbe2');\n",
              "          const dataTable =\n",
              "            await google.colab.kernel.invokeFunction('convertToInteractive',\n",
              "                                                     [key], {});\n",
              "          if (!dataTable) return;\n",
              "\n",
              "          const docLinkHtml = 'Like what you see? Visit the ' +\n",
              "            '<a target=\"_blank\" href=https://colab.research.google.com/notebooks/data_table.ipynb>data table notebook</a>'\n",
              "            + ' to learn more about interactive tables.';\n",
              "          element.innerHTML = '';\n",
              "          dataTable['output_type'] = 'display_data';\n",
              "          await google.colab.output.renderOutput(dataTable, element);\n",
              "          const docLink = document.createElement('div');\n",
              "          docLink.innerHTML = docLinkHtml;\n",
              "          element.appendChild(docLink);\n",
              "        }\n",
              "      </script>\n",
              "    </div>\n",
              "  </div>\n",
              "  "
            ]
          },
          "metadata": {},
          "execution_count": 4
        }
      ]
    },
    {
      "cell_type": "code",
      "source": [
        "msno.bar(df_bank, color='red')"
      ],
      "metadata": {
        "colab": {
          "base_uri": "https://localhost:8080/",
          "height": 819
        },
        "id": "gwsIduMOUZ3g",
        "outputId": "5741641d-666a-4642-823c-79ad3dfc8350"
      },
      "execution_count": 5,
      "outputs": [
        {
          "output_type": "execute_result",
          "data": {
            "text/plain": [
              "<matplotlib.axes._subplots.AxesSubplot at 0x7f40da5a2c70>"
            ]
          },
          "metadata": {},
          "execution_count": 5
        },
        {
          "output_type": "display_data",
          "data": {
            "text/plain": [
              "<Figure size 1800x720 with 3 Axes>"
            ],
            "image/png": "[encoded data removed]"
          },
          "metadata": {
            "needs_background": "light"
          }
        }
      ]
    },
    {
      "cell_type": "code",
      "source": [
        "#drop nas\n",
        "df_bank.dropna(inplace=True) \n",
        "\n",
        "# change format of the date\n",
        "df_bank.CustomerDOB = pd.to_datetime(df_bank.CustomerDOB)\n",
        "df_bank.loc[df_bank['CustomerDOB'].dt.year >= 2022, ['CustomerDOB']] -= pd.DateOffset(years = 100)\n",
        "\n",
        "# change format of TransactionDate\n",
        "df_bank['TransactionDate'] = pd.to_datetime(df_bank['TransactionDate'])\n",
        "\n",
        "# change format of TransactionTime\n",
        "df_bank.TransactionTime = df_bank.TransactionTime.apply(lambda x: datetime.strptime(str(x).zfill(6), '%H%M%S').time())\n",
        "\n",
        "#drop year = 1800\n",
        "df_bank.drop(df_bank[df_bank.CustomerDOB.dt.year == 1800].index, axis=0, inplace=True)"
      ],
      "metadata": {
        "id": "DoCBzoleLyO9"
      },
      "execution_count": 6,
      "outputs": []
    },
    {
      "cell_type": "code",
      "source": [
        "# change the type of TransactionAmount (INR)\n",
        "df_bank['TransactionAmount (INR)'] = df_bank['TransactionAmount (INR)'].astype(int)"
      ],
      "metadata": {
        "id": "1yxW75P-LyO9"
      },
      "execution_count": 7,
      "outputs": []
    },
    {
      "cell_type": "code",
      "source": [
        "# we notice that there is row in which a gender is equal to T, so we decided to drop it\n",
        "df_bank.drop(df_bank[df_bank['CustGender'].isin(['T'])].index,axis=0,inplace=True)"
      ],
      "metadata": {
        "id": "HvkvW0vYLyO-"
      },
      "execution_count": 8,
      "outputs": []
    },
    {
      "cell_type": "code",
      "source": [
        "df_bank.head()"
      ],
      "metadata": {
        "colab": {
          "base_uri": "https://localhost:8080/",
          "height": 206
        },
        "id": "amQp7LhaMy7O",
        "outputId": "e3ea7f89-a8cb-4625-f7c8-83f083515c48"
      },
      "execution_count": 9,
      "outputs": [
        {
          "output_type": "execute_result",
          "data": {
            "text/plain": [
              "  TransactionID CustomerID CustomerDOB CustGender CustLocation  \\\n",
              "0            T1   C5841053  1994-10-01          F   JAMSHEDPUR   \n",
              "1            T2   C2142763  1957-04-04          M      JHAJJAR   \n",
              "2            T3   C4417068  1996-11-26          F       MUMBAI   \n",
              "3            T4   C5342380  1973-09-14          F       MUMBAI   \n",
              "4            T5   C9031234  1988-03-24          F  NAVI MUMBAI   \n",
              "\n",
              "   CustAccountBalance TransactionDate TransactionTime  TransactionAmount (INR)  \n",
              "0            17819.05      2016-02-08        14:32:07                       25  \n",
              "1             2270.69      2016-02-08        14:18:58                    27999  \n",
              "2            17874.44      2016-02-08        14:27:12                      459  \n",
              "3           866503.21      2016-02-08        14:27:14                     2060  \n",
              "4             6714.43      2016-02-08        18:11:56                     1762  "
            ],
            "text/html": [
              "\n",
              "  <div id=\"df-41c07a4c-1502-416f-8a05-f3a5685250ed\">\n",
              "    <div class=\"colab-df-container\">\n",
              "      <div>\n",
              "<style scoped>\n",
              "    .dataframe tbody tr th:only-of-type {\n",
              "        vertical-align: middle;\n",
              "    }\n",
              "\n",
              "    .dataframe tbody tr th {\n",
              "        vertical-align: top;\n",
              "    }\n",
              "\n",
              "    .dataframe thead th {\n",
              "        text-align: right;\n",
              "    }\n",
              "</style>\n",
              "<table border=\"1\" class=\"dataframe\">\n",
              "  <thead>\n",
              "    <tr style=\"text-align: right;\">\n",
              "      <th></th>\n",
              "      <th>TransactionID</th>\n",
              "      <th>CustomerID</th>\n",
              "      <th>CustomerDOB</th>\n",
              "      <th>CustGender</th>\n",
              "      <th>CustLocation</th>\n",
              "      <th>CustAccountBalance</th>\n",
              "      <th>TransactionDate</th>\n",
              "      <th>TransactionTime</th>\n",
              "      <th>TransactionAmount (INR)</th>\n",
              "    </tr>\n",
              "  </thead>\n",
              "  <tbody>\n",
              "    <tr>\n",
              "      <th>0</th>\n",
              "      <td>T1</td>\n",
              "      <td>C5841053</td>\n",
              "      <td>1994-10-01</td>\n",
              "      <td>F</td>\n",
              "      <td>JAMSHEDPUR</td>\n",
              "      <td>17819.05</td>\n",
              "      <td>2016-02-08</td>\n",
              "      <td>14:32:07</td>\n",
              "      <td>25</td>\n",
              "    </tr>\n",
              "    <tr>\n",
              "      <th>1</th>\n",
              "      <td>T2</td>\n",
              "      <td>C2142763</td>\n",
              "      <td>1957-04-04</td>\n",
              "      <td>M</td>\n",
              "      <td>JHAJJAR</td>\n",
              "      <td>2270.69</td>\n",
              "      <td>2016-02-08</td>\n",
              "      <td>14:18:58</td>\n",
              "      <td>27999</td>\n",
              "    </tr>\n",
              "    <tr>\n",
              "      <th>2</th>\n",
              "      <td>T3</td>\n",
              "      <td>C4417068</td>\n",
              "      <td>1996-11-26</td>\n",
              "      <td>F</td>\n",
              "      <td>MUMBAI</td>\n",
              "      <td>17874.44</td>\n",
              "      <td>2016-02-08</td>\n",
              "      <td>14:27:12</td>\n",
              "      <td>459</td>\n",
              "    </tr>\n",
              "    <tr>\n",
              "      <th>3</th>\n",
              "      <td>T4</td>\n",
              "      <td>C5342380</td>\n",
              "      <td>1973-09-14</td>\n",
              "      <td>F</td>\n",
              "      <td>MUMBAI</td>\n",
              "      <td>866503.21</td>\n",
              "      <td>2016-02-08</td>\n",
              "      <td>14:27:14</td>\n",
              "      <td>2060</td>\n",
              "    </tr>\n",
              "    <tr>\n",
              "      <th>4</th>\n",
              "      <td>T5</td>\n",
              "      <td>C9031234</td>\n",
              "      <td>1988-03-24</td>\n",
              "      <td>F</td>\n",
              "      <td>NAVI MUMBAI</td>\n",
              "      <td>6714.43</td>\n",
              "      <td>2016-02-08</td>\n",
              "      <td>18:11:56</td>\n",
              "      <td>1762</td>\n",
              "    </tr>\n",
              "  </tbody>\n",
              "</table>\n",
              "</div>\n",
              "      <button class=\"colab-df-convert\" onclick=\"convertToInteractive('df-41c07a4c-1502-416f-8a05-f3a5685250ed')\"\n",
              "              title=\"Convert this dataframe to an interactive table.\"\n",
              "              style=\"display:none;\">\n",
              "        \n",
              "  <svg xmlns=\"http://www.w3.org/2000/svg\" height=\"24px\"viewBox=\"0 0 24 24\"\n",
              "       width=\"24px\">\n",
              "    <path d=\"M0 0h24v24H0V0z\" fill=\"none\"/>\n",
              "    <path d=\"M18.56 5.44l.94 2.06.94-2.06 2.06-.94-2.06-.94-.94-2.06-.94 2.06-2.06.94zm-11 1L8.5 8.5l.94-2.06 2.06-.94-2.06-.94L8.5 2.5l-.94 2.06-2.06.94zm10 10l.94 2.06.94-2.06 2.06-.94-2.06-.94-.94-2.06-.94 2.06-2.06.94z\"/><path d=\"M17.41 7.96l-1.37-1.37c-.4-.4-.92-.59-1.43-.59-.52 0-1.04.2-1.43.59L10.3 9.45l-7.72 7.72c-.78.78-.78 2.05 0 2.83L4 21.41c.39.39.9.59 1.41.59.51 0 1.02-.2 1.41-.59l7.78-7.78 2.81-2.81c.8-.78.8-2.07 0-2.86zM5.41 20L4 18.59l7.72-7.72 1.47 1.35L5.41 20z\"/>\n",
              "  </svg>\n",
              "      </button>\n",
              "      \n",
              "  <style>\n",
              "    .colab-df-container {\n",
              "      display:flex;\n",
              "      flex-wrap:wrap;\n",
              "      gap: 12px;\n",
              "    }\n",
              "\n",
              "    .colab-df-convert {\n",
              "      background-color: #E8F0FE;\n",
              "      border: none;\n",
              "      border-radius: 50%;\n",
              "      cursor: pointer;\n",
              "      display: none;\n",
              "      fill: #1967D2;\n",
              "      height: 32px;\n",
              "      padding: 0 0 0 0;\n",
              "      width: 32px;\n",
              "    }\n",
              "\n",
              "    .colab-df-convert:hover {\n",
              "      background-color: #E2EBFA;\n",
              "      box-shadow: 0px 1px 2px rgba(60, 64, 67, 0.3), 0px 1px 3px 1px rgba(60, 64, 67, 0.15);\n",
              "      fill: #174EA6;\n",
              "    }\n",
              "\n",
              "    [theme=dark] .colab-df-convert {\n",
              "      background-color: #3B4455;\n",
              "      fill: #D2E3FC;\n",
              "    }\n",
              "\n",
              "    [theme=dark] .colab-df-convert:hover {\n",
              "      background-color: #434B5C;\n",
              "      box-shadow: 0px 1px 3px 1px rgba(0, 0, 0, 0.15);\n",
              "      filter: drop-shadow(0px 1px 2px rgba(0, 0, 0, 0.3));\n",
              "      fill: #FFFFFF;\n",
              "    }\n",
              "  </style>\n",
              "\n",
              "      <script>\n",
              "        const buttonEl =\n",
              "          document.querySelector('#df-41c07a4c-1502-416f-8a05-f3a5685250ed button.colab-df-convert');\n",
              "        buttonEl.style.display =\n",
              "          google.colab.kernel.accessAllowed ? 'block' : 'none';\n",
              "\n",
              "        async function convertToInteractive(key) {\n",
              "          const element = document.querySelector('#df-41c07a4c-1502-416f-8a05-f3a5685250ed');\n",
              "          const dataTable =\n",
              "            await google.colab.kernel.invokeFunction('convertToInteractive',\n",
              "                                                     [key], {});\n",
              "          if (!dataTable) return;\n",
              "\n",
              "          const docLinkHtml = 'Like what you see? Visit the ' +\n",
              "            '<a target=\"_blank\" href=https://colab.research.google.com/notebooks/data_table.ipynb>data table notebook</a>'\n",
              "            + ' to learn more about interactive tables.';\n",
              "          element.innerHTML = '';\n",
              "          dataTable['output_type'] = 'display_data';\n",
              "          await google.colab.output.renderOutput(dataTable, element);\n",
              "          const docLink = document.createElement('div');\n",
              "          docLink.innerHTML = docLinkHtml;\n",
              "          element.appendChild(docLink);\n",
              "        }\n",
              "      </script>\n",
              "    </div>\n",
              "  </div>\n",
              "  "
            ]
          },
          "metadata": {},
          "execution_count": 9
        }
      ]
    },
    {
      "cell_type": "code",
      "source": [
        "df_bank.info()"
      ],
      "metadata": {
        "colab": {
          "base_uri": "https://localhost:8080/"
        },
        "id": "2nfQ0F-JPHAA",
        "outputId": "4d69be38-0b25-4392-8950-1fc99136777b"
      },
      "execution_count": 10,
      "outputs": [
        {
          "output_type": "stream",
          "name": "stdout",
          "text": [
            "<class 'pandas.core.frame.DataFrame'>\n",
            "Int64Index: 985322 entries, 0 to 1048566\n",
            "Data columns (total 9 columns):\n",
            " #   Column                   Non-Null Count   Dtype         \n",
            "---  ------                   --------------   -----         \n",
            " 0   TransactionID            985322 non-null  object        \n",
            " 1   CustomerID               985322 non-null  object        \n",
            " 2   CustomerDOB              985322 non-null  datetime64[ns]\n",
            " 3   CustGender               985322 non-null  object        \n",
            " 4   CustLocation             985322 non-null  object        \n",
            " 5   CustAccountBalance       985322 non-null  float64       \n",
            " 6   TransactionDate          985322 non-null  datetime64[ns]\n",
            " 7   TransactionTime          985322 non-null  object        \n",
            " 8   TransactionAmount (INR)  985322 non-null  int64         \n",
            "dtypes: datetime64[ns](2), float64(1), int64(1), object(5)\n",
            "memory usage: 107.4+ MB\n"
          ]
        }
      ]
    },
    {
      "cell_type": "markdown",
      "source": [
        "We decided to store the cleaned dataset in our drive folder to avoid the clean procedure again"
      ],
      "metadata": {
        "id": "DajgCPKPLyO-"
      }
    },
    {
      "cell_type": "code",
      "source": [
        "df_bank.to_csv('/content/drive/MyDrive/adm hw4/df_cleaned.csv', index=False)"
      ],
      "metadata": {
        "id": "jjwUdeVmLyO-"
      },
      "execution_count": 11,
      "outputs": []
    },
    {
      "cell_type": "code",
      "source": [
        "df_bank = pd.read_csv(r'/content/drive/MyDrive/adm hw4/df_cleaned.csv')"
      ],
      "metadata": {
        "id": "Bjb5Vrw66dDB"
      },
      "execution_count": 12,
      "outputs": []
    },
    {
      "cell_type": "markdown",
      "source": [
        "We create the Age column "
      ],
      "metadata": {
        "id": "3lCb05TjNDA9"
      }
    },
    {
      "cell_type": "code",
      "source": [
        "df_bank.CustomerDOB = pd.to_datetime(df_bank.CustomerDOB)\n",
        "df_bank['CustomerAge'] = (( pd.to_datetime('today') - df_bank.CustomerDOB ) / np.timedelta64(1, 'Y')).round(0)\n",
        "df_bank['CustomerAge'] = df_bank['CustomerAge'].astype(int)"
      ],
      "metadata": {
        "id": "AFOvGFbPNB_J"
      },
      "execution_count": 13,
      "outputs": []
    },
    {
      "cell_type": "markdown",
      "source": [
        "To handle the multiple operations for each custumer ID, we select the mode for the variables regarding the gender and age, instead for  Balance and Transaction amount we use the mean."
      ],
      "metadata": {
        "id": "8_vq52QgKlcM"
      }
    },
    {
      "cell_type": "code",
      "source": [
        "# Mean for Transaction\n",
        "trans = df_bank[['CustomerID', 'TransactionAmount (INR)']].groupby(by = 'CustomerID', as_index = False, sort = False).mean().reset_index()\n",
        "trans = trans.drop(columns = 'index')\n",
        "trans.rename(columns = {'TransactionAmount (INR)' : 'Transaction_Avg'}, inplace = True)\n",
        "df_bank = df_bank.merge(right = trans, on = 'CustomerID')\n",
        "\n",
        "# Mean for Balance\n",
        "bal = df_bank[['CustomerID', 'CustAccountBalance']].groupby(by = 'CustomerID', as_index = False, sort = False).mean().reset_index()\n",
        "bal = bal.drop(columns = 'index')\n",
        "bal.rename(columns = {'CustAccountBalance' : 'Balance_Avg'}, inplace = True)\n",
        "df_bank = df_bank.merge(right = bal, on = 'CustomerID')\n",
        "\n",
        "# Mode for Gender                                                                                                    #if we have two mode, we take the first\n",
        "g=df_bank[['CustomerID', 'CustGender']].groupby(by = 'CustomerID', as_index = False, sort = False)['CustGender'].agg( lambda x: pd.Series.mode(x)[0]).reset_index() \n",
        "g = g.drop(columns = 'index')\n",
        "g.rename(columns = {'CustGender' : 'Gender_Mode'}, inplace = True)\n",
        "df_bank = df_bank.merge(right = g, on = 'CustomerID')\n",
        "\n",
        "# Mode for Age                                                                                                       #if we have two mode, we take the first\n",
        "ag = df_bank[['CustomerID', 'CustomerAge']].groupby(by = 'CustomerID', as_index = False, sort = False)['CustomerAge'].agg( lambda x: pd.Series.mode(x)[0]).reset_index()\n",
        "ag = ag.drop(columns = 'index')\n",
        "ag.rename(columns = {'CustomerAge' : 'Age_Mode'}, inplace = True)\n",
        "df_bank = df_bank.merge(right = ag, on = 'CustomerID')"
      ],
      "metadata": {
        "id": "6_-Cpzz8K9fa"
      },
      "execution_count": 14,
      "outputs": []
    },
    {
      "cell_type": "code",
      "source": [
        "df_bank[['CustomerID','Age_Mode','Gender_Mode','Balance_Avg','Transaction_Avg']].nunique()"
      ],
      "metadata": {
        "colab": {
          "base_uri": "https://localhost:8080/"
        },
        "id": "o__YMgMEM4QS",
        "outputId": "d3ae3c35-994a-461d-fe54-32084fd58fdb"
      },
      "execution_count": 15,
      "outputs": [
        {
          "output_type": "execute_result",
          "data": {
            "text/plain": [
              "CustomerID         839081\n",
              "Age_Mode               97\n",
              "Gender_Mode             2\n",
              "Balance_Avg        264602\n",
              "Transaction_Avg     27569\n",
              "dtype: int64"
            ]
          },
          "metadata": {},
          "execution_count": 15
        }
      ]
    },
    {
      "cell_type": "markdown",
      "source": [
        "Execpt for `Gender_Mode`, the other variables have too many unique values, we have to divide them into classes, so we create:\n",
        "\n",
        "\n",
        "\n",
        "\n",
        "####1.   `Balance_class`\n",
        "\n"
      ],
      "metadata": {
        "id": "7jjfK0tMNwj5"
      }
    },
    {
      "cell_type": "code",
      "source": [
        "df_bank['Balance_class'] = pd.cut(x=df_bank['Balance_Avg'], bins=[min(df_bank['Balance_Avg'])-1, 1000, 5000, 12000,\n",
        "                                          30000, 120000,max(df_bank['Balance_Avg'])+1])"
      ],
      "metadata": {
        "id": "13Z03ENdBQB4"
      },
      "execution_count": 16,
      "outputs": []
    },
    {
      "cell_type": "code",
      "source": [
        "df_bank['Balance_class'].value_counts()"
      ],
      "metadata": {
        "colab": {
          "base_uri": "https://localhost:8080/"
        },
        "id": "bysaloqgVnOl",
        "outputId": "d747ca68-219e-43e6-fd41-9b85bc1f8b78"
      },
      "execution_count": 17,
      "outputs": [
        {
          "output_type": "execute_result",
          "data": {
            "text/plain": [
              "(30000.0, 120000.0]        241800\n",
              "(12000.0, 30000.0]         216439\n",
              "(5000.0, 12000.0]          165918\n",
              "(120000.0, 115035496.1]    145669\n",
              "(1000.0, 5000.0]           119677\n",
              "(-1.0, 1000.0]              95819\n",
              "Name: Balance_class, dtype: int64"
            ]
          },
          "metadata": {},
          "execution_count": 17
        }
      ]
    },
    {
      "cell_type": "markdown",
      "source": [
        "####2.  `Transaction_class`"
      ],
      "metadata": {
        "id": "0bsAzKqVOVkp"
      }
    },
    {
      "cell_type": "code",
      "source": [
        "df_bank['Transaction_class']=pd.cut(x=df_bank['Transaction_Avg'], bins=[min(df_bank['Transaction_Avg'])-1,500,1500,\n",
        "                                          7000, 12000,max(df_bank['Transaction_Avg'])+1])"
      ],
      "metadata": {
        "id": "S8aHwA1jJKgA"
      },
      "execution_count": 18,
      "outputs": []
    },
    {
      "cell_type": "code",
      "source": [
        "df_bank['Transaction_class'].value_counts()"
      ],
      "metadata": {
        "colab": {
          "base_uri": "https://localhost:8080/"
        },
        "id": "IdL26NxgKEmA",
        "outputId": "1d4131f4-edc3-42e7-8a77-90e7a41046fe"
      },
      "execution_count": 19,
      "outputs": [
        {
          "output_type": "execute_result",
          "data": {
            "text/plain": [
              "(-1.0, 500.0]           508892\n",
              "(500.0, 1500.0]         278648\n",
              "(1500.0, 7000.0]        167092\n",
              "(12000.0, 1560035.0]     15403\n",
              "(7000.0, 12000.0]        15287\n",
              "Name: Transaction_class, dtype: int64"
            ]
          },
          "metadata": {},
          "execution_count": 19
        }
      ]
    },
    {
      "cell_type": "markdown",
      "source": [
        "####3. `Generation`\n",
        "\n",
        "\n",
        "\n"
      ],
      "metadata": {
        "id": "oKLGsjtoOqeP"
      }
    },
    {
      "cell_type": "code",
      "source": [
        "df_bank['Generation']=pd.cut(x=df_bank['Age_Mode'], bins=[min(df_bank['Age_Mode'])-1,18,30,\n",
        "                                          50, 75,max(df_bank['Age_Mode'])+1])"
      ],
      "metadata": {
        "id": "FAxL_IRkOp7K"
      },
      "execution_count": 20,
      "outputs": []
    },
    {
      "cell_type": "code",
      "source": [
        "df_bank['Generation'].value_counts()"
      ],
      "metadata": {
        "colab": {
          "base_uri": "https://localhost:8080/"
        },
        "id": "0ZkhdGphOzqC",
        "outputId": "4a3fa1a5-b0d6-4257-9708-502de0dc927a"
      },
      "execution_count": 21,
      "outputs": [
        {
          "output_type": "execute_result",
          "data": {
            "text/plain": [
              "(30, 50]     712259\n",
              "(18, 30]     213839\n",
              "(50, 75]      55905\n",
              "(75, 101]      2924\n",
              "(1, 18]         395\n",
              "Name: Generation, dtype: int64"
            ]
          },
          "metadata": {},
          "execution_count": 21
        }
      ]
    },
    {
      "cell_type": "markdown",
      "source": [
        "Now that we are done with systemizing the data, let's select only the columns that we think are interesting for our purposes"
      ],
      "metadata": {
        "id": "ndTieTo1Rjh2"
      }
    },
    {
      "cell_type": "code",
      "source": [
        "selected_cols=['CustomerID', 'Generation', 'Transaction_class', 'Balance_class', 'Gender_Mode']"
      ],
      "metadata": {
        "id": "1pjex4MpMOTq"
      },
      "execution_count": 22,
      "outputs": []
    },
    {
      "cell_type": "code",
      "source": [
        "d=df_bank[selected_cols]\n",
        "d.drop_duplicates(inplace=True)\n",
        "d.drop('CustomerID', inplace=True, axis=1)\n",
        "d"
      ],
      "metadata": {
        "id": "W0UkGjYKlVSw",
        "colab": {
          "base_uri": "https://localhost:8080/",
          "height": 597
        },
        "outputId": "b01d685a-6ad0-4079-a110-f54cded64373"
      },
      "execution_count": 23,
      "outputs": [
        {
          "output_type": "stream",
          "name": "stderr",
          "text": [
            "/usr/local/lib/python3.8/dist-packages/pandas/util/_decorators.py:311: SettingWithCopyWarning: \n",
            "A value is trying to be set on a copy of a slice from a DataFrame\n",
            "\n",
            "See the caveats in the documentation: https://pandas.pydata.org/pandas-docs/stable/user_guide/indexing.html#returning-a-view-versus-a-copy\n",
            "  return func(*args, **kwargs)\n",
            "/usr/local/lib/python3.8/dist-packages/pandas/core/frame.py:4906: SettingWithCopyWarning: \n",
            "A value is trying to be set on a copy of a slice from a DataFrame\n",
            "\n",
            "See the caveats in the documentation: https://pandas.pydata.org/pandas-docs/stable/user_guide/indexing.html#returning-a-view-versus-a-copy\n",
            "  return super().drop(\n"
          ]
        },
        {
          "output_type": "execute_result",
          "data": {
            "text/plain": [
              "       Generation     Transaction_class            Balance_class Gender_Mode\n",
              "0        (18, 30]         (-1.0, 500.0]       (12000.0, 30000.0]           F\n",
              "1        (50, 75]  (12000.0, 1560035.0]         (1000.0, 5000.0]           M\n",
              "2        (18, 30]         (-1.0, 500.0]       (12000.0, 30000.0]           F\n",
              "3        (30, 50]       (500.0, 1500.0]  (120000.0, 115035496.1]           F\n",
              "5        (30, 50]      (1500.0, 7000.0]        (5000.0, 12000.0]           F\n",
              "...           ...                   ...                      ...         ...\n",
              "985317   (30, 50]      (1500.0, 7000.0]           (-1.0, 1000.0]           M\n",
              "985318   (18, 30]       (500.0, 1500.0]         (1000.0, 5000.0]           M\n",
              "985319   (30, 50]       (500.0, 1500.0]        (5000.0, 12000.0]           M\n",
              "985320   (30, 50]         (-1.0, 500.0]       (12000.0, 30000.0]           M\n",
              "985321   (30, 50]       (500.0, 1500.0]        (5000.0, 12000.0]           M\n",
              "\n",
              "[839081 rows x 4 columns]"
            ],
            "text/html": [
              "\n",
              "  <div id=\"df-7a5961ad-f071-46a3-8704-7bdb571e50b7\">\n",
              "    <div class=\"colab-df-container\">\n",
              "      <div>\n",
              "<style scoped>\n",
              "    .dataframe tbody tr th:only-of-type {\n",
              "        vertical-align: middle;\n",
              "    }\n",
              "\n",
              "    .dataframe tbody tr th {\n",
              "        vertical-align: top;\n",
              "    }\n",
              "\n",
              "    .dataframe thead th {\n",
              "        text-align: right;\n",
              "    }\n",
              "</style>\n",
              "<table border=\"1\" class=\"dataframe\">\n",
              "  <thead>\n",
              "    <tr style=\"text-align: right;\">\n",
              "      <th></th>\n",
              "      <th>Generation</th>\n",
              "      <th>Transaction_class</th>\n",
              "      <th>Balance_class</th>\n",
              "      <th>Gender_Mode</th>\n",
              "    </tr>\n",
              "  </thead>\n",
              "  <tbody>\n",
              "    <tr>\n",
              "      <th>0</th>\n",
              "      <td>(18, 30]</td>\n",
              "      <td>(-1.0, 500.0]</td>\n",
              "      <td>(12000.0, 30000.0]</td>\n",
              "      <td>F</td>\n",
              "    </tr>\n",
              "    <tr>\n",
              "      <th>1</th>\n",
              "      <td>(50, 75]</td>\n",
              "      <td>(12000.0, 1560035.0]</td>\n",
              "      <td>(1000.0, 5000.0]</td>\n",
              "      <td>M</td>\n",
              "    </tr>\n",
              "    <tr>\n",
              "      <th>2</th>\n",
              "      <td>(18, 30]</td>\n",
              "      <td>(-1.0, 500.0]</td>\n",
              "      <td>(12000.0, 30000.0]</td>\n",
              "      <td>F</td>\n",
              "    </tr>\n",
              "    <tr>\n",
              "      <th>3</th>\n",
              "      <td>(30, 50]</td>\n",
              "      <td>(500.0, 1500.0]</td>\n",
              "      <td>(120000.0, 115035496.1]</td>\n",
              "      <td>F</td>\n",
              "    </tr>\n",
              "    <tr>\n",
              "      <th>5</th>\n",
              "      <td>(30, 50]</td>\n",
              "      <td>(1500.0, 7000.0]</td>\n",
              "      <td>(5000.0, 12000.0]</td>\n",
              "      <td>F</td>\n",
              "    </tr>\n",
              "    <tr>\n",
              "      <th>...</th>\n",
              "      <td>...</td>\n",
              "      <td>...</td>\n",
              "      <td>...</td>\n",
              "      <td>...</td>\n",
              "    </tr>\n",
              "    <tr>\n",
              "      <th>985317</th>\n",
              "      <td>(30, 50]</td>\n",
              "      <td>(1500.0, 7000.0]</td>\n",
              "      <td>(-1.0, 1000.0]</td>\n",
              "      <td>M</td>\n",
              "    </tr>\n",
              "    <tr>\n",
              "      <th>985318</th>\n",
              "      <td>(18, 30]</td>\n",
              "      <td>(500.0, 1500.0]</td>\n",
              "      <td>(1000.0, 5000.0]</td>\n",
              "      <td>M</td>\n",
              "    </tr>\n",
              "    <tr>\n",
              "      <th>985319</th>\n",
              "      <td>(30, 50]</td>\n",
              "      <td>(500.0, 1500.0]</td>\n",
              "      <td>(5000.0, 12000.0]</td>\n",
              "      <td>M</td>\n",
              "    </tr>\n",
              "    <tr>\n",
              "      <th>985320</th>\n",
              "      <td>(30, 50]</td>\n",
              "      <td>(-1.0, 500.0]</td>\n",
              "      <td>(12000.0, 30000.0]</td>\n",
              "      <td>M</td>\n",
              "    </tr>\n",
              "    <tr>\n",
              "      <th>985321</th>\n",
              "      <td>(30, 50]</td>\n",
              "      <td>(500.0, 1500.0]</td>\n",
              "      <td>(5000.0, 12000.0]</td>\n",
              "      <td>M</td>\n",
              "    </tr>\n",
              "  </tbody>\n",
              "</table>\n",
              "<p>839081 rows × 4 columns</p>\n",
              "</div>\n",
              "      <button class=\"colab-df-convert\" onclick=\"convertToInteractive('df-7a5961ad-f071-46a3-8704-7bdb571e50b7')\"\n",
              "              title=\"Convert this dataframe to an interactive table.\"\n",
              "              style=\"display:none;\">\n",
              "        \n",
              "  <svg xmlns=\"http://www.w3.org/2000/svg\" height=\"24px\"viewBox=\"0 0 24 24\"\n",
              "       width=\"24px\">\n",
              "    <path d=\"M0 0h24v24H0V0z\" fill=\"none\"/>\n",
              "    <path d=\"M18.56 5.44l.94 2.06.94-2.06 2.06-.94-2.06-.94-.94-2.06-.94 2.06-2.06.94zm-11 1L8.5 8.5l.94-2.06 2.06-.94-2.06-.94L8.5 2.5l-.94 2.06-2.06.94zm10 10l.94 2.06.94-2.06 2.06-.94-2.06-.94-.94-2.06-.94 2.06-2.06.94z\"/><path d=\"M17.41 7.96l-1.37-1.37c-.4-.4-.92-.59-1.43-.59-.52 0-1.04.2-1.43.59L10.3 9.45l-7.72 7.72c-.78.78-.78 2.05 0 2.83L4 21.41c.39.39.9.59 1.41.59.51 0 1.02-.2 1.41-.59l7.78-7.78 2.81-2.81c.8-.78.8-2.07 0-2.86zM5.41 20L4 18.59l7.72-7.72 1.47 1.35L5.41 20z\"/>\n",
              "  </svg>\n",
              "      </button>\n",
              "      \n",
              "  <style>\n",
              "    .colab-df-container {\n",
              "      display:flex;\n",
              "      flex-wrap:wrap;\n",
              "      gap: 12px;\n",
              "    }\n",
              "\n",
              "    .colab-df-convert {\n",
              "      background-color: #E8F0FE;\n",
              "      border: none;\n",
              "      border-radius: 50%;\n",
              "      cursor: pointer;\n",
              "      display: none;\n",
              "      fill: #1967D2;\n",
              "      height: 32px;\n",
              "      padding: 0 0 0 0;\n",
              "      width: 32px;\n",
              "    }\n",
              "\n",
              "    .colab-df-convert:hover {\n",
              "      background-color: #E2EBFA;\n",
              "      box-shadow: 0px 1px 2px rgba(60, 64, 67, 0.3), 0px 1px 3px 1px rgba(60, 64, 67, 0.15);\n",
              "      fill: #174EA6;\n",
              "    }\n",
              "\n",
              "    [theme=dark] .colab-df-convert {\n",
              "      background-color: #3B4455;\n",
              "      fill: #D2E3FC;\n",
              "    }\n",
              "\n",
              "    [theme=dark] .colab-df-convert:hover {\n",
              "      background-color: #434B5C;\n",
              "      box-shadow: 0px 1px 3px 1px rgba(0, 0, 0, 0.15);\n",
              "      filter: drop-shadow(0px 1px 2px rgba(0, 0, 0, 0.3));\n",
              "      fill: #FFFFFF;\n",
              "    }\n",
              "  </style>\n",
              "\n",
              "      <script>\n",
              "        const buttonEl =\n",
              "          document.querySelector('#df-7a5961ad-f071-46a3-8704-7bdb571e50b7 button.colab-df-convert');\n",
              "        buttonEl.style.display =\n",
              "          google.colab.kernel.accessAllowed ? 'block' : 'none';\n",
              "\n",
              "        async function convertToInteractive(key) {\n",
              "          const element = document.querySelector('#df-7a5961ad-f071-46a3-8704-7bdb571e50b7');\n",
              "          const dataTable =\n",
              "            await google.colab.kernel.invokeFunction('convertToInteractive',\n",
              "                                                     [key], {});\n",
              "          if (!dataTable) return;\n",
              "\n",
              "          const docLinkHtml = 'Like what you see? Visit the ' +\n",
              "            '<a target=\"_blank\" href=https://colab.research.google.com/notebooks/data_table.ipynb>data table notebook</a>'\n",
              "            + ' to learn more about interactive tables.';\n",
              "          element.innerHTML = '';\n",
              "          dataTable['output_type'] = 'display_data';\n",
              "          await google.colab.output.renderOutput(dataTable, element);\n",
              "          const docLink = document.createElement('div');\n",
              "          docLink.innerHTML = docLinkHtml;\n",
              "          element.appendChild(docLink);\n",
              "        }\n",
              "      </script>\n",
              "    </div>\n",
              "  </div>\n",
              "  "
            ]
          },
          "metadata": {},
          "execution_count": 23
        }
      ]
    },
    {
      "cell_type": "code",
      "source": [
        "d.to_csv('/content/drive/MyDrive/adm hw4/df_for1_2.csv', index=False)"
      ],
      "metadata": {
        "id": "ZfBAu_V5QvOC"
      },
      "execution_count": 24,
      "outputs": []
    },
    {
      "cell_type": "code",
      "source": [
        "d.isnull().sum()"
      ],
      "metadata": {
        "colab": {
          "base_uri": "https://localhost:8080/"
        },
        "id": "KYx21C7spJ97",
        "outputId": "37ddef7c-d39c-4a9d-e73f-9b173f0bf5fa"
      },
      "execution_count": 25,
      "outputs": [
        {
          "output_type": "execute_result",
          "data": {
            "text/plain": [
              "Generation           0\n",
              "Transaction_class    0\n",
              "Balance_class        0\n",
              "Gender_Mode          0\n",
              "dtype: int64"
            ]
          },
          "metadata": {},
          "execution_count": 25
        }
      ]
    },
    {
      "cell_type": "markdown",
      "source": [
        "## 1.2 Fingerprint hashing"
      ],
      "metadata": {
        "id": "eXz2j3cfQ0pm"
      }
    },
    {
      "cell_type": "code",
      "source": [
        "df1 = pd.read_csv(r'/content/drive/MyDrive/adm hw4/df_for1_2.csv')"
      ],
      "metadata": {
        "id": "zWAvrIrqQ2sX"
      },
      "execution_count": 26,
      "outputs": []
    },
    {
      "cell_type": "markdown",
      "source": [
        "We change the labels"
      ],
      "metadata": {
        "id": "KvSAOY8Cy4ai"
      }
    },
    {
      "cell_type": "code",
      "source": [
        "cleanup = {\"Generation\":     {\"(1, 18]\": '1',\"(18, 30]\": '2', \"(30, 50]\": '3',\n",
        "                              \"(50, 75]\": '4',\"(75, 101]\": '5',},\n",
        "           \"Transaction_class\": {\"(-1.0, 500.0]\": '1', \"(500.0, 1500.0]\": '2', \"(1500.0, 7000.0]\": '3', \"(7000.0, 12000.0]\": '4',\n",
        "                                  \"(12000.0, 1560035.0]\": '5' },\n",
        "           \"Balance_class\": {\"(-1.0, 1000.0]\": '1', \"(1000.0, 5000.0]\": '2', \"(5000.0, 12000.0]\": '3', \"(12000.0, 30000.0]\": '4',\n",
        "                                  \"(30000.0, 120000.0]\": '5' , \"(120000.0, 115035496.1]\" : '6'}}"
      ],
      "metadata": {
        "id": "5FIqGVhnl9p1"
      },
      "execution_count": 27,
      "outputs": []
    },
    {
      "cell_type": "code",
      "source": [
        "df1 = df1.replace(cleanup)\n",
        "df1.head()"
      ],
      "metadata": {
        "colab": {
          "base_uri": "https://localhost:8080/",
          "height": 206
        },
        "id": "9gY_r3STm8wp",
        "outputId": "22b0bb80-1927-4479-d481-6af2fb5b847f"
      },
      "execution_count": 28,
      "outputs": [
        {
          "output_type": "execute_result",
          "data": {
            "text/plain": [
              "  Generation Transaction_class Balance_class Gender_Mode\n",
              "0          2                 1             4           F\n",
              "1          4                 5             2           M\n",
              "2          2                 1             4           F\n",
              "3          3                 2             6           F\n",
              "4          3                 3             3           F"
            ],
            "text/html": [
              "\n",
              "  <div id=\"df-75b6e8e3-6e81-49f2-93f5-2323cd1fdeb1\">\n",
              "    <div class=\"colab-df-container\">\n",
              "      <div>\n",
              "<style scoped>\n",
              "    .dataframe tbody tr th:only-of-type {\n",
              "        vertical-align: middle;\n",
              "    }\n",
              "\n",
              "    .dataframe tbody tr th {\n",
              "        vertical-align: top;\n",
              "    }\n",
              "\n",
              "    .dataframe thead th {\n",
              "        text-align: right;\n",
              "    }\n",
              "</style>\n",
              "<table border=\"1\" class=\"dataframe\">\n",
              "  <thead>\n",
              "    <tr style=\"text-align: right;\">\n",
              "      <th></th>\n",
              "      <th>Generation</th>\n",
              "      <th>Transaction_class</th>\n",
              "      <th>Balance_class</th>\n",
              "      <th>Gender_Mode</th>\n",
              "    </tr>\n",
              "  </thead>\n",
              "  <tbody>\n",
              "    <tr>\n",
              "      <th>0</th>\n",
              "      <td>2</td>\n",
              "      <td>1</td>\n",
              "      <td>4</td>\n",
              "      <td>F</td>\n",
              "    </tr>\n",
              "    <tr>\n",
              "      <th>1</th>\n",
              "      <td>4</td>\n",
              "      <td>5</td>\n",
              "      <td>2</td>\n",
              "      <td>M</td>\n",
              "    </tr>\n",
              "    <tr>\n",
              "      <th>2</th>\n",
              "      <td>2</td>\n",
              "      <td>1</td>\n",
              "      <td>4</td>\n",
              "      <td>F</td>\n",
              "    </tr>\n",
              "    <tr>\n",
              "      <th>3</th>\n",
              "      <td>3</td>\n",
              "      <td>2</td>\n",
              "      <td>6</td>\n",
              "      <td>F</td>\n",
              "    </tr>\n",
              "    <tr>\n",
              "      <th>4</th>\n",
              "      <td>3</td>\n",
              "      <td>3</td>\n",
              "      <td>3</td>\n",
              "      <td>F</td>\n",
              "    </tr>\n",
              "  </tbody>\n",
              "</table>\n",
              "</div>\n",
              "      <button class=\"colab-df-convert\" onclick=\"convertToInteractive('df-75b6e8e3-6e81-49f2-93f5-2323cd1fdeb1')\"\n",
              "              title=\"Convert this dataframe to an interactive table.\"\n",
              "              style=\"display:none;\">\n",
              "        \n",
              "  <svg xmlns=\"http://www.w3.org/2000/svg\" height=\"24px\"viewBox=\"0 0 24 24\"\n",
              "       width=\"24px\">\n",
              "    <path d=\"M0 0h24v24H0V0z\" fill=\"none\"/>\n",
              "    <path d=\"M18.56 5.44l.94 2.06.94-2.06 2.06-.94-2.06-.94-.94-2.06-.94 2.06-2.06.94zm-11 1L8.5 8.5l.94-2.06 2.06-.94-2.06-.94L8.5 2.5l-.94 2.06-2.06.94zm10 10l.94 2.06.94-2.06 2.06-.94-2.06-.94-.94-2.06-.94 2.06-2.06.94z\"/><path d=\"M17.41 7.96l-1.37-1.37c-.4-.4-.92-.59-1.43-.59-.52 0-1.04.2-1.43.59L10.3 9.45l-7.72 7.72c-.78.78-.78 2.05 0 2.83L4 21.41c.39.39.9.59 1.41.59.51 0 1.02-.2 1.41-.59l7.78-7.78 2.81-2.81c.8-.78.8-2.07 0-2.86zM5.41 20L4 18.59l7.72-7.72 1.47 1.35L5.41 20z\"/>\n",
              "  </svg>\n",
              "      </button>\n",
              "      \n",
              "  <style>\n",
              "    .colab-df-container {\n",
              "      display:flex;\n",
              "      flex-wrap:wrap;\n",
              "      gap: 12px;\n",
              "    }\n",
              "\n",
              "    .colab-df-convert {\n",
              "      background-color: #E8F0FE;\n",
              "      border: none;\n",
              "      border-radius: 50%;\n",
              "      cursor: pointer;\n",
              "      display: none;\n",
              "      fill: #1967D2;\n",
              "      height: 32px;\n",
              "      padding: 0 0 0 0;\n",
              "      width: 32px;\n",
              "    }\n",
              "\n",
              "    .colab-df-convert:hover {\n",
              "      background-color: #E2EBFA;\n",
              "      box-shadow: 0px 1px 2px rgba(60, 64, 67, 0.3), 0px 1px 3px 1px rgba(60, 64, 67, 0.15);\n",
              "      fill: #174EA6;\n",
              "    }\n",
              "\n",
              "    [theme=dark] .colab-df-convert {\n",
              "      background-color: #3B4455;\n",
              "      fill: #D2E3FC;\n",
              "    }\n",
              "\n",
              "    [theme=dark] .colab-df-convert:hover {\n",
              "      background-color: #434B5C;\n",
              "      box-shadow: 0px 1px 3px 1px rgba(0, 0, 0, 0.15);\n",
              "      filter: drop-shadow(0px 1px 2px rgba(0, 0, 0, 0.3));\n",
              "      fill: #FFFFFF;\n",
              "    }\n",
              "  </style>\n",
              "\n",
              "      <script>\n",
              "        const buttonEl =\n",
              "          document.querySelector('#df-75b6e8e3-6e81-49f2-93f5-2323cd1fdeb1 button.colab-df-convert');\n",
              "        buttonEl.style.display =\n",
              "          google.colab.kernel.accessAllowed ? 'block' : 'none';\n",
              "\n",
              "        async function convertToInteractive(key) {\n",
              "          const element = document.querySelector('#df-75b6e8e3-6e81-49f2-93f5-2323cd1fdeb1');\n",
              "          const dataTable =\n",
              "            await google.colab.kernel.invokeFunction('convertToInteractive',\n",
              "                                                     [key], {});\n",
              "          if (!dataTable) return;\n",
              "\n",
              "          const docLinkHtml = 'Like what you see? Visit the ' +\n",
              "            '<a target=\"_blank\" href=https://colab.research.google.com/notebooks/data_table.ipynb>data table notebook</a>'\n",
              "            + ' to learn more about interactive tables.';\n",
              "          element.innerHTML = '';\n",
              "          dataTable['output_type'] = 'display_data';\n",
              "          await google.colab.output.renderOutput(dataTable, element);\n",
              "          const docLink = document.createElement('div');\n",
              "          docLink.innerHTML = docLinkHtml;\n",
              "          element.appendChild(docLink);\n",
              "        }\n",
              "      </script>\n",
              "    </div>\n",
              "  </div>\n",
              "  "
            ]
          },
          "metadata": {},
          "execution_count": 28
        }
      ]
    },
    {
      "cell_type": "markdown",
      "source": [
        "We need the set of all possible outcomes to create the index matrix"
      ],
      "metadata": {
        "id": "_V_zWzfYThrC"
      }
    },
    {
      "cell_type": "code",
      "source": [
        "Genders=set(df1.Gender_Mode)\n",
        "Generations=set(df1.Generation)\n",
        "Balances=set(df1.Balance_class)\n",
        "Transactions=set(df1.Transaction_class)"
      ],
      "metadata": {
        "id": "HnVtt2eWS13Z"
      },
      "execution_count": 29,
      "outputs": []
    },
    {
      "cell_type": "markdown",
      "source": [
        "Then we turn them into lists"
      ],
      "metadata": {
        "id": "4BgNeR9AybQs"
      }
    },
    {
      "cell_type": "code",
      "source": [
        "genders=list(Genders)\n",
        "generations=list(Generations)\n",
        "balances=list(Balances)\n",
        "transactions=list(Transactions)"
      ],
      "metadata": {
        "id": "toPI021Db5s8"
      },
      "execution_count": 30,
      "outputs": []
    },
    {
      "cell_type": "code",
      "source": [
        "def MapToZerOne(attr, n_col,df):\n",
        "  n=len(attr)\n",
        "  column=df[df.columns[n_col]]\n",
        "  z= np.zeros(len(column))\n",
        "  for i in range(0,n):\n",
        "   temp= np.array([1 if x in attr[i] else 0 for x in np.array(column)])\n",
        "   h= np.vstack((z, temp))\n",
        "   z=h\n",
        "  final=h[1:]\n",
        "  return final"
      ],
      "metadata": {
        "id": "ioC_S_edTkDa"
      },
      "execution_count": 31,
      "outputs": []
    },
    {
      "cell_type": "code",
      "source": [
        "def get_Matrix(df):\n",
        "  n_cols=len(df.columns)\n",
        "  l= len(df[df.columns[1]])\n",
        "  init=np.zeros(l)\n",
        "  for j in range(0,n_cols):\n",
        "    attr=set(df[df.columns[j]])\n",
        "    attr=list(attr)\n",
        "    tempr=MapToZerOne(attr,j,df)\n",
        "    hr= np.vstack((init, tempr))\n",
        "    init=hr\n",
        "  final2=hr[1:]\n",
        "  return final2"
      ],
      "metadata": {
        "id": "z2pr8wE_oJAG"
      },
      "execution_count": 32,
      "outputs": []
    },
    {
      "cell_type": "code",
      "source": [
        "matrix_onehot=get_Matrix(df1)\n",
        "matrix_onehot"
      ],
      "metadata": {
        "colab": {
          "base_uri": "https://localhost:8080/"
        },
        "id": "qhf0z-P5si7E",
        "outputId": "8b6a762e-32c0-49a2-e184-744c91821931"
      },
      "execution_count": 33,
      "outputs": [
        {
          "output_type": "execute_result",
          "data": {
            "text/plain": [
              "array([[0., 0., 0., ..., 1., 1., 1.],\n",
              "       [0., 0., 0., ..., 0., 0., 0.],\n",
              "       [0., 1., 0., ..., 0., 0., 0.],\n",
              "       ...,\n",
              "       [0., 0., 0., ..., 0., 0., 0.],\n",
              "       [0., 1., 0., ..., 1., 1., 1.],\n",
              "       [1., 0., 1., ..., 0., 0., 0.]])"
            ]
          },
          "metadata": {},
          "execution_count": 33
        }
      ]
    },
    {
      "cell_type": "code",
      "source": [
        "len(matrix_onehot) == len(genders)+len(generations)+len(balances)+len(transactions)"
      ],
      "metadata": {
        "colab": {
          "base_uri": "https://localhost:8080/"
        },
        "id": "d9Iy610ixNXu",
        "outputId": "7185d74d-8767-4146-8fb1-f7dc8a3b013b"
      },
      "execution_count": 34,
      "outputs": [
        {
          "output_type": "execute_result",
          "data": {
            "text/plain": [
              "True"
            ]
          },
          "metadata": {},
          "execution_count": 34
        }
      ]
    },
    {
      "cell_type": "markdown",
      "source": [
        "So the dimensioins match, we have a vector for each class of our shingles"
      ],
      "metadata": {
        "id": "xX811j8hywLi"
      }
    },
    {
      "cell_type": "code",
      "source": [
        "def hashing(matr,df):\n",
        "  "
      ],
      "metadata": {
        "id": "QSpwELny0DIy",
        "colab": {
          "base_uri": "https://localhost:8080/",
          "height": 131
        },
        "outputId": "efffe0ef-1987-4599-af8c-e0d86c08cc0f"
      },
      "execution_count": 35,
      "outputs": [
        {
          "output_type": "error",
          "ename": "SyntaxError",
          "evalue": "ignored",
          "traceback": [
            "\u001b[0;36m  File \u001b[0;32m\"<ipython-input-35-9a2571c57a7e>\"\u001b[0;36m, line \u001b[0;32m2\u001b[0m\n\u001b[0;31m    \u001b[0m\n\u001b[0m    ^\u001b[0m\n\u001b[0;31mSyntaxError\u001b[0m\u001b[0;31m:\u001b[0m unexpected EOF while parsing\n"
          ]
        }
      ]
    },
    {
      "cell_type": "markdown",
      "source": [
        "#2 Grouping customers together!"
      ],
      "metadata": {
        "id": "Zj6S-31pwViL"
      }
    },
    {
      "cell_type": "markdown",
      "metadata": {
        "tags": [],
        "id": "210e9705-995c-4086-9454-c05a94db82e1"
      },
      "source": [
        "## 2.1 Getting your data + feature engineering\n"
      ]
    },
    {
      "cell_type": "markdown",
      "source": [
        "First, we load the  cleaned dataset in point 1.1"
      ],
      "metadata": {
        "id": "vhR4__rk5jtT"
      }
    },
    {
      "cell_type": "code",
      "source": [
        "# first we load the df\n",
        "df_bank = pd.read_csv(r'/content/drive/MyDrive/adm hw4/df_cleaned.csv')"
      ],
      "metadata": {
        "id": "rzcTnbJfwmkI"
      },
      "execution_count": 36,
      "outputs": []
    },
    {
      "cell_type": "markdown",
      "source": [
        "Now we define the seven new features proposed in the homework:"
      ],
      "metadata": {
        "id": "lFCt4Bq_5tk3"
      }
    },
    {
      "cell_type": "code",
      "source": [
        "#1 Number of transactions\n",
        "temp = df_bank[['CustomerID', 'TransactionID']].groupby(by = 'CustomerID', as_index = False, sort = False).count().reset_index()\n",
        "temp = temp.drop(columns = 'index')\n",
        "temp.rename(columns = {'TransactionID' : 'Transaction_Frequency'}, inplace = True)\n",
        "df_bank = df_bank.merge(right = temp, on = 'CustomerID')\n",
        "\n",
        "\n",
        "#2 Number of transactions with a balance bigger than 100 USD\n",
        "bigger_100=df_bank['TransactionAmount (INR)'].apply(lambda x: x>=100)\n",
        "bigger_100=bigger_100*1\n",
        "df_bank.insert(10,\"Bigger100\",bigger_100)\n",
        "big = df_bank[['CustomerID', 'Bigger100']].groupby(by = 'CustomerID', as_index = False, sort = False).sum().reset_index()\n",
        "big = big.drop(columns = 'index')\n",
        "big.rename(columns = {'Bigger100' : 'Number_Bigger_100'}, inplace = True)\n",
        "df_bank = df_bank.merge(right = big, on = 'CustomerID')\n",
        "\n",
        "\n",
        "#3 Average amount of the transactions\n",
        "trans = df_bank[['CustomerID', 'TransactionAmount (INR)']].groupby(by = 'CustomerID', as_index = False, sort = False).mean().reset_index()\n",
        "trans = trans.drop(columns = 'index')\n",
        "trans.rename(columns = {'TransactionAmount (INR)' : 'Transaction_Avg'}, inplace = True)\n",
        "df_bank = df_bank.merge(right = trans, on = 'CustomerID')\n",
        "\n",
        "\n",
        "#4 Average balance\n",
        "bal = df_bank[['CustomerID', 'CustAccountBalance']].groupby(by = 'CustomerID', as_index = False, sort = False).mean().reset_index()\n",
        "bal = bal.drop(columns = 'index')\n",
        "bal.rename(columns = {'CustAccountBalance' : 'Balance_Avg'}, inplace = True)\n",
        "df_bank = df_bank.merge(right = bal, on = 'CustomerID')\n",
        "\n",
        "\n",
        "#5 Average difference between the balance and the transaction amount for each customer (this is mainly known in the banking world as utilisation).\n",
        "df_bank['Utilisation_0'] = df_bank['CustAccountBalance'] - df_bank['TransactionAmount (INR)']\n",
        "t = df_bank[['CustomerID', 'Utilisation_0']].groupby(by = 'CustomerID', as_index = False, sort = False).mean().reset_index()\n",
        "t = t.drop(columns = 'index')\n",
        "t.rename(columns = {'Utilisation_0' : 'Utilisation_Avg'}, inplace = True)\n",
        "df_bank = df_bank.merge(right = t, on = 'CustomerID')\n",
        "\n",
        "\n",
        "#6 Most common gender of the customer\n",
        "g=df_bank[['CustomerID', 'CustGender']].groupby(by = 'CustomerID', as_index = False, sort = False)['CustGender'].agg( lambda x: pd.Series.mode(x)[0]).reset_index() #if we have two mode, we take the first\n",
        "g = g.drop(columns = 'index')\n",
        "g.rename(columns = {'CustGender' : 'Gender_Mode'}, inplace = True)\n",
        "df_bank = df_bank.merge(right = g, on = 'CustomerID')\n",
        "\n",
        "\n",
        "#7 Most frequent location of the customer\n",
        "z=df_bank[['CustomerID', 'CustLocation']].groupby(by = 'CustomerID', as_index = False, sort = False)['CustLocation'].agg( lambda x: pd.Series.mode(x)[0]).reset_index() #if we have two mode, we take the first\n",
        "z = z.drop(columns = 'index')\n",
        "z.rename(columns = {'CustLocation' : 'Location_Mode'}, inplace = True)\n",
        "df_bank = df_bank.merge(right = z, on = 'CustomerID')"
      ],
      "metadata": {
        "id": "F77P5qUi6IIx"
      },
      "execution_count": 37,
      "outputs": []
    },
    {
      "cell_type": "code",
      "source": [
        "df_bank.head()"
      ],
      "metadata": {
        "colab": {
          "base_uri": "https://localhost:8080/",
          "height": 287
        },
        "id": "CnOx9cYK8ZBp",
        "outputId": "d7d5ccaf-5b21-4972-eaea-5ca51bd740d4"
      },
      "execution_count": 38,
      "outputs": [
        {
          "output_type": "execute_result",
          "data": {
            "text/plain": [
              "  TransactionID CustomerID CustomerDOB CustGender CustLocation  \\\n",
              "0            T1   C5841053  1994-10-01          F   JAMSHEDPUR   \n",
              "1            T2   C2142763  1957-04-04          M      JHAJJAR   \n",
              "2            T3   C4417068  1996-11-26          F       MUMBAI   \n",
              "3            T4   C5342380  1973-09-14          F       MUMBAI   \n",
              "4       T391139   C5342380  1979-05-29          M       MUMBAI   \n",
              "\n",
              "   CustAccountBalance TransactionDate TransactionTime  \\\n",
              "0            17819.05      2016-02-08        14:32:07   \n",
              "1             2270.69      2016-02-08        14:18:58   \n",
              "2            17874.44      2016-02-08        14:27:12   \n",
              "3           866503.21      2016-02-08        14:27:14   \n",
              "4             3195.78      2016-08-13        19:41:48   \n",
              "\n",
              "   TransactionAmount (INR)  Transaction_Frequency  Bigger100  \\\n",
              "0                       25                      1          0   \n",
              "1                    27999                      1          1   \n",
              "2                      459                      1          1   \n",
              "3                     2060                      2          1   \n",
              "4                      878                      2          1   \n",
              "\n",
              "   Number_Bigger_100  Transaction_Avg  Balance_Avg  Utilisation_0  \\\n",
              "0                  0             25.0    17819.050       17794.05   \n",
              "1                  1          27999.0     2270.690      -25728.31   \n",
              "2                  1            459.0    17874.440       17415.44   \n",
              "3                  2           1469.0   434849.495      864443.21   \n",
              "4                  2           1469.0   434849.495        2317.78   \n",
              "\n",
              "   Utilisation_Avg Gender_Mode Location_Mode  \n",
              "0        17794.050           F    JAMSHEDPUR  \n",
              "1       -25728.310           M       JHAJJAR  \n",
              "2        17415.440           F        MUMBAI  \n",
              "3       433380.495           F        MUMBAI  \n",
              "4       433380.495           F        MUMBAI  "
            ],
            "text/html": [
              "\n",
              "  <div id=\"df-add1c0cf-7e75-431d-bcb9-2cb6af1818e4\">\n",
              "    <div class=\"colab-df-container\">\n",
              "      <div>\n",
              "<style scoped>\n",
              "    .dataframe tbody tr th:only-of-type {\n",
              "        vertical-align: middle;\n",
              "    }\n",
              "\n",
              "    .dataframe tbody tr th {\n",
              "        vertical-align: top;\n",
              "    }\n",
              "\n",
              "    .dataframe thead th {\n",
              "        text-align: right;\n",
              "    }\n",
              "</style>\n",
              "<table border=\"1\" class=\"dataframe\">\n",
              "  <thead>\n",
              "    <tr style=\"text-align: right;\">\n",
              "      <th></th>\n",
              "      <th>TransactionID</th>\n",
              "      <th>CustomerID</th>\n",
              "      <th>CustomerDOB</th>\n",
              "      <th>CustGender</th>\n",
              "      <th>CustLocation</th>\n",
              "      <th>CustAccountBalance</th>\n",
              "      <th>TransactionDate</th>\n",
              "      <th>TransactionTime</th>\n",
              "      <th>TransactionAmount (INR)</th>\n",
              "      <th>Transaction_Frequency</th>\n",
              "      <th>Bigger100</th>\n",
              "      <th>Number_Bigger_100</th>\n",
              "      <th>Transaction_Avg</th>\n",
              "      <th>Balance_Avg</th>\n",
              "      <th>Utilisation_0</th>\n",
              "      <th>Utilisation_Avg</th>\n",
              "      <th>Gender_Mode</th>\n",
              "      <th>Location_Mode</th>\n",
              "    </tr>\n",
              "  </thead>\n",
              "  <tbody>\n",
              "    <tr>\n",
              "      <th>0</th>\n",
              "      <td>T1</td>\n",
              "      <td>C5841053</td>\n",
              "      <td>1994-10-01</td>\n",
              "      <td>F</td>\n",
              "      <td>JAMSHEDPUR</td>\n",
              "      <td>17819.05</td>\n",
              "      <td>2016-02-08</td>\n",
              "      <td>14:32:07</td>\n",
              "      <td>25</td>\n",
              "      <td>1</td>\n",
              "      <td>0</td>\n",
              "      <td>0</td>\n",
              "      <td>25.0</td>\n",
              "      <td>17819.050</td>\n",
              "      <td>17794.05</td>\n",
              "      <td>17794.050</td>\n",
              "      <td>F</td>\n",
              "      <td>JAMSHEDPUR</td>\n",
              "    </tr>\n",
              "    <tr>\n",
              "      <th>1</th>\n",
              "      <td>T2</td>\n",
              "      <td>C2142763</td>\n",
              "      <td>1957-04-04</td>\n",
              "      <td>M</td>\n",
              "      <td>JHAJJAR</td>\n",
              "      <td>2270.69</td>\n",
              "      <td>2016-02-08</td>\n",
              "      <td>14:18:58</td>\n",
              "      <td>27999</td>\n",
              "      <td>1</td>\n",
              "      <td>1</td>\n",
              "      <td>1</td>\n",
              "      <td>27999.0</td>\n",
              "      <td>2270.690</td>\n",
              "      <td>-25728.31</td>\n",
              "      <td>-25728.310</td>\n",
              "      <td>M</td>\n",
              "      <td>JHAJJAR</td>\n",
              "    </tr>\n",
              "    <tr>\n",
              "      <th>2</th>\n",
              "      <td>T3</td>\n",
              "      <td>C4417068</td>\n",
              "      <td>1996-11-26</td>\n",
              "      <td>F</td>\n",
              "      <td>MUMBAI</td>\n",
              "      <td>17874.44</td>\n",
              "      <td>2016-02-08</td>\n",
              "      <td>14:27:12</td>\n",
              "      <td>459</td>\n",
              "      <td>1</td>\n",
              "      <td>1</td>\n",
              "      <td>1</td>\n",
              "      <td>459.0</td>\n",
              "      <td>17874.440</td>\n",
              "      <td>17415.44</td>\n",
              "      <td>17415.440</td>\n",
              "      <td>F</td>\n",
              "      <td>MUMBAI</td>\n",
              "    </tr>\n",
              "    <tr>\n",
              "      <th>3</th>\n",
              "      <td>T4</td>\n",
              "      <td>C5342380</td>\n",
              "      <td>1973-09-14</td>\n",
              "      <td>F</td>\n",
              "      <td>MUMBAI</td>\n",
              "      <td>866503.21</td>\n",
              "      <td>2016-02-08</td>\n",
              "      <td>14:27:14</td>\n",
              "      <td>2060</td>\n",
              "      <td>2</td>\n",
              "      <td>1</td>\n",
              "      <td>2</td>\n",
              "      <td>1469.0</td>\n",
              "      <td>434849.495</td>\n",
              "      <td>864443.21</td>\n",
              "      <td>433380.495</td>\n",
              "      <td>F</td>\n",
              "      <td>MUMBAI</td>\n",
              "    </tr>\n",
              "    <tr>\n",
              "      <th>4</th>\n",
              "      <td>T391139</td>\n",
              "      <td>C5342380</td>\n",
              "      <td>1979-05-29</td>\n",
              "      <td>M</td>\n",
              "      <td>MUMBAI</td>\n",
              "      <td>3195.78</td>\n",
              "      <td>2016-08-13</td>\n",
              "      <td>19:41:48</td>\n",
              "      <td>878</td>\n",
              "      <td>2</td>\n",
              "      <td>1</td>\n",
              "      <td>2</td>\n",
              "      <td>1469.0</td>\n",
              "      <td>434849.495</td>\n",
              "      <td>2317.78</td>\n",
              "      <td>433380.495</td>\n",
              "      <td>F</td>\n",
              "      <td>MUMBAI</td>\n",
              "    </tr>\n",
              "  </tbody>\n",
              "</table>\n",
              "</div>\n",
              "      <button class=\"colab-df-convert\" onclick=\"convertToInteractive('df-add1c0cf-7e75-431d-bcb9-2cb6af1818e4')\"\n",
              "              title=\"Convert this dataframe to an interactive table.\"\n",
              "              style=\"display:none;\">\n",
              "        \n",
              "  <svg xmlns=\"http://www.w3.org/2000/svg\" height=\"24px\"viewBox=\"0 0 24 24\"\n",
              "       width=\"24px\">\n",
              "    <path d=\"M0 0h24v24H0V0z\" fill=\"none\"/>\n",
              "    <path d=\"M18.56 5.44l.94 2.06.94-2.06 2.06-.94-2.06-.94-.94-2.06-.94 2.06-2.06.94zm-11 1L8.5 8.5l.94-2.06 2.06-.94-2.06-.94L8.5 2.5l-.94 2.06-2.06.94zm10 10l.94 2.06.94-2.06 2.06-.94-2.06-.94-.94-2.06-.94 2.06-2.06.94z\"/><path d=\"M17.41 7.96l-1.37-1.37c-.4-.4-.92-.59-1.43-.59-.52 0-1.04.2-1.43.59L10.3 9.45l-7.72 7.72c-.78.78-.78 2.05 0 2.83L4 21.41c.39.39.9.59 1.41.59.51 0 1.02-.2 1.41-.59l7.78-7.78 2.81-2.81c.8-.78.8-2.07 0-2.86zM5.41 20L4 18.59l7.72-7.72 1.47 1.35L5.41 20z\"/>\n",
              "  </svg>\n",
              "      </button>\n",
              "      \n",
              "  <style>\n",
              "    .colab-df-container {\n",
              "      display:flex;\n",
              "      flex-wrap:wrap;\n",
              "      gap: 12px;\n",
              "    }\n",
              "\n",
              "    .colab-df-convert {\n",
              "      background-color: #E8F0FE;\n",
              "      border: none;\n",
              "      border-radius: 50%;\n",
              "      cursor: pointer;\n",
              "      display: none;\n",
              "      fill: #1967D2;\n",
              "      height: 32px;\n",
              "      padding: 0 0 0 0;\n",
              "      width: 32px;\n",
              "    }\n",
              "\n",
              "    .colab-df-convert:hover {\n",
              "      background-color: #E2EBFA;\n",
              "      box-shadow: 0px 1px 2px rgba(60, 64, 67, 0.3), 0px 1px 3px 1px rgba(60, 64, 67, 0.15);\n",
              "      fill: #174EA6;\n",
              "    }\n",
              "\n",
              "    [theme=dark] .colab-df-convert {\n",
              "      background-color: #3B4455;\n",
              "      fill: #D2E3FC;\n",
              "    }\n",
              "\n",
              "    [theme=dark] .colab-df-convert:hover {\n",
              "      background-color: #434B5C;\n",
              "      box-shadow: 0px 1px 3px 1px rgba(0, 0, 0, 0.15);\n",
              "      filter: drop-shadow(0px 1px 2px rgba(0, 0, 0, 0.3));\n",
              "      fill: #FFFFFF;\n",
              "    }\n",
              "  </style>\n",
              "\n",
              "      <script>\n",
              "        const buttonEl =\n",
              "          document.querySelector('#df-add1c0cf-7e75-431d-bcb9-2cb6af1818e4 button.colab-df-convert');\n",
              "        buttonEl.style.display =\n",
              "          google.colab.kernel.accessAllowed ? 'block' : 'none';\n",
              "\n",
              "        async function convertToInteractive(key) {\n",
              "          const element = document.querySelector('#df-add1c0cf-7e75-431d-bcb9-2cb6af1818e4');\n",
              "          const dataTable =\n",
              "            await google.colab.kernel.invokeFunction('convertToInteractive',\n",
              "                                                     [key], {});\n",
              "          if (!dataTable) return;\n",
              "\n",
              "          const docLinkHtml = 'Like what you see? Visit the ' +\n",
              "            '<a target=\"_blank\" href=https://colab.research.google.com/notebooks/data_table.ipynb>data table notebook</a>'\n",
              "            + ' to learn more about interactive tables.';\n",
              "          element.innerHTML = '';\n",
              "          dataTable['output_type'] = 'display_data';\n",
              "          await google.colab.output.renderOutput(dataTable, element);\n",
              "          const docLink = document.createElement('div');\n",
              "          docLink.innerHTML = docLinkHtml;\n",
              "          element.appendChild(docLink);\n",
              "        }\n",
              "      </script>\n",
              "    </div>\n",
              "  </div>\n",
              "  "
            ]
          },
          "metadata": {},
          "execution_count": 38
        }
      ]
    },
    {
      "cell_type": "markdown",
      "source": [
        "So, now we finally have the dataset with the 7 features requested.\n",
        "\n",
        "We decided to store the dataset in our drive folder to avoid the procedure again"
      ],
      "metadata": {
        "id": "xK3Yc293vyzH"
      }
    },
    {
      "cell_type": "code",
      "source": [
        "df_bank.to_csv('/content/drive/MyDrive/adm hw4/df7.csv', index=False)"
      ],
      "metadata": {
        "id": "iVReZAVvvQnT"
      },
      "execution_count": 39,
      "outputs": []
    },
    {
      "cell_type": "markdown",
      "source": [
        "In order not to stress the ram too much, we delete the dataset from the memory"
      ],
      "metadata": {
        "id": "ZWPf05uPSNXN"
      }
    },
    {
      "cell_type": "code",
      "source": [
        "del df_bank"
      ],
      "metadata": {
        "id": "xWbPO7eGQmGw"
      },
      "execution_count": 40,
      "outputs": []
    },
    {
      "cell_type": "code",
      "source": [
        "df7 = pd.read_csv(r'/content/drive/MyDrive/adm hw4/df7.csv')"
      ],
      "metadata": {
        "id": "YV9dZLad3W_r"
      },
      "execution_count": 41,
      "outputs": []
    },
    {
      "cell_type": "markdown",
      "source": [
        "The next step is to add at least 20 new features in the dataset"
      ],
      "metadata": {
        "id": "F6dMoqN-VLFo"
      }
    },
    {
      "cell_type": "code",
      "source": [
        "def generations(age):\n",
        "    \"\"\"\n",
        "    \n",
        "    \"\"\"\n",
        "    if age=='1800-01-01 00:00:00' or age is np.nan:\n",
        "        return 'Missing'\n",
        "    if int(age) in [i for i in range(10,23)]: #we are now assuming that there are not people born before 1922 \n",
        "        return 'Gen Alpha'\n",
        "    elif int(age) in [i for i in range(23,46)]:\n",
        "        return 'Silent Gen'\n",
        "    elif int(age) in [i for i in range(46,65)]:\n",
        "        return 'Boomers'\n",
        "    elif int(age) in [i for i in range(65,81)]:\n",
        "        return 'Gen X'\n",
        "    elif int(age) in [i for i in range(81,97)]:\n",
        "        return 'Gen Y'\n",
        "    else: # %y goes from 00 to 99 so we only miss the range 1997-2010 (i.e. Gen Z)\n",
        "        return 'Gen Z'"
      ],
      "metadata": {
        "id": "2q19dEcC_Bn-"
      },
      "execution_count": 42,
      "outputs": []
    },
    {
      "cell_type": "code",
      "source": [
        "#8 Debt for each Custumer ID\n",
        "debt=df7['Utilisation_Avg'].apply(lambda x: x<0) #if they did, on average, transactions bigger than their balance\n",
        "debt=debt*1\n",
        "df7['Debt']=debt\n",
        "\n",
        "#9 Percentile of Balance_Avg for each Custumer ID\n",
        "df7['Balance_Avg_Percentile'] = df7.Balance_Avg.rank(pct = True)\n",
        "\n",
        "#10 Percentile of Utilisation_Avg for each Custumer ID\n",
        "df7['Utilisation_Avg_Percentile'] = df7.Utilisation_Avg.rank(pct = True)\n",
        "\n",
        "#11 Average Age for each Custumer ID\n",
        "df7.CustomerDOB = pd.to_datetime(df7.CustomerDOB)\n",
        "df7['CustomerAge'] = (( pd.to_datetime('today') - df7.CustomerDOB ) / np.timedelta64(1, 'Y')).round(0)\n",
        "df7['CustomerAge'] = df7['CustomerAge'].astype(int)\n",
        "trans = df7[['CustomerID', 'CustomerAge']].groupby(by = 'CustomerID', as_index = False, sort = False).mean().reset_index()\n",
        "trans = trans.drop(columns = 'index')\n",
        "trans.rename(columns = {'CustomerAge' : 'Avg_customerAge'}, inplace = True)\n",
        "df7 = df7.merge(right = trans, on = 'CustomerID')\n",
        "\n",
        "#12  Averange Generations for each Custumer ID\n",
        "gen=df7['Avg_customerAge'].apply(lambda x: generations(x))\n",
        "df7['Generation']=gen\n",
        "\n",
        "#13 Sum Transactions for each Custumer ID\n",
        "trans = df7[['CustomerID', 'TransactionAmount (INR)']].groupby(by = 'CustomerID', as_index = False, sort = False).sum().reset_index()\n",
        "trans = trans.drop(columns = 'index')\n",
        "trans.rename(columns = {'TransactionAmount (INR)' : 'Transaction_Sum'}, inplace = True)\n",
        "df7 = df7.merge(right = trans, on = 'CustomerID')\n",
        "\n",
        "#14 Standard deviation of Transaction for each Custumer ID\n",
        "trans = df7[['CustomerID', 'TransactionAmount (INR)']].groupby(by = 'CustomerID', as_index = False, sort = False).std().reset_index()\n",
        "trans = trans.drop(columns = 'index')\n",
        "trans.rename(columns = {'TransactionAmount (INR)' : 'Transaction_Std'}, inplace = True)\n",
        "df7 = df7.merge(right = trans, on = 'CustomerID')\n",
        "df7['Transaction_Std'] = df7['Transaction_Std'].fillna(0)\n",
        "\n",
        "#15 Month of transaction\n",
        "df7['TransactionDate'] = pd.to_datetime(df7['TransactionDate'])\n",
        "df7['TransactionMonth'] = df7['TransactionDate'].dt.month\n",
        "\n",
        "#16 percentage of balance in transaction in average (transaction/balance)\n",
        "df7['Transaction_percent_Avg']= df7['Transaction_Avg']/df7['Balance_Avg']\n",
        "\n",
        "#17 Number of transactions with a balance bigger than 500 USD\n",
        "bigger_500=df7['TransactionAmount (INR)'].apply(lambda x: x>=500)\n",
        "bigger_500=bigger_500*1\n",
        "df7.insert(10,\"Bigger500\",bigger_500)\n",
        "big = df7[['CustomerID', 'Bigger500']].groupby(by = 'CustomerID', as_index = False, sort = False).sum().reset_index()\n",
        "big = big.drop(columns = 'index')\n",
        "big.rename(columns = {'Bigger500' : 'Number_Bigger_500'}, inplace = True)\n",
        "df7 = df7.merge(right = big, on = 'CustomerID')\n",
        "\n",
        "#18 Number of transactions with a balance bigger than 10000 USD\n",
        "bigger_10000=df7['TransactionAmount (INR)'].apply(lambda x: x>=10000)\n",
        "bigger_10000=bigger_10000*1\n",
        "df7.insert(10,\"Bigger10000\",bigger_10000)\n",
        "big = df7[['CustomerID', 'Bigger10000']].groupby(by = 'CustomerID', as_index = False, sort = False).sum().reset_index()\n",
        "big = big.drop(columns = 'index')\n",
        "big.rename(columns = {'Bigger10000' : 'Number_Bigger_10000'}, inplace = True)\n",
        "df7 = df7.merge(right = big, on = 'CustomerID')\n",
        "\n",
        "#19 Percentile of Age for each Custumer ID\n",
        "df7['Avg_customerAge_Percentile'] = df7.Avg_customerAge.rank(pct = True)\n",
        "\n",
        "#20 Max Transaction for each Custumer\n",
        "temp = df7[['CustomerID', 'TransactionAmount (INR)']].groupby(by = 'CustomerID', as_index = False, sort = False).max().reset_index()\n",
        "temp = temp.drop(columns = 'index')\n",
        "temp.rename(columns = {'TransactionAmount (INR)' : 'Transaction_Max'}, inplace = True)\n",
        "df7 = df7.merge(right = temp, on = 'CustomerID')\n",
        "\n",
        "#21 Min Transaction for each Custumer\n",
        "temp = df7[['CustomerID', 'TransactionAmount (INR)']].groupby(by = 'CustomerID', as_index = False, sort = False).min().reset_index()\n",
        "temp = temp.drop(columns = 'index')\n",
        "temp.rename(columns = {'TransactionAmount (INR)' : 'Transaction_Min'}, inplace = True)\n",
        "df7 = df7.merge(right = temp, on = 'CustomerID')\n",
        "\n",
        "#22 Max Balance for each Custumer\n",
        "temp = df7[['CustomerID', 'CustAccountBalance']].groupby(by = 'CustomerID', as_index = False, sort = False).max().reset_index()\n",
        "temp = temp.drop(columns = 'index')\n",
        "temp.rename(columns = {'CustAccountBalance' : 'Balance_Max'}, inplace = True)\n",
        "df7 = df7.merge(right = temp, on = 'CustomerID')\n",
        "\n",
        "#23 Min Balance for each Custumer\n",
        "temp = df7[['CustomerID', 'CustAccountBalance']].groupby(by = 'CustomerID', as_index = False, sort = False).min().reset_index()\n",
        "temp = temp.drop(columns = 'index')\n",
        "temp.rename(columns = {'CustAccountBalance' : 'Balance_Min'}, inplace = True)\n",
        "df7 = df7.merge(right = temp, on = 'CustomerID')\n",
        "\n",
        "#24 Median Balance for each Custumer\n",
        "temp = df7[['CustomerID', 'CustAccountBalance']].groupby(by = 'CustomerID', as_index = False, sort = False)['CustAccountBalance'].median().reset_index()\n",
        "temp = temp.drop(columns = 'index')\n",
        "temp.rename(columns = {'CustAccountBalance' : 'Balance_Median'}, inplace = True)\n",
        "df7 = df7.merge(right = temp, on = 'CustomerID')\n",
        "\n",
        "#25 Median Transaction for each Custumer\n",
        "temp = df7[['CustomerID', 'TransactionAmount (INR)']].groupby(by = 'CustomerID', as_index = False, sort = False)['TransactionAmount (INR)'].median().reset_index()\n",
        "temp = temp.drop(columns = 'index')\n",
        "temp.rename(columns = {'TransactionAmount (INR)' : 'Transaction_Median'}, inplace = True)\n",
        "df7 = df7.merge(right = temp, on = 'CustomerID')\n",
        "\n",
        "#26 Min Utilization for each Custumer\n",
        "t = df7[['CustomerID', 'Utilisation_0']].groupby(by = 'CustomerID', as_index = False, sort = False).min().reset_index()\n",
        "t = t.drop(columns = 'index')\n",
        "t.rename(columns = {'Utilisation_0' : 'Utilisation_Min'}, inplace = True)\n",
        "df7 = df7.merge(right = t, on = 'CustomerID')\n",
        "\n",
        "#27 Max Utilization for each Custumer\n",
        "t = df7[['CustomerID', 'Utilisation_0']].groupby(by = 'CustomerID', as_index = False, sort = False).max().reset_index()\n",
        "t = t.drop(columns = 'index')\n",
        "t.rename(columns = {'Utilisation_0' : 'Utilisation_Max'}, inplace = True)\n",
        "df7 = df7.merge(right = t, on = 'CustomerID')\n",
        "\n",
        "#28 Median Utilization for each Custumer\n",
        "t = df7[['CustomerID', 'Utilisation_0']].groupby(by = 'CustomerID', as_index = False, sort = False)['Utilisation_0'].median().reset_index()\n",
        "t = t.drop(columns = 'index')\n",
        "t.rename(columns = {'Utilisation_0' : 'Utilisation_Median'}, inplace = True)\n",
        "df7 = df7.merge(right = t, on = 'CustomerID')\n"
      ],
      "metadata": {
        "id": "TUeg6QRn3O4p"
      },
      "execution_count": 43,
      "outputs": []
    },
    {
      "cell_type": "code",
      "source": [
        "df7.head()"
      ],
      "metadata": {
        "colab": {
          "base_uri": "https://localhost:8080/",
          "height": 317
        },
        "id": "0NnMy4_1FEIF",
        "outputId": "c1e7c694-0ea7-48c3-e067-9a7b681477a8"
      },
      "execution_count": 44,
      "outputs": [
        {
          "output_type": "execute_result",
          "data": {
            "text/plain": [
              "  TransactionID CustomerID CustomerDOB CustGender CustLocation  \\\n",
              "0            T1   C5841053  1994-10-01          F   JAMSHEDPUR   \n",
              "1            T2   C2142763  1957-04-04          M      JHAJJAR   \n",
              "2            T3   C4417068  1996-11-26          F       MUMBAI   \n",
              "3            T4   C5342380  1973-09-14          F       MUMBAI   \n",
              "4       T391139   C5342380  1979-05-29          M       MUMBAI   \n",
              "\n",
              "   CustAccountBalance TransactionDate TransactionTime  \\\n",
              "0            17819.05      2016-02-08        14:32:07   \n",
              "1             2270.69      2016-02-08        14:18:58   \n",
              "2            17874.44      2016-02-08        14:27:12   \n",
              "3           866503.21      2016-02-08        14:27:14   \n",
              "4             3195.78      2016-08-13        19:41:48   \n",
              "\n",
              "   TransactionAmount (INR)  Transaction_Frequency  ...  \\\n",
              "0                       25                      1  ...   \n",
              "1                    27999                      1  ...   \n",
              "2                      459                      1  ...   \n",
              "3                     2060                      2  ...   \n",
              "4                      878                      2  ...   \n",
              "\n",
              "   Avg_customerAge_Percentile  Transaction_Max  Transaction_Min  Balance_Max  \\\n",
              "0                    0.038146               25               25     17819.05   \n",
              "1                    0.988004            27999            27999      2270.69   \n",
              "2                    0.009189              459              459     17874.44   \n",
              "3                    0.886232             2060              878    866503.21   \n",
              "4                    0.886232             2060              878    866503.21   \n",
              "\n",
              "   Balance_Min  Balance_Median  Transaction_Median  Utilisation_Min  \\\n",
              "0     17819.05       17819.050                25.0         17794.05   \n",
              "1      2270.69        2270.690             27999.0        -25728.31   \n",
              "2     17874.44       17874.440               459.0         17415.44   \n",
              "3      3195.78      434849.495              1469.0          2317.78   \n",
              "4      3195.78      434849.495              1469.0          2317.78   \n",
              "\n",
              "  Utilisation_Max Utilisation_Median  \n",
              "0        17794.05          17794.050  \n",
              "1       -25728.31         -25728.310  \n",
              "2        17415.44          17415.440  \n",
              "3       864443.21         433380.495  \n",
              "4       864443.21         433380.495  \n",
              "\n",
              "[5 rows x 42 columns]"
            ],
            "text/html": [
              "\n",
              "  <div id=\"df-31a13d0d-2679-4ac6-9725-361bde48a271\">\n",
              "    <div class=\"colab-df-container\">\n",
              "      <div>\n",
              "<style scoped>\n",
              "    .dataframe tbody tr th:only-of-type {\n",
              "        vertical-align: middle;\n",
              "    }\n",
              "\n",
              "    .dataframe tbody tr th {\n",
              "        vertical-align: top;\n",
              "    }\n",
              "\n",
              "    .dataframe thead th {\n",
              "        text-align: right;\n",
              "    }\n",
              "</style>\n",
              "<table border=\"1\" class=\"dataframe\">\n",
              "  <thead>\n",
              "    <tr style=\"text-align: right;\">\n",
              "      <th></th>\n",
              "      <th>TransactionID</th>\n",
              "      <th>CustomerID</th>\n",
              "      <th>CustomerDOB</th>\n",
              "      <th>CustGender</th>\n",
              "      <th>CustLocation</th>\n",
              "      <th>CustAccountBalance</th>\n",
              "      <th>TransactionDate</th>\n",
              "      <th>TransactionTime</th>\n",
              "      <th>TransactionAmount (INR)</th>\n",
              "      <th>Transaction_Frequency</th>\n",
              "      <th>...</th>\n",
              "      <th>Avg_customerAge_Percentile</th>\n",
              "      <th>Transaction_Max</th>\n",
              "      <th>Transaction_Min</th>\n",
              "      <th>Balance_Max</th>\n",
              "      <th>Balance_Min</th>\n",
              "      <th>Balance_Median</th>\n",
              "      <th>Transaction_Median</th>\n",
              "      <th>Utilisation_Min</th>\n",
              "      <th>Utilisation_Max</th>\n",
              "      <th>Utilisation_Median</th>\n",
              "    </tr>\n",
              "  </thead>\n",
              "  <tbody>\n",
              "    <tr>\n",
              "      <th>0</th>\n",
              "      <td>T1</td>\n",
              "      <td>C5841053</td>\n",
              "      <td>1994-10-01</td>\n",
              "      <td>F</td>\n",
              "      <td>JAMSHEDPUR</td>\n",
              "      <td>17819.05</td>\n",
              "      <td>2016-02-08</td>\n",
              "      <td>14:32:07</td>\n",
              "      <td>25</td>\n",
              "      <td>1</td>\n",
              "      <td>...</td>\n",
              "      <td>0.038146</td>\n",
              "      <td>25</td>\n",
              "      <td>25</td>\n",
              "      <td>17819.05</td>\n",
              "      <td>17819.05</td>\n",
              "      <td>17819.050</td>\n",
              "      <td>25.0</td>\n",
              "      <td>17794.05</td>\n",
              "      <td>17794.05</td>\n",
              "      <td>17794.050</td>\n",
              "    </tr>\n",
              "    <tr>\n",
              "      <th>1</th>\n",
              "      <td>T2</td>\n",
              "      <td>C2142763</td>\n",
              "      <td>1957-04-04</td>\n",
              "      <td>M</td>\n",
              "      <td>JHAJJAR</td>\n",
              "      <td>2270.69</td>\n",
              "      <td>2016-02-08</td>\n",
              "      <td>14:18:58</td>\n",
              "      <td>27999</td>\n",
              "      <td>1</td>\n",
              "      <td>...</td>\n",
              "      <td>0.988004</td>\n",
              "      <td>27999</td>\n",
              "      <td>27999</td>\n",
              "      <td>2270.69</td>\n",
              "      <td>2270.69</td>\n",
              "      <td>2270.690</td>\n",
              "      <td>27999.0</td>\n",
              "      <td>-25728.31</td>\n",
              "      <td>-25728.31</td>\n",
              "      <td>-25728.310</td>\n",
              "    </tr>\n",
              "    <tr>\n",
              "      <th>2</th>\n",
              "      <td>T3</td>\n",
              "      <td>C4417068</td>\n",
              "      <td>1996-11-26</td>\n",
              "      <td>F</td>\n",
              "      <td>MUMBAI</td>\n",
              "      <td>17874.44</td>\n",
              "      <td>2016-02-08</td>\n",
              "      <td>14:27:12</td>\n",
              "      <td>459</td>\n",
              "      <td>1</td>\n",
              "      <td>...</td>\n",
              "      <td>0.009189</td>\n",
              "      <td>459</td>\n",
              "      <td>459</td>\n",
              "      <td>17874.44</td>\n",
              "      <td>17874.44</td>\n",
              "      <td>17874.440</td>\n",
              "      <td>459.0</td>\n",
              "      <td>17415.44</td>\n",
              "      <td>17415.44</td>\n",
              "      <td>17415.440</td>\n",
              "    </tr>\n",
              "    <tr>\n",
              "      <th>3</th>\n",
              "      <td>T4</td>\n",
              "      <td>C5342380</td>\n",
              "      <td>1973-09-14</td>\n",
              "      <td>F</td>\n",
              "      <td>MUMBAI</td>\n",
              "      <td>866503.21</td>\n",
              "      <td>2016-02-08</td>\n",
              "      <td>14:27:14</td>\n",
              "      <td>2060</td>\n",
              "      <td>2</td>\n",
              "      <td>...</td>\n",
              "      <td>0.886232</td>\n",
              "      <td>2060</td>\n",
              "      <td>878</td>\n",
              "      <td>866503.21</td>\n",
              "      <td>3195.78</td>\n",
              "      <td>434849.495</td>\n",
              "      <td>1469.0</td>\n",
              "      <td>2317.78</td>\n",
              "      <td>864443.21</td>\n",
              "      <td>433380.495</td>\n",
              "    </tr>\n",
              "    <tr>\n",
              "      <th>4</th>\n",
              "      <td>T391139</td>\n",
              "      <td>C5342380</td>\n",
              "      <td>1979-05-29</td>\n",
              "      <td>M</td>\n",
              "      <td>MUMBAI</td>\n",
              "      <td>3195.78</td>\n",
              "      <td>2016-08-13</td>\n",
              "      <td>19:41:48</td>\n",
              "      <td>878</td>\n",
              "      <td>2</td>\n",
              "      <td>...</td>\n",
              "      <td>0.886232</td>\n",
              "      <td>2060</td>\n",
              "      <td>878</td>\n",
              "      <td>866503.21</td>\n",
              "      <td>3195.78</td>\n",
              "      <td>434849.495</td>\n",
              "      <td>1469.0</td>\n",
              "      <td>2317.78</td>\n",
              "      <td>864443.21</td>\n",
              "      <td>433380.495</td>\n",
              "    </tr>\n",
              "  </tbody>\n",
              "</table>\n",
              "<p>5 rows × 42 columns</p>\n",
              "</div>\n",
              "      <button class=\"colab-df-convert\" onclick=\"convertToInteractive('df-31a13d0d-2679-4ac6-9725-361bde48a271')\"\n",
              "              title=\"Convert this dataframe to an interactive table.\"\n",
              "              style=\"display:none;\">\n",
              "        \n",
              "  <svg xmlns=\"http://www.w3.org/2000/svg\" height=\"24px\"viewBox=\"0 0 24 24\"\n",
              "       width=\"24px\">\n",
              "    <path d=\"M0 0h24v24H0V0z\" fill=\"none\"/>\n",
              "    <path d=\"M18.56 5.44l.94 2.06.94-2.06 2.06-.94-2.06-.94-.94-2.06-.94 2.06-2.06.94zm-11 1L8.5 8.5l.94-2.06 2.06-.94-2.06-.94L8.5 2.5l-.94 2.06-2.06.94zm10 10l.94 2.06.94-2.06 2.06-.94-2.06-.94-.94-2.06-.94 2.06-2.06.94z\"/><path d=\"M17.41 7.96l-1.37-1.37c-.4-.4-.92-.59-1.43-.59-.52 0-1.04.2-1.43.59L10.3 9.45l-7.72 7.72c-.78.78-.78 2.05 0 2.83L4 21.41c.39.39.9.59 1.41.59.51 0 1.02-.2 1.41-.59l7.78-7.78 2.81-2.81c.8-.78.8-2.07 0-2.86zM5.41 20L4 18.59l7.72-7.72 1.47 1.35L5.41 20z\"/>\n",
              "  </svg>\n",
              "      </button>\n",
              "      \n",
              "  <style>\n",
              "    .colab-df-container {\n",
              "      display:flex;\n",
              "      flex-wrap:wrap;\n",
              "      gap: 12px;\n",
              "    }\n",
              "\n",
              "    .colab-df-convert {\n",
              "      background-color: #E8F0FE;\n",
              "      border: none;\n",
              "      border-radius: 50%;\n",
              "      cursor: pointer;\n",
              "      display: none;\n",
              "      fill: #1967D2;\n",
              "      height: 32px;\n",
              "      padding: 0 0 0 0;\n",
              "      width: 32px;\n",
              "    }\n",
              "\n",
              "    .colab-df-convert:hover {\n",
              "      background-color: #E2EBFA;\n",
              "      box-shadow: 0px 1px 2px rgba(60, 64, 67, 0.3), 0px 1px 3px 1px rgba(60, 64, 67, 0.15);\n",
              "      fill: #174EA6;\n",
              "    }\n",
              "\n",
              "    [theme=dark] .colab-df-convert {\n",
              "      background-color: #3B4455;\n",
              "      fill: #D2E3FC;\n",
              "    }\n",
              "\n",
              "    [theme=dark] .colab-df-convert:hover {\n",
              "      background-color: #434B5C;\n",
              "      box-shadow: 0px 1px 3px 1px rgba(0, 0, 0, 0.15);\n",
              "      filter: drop-shadow(0px 1px 2px rgba(0, 0, 0, 0.3));\n",
              "      fill: #FFFFFF;\n",
              "    }\n",
              "  </style>\n",
              "\n",
              "      <script>\n",
              "        const buttonEl =\n",
              "          document.querySelector('#df-31a13d0d-2679-4ac6-9725-361bde48a271 button.colab-df-convert');\n",
              "        buttonEl.style.display =\n",
              "          google.colab.kernel.accessAllowed ? 'block' : 'none';\n",
              "\n",
              "        async function convertToInteractive(key) {\n",
              "          const element = document.querySelector('#df-31a13d0d-2679-4ac6-9725-361bde48a271');\n",
              "          const dataTable =\n",
              "            await google.colab.kernel.invokeFunction('convertToInteractive',\n",
              "                                                     [key], {});\n",
              "          if (!dataTable) return;\n",
              "\n",
              "          const docLinkHtml = 'Like what you see? Visit the ' +\n",
              "            '<a target=\"_blank\" href=https://colab.research.google.com/notebooks/data_table.ipynb>data table notebook</a>'\n",
              "            + ' to learn more about interactive tables.';\n",
              "          element.innerHTML = '';\n",
              "          dataTable['output_type'] = 'display_data';\n",
              "          await google.colab.output.renderOutput(dataTable, element);\n",
              "          const docLink = document.createElement('div');\n",
              "          docLink.innerHTML = docLinkHtml;\n",
              "          element.appendChild(docLink);\n",
              "        }\n",
              "      </script>\n",
              "    </div>\n",
              "  </div>\n",
              "  "
            ]
          },
          "metadata": {},
          "execution_count": 44
        }
      ]
    },
    {
      "cell_type": "markdown",
      "source": [
        "During the procedures, some extra columns were created and now it is time to remove them"
      ],
      "metadata": {
        "id": "Up4z-0vGVYvI"
      }
    },
    {
      "cell_type": "code",
      "source": [
        "colstoremove=['Bigger100',\n",
        " 'Bigger10000',\n",
        " 'Bigger500',\n",
        " 'CustAccountBalance',\n",
        " 'CustGender',\n",
        " 'CustLocation',\n",
        " 'CustomerAge',\n",
        " 'CustomerDOB',\n",
        " 'TransactionAmount (INR)',\n",
        " 'TransactionDate',\n",
        " 'TransactionID',\n",
        " 'TransactionMonth',\n",
        " 'TransactionTime',\n",
        " 'Utilisation_0']"
      ],
      "metadata": {
        "id": "71P3Ac_OROct"
      },
      "execution_count": 45,
      "outputs": []
    },
    {
      "cell_type": "code",
      "source": [
        "def removeColList(df,colstoremove):\n",
        "  \"\"\"\n",
        "  \"\"\"\n",
        "  my_cols = set(df.columns)\n",
        "  for i in colstoremove:\n",
        "   my_cols.remove(i)\n",
        "  my_cols = list(my_cols)\n",
        "  Final_df = df[my_cols]\n",
        "  return Final_df\n"
      ],
      "metadata": {
        "id": "DTVW97fnS9V1"
      },
      "execution_count": 46,
      "outputs": []
    },
    {
      "cell_type": "code",
      "source": [
        "Final_df = removeColList(df7,colstoremove)"
      ],
      "metadata": {
        "id": "tRbqSEDwTkmE"
      },
      "execution_count": 47,
      "outputs": []
    },
    {
      "cell_type": "code",
      "source": [
        "Final_df.head()"
      ],
      "metadata": {
        "colab": {
          "base_uri": "https://localhost:8080/",
          "height": 299
        },
        "id": "aO4-Hot7UFNF",
        "outputId": "1f5e888a-2e4c-4543-e22f-95c53a73e4af"
      },
      "execution_count": 48,
      "outputs": [
        {
          "output_type": "execute_result",
          "data": {
            "text/plain": [
              "   Balance_Median  Balance_Avg_Percentile  Avg_customerAge_Percentile  \\\n",
              "0       17819.050                0.481766                    0.038146   \n",
              "1        2270.690                0.138440                    0.988004   \n",
              "2       17874.440                0.482572                    0.009189   \n",
              "3      434849.495                0.957291                    0.886232   \n",
              "4      434849.495                0.957291                    0.886232   \n",
              "\n",
              "  Location_Mode  Utilisation_Avg  Utilisation_Min  Balance_Max  \\\n",
              "0    JAMSHEDPUR        17794.050         17794.05     17819.05   \n",
              "1       JHAJJAR       -25728.310        -25728.31      2270.69   \n",
              "2        MUMBAI        17415.440         17415.44     17874.44   \n",
              "3        MUMBAI       433380.495          2317.78    866503.21   \n",
              "4        MUMBAI       433380.495          2317.78    866503.21   \n",
              "\n",
              "   Avg_customerAge  Transaction_Min  Number_Bigger_10000  ...  \\\n",
              "0             28.0               25                    0  ...   \n",
              "1             66.0            27999                    1  ...   \n",
              "2             26.0              459                    0  ...   \n",
              "3             46.5              878                    0  ...   \n",
              "4             46.5              878                    0  ...   \n",
              "\n",
              "   Transaction_Sum  Gender_Mode  Balance_Min Transaction_Median  \\\n",
              "0               25            F     17819.05               25.0   \n",
              "1            27999            M      2270.69            27999.0   \n",
              "2              459            F     17874.44              459.0   \n",
              "3             2938            F      3195.78             1469.0   \n",
              "4             2938            F      3195.78             1469.0   \n",
              "\n",
              "   Transaction_Avg  Transaction_Std  Generation  Debt  \\\n",
              "0             25.0         0.000000  Silent Gen     0   \n",
              "1          27999.0         0.000000       Gen X     1   \n",
              "2            459.0         0.000000  Silent Gen     0   \n",
              "3           1469.0       835.800215     Boomers     0   \n",
              "4           1469.0       835.800215     Boomers     0   \n",
              "\n",
              "   Transaction_percent_Avg Utilisation_Avg_Percentile  \n",
              "0                 0.001403                   0.495681  \n",
              "1                12.330613                   0.000902  \n",
              "2                 0.025679                   0.490606  \n",
              "3                 0.003378                   0.957365  \n",
              "4                 0.003378                   0.957365  \n",
              "\n",
              "[5 rows x 28 columns]"
            ],
            "text/html": [
              "\n",
              "  <div id=\"df-6b12d3c7-bb99-4199-8abe-9f4d3fa99a0a\">\n",
              "    <div class=\"colab-df-container\">\n",
              "      <div>\n",
              "<style scoped>\n",
              "    .dataframe tbody tr th:only-of-type {\n",
              "        vertical-align: middle;\n",
              "    }\n",
              "\n",
              "    .dataframe tbody tr th {\n",
              "        vertical-align: top;\n",
              "    }\n",
              "\n",
              "    .dataframe thead th {\n",
              "        text-align: right;\n",
              "    }\n",
              "</style>\n",
              "<table border=\"1\" class=\"dataframe\">\n",
              "  <thead>\n",
              "    <tr style=\"text-align: right;\">\n",
              "      <th></th>\n",
              "      <th>Balance_Median</th>\n",
              "      <th>Balance_Avg_Percentile</th>\n",
              "      <th>Avg_customerAge_Percentile</th>\n",
              "      <th>Location_Mode</th>\n",
              "      <th>Utilisation_Avg</th>\n",
              "      <th>Utilisation_Min</th>\n",
              "      <th>Balance_Max</th>\n",
              "      <th>Avg_customerAge</th>\n",
              "      <th>Transaction_Min</th>\n",
              "      <th>Number_Bigger_10000</th>\n",
              "      <th>...</th>\n",
              "      <th>Transaction_Sum</th>\n",
              "      <th>Gender_Mode</th>\n",
              "      <th>Balance_Min</th>\n",
              "      <th>Transaction_Median</th>\n",
              "      <th>Transaction_Avg</th>\n",
              "      <th>Transaction_Std</th>\n",
              "      <th>Generation</th>\n",
              "      <th>Debt</th>\n",
              "      <th>Transaction_percent_Avg</th>\n",
              "      <th>Utilisation_Avg_Percentile</th>\n",
              "    </tr>\n",
              "  </thead>\n",
              "  <tbody>\n",
              "    <tr>\n",
              "      <th>0</th>\n",
              "      <td>17819.050</td>\n",
              "      <td>0.481766</td>\n",
              "      <td>0.038146</td>\n",
              "      <td>JAMSHEDPUR</td>\n",
              "      <td>17794.050</td>\n",
              "      <td>17794.05</td>\n",
              "      <td>17819.05</td>\n",
              "      <td>28.0</td>\n",
              "      <td>25</td>\n",
              "      <td>0</td>\n",
              "      <td>...</td>\n",
              "      <td>25</td>\n",
              "      <td>F</td>\n",
              "      <td>17819.05</td>\n",
              "      <td>25.0</td>\n",
              "      <td>25.0</td>\n",
              "      <td>0.000000</td>\n",
              "      <td>Silent Gen</td>\n",
              "      <td>0</td>\n",
              "      <td>0.001403</td>\n",
              "      <td>0.495681</td>\n",
              "    </tr>\n",
              "    <tr>\n",
              "      <th>1</th>\n",
              "      <td>2270.690</td>\n",
              "      <td>0.138440</td>\n",
              "      <td>0.988004</td>\n",
              "      <td>JHAJJAR</td>\n",
              "      <td>-25728.310</td>\n",
              "      <td>-25728.31</td>\n",
              "      <td>2270.69</td>\n",
              "      <td>66.0</td>\n",
              "      <td>27999</td>\n",
              "      <td>1</td>\n",
              "      <td>...</td>\n",
              "      <td>27999</td>\n",
              "      <td>M</td>\n",
              "      <td>2270.69</td>\n",
              "      <td>27999.0</td>\n",
              "      <td>27999.0</td>\n",
              "      <td>0.000000</td>\n",
              "      <td>Gen X</td>\n",
              "      <td>1</td>\n",
              "      <td>12.330613</td>\n",
              "      <td>0.000902</td>\n",
              "    </tr>\n",
              "    <tr>\n",
              "      <th>2</th>\n",
              "      <td>17874.440</td>\n",
              "      <td>0.482572</td>\n",
              "      <td>0.009189</td>\n",
              "      <td>MUMBAI</td>\n",
              "      <td>17415.440</td>\n",
              "      <td>17415.44</td>\n",
              "      <td>17874.44</td>\n",
              "      <td>26.0</td>\n",
              "      <td>459</td>\n",
              "      <td>0</td>\n",
              "      <td>...</td>\n",
              "      <td>459</td>\n",
              "      <td>F</td>\n",
              "      <td>17874.44</td>\n",
              "      <td>459.0</td>\n",
              "      <td>459.0</td>\n",
              "      <td>0.000000</td>\n",
              "      <td>Silent Gen</td>\n",
              "      <td>0</td>\n",
              "      <td>0.025679</td>\n",
              "      <td>0.490606</td>\n",
              "    </tr>\n",
              "    <tr>\n",
              "      <th>3</th>\n",
              "      <td>434849.495</td>\n",
              "      <td>0.957291</td>\n",
              "      <td>0.886232</td>\n",
              "      <td>MUMBAI</td>\n",
              "      <td>433380.495</td>\n",
              "      <td>2317.78</td>\n",
              "      <td>866503.21</td>\n",
              "      <td>46.5</td>\n",
              "      <td>878</td>\n",
              "      <td>0</td>\n",
              "      <td>...</td>\n",
              "      <td>2938</td>\n",
              "      <td>F</td>\n",
              "      <td>3195.78</td>\n",
              "      <td>1469.0</td>\n",
              "      <td>1469.0</td>\n",
              "      <td>835.800215</td>\n",
              "      <td>Boomers</td>\n",
              "      <td>0</td>\n",
              "      <td>0.003378</td>\n",
              "      <td>0.957365</td>\n",
              "    </tr>\n",
              "    <tr>\n",
              "      <th>4</th>\n",
              "      <td>434849.495</td>\n",
              "      <td>0.957291</td>\n",
              "      <td>0.886232</td>\n",
              "      <td>MUMBAI</td>\n",
              "      <td>433380.495</td>\n",
              "      <td>2317.78</td>\n",
              "      <td>866503.21</td>\n",
              "      <td>46.5</td>\n",
              "      <td>878</td>\n",
              "      <td>0</td>\n",
              "      <td>...</td>\n",
              "      <td>2938</td>\n",
              "      <td>F</td>\n",
              "      <td>3195.78</td>\n",
              "      <td>1469.0</td>\n",
              "      <td>1469.0</td>\n",
              "      <td>835.800215</td>\n",
              "      <td>Boomers</td>\n",
              "      <td>0</td>\n",
              "      <td>0.003378</td>\n",
              "      <td>0.957365</td>\n",
              "    </tr>\n",
              "  </tbody>\n",
              "</table>\n",
              "<p>5 rows × 28 columns</p>\n",
              "</div>\n",
              "      <button class=\"colab-df-convert\" onclick=\"convertToInteractive('df-6b12d3c7-bb99-4199-8abe-9f4d3fa99a0a')\"\n",
              "              title=\"Convert this dataframe to an interactive table.\"\n",
              "              style=\"display:none;\">\n",
              "        \n",
              "  <svg xmlns=\"http://www.w3.org/2000/svg\" height=\"24px\"viewBox=\"0 0 24 24\"\n",
              "       width=\"24px\">\n",
              "    <path d=\"M0 0h24v24H0V0z\" fill=\"none\"/>\n",
              "    <path d=\"M18.56 5.44l.94 2.06.94-2.06 2.06-.94-2.06-.94-.94-2.06-.94 2.06-2.06.94zm-11 1L8.5 8.5l.94-2.06 2.06-.94-2.06-.94L8.5 2.5l-.94 2.06-2.06.94zm10 10l.94 2.06.94-2.06 2.06-.94-2.06-.94-.94-2.06-.94 2.06-2.06.94z\"/><path d=\"M17.41 7.96l-1.37-1.37c-.4-.4-.92-.59-1.43-.59-.52 0-1.04.2-1.43.59L10.3 9.45l-7.72 7.72c-.78.78-.78 2.05 0 2.83L4 21.41c.39.39.9.59 1.41.59.51 0 1.02-.2 1.41-.59l7.78-7.78 2.81-2.81c.8-.78.8-2.07 0-2.86zM5.41 20L4 18.59l7.72-7.72 1.47 1.35L5.41 20z\"/>\n",
              "  </svg>\n",
              "      </button>\n",
              "      \n",
              "  <style>\n",
              "    .colab-df-container {\n",
              "      display:flex;\n",
              "      flex-wrap:wrap;\n",
              "      gap: 12px;\n",
              "    }\n",
              "\n",
              "    .colab-df-convert {\n",
              "      background-color: #E8F0FE;\n",
              "      border: none;\n",
              "      border-radius: 50%;\n",
              "      cursor: pointer;\n",
              "      display: none;\n",
              "      fill: #1967D2;\n",
              "      height: 32px;\n",
              "      padding: 0 0 0 0;\n",
              "      width: 32px;\n",
              "    }\n",
              "\n",
              "    .colab-df-convert:hover {\n",
              "      background-color: #E2EBFA;\n",
              "      box-shadow: 0px 1px 2px rgba(60, 64, 67, 0.3), 0px 1px 3px 1px rgba(60, 64, 67, 0.15);\n",
              "      fill: #174EA6;\n",
              "    }\n",
              "\n",
              "    [theme=dark] .colab-df-convert {\n",
              "      background-color: #3B4455;\n",
              "      fill: #D2E3FC;\n",
              "    }\n",
              "\n",
              "    [theme=dark] .colab-df-convert:hover {\n",
              "      background-color: #434B5C;\n",
              "      box-shadow: 0px 1px 3px 1px rgba(0, 0, 0, 0.15);\n",
              "      filter: drop-shadow(0px 1px 2px rgba(0, 0, 0, 0.3));\n",
              "      fill: #FFFFFF;\n",
              "    }\n",
              "  </style>\n",
              "\n",
              "      <script>\n",
              "        const buttonEl =\n",
              "          document.querySelector('#df-6b12d3c7-bb99-4199-8abe-9f4d3fa99a0a button.colab-df-convert');\n",
              "        buttonEl.style.display =\n",
              "          google.colab.kernel.accessAllowed ? 'block' : 'none';\n",
              "\n",
              "        async function convertToInteractive(key) {\n",
              "          const element = document.querySelector('#df-6b12d3c7-bb99-4199-8abe-9f4d3fa99a0a');\n",
              "          const dataTable =\n",
              "            await google.colab.kernel.invokeFunction('convertToInteractive',\n",
              "                                                     [key], {});\n",
              "          if (!dataTable) return;\n",
              "\n",
              "          const docLinkHtml = 'Like what you see? Visit the ' +\n",
              "            '<a target=\"_blank\" href=https://colab.research.google.com/notebooks/data_table.ipynb>data table notebook</a>'\n",
              "            + ' to learn more about interactive tables.';\n",
              "          element.innerHTML = '';\n",
              "          dataTable['output_type'] = 'display_data';\n",
              "          await google.colab.output.renderOutput(dataTable, element);\n",
              "          const docLink = document.createElement('div');\n",
              "          docLink.innerHTML = docLinkHtml;\n",
              "          element.appendChild(docLink);\n",
              "        }\n",
              "      </script>\n",
              "    </div>\n",
              "  </div>\n",
              "  "
            ]
          },
          "metadata": {},
          "execution_count": 48
        }
      ]
    },
    {
      "cell_type": "markdown",
      "source": [
        "We stored the final Dataset in our drive"
      ],
      "metadata": {
        "id": "SNIHGLZLVtq1"
      }
    },
    {
      "cell_type": "code",
      "source": [
        "Final_df.to_csv('/content/drive/MyDrive/adm hw4/Final_df.csv', index=False)"
      ],
      "metadata": {
        "id": "5l58NOW2Uigw"
      },
      "execution_count": 49,
      "outputs": []
    },
    {
      "cell_type": "code",
      "source": [
        "del Final_df"
      ],
      "metadata": {
        "id": "NgNzIHcdW3FP"
      },
      "execution_count": 50,
      "outputs": []
    },
    {
      "cell_type": "markdown",
      "source": [
        "## 2.2 Choose your features (variables)!"
      ],
      "metadata": {
        "id": "fun2ENl3Wsus"
      }
    },
    {
      "cell_type": "code",
      "source": [
        "Fd = pd.read_csv(r'/content/drive/MyDrive/adm hw4/Final_df.csv')\n"
      ],
      "metadata": {
        "id": "NNsNdxm_YSDn"
      },
      "execution_count": 71,
      "outputs": []
    },
    {
      "cell_type": "code",
      "source": [
        "Fd.drop_duplicates(inplace=True)\n",
        "Fd.dropna(inplace=True)"
      ],
      "metadata": {
        "id": "q4PGZqQFWuqT"
      },
      "execution_count": 72,
      "outputs": []
    },
    {
      "cell_type": "code",
      "source": [
        "Fd.set_index('CustomerID',inplace=True)"
      ],
      "metadata": {
        "id": "zEoFuKFmW1nw"
      },
      "execution_count": 73,
      "outputs": []
    },
    {
      "cell_type": "code",
      "source": [
        "Fd.columns"
      ],
      "metadata": {
        "colab": {
          "base_uri": "https://localhost:8080/"
        },
        "id": "amQTFw6MbwX0",
        "outputId": "c36d49e7-5a3a-46c2-a0af-3ba9daab8575"
      },
      "execution_count": 74,
      "outputs": [
        {
          "output_type": "execute_result",
          "data": {
            "text/plain": [
              "Index(['Balance_Median', 'Balance_Avg_Percentile',\n",
              "       'Avg_customerAge_Percentile', 'Location_Mode', 'Utilisation_Avg',\n",
              "       'Utilisation_Min', 'Balance_Max', 'Avg_customerAge', 'Transaction_Min',\n",
              "       'Number_Bigger_10000', 'Transaction_Max', 'Utilisation_Median',\n",
              "       'Utilisation_Max', 'Transaction_Frequency', 'Number_Bigger_500',\n",
              "       'Number_Bigger_100', 'Balance_Avg', 'Transaction_Sum', 'Gender_Mode',\n",
              "       'Balance_Min', 'Transaction_Median', 'Transaction_Avg',\n",
              "       'Transaction_Std', 'Generation', 'Debt', 'Transaction_percent_Avg',\n",
              "       'Utilisation_Avg_Percentile'],\n",
              "      dtype='object')"
            ]
          },
          "metadata": {},
          "execution_count": 74
        }
      ]
    },
    {
      "cell_type": "code",
      "source": [
        "cols_to_norm = ['Utilisation_Max',  'Balance_Median',\n",
        "       'Avg_customerAge', 'Balance_Max', 'Number_Bigger_500', 'Balance_Min',\n",
        "       'Utilisation_Median', 'Transaction_Frequency',\n",
        "       'Debt', 'Utilisation_Avg', 'Transaction_Min',\n",
        "       'Number_Bigger_10000', 'Transaction_Sum', 'Transaction_Median',\n",
        "       'Number_Bigger_100', 'Balance_Avg', 'Transaction_Max',\n",
        "       'Transaction_Avg', 'Utilisation_Min','Utilisation_Avg_Percentile','Utilisation_Avg_Percentile', 'Balance_Avg_Percentile','Transaction_Std']"
      ],
      "metadata": {
        "id": "IUZ0Oh4KVtwv"
      },
      "execution_count": 75,
      "outputs": []
    },
    {
      "cell_type": "code",
      "source": [
        "Fds=StandardScaler().fit_transform(Fd[cols_to_norm].to_numpy())"
      ],
      "metadata": {
        "id": "8xvUwdSHYaar"
      },
      "execution_count": 76,
      "outputs": []
    },
    {
      "cell_type": "code",
      "source": [
        "Fds = pd.DataFrame(Fds, columns=cols_to_norm)\n",
        "Fds"
      ],
      "metadata": {
        "colab": {
          "base_uri": "https://localhost:8080/",
          "height": 487
        },
        "id": "PAFWPejLfd1v",
        "outputId": "3df4a0ed-e443-4e0d-ba4c-40993de978b5"
      },
      "execution_count": 77,
      "outputs": [
        {
          "output_type": "execute_result",
          "data": {
            "text/plain": [
              "        Utilisation_Max  Balance_Median  Avg_customerAge  Balance_Max  \\\n",
              "0             -0.115772       -0.110569        -1.125945    -0.117390   \n",
              "1             -0.165224       -0.130388         3.395195    -0.135049   \n",
              "2             -0.116202       -0.110498        -1.363900    -0.117327   \n",
              "3              0.846226        0.421014         1.075137     0.846510   \n",
              "4             -0.130363       -0.124723        -0.293103    -0.130002   \n",
              "...                 ...             ...              ...          ...   \n",
              "839073        -0.138871       -0.132690         0.658716    -0.137100   \n",
              "839074        -0.136317       -0.131736        -0.887990    -0.136251   \n",
              "839075        -0.128223       -0.123550        -0.650035    -0.128957   \n",
              "839076        -0.105481       -0.098469        -0.769013    -0.106609   \n",
              "839077        -0.125630       -0.120385         0.777693    -0.126137   \n",
              "\n",
              "        Number_Bigger_500  Balance_Min  Utilisation_Median  \\\n",
              "0               -0.953556    -0.098038           -0.108797   \n",
              "1                0.774670    -0.118601           -0.164296   \n",
              "2               -0.953556    -0.097964           -0.109280   \n",
              "3                2.502896    -0.117377            0.421153   \n",
              "4                0.774670    -0.112724           -0.125173   \n",
              "...                   ...          ...                 ...   \n",
              "839073           0.774670    -0.120989           -0.134721   \n",
              "839074           0.774670    -0.120000           -0.131854   \n",
              "839075           0.774670    -0.111506           -0.122771   \n",
              "839076          -0.953556    -0.085484           -0.097247   \n",
              "839077           0.774670    -0.108223           -0.119861   \n",
              "\n",
              "        Transaction_Frequency      Debt  Utilisation_Avg  ...  \\\n",
              "0                   -0.400542 -0.307463        -0.110195  ...   \n",
              "1                   -0.400542  3.252427        -0.165571  ...   \n",
              "2                   -0.400542 -0.307463        -0.110677  ...   \n",
              "3                    1.897625 -0.307463         0.418578  ...   \n",
              "4                   -0.400542 -0.307463        -0.126534  ...   \n",
              "...                       ...       ...              ...  ...   \n",
              "839073              -0.400542  3.252427        -0.136061  ...   \n",
              "839074              -0.400542  3.252427        -0.133201  ...   \n",
              "839075              -0.400542 -0.307463        -0.124137  ...   \n",
              "839076              -0.400542 -0.307463        -0.098671  ...   \n",
              "839077              -0.400542 -0.307463        -0.121234  ...   \n",
              "\n",
              "        Transaction_Median  Number_Bigger_100  Balance_Avg  Transaction_Max  \\\n",
              "0                -0.234566          -1.818622    -0.111969        -0.243202   \n",
              "1                 4.404349           0.031866    -0.131744         3.977559   \n",
              "2                -0.162596           0.031866    -0.111898        -0.177720   \n",
              "3                 0.004892           1.882353     0.418433         0.063842   \n",
              "4                 0.053480           0.031866    -0.126092         0.018879   \n",
              "...                    ...                ...          ...              ...   \n",
              "839073            0.258777           0.031866    -0.134041         0.205670   \n",
              "839074            0.010033           0.031866    -0.133090        -0.020652   \n",
              "839075           -0.106214           0.031866    -0.124921        -0.126420   \n",
              "839076           -0.162430           0.031866    -0.099896        -0.177569   \n",
              "839077           -0.072882           0.031866    -0.121764        -0.096093   \n",
              "\n",
              "        Transaction_Avg  Utilisation_Min  Utilisation_Avg_Percentile  \\\n",
              "0             -0.236314        -0.096229                    0.029822   \n",
              "1              4.391156        -0.153810                   -1.663313   \n",
              "2             -0.164522        -0.096730                    0.012457   \n",
              "3              0.002553        -0.116704                    1.609706   \n",
              "4              0.051021        -0.113219                   -0.843167   \n",
              "...                 ...              ...                         ...   \n",
              "839073         0.255811        -0.123125                   -1.627866   \n",
              "839074         0.007681        -0.120151                   -1.517168   \n",
              "839075        -0.108279        -0.110726                   -0.671814   \n",
              "839076        -0.164357        -0.084246                    0.356921   \n",
              "839077        -0.075030        -0.107708                   -0.491507   \n",
              "\n",
              "        Utilisation_Avg_Percentile  Balance_Avg_Percentile  Transaction_Std  \n",
              "0                         0.029822               -0.016879        -0.112608  \n",
              "1                        -1.663313               -1.190474        -0.112608  \n",
              "2                         0.012457               -0.014123        -0.112608  \n",
              "3                         1.609706                1.608613         0.283006  \n",
              "4                        -0.843167               -0.755006        -0.112608  \n",
              "...                            ...                     ...              ...  \n",
              "839073                   -1.627866               -1.408375        -0.112608  \n",
              "839074                   -1.517168               -1.305384        -0.112608  \n",
              "839075                   -0.671814               -0.679128        -0.112608  \n",
              "839076                    0.356921                0.333810        -0.112608  \n",
              "839077                   -0.491507               -0.482362        -0.112608  \n",
              "\n",
              "[839078 rows x 23 columns]"
            ],
            "text/html": [
              "\n",
              "  <div id=\"df-f54d1f40-6509-4952-9b64-674519e1ddc3\">\n",
              "    <div class=\"colab-df-container\">\n",
              "      <div>\n",
              "<style scoped>\n",
              "    .dataframe tbody tr th:only-of-type {\n",
              "        vertical-align: middle;\n",
              "    }\n",
              "\n",
              "    .dataframe tbody tr th {\n",
              "        vertical-align: top;\n",
              "    }\n",
              "\n",
              "    .dataframe thead th {\n",
              "        text-align: right;\n",
              "    }\n",
              "</style>\n",
              "<table border=\"1\" class=\"dataframe\">\n",
              "  <thead>\n",
              "    <tr style=\"text-align: right;\">\n",
              "      <th></th>\n",
              "      <th>Utilisation_Max</th>\n",
              "      <th>Balance_Median</th>\n",
              "      <th>Avg_customerAge</th>\n",
              "      <th>Balance_Max</th>\n",
              "      <th>Number_Bigger_500</th>\n",
              "      <th>Balance_Min</th>\n",
              "      <th>Utilisation_Median</th>\n",
              "      <th>Transaction_Frequency</th>\n",
              "      <th>Debt</th>\n",
              "      <th>Utilisation_Avg</th>\n",
              "      <th>...</th>\n",
              "      <th>Transaction_Median</th>\n",
              "      <th>Number_Bigger_100</th>\n",
              "      <th>Balance_Avg</th>\n",
              "      <th>Transaction_Max</th>\n",
              "      <th>Transaction_Avg</th>\n",
              "      <th>Utilisation_Min</th>\n",
              "      <th>Utilisation_Avg_Percentile</th>\n",
              "      <th>Utilisation_Avg_Percentile</th>\n",
              "      <th>Balance_Avg_Percentile</th>\n",
              "      <th>Transaction_Std</th>\n",
              "    </tr>\n",
              "  </thead>\n",
              "  <tbody>\n",
              "    <tr>\n",
              "      <th>0</th>\n",
              "      <td>-0.115772</td>\n",
              "      <td>-0.110569</td>\n",
              "      <td>-1.125945</td>\n",
              "      <td>-0.117390</td>\n",
              "      <td>-0.953556</td>\n",
              "      <td>-0.098038</td>\n",
              "      <td>-0.108797</td>\n",
              "      <td>-0.400542</td>\n",
              "      <td>-0.307463</td>\n",
              "      <td>-0.110195</td>\n",
              "      <td>...</td>\n",
              "      <td>-0.234566</td>\n",
              "      <td>-1.818622</td>\n",
              "      <td>-0.111969</td>\n",
              "      <td>-0.243202</td>\n",
              "      <td>-0.236314</td>\n",
              "      <td>-0.096229</td>\n",
              "      <td>0.029822</td>\n",
              "      <td>0.029822</td>\n",
              "      <td>-0.016879</td>\n",
              "      <td>-0.112608</td>\n",
              "    </tr>\n",
              "    <tr>\n",
              "      <th>1</th>\n",
              "      <td>-0.165224</td>\n",
              "      <td>-0.130388</td>\n",
              "      <td>3.395195</td>\n",
              "      <td>-0.135049</td>\n",
              "      <td>0.774670</td>\n",
              "      <td>-0.118601</td>\n",
              "      <td>-0.164296</td>\n",
              "      <td>-0.400542</td>\n",
              "      <td>3.252427</td>\n",
              "      <td>-0.165571</td>\n",
              "      <td>...</td>\n",
              "      <td>4.404349</td>\n",
              "      <td>0.031866</td>\n",
              "      <td>-0.131744</td>\n",
              "      <td>3.977559</td>\n",
              "      <td>4.391156</td>\n",
              "      <td>-0.153810</td>\n",
              "      <td>-1.663313</td>\n",
              "      <td>-1.663313</td>\n",
              "      <td>-1.190474</td>\n",
              "      <td>-0.112608</td>\n",
              "    </tr>\n",
              "    <tr>\n",
              "      <th>2</th>\n",
              "      <td>-0.116202</td>\n",
              "      <td>-0.110498</td>\n",
              "      <td>-1.363900</td>\n",
              "      <td>-0.117327</td>\n",
              "      <td>-0.953556</td>\n",
              "      <td>-0.097964</td>\n",
              "      <td>-0.109280</td>\n",
              "      <td>-0.400542</td>\n",
              "      <td>-0.307463</td>\n",
              "      <td>-0.110677</td>\n",
              "      <td>...</td>\n",
              "      <td>-0.162596</td>\n",
              "      <td>0.031866</td>\n",
              "      <td>-0.111898</td>\n",
              "      <td>-0.177720</td>\n",
              "      <td>-0.164522</td>\n",
              "      <td>-0.096730</td>\n",
              "      <td>0.012457</td>\n",
              "      <td>0.012457</td>\n",
              "      <td>-0.014123</td>\n",
              "      <td>-0.112608</td>\n",
              "    </tr>\n",
              "    <tr>\n",
              "      <th>3</th>\n",
              "      <td>0.846226</td>\n",
              "      <td>0.421014</td>\n",
              "      <td>1.075137</td>\n",
              "      <td>0.846510</td>\n",
              "      <td>2.502896</td>\n",
              "      <td>-0.117377</td>\n",
              "      <td>0.421153</td>\n",
              "      <td>1.897625</td>\n",
              "      <td>-0.307463</td>\n",
              "      <td>0.418578</td>\n",
              "      <td>...</td>\n",
              "      <td>0.004892</td>\n",
              "      <td>1.882353</td>\n",
              "      <td>0.418433</td>\n",
              "      <td>0.063842</td>\n",
              "      <td>0.002553</td>\n",
              "      <td>-0.116704</td>\n",
              "      <td>1.609706</td>\n",
              "      <td>1.609706</td>\n",
              "      <td>1.608613</td>\n",
              "      <td>0.283006</td>\n",
              "    </tr>\n",
              "    <tr>\n",
              "      <th>4</th>\n",
              "      <td>-0.130363</td>\n",
              "      <td>-0.124723</td>\n",
              "      <td>-0.293103</td>\n",
              "      <td>-0.130002</td>\n",
              "      <td>0.774670</td>\n",
              "      <td>-0.112724</td>\n",
              "      <td>-0.125173</td>\n",
              "      <td>-0.400542</td>\n",
              "      <td>-0.307463</td>\n",
              "      <td>-0.126534</td>\n",
              "      <td>...</td>\n",
              "      <td>0.053480</td>\n",
              "      <td>0.031866</td>\n",
              "      <td>-0.126092</td>\n",
              "      <td>0.018879</td>\n",
              "      <td>0.051021</td>\n",
              "      <td>-0.113219</td>\n",
              "      <td>-0.843167</td>\n",
              "      <td>-0.843167</td>\n",
              "      <td>-0.755006</td>\n",
              "      <td>-0.112608</td>\n",
              "    </tr>\n",
              "    <tr>\n",
              "      <th>...</th>\n",
              "      <td>...</td>\n",
              "      <td>...</td>\n",
              "      <td>...</td>\n",
              "      <td>...</td>\n",
              "      <td>...</td>\n",
              "      <td>...</td>\n",
              "      <td>...</td>\n",
              "      <td>...</td>\n",
              "      <td>...</td>\n",
              "      <td>...</td>\n",
              "      <td>...</td>\n",
              "      <td>...</td>\n",
              "      <td>...</td>\n",
              "      <td>...</td>\n",
              "      <td>...</td>\n",
              "      <td>...</td>\n",
              "      <td>...</td>\n",
              "      <td>...</td>\n",
              "      <td>...</td>\n",
              "      <td>...</td>\n",
              "      <td>...</td>\n",
              "    </tr>\n",
              "    <tr>\n",
              "      <th>839073</th>\n",
              "      <td>-0.138871</td>\n",
              "      <td>-0.132690</td>\n",
              "      <td>0.658716</td>\n",
              "      <td>-0.137100</td>\n",
              "      <td>0.774670</td>\n",
              "      <td>-0.120989</td>\n",
              "      <td>-0.134721</td>\n",
              "      <td>-0.400542</td>\n",
              "      <td>3.252427</td>\n",
              "      <td>-0.136061</td>\n",
              "      <td>...</td>\n",
              "      <td>0.258777</td>\n",
              "      <td>0.031866</td>\n",
              "      <td>-0.134041</td>\n",
              "      <td>0.205670</td>\n",
              "      <td>0.255811</td>\n",
              "      <td>-0.123125</td>\n",
              "      <td>-1.627866</td>\n",
              "      <td>-1.627866</td>\n",
              "      <td>-1.408375</td>\n",
              "      <td>-0.112608</td>\n",
              "    </tr>\n",
              "    <tr>\n",
              "      <th>839074</th>\n",
              "      <td>-0.136317</td>\n",
              "      <td>-0.131736</td>\n",
              "      <td>-0.887990</td>\n",
              "      <td>-0.136251</td>\n",
              "      <td>0.774670</td>\n",
              "      <td>-0.120000</td>\n",
              "      <td>-0.131854</td>\n",
              "      <td>-0.400542</td>\n",
              "      <td>3.252427</td>\n",
              "      <td>-0.133201</td>\n",
              "      <td>...</td>\n",
              "      <td>0.010033</td>\n",
              "      <td>0.031866</td>\n",
              "      <td>-0.133090</td>\n",
              "      <td>-0.020652</td>\n",
              "      <td>0.007681</td>\n",
              "      <td>-0.120151</td>\n",
              "      <td>-1.517168</td>\n",
              "      <td>-1.517168</td>\n",
              "      <td>-1.305384</td>\n",
              "      <td>-0.112608</td>\n",
              "    </tr>\n",
              "    <tr>\n",
              "      <th>839075</th>\n",
              "      <td>-0.128223</td>\n",
              "      <td>-0.123550</td>\n",
              "      <td>-0.650035</td>\n",
              "      <td>-0.128957</td>\n",
              "      <td>0.774670</td>\n",
              "      <td>-0.111506</td>\n",
              "      <td>-0.122771</td>\n",
              "      <td>-0.400542</td>\n",
              "      <td>-0.307463</td>\n",
              "      <td>-0.124137</td>\n",
              "      <td>...</td>\n",
              "      <td>-0.106214</td>\n",
              "      <td>0.031866</td>\n",
              "      <td>-0.124921</td>\n",
              "      <td>-0.126420</td>\n",
              "      <td>-0.108279</td>\n",
              "      <td>-0.110726</td>\n",
              "      <td>-0.671814</td>\n",
              "      <td>-0.671814</td>\n",
              "      <td>-0.679128</td>\n",
              "      <td>-0.112608</td>\n",
              "    </tr>\n",
              "    <tr>\n",
              "      <th>839076</th>\n",
              "      <td>-0.105481</td>\n",
              "      <td>-0.098469</td>\n",
              "      <td>-0.769013</td>\n",
              "      <td>-0.106609</td>\n",
              "      <td>-0.953556</td>\n",
              "      <td>-0.085484</td>\n",
              "      <td>-0.097247</td>\n",
              "      <td>-0.400542</td>\n",
              "      <td>-0.307463</td>\n",
              "      <td>-0.098671</td>\n",
              "      <td>...</td>\n",
              "      <td>-0.162430</td>\n",
              "      <td>0.031866</td>\n",
              "      <td>-0.099896</td>\n",
              "      <td>-0.177569</td>\n",
              "      <td>-0.164357</td>\n",
              "      <td>-0.084246</td>\n",
              "      <td>0.356921</td>\n",
              "      <td>0.356921</td>\n",
              "      <td>0.333810</td>\n",
              "      <td>-0.112608</td>\n",
              "    </tr>\n",
              "    <tr>\n",
              "      <th>839077</th>\n",
              "      <td>-0.125630</td>\n",
              "      <td>-0.120385</td>\n",
              "      <td>0.777693</td>\n",
              "      <td>-0.126137</td>\n",
              "      <td>0.774670</td>\n",
              "      <td>-0.108223</td>\n",
              "      <td>-0.119861</td>\n",
              "      <td>-0.400542</td>\n",
              "      <td>-0.307463</td>\n",
              "      <td>-0.121234</td>\n",
              "      <td>...</td>\n",
              "      <td>-0.072882</td>\n",
              "      <td>0.031866</td>\n",
              "      <td>-0.121764</td>\n",
              "      <td>-0.096093</td>\n",
              "      <td>-0.075030</td>\n",
              "      <td>-0.107708</td>\n",
              "      <td>-0.491507</td>\n",
              "      <td>-0.491507</td>\n",
              "      <td>-0.482362</td>\n",
              "      <td>-0.112608</td>\n",
              "    </tr>\n",
              "  </tbody>\n",
              "</table>\n",
              "<p>839078 rows × 23 columns</p>\n",
              "</div>\n",
              "      <button class=\"colab-df-convert\" onclick=\"convertToInteractive('df-f54d1f40-6509-4952-9b64-674519e1ddc3')\"\n",
              "              title=\"Convert this dataframe to an interactive table.\"\n",
              "              style=\"display:none;\">\n",
              "        \n",
              "  <svg xmlns=\"http://www.w3.org/2000/svg\" height=\"24px\"viewBox=\"0 0 24 24\"\n",
              "       width=\"24px\">\n",
              "    <path d=\"M0 0h24v24H0V0z\" fill=\"none\"/>\n",
              "    <path d=\"M18.56 5.44l.94 2.06.94-2.06 2.06-.94-2.06-.94-.94-2.06-.94 2.06-2.06.94zm-11 1L8.5 8.5l.94-2.06 2.06-.94-2.06-.94L8.5 2.5l-.94 2.06-2.06.94zm10 10l.94 2.06.94-2.06 2.06-.94-2.06-.94-.94-2.06-.94 2.06-2.06.94z\"/><path d=\"M17.41 7.96l-1.37-1.37c-.4-.4-.92-.59-1.43-.59-.52 0-1.04.2-1.43.59L10.3 9.45l-7.72 7.72c-.78.78-.78 2.05 0 2.83L4 21.41c.39.39.9.59 1.41.59.51 0 1.02-.2 1.41-.59l7.78-7.78 2.81-2.81c.8-.78.8-2.07 0-2.86zM5.41 20L4 18.59l7.72-7.72 1.47 1.35L5.41 20z\"/>\n",
              "  </svg>\n",
              "      </button>\n",
              "      \n",
              "  <style>\n",
              "    .colab-df-container {\n",
              "      display:flex;\n",
              "      flex-wrap:wrap;\n",
              "      gap: 12px;\n",
              "    }\n",
              "\n",
              "    .colab-df-convert {\n",
              "      background-color: #E8F0FE;\n",
              "      border: none;\n",
              "      border-radius: 50%;\n",
              "      cursor: pointer;\n",
              "      display: none;\n",
              "      fill: #1967D2;\n",
              "      height: 32px;\n",
              "      padding: 0 0 0 0;\n",
              "      width: 32px;\n",
              "    }\n",
              "\n",
              "    .colab-df-convert:hover {\n",
              "      background-color: #E2EBFA;\n",
              "      box-shadow: 0px 1px 2px rgba(60, 64, 67, 0.3), 0px 1px 3px 1px rgba(60, 64, 67, 0.15);\n",
              "      fill: #174EA6;\n",
              "    }\n",
              "\n",
              "    [theme=dark] .colab-df-convert {\n",
              "      background-color: #3B4455;\n",
              "      fill: #D2E3FC;\n",
              "    }\n",
              "\n",
              "    [theme=dark] .colab-df-convert:hover {\n",
              "      background-color: #434B5C;\n",
              "      box-shadow: 0px 1px 3px 1px rgba(0, 0, 0, 0.15);\n",
              "      filter: drop-shadow(0px 1px 2px rgba(0, 0, 0, 0.3));\n",
              "      fill: #FFFFFF;\n",
              "    }\n",
              "  </style>\n",
              "\n",
              "      <script>\n",
              "        const buttonEl =\n",
              "          document.querySelector('#df-f54d1f40-6509-4952-9b64-674519e1ddc3 button.colab-df-convert');\n",
              "        buttonEl.style.display =\n",
              "          google.colab.kernel.accessAllowed ? 'block' : 'none';\n",
              "\n",
              "        async function convertToInteractive(key) {\n",
              "          const element = document.querySelector('#df-f54d1f40-6509-4952-9b64-674519e1ddc3');\n",
              "          const dataTable =\n",
              "            await google.colab.kernel.invokeFunction('convertToInteractive',\n",
              "                                                     [key], {});\n",
              "          if (!dataTable) return;\n",
              "\n",
              "          const docLinkHtml = 'Like what you see? Visit the ' +\n",
              "            '<a target=\"_blank\" href=https://colab.research.google.com/notebooks/data_table.ipynb>data table notebook</a>'\n",
              "            + ' to learn more about interactive tables.';\n",
              "          element.innerHTML = '';\n",
              "          dataTable['output_type'] = 'display_data';\n",
              "          await google.colab.output.renderOutput(dataTable, element);\n",
              "          const docLink = document.createElement('div');\n",
              "          docLink.innerHTML = docLinkHtml;\n",
              "          element.appendChild(docLink);\n",
              "        }\n",
              "      </script>\n",
              "    </div>\n",
              "  </div>\n",
              "  "
            ]
          },
          "metadata": {},
          "execution_count": 77
        }
      ]
    },
    {
      "cell_type": "code",
      "source": [
        "pca = PCA()\n",
        "pca.fit(Fds)"
      ],
      "metadata": {
        "colab": {
          "base_uri": "https://localhost:8080/"
        },
        "id": "XArxFQ_pZYIK",
        "outputId": "6b967632-7d9a-4932-f795-b2f61b58c89f"
      },
      "execution_count": 78,
      "outputs": [
        {
          "output_type": "execute_result",
          "data": {
            "text/plain": [
              "PCA()"
            ]
          },
          "metadata": {},
          "execution_count": 78
        }
      ]
    },
    {
      "cell_type": "code",
      "source": [
        "cumulatevariance=np.cumsum(pca.explained_variance_ratio_)\n",
        "cumulatevariance"
      ],
      "metadata": {
        "colab": {
          "base_uri": "https://localhost:8080/"
        },
        "id": "FD29IyzdbjSh",
        "outputId": "5681838f-3933-44ca-90d7-c2ffa5710203"
      },
      "execution_count": 79,
      "outputs": [
        {
          "output_type": "execute_result",
          "data": {
            "text/plain": [
              "array([0.34740684, 0.57998301, 0.72420222, 0.80780403, 0.85415875,\n",
              "       0.89495166, 0.92526512, 0.95003615, 0.97413221, 0.98695895,\n",
              "       0.99863095, 0.99917409, 0.99963161, 0.99992516, 0.99999229,\n",
              "       0.99999751, 0.99999881, 0.99999988, 0.99999999, 1.        ,\n",
              "       1.        , 1.        , 1.        ])"
            ]
          },
          "metadata": {},
          "execution_count": 79
        }
      ]
    },
    {
      "cell_type": "code",
      "source": [
        "total_var = pca.explained_variance_ratio_.sum() * 100\n",
        "total_var"
      ],
      "metadata": {
        "colab": {
          "base_uri": "https://localhost:8080/"
        },
        "id": "c90ZHR66KlSc",
        "outputId": "9e201ed2-f7a3-483c-beaa-35951ea003f5"
      },
      "execution_count": 80,
      "outputs": [
        {
          "output_type": "execute_result",
          "data": {
            "text/plain": [
              "99.99999999999999"
            ]
          },
          "metadata": {},
          "execution_count": 80
        }
      ]
    },
    {
      "cell_type": "code",
      "source": [
        "fig=px.area(\n",
        "    x=range(1, cumulatevariance.shape[0] + 1),\n",
        "    y=cumulatevariance,\n",
        "    labels={\"x\": \"Number of Components\", \"y\": \"Cumulative Explained Variance\"}\n",
        ")\n",
        "fig.add_vline(x=3, line_width=3, line_color=\"Orange\")"
      ],
      "metadata": {
        "colab": {
          "base_uri": "https://localhost:8080/",
          "height": 542
        },
        "id": "aIOCzVYcIIhG",
        "outputId": "aac9d392-0200-4936-b5db-29bf37856f62"
      },
      "execution_count": 81,
      "outputs": [
        {
          "output_type": "display_data",
          "data": {
            "text/html": [
              "<html>\n",
              "<head><meta charset=\"utf-8\" /></head>\n",
              "<body>\n",
              "    <div>            <script src=\"https://cdnjs.cloudflare.com/ajax/libs/mathjax/2.7.5/MathJax.js?config=TeX-AMS-MML_SVG\"></script><script type=\"text/javascript\">if (window.MathJax) {MathJax.Hub.Config({SVG: {font: \"STIX-Web\"}});}</script>                <script type=\"text/javascript\">window.PlotlyConfig = {MathJaxConfig: 'local'};</script>\n",
              "        <script src=\"https://cdn.plot.ly/plotly-2.8.3.min.js\"></script>                <div id=\"188be40a-ea03-4354-aeae-03438472b9bb\" class=\"plotly-graph-div\" style=\"height:525px; width:100%;\"></div>            <script type=\"text/javascript\">                                    window.PLOTLYENV=window.PLOTLYENV || {};                                    if (document.getElementById(\"188be40a-ea03-4354-aeae-03438472b9bb\")) {                    Plotly.newPlot(                        \"188be40a-ea03-4354-aeae-03438472b9bb\",                        [{\"hovertemplate\":\"Number of Components=%{x}<br>Cumulative Explained Variance=%{y}<extra></extra>\",\"legendgroup\":\"\",\"line\":{\"color\":\"#636efa\"},\"marker\":{\"symbol\":\"circle\"},\"mode\":\"lines\",\"name\":\"\",\"orientation\":\"v\",\"showlegend\":false,\"stackgroup\":\"1\",\"x\":[1,2,3,4,5,6,7,8,9,10,11,12,13,14,15,16,17,18,19,20,21,22,23],\"xaxis\":\"x\",\"y\":[0.3474068416430879,0.5799830102487434,0.7242022171410305,0.8078040311869801,0.8541587457489213,0.8949516640776884,0.9252651229362814,0.9500361518547762,0.9741322089133928,0.9869589452830735,0.9986309506975592,0.9991740913594646,0.9996316109833614,0.99992516013138,0.9999922932271248,0.9999975109706926,0.9999988137305083,0.9999998751158575,0.9999999933675778,0.9999999998912058,1.0,1.0,1.0],\"yaxis\":\"y\",\"type\":\"scatter\"}],                        {\"template\":{\"data\":{\"bar\":[{\"error_x\":{\"color\":\"#2a3f5f\"},\"error_y\":{\"color\":\"#2a3f5f\"},\"marker\":{\"line\":{\"color\":\"#E5ECF6\",\"width\":0.5},\"pattern\":{\"fillmode\":\"overlay\",\"size\":10,\"solidity\":0.2}},\"type\":\"bar\"}],\"barpolar\":[{\"marker\":{\"line\":{\"color\":\"#E5ECF6\",\"width\":0.5},\"pattern\":{\"fillmode\":\"overlay\",\"size\":10,\"solidity\":0.2}},\"type\":\"barpolar\"}],\"carpet\":[{\"aaxis\":{\"endlinecolor\":\"#2a3f5f\",\"gridcolor\":\"white\",\"linecolor\":\"white\",\"minorgridcolor\":\"white\",\"startlinecolor\":\"#2a3f5f\"},\"baxis\":{\"endlinecolor\":\"#2a3f5f\",\"gridcolor\":\"white\",\"linecolor\":\"white\",\"minorgridcolor\":\"white\",\"startlinecolor\":\"#2a3f5f\"},\"type\":\"carpet\"}],\"choropleth\":[{\"colorbar\":{\"outlinewidth\":0,\"ticks\":\"\"},\"type\":\"choropleth\"}],\"contour\":[{\"colorbar\":{\"outlinewidth\":0,\"ticks\":\"\"},\"colorscale\":[[0.0,\"#0d0887\"],[0.1111111111111111,\"#46039f\"],[0.2222222222222222,\"#7201a8\"],[0.3333333333333333,\"#9c179e\"],[0.4444444444444444,\"#bd3786\"],[0.5555555555555556,\"#d8576b\"],[0.6666666666666666,\"#ed7953\"],[0.7777777777777778,\"#fb9f3a\"],[0.8888888888888888,\"#fdca26\"],[1.0,\"#f0f921\"]],\"type\":\"contour\"}],\"contourcarpet\":[{\"colorbar\":{\"outlinewidth\":0,\"ticks\":\"\"},\"type\":\"contourcarpet\"}],\"heatmap\":[{\"colorbar\":{\"outlinewidth\":0,\"ticks\":\"\"},\"colorscale\":[[0.0,\"#0d0887\"],[0.1111111111111111,\"#46039f\"],[0.2222222222222222,\"#7201a8\"],[0.3333333333333333,\"#9c179e\"],[0.4444444444444444,\"#bd3786\"],[0.5555555555555556,\"#d8576b\"],[0.6666666666666666,\"#ed7953\"],[0.7777777777777778,\"#fb9f3a\"],[0.8888888888888888,\"#fdca26\"],[1.0,\"#f0f921\"]],\"type\":\"heatmap\"}],\"heatmapgl\":[{\"colorbar\":{\"outlinewidth\":0,\"ticks\":\"\"},\"colorscale\":[[0.0,\"#0d0887\"],[0.1111111111111111,\"#46039f\"],[0.2222222222222222,\"#7201a8\"],[0.3333333333333333,\"#9c179e\"],[0.4444444444444444,\"#bd3786\"],[0.5555555555555556,\"#d8576b\"],[0.6666666666666666,\"#ed7953\"],[0.7777777777777778,\"#fb9f3a\"],[0.8888888888888888,\"#fdca26\"],[1.0,\"#f0f921\"]],\"type\":\"heatmapgl\"}],\"histogram\":[{\"marker\":{\"pattern\":{\"fillmode\":\"overlay\",\"size\":10,\"solidity\":0.2}},\"type\":\"histogram\"}],\"histogram2d\":[{\"colorbar\":{\"outlinewidth\":0,\"ticks\":\"\"},\"colorscale\":[[0.0,\"#0d0887\"],[0.1111111111111111,\"#46039f\"],[0.2222222222222222,\"#7201a8\"],[0.3333333333333333,\"#9c179e\"],[0.4444444444444444,\"#bd3786\"],[0.5555555555555556,\"#d8576b\"],[0.6666666666666666,\"#ed7953\"],[0.7777777777777778,\"#fb9f3a\"],[0.8888888888888888,\"#fdca26\"],[1.0,\"#f0f921\"]],\"type\":\"histogram2d\"}],\"histogram2dcontour\":[{\"colorbar\":{\"outlinewidth\":0,\"ticks\":\"\"},\"colorscale\":[[0.0,\"#0d0887\"],[0.1111111111111111,\"#46039f\"],[0.2222222222222222,\"#7201a8\"],[0.3333333333333333,\"#9c179e\"],[0.4444444444444444,\"#bd3786\"],[0.5555555555555556,\"#d8576b\"],[0.6666666666666666,\"#ed7953\"],[0.7777777777777778,\"#fb9f3a\"],[0.8888888888888888,\"#fdca26\"],[1.0,\"#f0f921\"]],\"type\":\"histogram2dcontour\"}],\"mesh3d\":[{\"colorbar\":{\"outlinewidth\":0,\"ticks\":\"\"},\"type\":\"mesh3d\"}],\"parcoords\":[{\"line\":{\"colorbar\":{\"outlinewidth\":0,\"ticks\":\"\"}},\"type\":\"parcoords\"}],\"pie\":[{\"automargin\":true,\"type\":\"pie\"}],\"scatter\":[{\"marker\":{\"colorbar\":{\"outlinewidth\":0,\"ticks\":\"\"}},\"type\":\"scatter\"}],\"scatter3d\":[{\"line\":{\"colorbar\":{\"outlinewidth\":0,\"ticks\":\"\"}},\"marker\":{\"colorbar\":{\"outlinewidth\":0,\"ticks\":\"\"}},\"type\":\"scatter3d\"}],\"scattercarpet\":[{\"marker\":{\"colorbar\":{\"outlinewidth\":0,\"ticks\":\"\"}},\"type\":\"scattercarpet\"}],\"scattergeo\":[{\"marker\":{\"colorbar\":{\"outlinewidth\":0,\"ticks\":\"\"}},\"type\":\"scattergeo\"}],\"scattergl\":[{\"marker\":{\"colorbar\":{\"outlinewidth\":0,\"ticks\":\"\"}},\"type\":\"scattergl\"}],\"scattermapbox\":[{\"marker\":{\"colorbar\":{\"outlinewidth\":0,\"ticks\":\"\"}},\"type\":\"scattermapbox\"}],\"scatterpolar\":[{\"marker\":{\"colorbar\":{\"outlinewidth\":0,\"ticks\":\"\"}},\"type\":\"scatterpolar\"}],\"scatterpolargl\":[{\"marker\":{\"colorbar\":{\"outlinewidth\":0,\"ticks\":\"\"}},\"type\":\"scatterpolargl\"}],\"scatterternary\":[{\"marker\":{\"colorbar\":{\"outlinewidth\":0,\"ticks\":\"\"}},\"type\":\"scatterternary\"}],\"surface\":[{\"colorbar\":{\"outlinewidth\":0,\"ticks\":\"\"},\"colorscale\":[[0.0,\"#0d0887\"],[0.1111111111111111,\"#46039f\"],[0.2222222222222222,\"#7201a8\"],[0.3333333333333333,\"#9c179e\"],[0.4444444444444444,\"#bd3786\"],[0.5555555555555556,\"#d8576b\"],[0.6666666666666666,\"#ed7953\"],[0.7777777777777778,\"#fb9f3a\"],[0.8888888888888888,\"#fdca26\"],[1.0,\"#f0f921\"]],\"type\":\"surface\"}],\"table\":[{\"cells\":{\"fill\":{\"color\":\"#EBF0F8\"},\"line\":{\"color\":\"white\"}},\"header\":{\"fill\":{\"color\":\"#C8D4E3\"},\"line\":{\"color\":\"white\"}},\"type\":\"table\"}]},\"layout\":{\"annotationdefaults\":{\"arrowcolor\":\"#2a3f5f\",\"arrowhead\":0,\"arrowwidth\":1},\"autotypenumbers\":\"strict\",\"coloraxis\":{\"colorbar\":{\"outlinewidth\":0,\"ticks\":\"\"}},\"colorscale\":{\"diverging\":[[0,\"#8e0152\"],[0.1,\"#c51b7d\"],[0.2,\"#de77ae\"],[0.3,\"#f1b6da\"],[0.4,\"#fde0ef\"],[0.5,\"#f7f7f7\"],[0.6,\"#e6f5d0\"],[0.7,\"#b8e186\"],[0.8,\"#7fbc41\"],[0.9,\"#4d9221\"],[1,\"#276419\"]],\"sequential\":[[0.0,\"#0d0887\"],[0.1111111111111111,\"#46039f\"],[0.2222222222222222,\"#7201a8\"],[0.3333333333333333,\"#9c179e\"],[0.4444444444444444,\"#bd3786\"],[0.5555555555555556,\"#d8576b\"],[0.6666666666666666,\"#ed7953\"],[0.7777777777777778,\"#fb9f3a\"],[0.8888888888888888,\"#fdca26\"],[1.0,\"#f0f921\"]],\"sequentialminus\":[[0.0,\"#0d0887\"],[0.1111111111111111,\"#46039f\"],[0.2222222222222222,\"#7201a8\"],[0.3333333333333333,\"#9c179e\"],[0.4444444444444444,\"#bd3786\"],[0.5555555555555556,\"#d8576b\"],[0.6666666666666666,\"#ed7953\"],[0.7777777777777778,\"#fb9f3a\"],[0.8888888888888888,\"#fdca26\"],[1.0,\"#f0f921\"]]},\"colorway\":[\"#636efa\",\"#EF553B\",\"#00cc96\",\"#ab63fa\",\"#FFA15A\",\"#19d3f3\",\"#FF6692\",\"#B6E880\",\"#FF97FF\",\"#FECB52\"],\"font\":{\"color\":\"#2a3f5f\"},\"geo\":{\"bgcolor\":\"white\",\"lakecolor\":\"white\",\"landcolor\":\"#E5ECF6\",\"showlakes\":true,\"showland\":true,\"subunitcolor\":\"white\"},\"hoverlabel\":{\"align\":\"left\"},\"hovermode\":\"closest\",\"mapbox\":{\"style\":\"light\"},\"paper_bgcolor\":\"white\",\"plot_bgcolor\":\"#E5ECF6\",\"polar\":{\"angularaxis\":{\"gridcolor\":\"white\",\"linecolor\":\"white\",\"ticks\":\"\"},\"bgcolor\":\"#E5ECF6\",\"radialaxis\":{\"gridcolor\":\"white\",\"linecolor\":\"white\",\"ticks\":\"\"}},\"scene\":{\"xaxis\":{\"backgroundcolor\":\"#E5ECF6\",\"gridcolor\":\"white\",\"gridwidth\":2,\"linecolor\":\"white\",\"showbackground\":true,\"ticks\":\"\",\"zerolinecolor\":\"white\"},\"yaxis\":{\"backgroundcolor\":\"#E5ECF6\",\"gridcolor\":\"white\",\"gridwidth\":2,\"linecolor\":\"white\",\"showbackground\":true,\"ticks\":\"\",\"zerolinecolor\":\"white\"},\"zaxis\":{\"backgroundcolor\":\"#E5ECF6\",\"gridcolor\":\"white\",\"gridwidth\":2,\"linecolor\":\"white\",\"showbackground\":true,\"ticks\":\"\",\"zerolinecolor\":\"white\"}},\"shapedefaults\":{\"line\":{\"color\":\"#2a3f5f\"}},\"ternary\":{\"aaxis\":{\"gridcolor\":\"white\",\"linecolor\":\"white\",\"ticks\":\"\"},\"baxis\":{\"gridcolor\":\"white\",\"linecolor\":\"white\",\"ticks\":\"\"},\"bgcolor\":\"#E5ECF6\",\"caxis\":{\"gridcolor\":\"white\",\"linecolor\":\"white\",\"ticks\":\"\"}},\"title\":{\"x\":0.05},\"xaxis\":{\"automargin\":true,\"gridcolor\":\"white\",\"linecolor\":\"white\",\"ticks\":\"\",\"title\":{\"standoff\":15},\"zerolinecolor\":\"white\",\"zerolinewidth\":2},\"yaxis\":{\"automargin\":true,\"gridcolor\":\"white\",\"linecolor\":\"white\",\"ticks\":\"\",\"title\":{\"standoff\":15},\"zerolinecolor\":\"white\",\"zerolinewidth\":2}}},\"xaxis\":{\"anchor\":\"y\",\"domain\":[0.0,1.0],\"title\":{\"text\":\"Number of Components\"}},\"yaxis\":{\"anchor\":\"x\",\"domain\":[0.0,1.0],\"title\":{\"text\":\"Cumulative Explained Variance\"}},\"legend\":{\"tracegroupgap\":0},\"margin\":{\"t\":60},\"shapes\":[{\"line\":{\"color\":\"Orange\",\"width\":3},\"type\":\"line\",\"x0\":3,\"x1\":3,\"xref\":\"x\",\"y0\":0,\"y1\":1,\"yref\":\"y domain\"}]},                        {\"responsive\": true}                    ).then(function(){\n",
              "                            \n",
              "var gd = document.getElementById('188be40a-ea03-4354-aeae-03438472b9bb');\n",
              "var x = new MutationObserver(function (mutations, observer) {{\n",
              "        var display = window.getComputedStyle(gd).display;\n",
              "        if (!display || display === 'none') {{\n",
              "            console.log([gd, 'removed!']);\n",
              "            Plotly.purge(gd);\n",
              "            observer.disconnect();\n",
              "        }}\n",
              "}});\n",
              "\n",
              "// Listen for the removal of the full notebook cells\n",
              "var notebookContainer = gd.closest('#notebook-container');\n",
              "if (notebookContainer) {{\n",
              "    x.observe(notebookContainer, {childList: true});\n",
              "}}\n",
              "\n",
              "// Listen for the clearing of the current output cell\n",
              "var outputEl = gd.closest('.output');\n",
              "if (outputEl) {{\n",
              "    x.observe(outputEl, {childList: true});\n",
              "}}\n",
              "\n",
              "                        })                };                            </script>        </div>\n",
              "</body>\n",
              "</html>"
            ]
          },
          "metadata": {}
        }
      ]
    },
    {
      "cell_type": "markdown",
      "source": [
        "We have that the threshold of 70% of explained variance is reached after 3 components"
      ],
      "metadata": {
        "id": "4D-5zUqAgF4L"
      }
    },
    {
      "cell_type": "code",
      "source": [
        "df_c = pd.DataFrame(pca.transform(Fds))\n",
        "df_c = df_c.iloc[0:, :3]"
      ],
      "metadata": {
        "id": "Dg7YxHnRgzw2"
      },
      "execution_count": 152,
      "outputs": []
    },
    {
      "cell_type": "code",
      "source": [
        "df_c"
      ],
      "metadata": {
        "colab": {
          "base_uri": "https://localhost:8080/",
          "height": 423
        },
        "id": "h2rEBn9Kg7uW",
        "outputId": "a13547d6-6ff8-4c01-ec2a-b14d9cd65f15"
      },
      "execution_count": 153,
      "outputs": [
        {
          "output_type": "execute_result",
          "data": {
            "text/plain": [
              "               0          1         2\n",
              "0      -0.542121  -0.839187  0.558041\n",
              "1       0.861606  10.620581  4.178717\n",
              "2      -0.486838  -0.566344  0.226826\n",
              "3       1.933457   0.677402 -3.626098\n",
              "4      -0.601498   0.044159  1.001354\n",
              "...          ...        ...       ...\n",
              "839073 -0.887801   0.549632  3.097658\n",
              "839074 -1.023830  -0.009807  3.085493\n",
              "839075 -0.620461  -0.275083  0.798770\n",
              "839076 -0.292074  -0.498938 -0.355225\n",
              "839077 -0.441280  -0.112880  0.333175\n",
              "\n",
              "[839078 rows x 3 columns]"
            ],
            "text/html": [
              "\n",
              "  <div id=\"df-b74f7f75-89a7-457b-b5d0-f04b88e1f4a6\">\n",
              "    <div class=\"colab-df-container\">\n",
              "      <div>\n",
              "<style scoped>\n",
              "    .dataframe tbody tr th:only-of-type {\n",
              "        vertical-align: middle;\n",
              "    }\n",
              "\n",
              "    .dataframe tbody tr th {\n",
              "        vertical-align: top;\n",
              "    }\n",
              "\n",
              "    .dataframe thead th {\n",
              "        text-align: right;\n",
              "    }\n",
              "</style>\n",
              "<table border=\"1\" class=\"dataframe\">\n",
              "  <thead>\n",
              "    <tr style=\"text-align: right;\">\n",
              "      <th></th>\n",
              "      <th>0</th>\n",
              "      <th>1</th>\n",
              "      <th>2</th>\n",
              "    </tr>\n",
              "  </thead>\n",
              "  <tbody>\n",
              "    <tr>\n",
              "      <th>0</th>\n",
              "      <td>-0.542121</td>\n",
              "      <td>-0.839187</td>\n",
              "      <td>0.558041</td>\n",
              "    </tr>\n",
              "    <tr>\n",
              "      <th>1</th>\n",
              "      <td>0.861606</td>\n",
              "      <td>10.620581</td>\n",
              "      <td>4.178717</td>\n",
              "    </tr>\n",
              "    <tr>\n",
              "      <th>2</th>\n",
              "      <td>-0.486838</td>\n",
              "      <td>-0.566344</td>\n",
              "      <td>0.226826</td>\n",
              "    </tr>\n",
              "    <tr>\n",
              "      <th>3</th>\n",
              "      <td>1.933457</td>\n",
              "      <td>0.677402</td>\n",
              "      <td>-3.626098</td>\n",
              "    </tr>\n",
              "    <tr>\n",
              "      <th>4</th>\n",
              "      <td>-0.601498</td>\n",
              "      <td>0.044159</td>\n",
              "      <td>1.001354</td>\n",
              "    </tr>\n",
              "    <tr>\n",
              "      <th>...</th>\n",
              "      <td>...</td>\n",
              "      <td>...</td>\n",
              "      <td>...</td>\n",
              "    </tr>\n",
              "    <tr>\n",
              "      <th>839073</th>\n",
              "      <td>-0.887801</td>\n",
              "      <td>0.549632</td>\n",
              "      <td>3.097658</td>\n",
              "    </tr>\n",
              "    <tr>\n",
              "      <th>839074</th>\n",
              "      <td>-1.023830</td>\n",
              "      <td>-0.009807</td>\n",
              "      <td>3.085493</td>\n",
              "    </tr>\n",
              "    <tr>\n",
              "      <th>839075</th>\n",
              "      <td>-0.620461</td>\n",
              "      <td>-0.275083</td>\n",
              "      <td>0.798770</td>\n",
              "    </tr>\n",
              "    <tr>\n",
              "      <th>839076</th>\n",
              "      <td>-0.292074</td>\n",
              "      <td>-0.498938</td>\n",
              "      <td>-0.355225</td>\n",
              "    </tr>\n",
              "    <tr>\n",
              "      <th>839077</th>\n",
              "      <td>-0.441280</td>\n",
              "      <td>-0.112880</td>\n",
              "      <td>0.333175</td>\n",
              "    </tr>\n",
              "  </tbody>\n",
              "</table>\n",
              "<p>839078 rows × 3 columns</p>\n",
              "</div>\n",
              "      <button class=\"colab-df-convert\" onclick=\"convertToInteractive('df-b74f7f75-89a7-457b-b5d0-f04b88e1f4a6')\"\n",
              "              title=\"Convert this dataframe to an interactive table.\"\n",
              "              style=\"display:none;\">\n",
              "        \n",
              "  <svg xmlns=\"http://www.w3.org/2000/svg\" height=\"24px\"viewBox=\"0 0 24 24\"\n",
              "       width=\"24px\">\n",
              "    <path d=\"M0 0h24v24H0V0z\" fill=\"none\"/>\n",
              "    <path d=\"M18.56 5.44l.94 2.06.94-2.06 2.06-.94-2.06-.94-.94-2.06-.94 2.06-2.06.94zm-11 1L8.5 8.5l.94-2.06 2.06-.94-2.06-.94L8.5 2.5l-.94 2.06-2.06.94zm10 10l.94 2.06.94-2.06 2.06-.94-2.06-.94-.94-2.06-.94 2.06-2.06.94z\"/><path d=\"M17.41 7.96l-1.37-1.37c-.4-.4-.92-.59-1.43-.59-.52 0-1.04.2-1.43.59L10.3 9.45l-7.72 7.72c-.78.78-.78 2.05 0 2.83L4 21.41c.39.39.9.59 1.41.59.51 0 1.02-.2 1.41-.59l7.78-7.78 2.81-2.81c.8-.78.8-2.07 0-2.86zM5.41 20L4 18.59l7.72-7.72 1.47 1.35L5.41 20z\"/>\n",
              "  </svg>\n",
              "      </button>\n",
              "      \n",
              "  <style>\n",
              "    .colab-df-container {\n",
              "      display:flex;\n",
              "      flex-wrap:wrap;\n",
              "      gap: 12px;\n",
              "    }\n",
              "\n",
              "    .colab-df-convert {\n",
              "      background-color: #E8F0FE;\n",
              "      border: none;\n",
              "      border-radius: 50%;\n",
              "      cursor: pointer;\n",
              "      display: none;\n",
              "      fill: #1967D2;\n",
              "      height: 32px;\n",
              "      padding: 0 0 0 0;\n",
              "      width: 32px;\n",
              "    }\n",
              "\n",
              "    .colab-df-convert:hover {\n",
              "      background-color: #E2EBFA;\n",
              "      box-shadow: 0px 1px 2px rgba(60, 64, 67, 0.3), 0px 1px 3px 1px rgba(60, 64, 67, 0.15);\n",
              "      fill: #174EA6;\n",
              "    }\n",
              "\n",
              "    [theme=dark] .colab-df-convert {\n",
              "      background-color: #3B4455;\n",
              "      fill: #D2E3FC;\n",
              "    }\n",
              "\n",
              "    [theme=dark] .colab-df-convert:hover {\n",
              "      background-color: #434B5C;\n",
              "      box-shadow: 0px 1px 3px 1px rgba(0, 0, 0, 0.15);\n",
              "      filter: drop-shadow(0px 1px 2px rgba(0, 0, 0, 0.3));\n",
              "      fill: #FFFFFF;\n",
              "    }\n",
              "  </style>\n",
              "\n",
              "      <script>\n",
              "        const buttonEl =\n",
              "          document.querySelector('#df-b74f7f75-89a7-457b-b5d0-f04b88e1f4a6 button.colab-df-convert');\n",
              "        buttonEl.style.display =\n",
              "          google.colab.kernel.accessAllowed ? 'block' : 'none';\n",
              "\n",
              "        async function convertToInteractive(key) {\n",
              "          const element = document.querySelector('#df-b74f7f75-89a7-457b-b5d0-f04b88e1f4a6');\n",
              "          const dataTable =\n",
              "            await google.colab.kernel.invokeFunction('convertToInteractive',\n",
              "                                                     [key], {});\n",
              "          if (!dataTable) return;\n",
              "\n",
              "          const docLinkHtml = 'Like what you see? Visit the ' +\n",
              "            '<a target=\"_blank\" href=https://colab.research.google.com/notebooks/data_table.ipynb>data table notebook</a>'\n",
              "            + ' to learn more about interactive tables.';\n",
              "          element.innerHTML = '';\n",
              "          dataTable['output_type'] = 'display_data';\n",
              "          await google.colab.output.renderOutput(dataTable, element);\n",
              "          const docLink = document.createElement('div');\n",
              "          docLink.innerHTML = docLinkHtml;\n",
              "          element.appendChild(docLink);\n",
              "        }\n",
              "      </script>\n",
              "    </div>\n",
              "  </div>\n",
              "  "
            ]
          },
          "metadata": {},
          "execution_count": 153
        }
      ]
    },
    {
      "cell_type": "code",
      "source": [
        "df_c.to_csv('/content/drive/MyDrive/adm hw4/PCA_df.csv', index=False)"
      ],
      "metadata": {
        "id": "nN1BxKfLSsMw"
      },
      "execution_count": 154,
      "outputs": []
    },
    {
      "cell_type": "markdown",
      "source": [
        "## 2.3 Clustering!"
      ],
      "metadata": {
        "id": "vH7V9NdZzUoE"
      }
    },
    {
      "cell_type": "code",
      "source": [
        "from scipy.spatial.distance import cdist "
      ],
      "metadata": {
        "id": "uCS2Zjs7Jj7R"
      },
      "execution_count": 24,
      "outputs": []
    },
    {
      "cell_type": "code",
      "source": [
        "df_c=df_c.to_numpy()"
      ],
      "metadata": {
        "id": "vrWjaNd4-VXv"
      },
      "execution_count": 92,
      "outputs": []
    },
    {
      "cell_type": "code",
      "source": [
        "def get_InitialMeans(Dataset,k):\n",
        "  i=np.random.randint(0,len(Dataset), k)\n",
        "  c=Dataset[i, :]\n",
        "  return c"
      ],
      "metadata": {
        "id": "GwFErz0RLFus"
      },
      "execution_count": 89,
      "outputs": []
    },
    {
      "cell_type": "code",
      "source": [
        "def k_means_Map(Dataset,centroids):\n",
        "   keyes = np.argmin(cdist(XA=Dataset, XB=centroids, metric= 'euclidean'),axis=1)\n",
        "   final_list=[]\n",
        "   for i in range(0, len(Dataset)):\n",
        "    final_list.append([keyes[i],Dataset[i].tolist()]) \n",
        "   return keyes, final_list"
      ],
      "metadata": {
        "id": "rm3UpRAbRWXZ"
      },
      "execution_count": 86,
      "outputs": []
    },
    {
      "cell_type": "code",
      "source": [
        "def k_means_Reduce(keyes,map_list,k):\n",
        "  reduce_list=[]\n",
        "  partition_dimension=[]\n",
        "  for i in range(0,k):\n",
        "    lst = np.array([item[1]  for item in map_list if item[0]==i])\n",
        "    partition_dimension.append([i+1,len(lst)])\n",
        "    reduce_list.append([i+1,lst.sum(axis=0)])\n",
        "  return reduce_list, partition_dimension"
      ],
      "metadata": {
        "id": "1KQ3g6h3cpMn"
      },
      "execution_count": 107,
      "outputs": []
    },
    {
      "cell_type": "code",
      "source": [
        "def get_NewMeans(sum_values,dim_partition,k):\n",
        "  means=[]\n",
        "  for i in range(1,k+1):\n",
        "    compute_mean=[]\n",
        "    dim=[item[1] for item in dim_partition if item[0]==i]\n",
        "    compute_mean=[item[1]/dim[0]  for item in sum_values if item[0]==i]\n",
        "    means.append(compute_mean)\n",
        "    means_list = [arr[0].tolist() for arr in means]\n",
        "  return means_list\n"
      ],
      "metadata": {
        "id": "9x0N9amNo7Fd"
      },
      "execution_count": 136,
      "outputs": []
    },
    {
      "cell_type": "code",
      "source": [
        "def k_means(Dataset,k,iterations):\n",
        "\n",
        "    # STEP 1 we select k initial means uniformly at random from the Dataset\n",
        "    init_means = get_InitialMeans(Dataset,k)\n",
        "    \n",
        "\n",
        "    for _ in range(iterations): #Repeat steps for the number of iterations until the means have converged.\n",
        "      # STEP 2 this is our MapReduce part that is composed by two functions, one for the Map part and the other for the Reduce part\n",
        "      keyes, mapped_list = k_means_Map(Dataset,init_means)\n",
        "      sum_v, dim_p = k_means_Reduce(keyes,mapped_list,k)\n",
        "\n",
        "      # STEP 3 get the new means\n",
        "      new_means=get_NewMeans(sum_v,dim_p,k)\n",
        "\n",
        "      init_means=new_means\n",
        "      # Step 4 repeate the step with an iterative function for find the optimal partition\n",
        "      #partition_, centroids_ = main_k_means(Dataset,k,p,100)\n",
        "\n",
        "    #return partition_ , centroids_\n",
        "    df = pd.DataFrame(Dataset, columns = ['Column_A','Column_B','Column_C'])\n",
        "    df['Cluster']= keyes\n",
        "    return mapped_list, new_means, keyes, df"
      ],
      "metadata": {
        "id": "VREfebFB3Kqp"
      },
      "execution_count": 146,
      "outputs": []
    },
    {
      "cell_type": "code",
      "source": [
        "mapped_list, new_means, keyes, df_k = k_means(df_c,10,10)"
      ],
      "metadata": {
        "id": "y78dLZaSUA1h"
      },
      "execution_count": 147,
      "outputs": []
    },
    {
      "cell_type": "code",
      "source": [
        "keyes.tolist"
      ],
      "metadata": {
        "id": "nfITanBxMht-",
        "outputId": "33f45017-2cfa-4222-97dd-76de642f419c",
        "colab": {
          "base_uri": "https://localhost:8080/"
        }
      },
      "execution_count": 145,
      "outputs": [
        {
          "output_type": "execute_result",
          "data": {
            "text/plain": [
              "array([3, 4, 9, ..., 3, 9, 9])"
            ]
          },
          "metadata": {},
          "execution_count": 145
        }
      ]
    },
    {
      "cell_type": "code",
      "source": [
        "mapped_list"
      ],
      "metadata": {
        "id": "mygr9Ep4Lng-"
      },
      "execution_count": null,
      "outputs": []
    },
    {
      "cell_type": "code",
      "source": [
        "## Scree Plot \n",
        "\n",
        "import matplotlib.pyplot as plt\n",
        "import numpy as np\n",
        "\n",
        "x = []\n",
        "\n",
        "for i in range(2,21):\n",
        "    x.append(i)\n",
        "\n",
        "\n",
        "plt.figure(figsize=(16,8))\n",
        "plt.plot(x, Within, 'o-', linewidth=2, color='blue')\n",
        "plt.title('Scree Plot')\n",
        "plt.xlim((1,21))\n",
        "plt.show()\n"
      ],
      "metadata": {
        "colab": {
          "base_uri": "https://localhost:8080/",
          "height": 850
        },
        "id": "7ybFrMpRTDlH",
        "outputId": "aa79e4f7-aa65-4aab-e815-83f1c992126d"
      },
      "execution_count": 74,
      "outputs": [
        {
          "output_type": "error",
          "ename": "ValueError",
          "evalue": "ignored",
          "traceback": [
            "\u001b[0;31m---------------------------------------------------------------------------\u001b[0m",
            "\u001b[0;31mValueError\u001b[0m                                Traceback (most recent call last)",
            "\u001b[0;32m<ipython-input-74-5da3b69efe58>\u001b[0m in \u001b[0;36m<module>\u001b[0;34m\u001b[0m\n\u001b[1;32m     11\u001b[0m \u001b[0;34m\u001b[0m\u001b[0m\n\u001b[1;32m     12\u001b[0m \u001b[0mplt\u001b[0m\u001b[0;34m.\u001b[0m\u001b[0mfigure\u001b[0m\u001b[0;34m(\u001b[0m\u001b[0mfigsize\u001b[0m\u001b[0;34m=\u001b[0m\u001b[0;34m(\u001b[0m\u001b[0;36m16\u001b[0m\u001b[0;34m,\u001b[0m\u001b[0;36m8\u001b[0m\u001b[0;34m)\u001b[0m\u001b[0;34m)\u001b[0m\u001b[0;34m\u001b[0m\u001b[0;34m\u001b[0m\u001b[0m\n\u001b[0;32m---> 13\u001b[0;31m \u001b[0mplt\u001b[0m\u001b[0;34m.\u001b[0m\u001b[0mplot\u001b[0m\u001b[0;34m(\u001b[0m\u001b[0mx\u001b[0m\u001b[0;34m,\u001b[0m \u001b[0mWithin\u001b[0m\u001b[0;34m,\u001b[0m \u001b[0;34m'o-'\u001b[0m\u001b[0;34m,\u001b[0m \u001b[0mlinewidth\u001b[0m\u001b[0;34m=\u001b[0m\u001b[0;36m2\u001b[0m\u001b[0;34m,\u001b[0m \u001b[0mcolor\u001b[0m\u001b[0;34m=\u001b[0m\u001b[0;34m'blue'\u001b[0m\u001b[0;34m)\u001b[0m\u001b[0;34m\u001b[0m\u001b[0;34m\u001b[0m\u001b[0m\n\u001b[0m\u001b[1;32m     14\u001b[0m \u001b[0mplt\u001b[0m\u001b[0;34m.\u001b[0m\u001b[0mtitle\u001b[0m\u001b[0;34m(\u001b[0m\u001b[0;34m'Scree Plot'\u001b[0m\u001b[0;34m)\u001b[0m\u001b[0;34m\u001b[0m\u001b[0;34m\u001b[0m\u001b[0m\n\u001b[1;32m     15\u001b[0m \u001b[0mplt\u001b[0m\u001b[0;34m.\u001b[0m\u001b[0mxlim\u001b[0m\u001b[0;34m(\u001b[0m\u001b[0;34m(\u001b[0m\u001b[0;36m1\u001b[0m\u001b[0;34m,\u001b[0m\u001b[0;36m21\u001b[0m\u001b[0;34m)\u001b[0m\u001b[0;34m)\u001b[0m\u001b[0;34m\u001b[0m\u001b[0;34m\u001b[0m\u001b[0m\n",
            "\u001b[0;32m/usr/local/lib/python3.8/dist-packages/matplotlib/pyplot.py\u001b[0m in \u001b[0;36mplot\u001b[0;34m(scalex, scaley, data, *args, **kwargs)\u001b[0m\n\u001b[1;32m   2759\u001b[0m \u001b[0;34m@\u001b[0m\u001b[0mdocstring\u001b[0m\u001b[0;34m.\u001b[0m\u001b[0mcopy\u001b[0m\u001b[0;34m(\u001b[0m\u001b[0mAxes\u001b[0m\u001b[0;34m.\u001b[0m\u001b[0mplot\u001b[0m\u001b[0;34m)\u001b[0m\u001b[0;34m\u001b[0m\u001b[0;34m\u001b[0m\u001b[0m\n\u001b[1;32m   2760\u001b[0m \u001b[0;32mdef\u001b[0m \u001b[0mplot\u001b[0m\u001b[0;34m(\u001b[0m\u001b[0;34m*\u001b[0m\u001b[0margs\u001b[0m\u001b[0;34m,\u001b[0m \u001b[0mscalex\u001b[0m\u001b[0;34m=\u001b[0m\u001b[0;32mTrue\u001b[0m\u001b[0;34m,\u001b[0m \u001b[0mscaley\u001b[0m\u001b[0;34m=\u001b[0m\u001b[0;32mTrue\u001b[0m\u001b[0;34m,\u001b[0m \u001b[0mdata\u001b[0m\u001b[0;34m=\u001b[0m\u001b[0;32mNone\u001b[0m\u001b[0;34m,\u001b[0m \u001b[0;34m**\u001b[0m\u001b[0mkwargs\u001b[0m\u001b[0;34m)\u001b[0m\u001b[0;34m:\u001b[0m\u001b[0;34m\u001b[0m\u001b[0;34m\u001b[0m\u001b[0m\n\u001b[0;32m-> 2761\u001b[0;31m     return gca().plot(\n\u001b[0m\u001b[1;32m   2762\u001b[0m         *args, scalex=scalex, scaley=scaley, **({\"data\": data} if data\n\u001b[1;32m   2763\u001b[0m         is not None else {}), **kwargs)\n",
            "\u001b[0;32m/usr/local/lib/python3.8/dist-packages/matplotlib/axes/_axes.py\u001b[0m in \u001b[0;36mplot\u001b[0;34m(self, scalex, scaley, data, *args, **kwargs)\u001b[0m\n\u001b[1;32m   1645\u001b[0m         \"\"\"\n\u001b[1;32m   1646\u001b[0m         \u001b[0mkwargs\u001b[0m \u001b[0;34m=\u001b[0m \u001b[0mcbook\u001b[0m\u001b[0;34m.\u001b[0m\u001b[0mnormalize_kwargs\u001b[0m\u001b[0;34m(\u001b[0m\u001b[0mkwargs\u001b[0m\u001b[0;34m,\u001b[0m \u001b[0mmlines\u001b[0m\u001b[0;34m.\u001b[0m\u001b[0mLine2D\u001b[0m\u001b[0;34m)\u001b[0m\u001b[0;34m\u001b[0m\u001b[0;34m\u001b[0m\u001b[0m\n\u001b[0;32m-> 1647\u001b[0;31m         \u001b[0mlines\u001b[0m \u001b[0;34m=\u001b[0m \u001b[0;34m[\u001b[0m\u001b[0;34m*\u001b[0m\u001b[0mself\u001b[0m\u001b[0;34m.\u001b[0m\u001b[0m_get_lines\u001b[0m\u001b[0;34m(\u001b[0m\u001b[0;34m*\u001b[0m\u001b[0margs\u001b[0m\u001b[0;34m,\u001b[0m \u001b[0mdata\u001b[0m\u001b[0;34m=\u001b[0m\u001b[0mdata\u001b[0m\u001b[0;34m,\u001b[0m \u001b[0;34m**\u001b[0m\u001b[0mkwargs\u001b[0m\u001b[0;34m)\u001b[0m\u001b[0;34m]\u001b[0m\u001b[0;34m\u001b[0m\u001b[0;34m\u001b[0m\u001b[0m\n\u001b[0m\u001b[1;32m   1648\u001b[0m         \u001b[0;32mfor\u001b[0m \u001b[0mline\u001b[0m \u001b[0;32min\u001b[0m \u001b[0mlines\u001b[0m\u001b[0;34m:\u001b[0m\u001b[0;34m\u001b[0m\u001b[0;34m\u001b[0m\u001b[0m\n\u001b[1;32m   1649\u001b[0m             \u001b[0mself\u001b[0m\u001b[0;34m.\u001b[0m\u001b[0madd_line\u001b[0m\u001b[0;34m(\u001b[0m\u001b[0mline\u001b[0m\u001b[0;34m)\u001b[0m\u001b[0;34m\u001b[0m\u001b[0;34m\u001b[0m\u001b[0m\n",
            "\u001b[0;32m/usr/local/lib/python3.8/dist-packages/matplotlib/axes/_base.py\u001b[0m in \u001b[0;36m__call__\u001b[0;34m(self, *args, **kwargs)\u001b[0m\n\u001b[1;32m    214\u001b[0m                 \u001b[0mthis\u001b[0m \u001b[0;34m+=\u001b[0m \u001b[0margs\u001b[0m\u001b[0;34m[\u001b[0m\u001b[0;36m0\u001b[0m\u001b[0;34m]\u001b[0m\u001b[0;34m,\u001b[0m\u001b[0;34m\u001b[0m\u001b[0;34m\u001b[0m\u001b[0m\n\u001b[1;32m    215\u001b[0m                 \u001b[0margs\u001b[0m \u001b[0;34m=\u001b[0m \u001b[0margs\u001b[0m\u001b[0;34m[\u001b[0m\u001b[0;36m1\u001b[0m\u001b[0;34m:\u001b[0m\u001b[0;34m]\u001b[0m\u001b[0;34m\u001b[0m\u001b[0;34m\u001b[0m\u001b[0m\n\u001b[0;32m--> 216\u001b[0;31m             \u001b[0;32myield\u001b[0m \u001b[0;32mfrom\u001b[0m \u001b[0mself\u001b[0m\u001b[0;34m.\u001b[0m\u001b[0m_plot_args\u001b[0m\u001b[0;34m(\u001b[0m\u001b[0mthis\u001b[0m\u001b[0;34m,\u001b[0m \u001b[0mkwargs\u001b[0m\u001b[0;34m)\u001b[0m\u001b[0;34m\u001b[0m\u001b[0;34m\u001b[0m\u001b[0m\n\u001b[0m\u001b[1;32m    217\u001b[0m \u001b[0;34m\u001b[0m\u001b[0m\n\u001b[1;32m    218\u001b[0m     \u001b[0;32mdef\u001b[0m \u001b[0mget_next_color\u001b[0m\u001b[0;34m(\u001b[0m\u001b[0mself\u001b[0m\u001b[0;34m)\u001b[0m\u001b[0;34m:\u001b[0m\u001b[0;34m\u001b[0m\u001b[0;34m\u001b[0m\u001b[0m\n",
            "\u001b[0;32m/usr/local/lib/python3.8/dist-packages/matplotlib/axes/_base.py\u001b[0m in \u001b[0;36m_plot_args\u001b[0;34m(self, tup, kwargs)\u001b[0m\n\u001b[1;32m    340\u001b[0m \u001b[0;34m\u001b[0m\u001b[0m\n\u001b[1;32m    341\u001b[0m         \u001b[0;32mif\u001b[0m \u001b[0mx\u001b[0m\u001b[0;34m.\u001b[0m\u001b[0mshape\u001b[0m\u001b[0;34m[\u001b[0m\u001b[0;36m0\u001b[0m\u001b[0;34m]\u001b[0m \u001b[0;34m!=\u001b[0m \u001b[0my\u001b[0m\u001b[0;34m.\u001b[0m\u001b[0mshape\u001b[0m\u001b[0;34m[\u001b[0m\u001b[0;36m0\u001b[0m\u001b[0;34m]\u001b[0m\u001b[0;34m:\u001b[0m\u001b[0;34m\u001b[0m\u001b[0;34m\u001b[0m\u001b[0m\n\u001b[0;32m--> 342\u001b[0;31m             raise ValueError(f\"x and y must have same first dimension, but \"\n\u001b[0m\u001b[1;32m    343\u001b[0m                              f\"have shapes {x.shape} and {y.shape}\")\n\u001b[1;32m    344\u001b[0m         \u001b[0;32mif\u001b[0m \u001b[0mx\u001b[0m\u001b[0;34m.\u001b[0m\u001b[0mndim\u001b[0m \u001b[0;34m>\u001b[0m \u001b[0;36m2\u001b[0m \u001b[0;32mor\u001b[0m \u001b[0my\u001b[0m\u001b[0;34m.\u001b[0m\u001b[0mndim\u001b[0m \u001b[0;34m>\u001b[0m \u001b[0;36m2\u001b[0m\u001b[0;34m:\u001b[0m\u001b[0;34m\u001b[0m\u001b[0;34m\u001b[0m\u001b[0m\n",
            "\u001b[0;31mValueError\u001b[0m: x and y must have same first dimension, but have shapes (19,) and (0,)"
          ]
        },
        {
          "output_type": "display_data",
          "data": {
            "text/plain": [
              "<Figure size 1152x576 with 1 Axes>"
            ],
            "image/png": "[encoded data removed]"
          },
          "metadata": {
            "needs_background": "light"
          }
        }
      ]
    },
    {
      "cell_type": "code",
      "source": [
        "\n",
        "\n",
        "plt.figure(figsize = (12, 6), dpi = 80)\n",
        "\n",
        "u_labels = np.unique(labels[3])\n",
        "\n",
        "for i in u_labels:\n",
        "\n",
        "    plt.scatter(df_c[labels[3] == i , 0] , df_c[labels[3] == i , 1] , alpha=0.8)\n",
        "plt.show()"
      ],
      "metadata": {
        "id": "usSEXmE83LA6"
      },
      "execution_count": null,
      "outputs": []
    },
    {
      "cell_type": "code",
      "source": [],
      "metadata": {
        "id": "9PLAgFzE3LK5"
      },
      "execution_count": null,
      "outputs": []
    },
    {
      "cell_type": "code",
      "source": [
        "from sklearn.cluster import KMeans\n",
        "from yellowbrick.cluster import KElbowVisualizer"
      ],
      "metadata": {
        "id": "-ntsVVLCz3QV"
      },
      "execution_count": 75,
      "outputs": []
    },
    {
      "cell_type": "code",
      "source": [
        "df_c=df_c.to_numpy()"
      ],
      "metadata": {
        "id": "li0idK4e0W4K"
      },
      "execution_count": 76,
      "outputs": []
    },
    {
      "cell_type": "code",
      "source": [
        "\n",
        "index = get_index(df_c,10)\n",
        "\n",
        "    # now we have the centroids\n",
        "centroids = df_c[index, :]"
      ],
      "metadata": {
        "id": "zV_RNIy3KuSI"
      },
      "execution_count": 77,
      "outputs": []
    },
    {
      "cell_type": "code",
      "source": [
        "np.argmin(cdist(XA=df_c, XB=centroids, metric= 'euclidean'),axis=1)"
      ],
      "metadata": {
        "colab": {
          "base_uri": "https://localhost:8080/"
        },
        "id": "N4Z5MwWPMo45",
        "outputId": "ed174171-9202-4e0b-f090-ead332a75726"
      },
      "execution_count": 78,
      "outputs": [
        {
          "output_type": "execute_result",
          "data": {
            "text/plain": [
              "array([6, 8, 6, ..., 9, 3, 0])"
            ]
          },
          "metadata": {},
          "execution_count": 78
        }
      ]
    },
    {
      "cell_type": "markdown",
      "source": [
        "We Used the k_means ++ from the scikit-learn library"
      ],
      "metadata": {
        "id": "Xxq9-AeXTqTl"
      }
    },
    {
      "cell_type": "markdown",
      "source": [
        "Inside the `KElbowVisualizer` method there are three different metric to evaluate the number of clusters:\n",
        "\n",
        "*   distortion\n",
        "*   calinski_harabasz\n",
        "*   silhouette\n",
        "\n",
        "\n",
        "\n"
      ],
      "metadata": {
        "id": "DXij0iMT_hbN"
      }
    },
    {
      "cell_type": "code",
      "source": [
        "plt.figure(figsize = (18, 6))\n",
        "model = KMeans(init = 'k-means++')\n",
        "visualizer = KElbowVisualizer(model, k = (2,20), metric = 'distortion', timings = False)\n",
        "visualizer.fit(df_c)\n",
        "visualizer.show()"
      ],
      "metadata": {
        "colab": {
          "base_uri": "https://localhost:8080/",
          "height": 420
        },
        "id": "ZK6XKgfe2dPU",
        "outputId": "94f33d9a-28dc-4595-b6f5-fa8edcb90ee6"
      },
      "execution_count": 79,
      "outputs": [
        {
          "output_type": "display_data",
          "data": {
            "text/plain": [
              "<Figure size 1296x432 with 1 Axes>"
            ],
            "image/png": "[encoded data removed]"
          },
          "metadata": {}
        },
        {
          "output_type": "execute_result",
          "data": {
            "text/plain": [
              "<matplotlib.axes._subplots.AxesSubplot at 0x7f40b3e55880>"
            ]
          },
          "metadata": {},
          "execution_count": 79
        }
      ]
    },
    {
      "cell_type": "code",
      "source": [
        "plt.figure(figsize = (18, 6))\n",
        "model = KMeans(init = 'k-means++')\n",
        "visualizer = KElbowVisualizer(model, k = (2,20), metric = 'calinski_harabasz', timings = False)\n",
        "visualizer.fit(df_c)\n",
        "visualizer.show()"
      ],
      "metadata": {
        "id": "E_6wP25gAK0W"
      },
      "execution_count": null,
      "outputs": []
    },
    {
      "cell_type": "code",
      "source": [
        "plt.figure(figsize = (18, 6))\n",
        "model = KMeans(init = 'k-means++')\n",
        "visualizer = KElbowVisualizer(model, k = (2,20), metric = 'silhouette', timings = False)\n",
        "visualizer.fit(df_c)\n",
        "visualizer.show()"
      ],
      "metadata": {
        "id": "vDfkRvFHAK5C"
      },
      "execution_count": null,
      "outputs": []
    },
    {
      "cell_type": "code",
      "source": [],
      "metadata": {
        "id": "vPVDmVtVQUK4"
      },
      "execution_count": null,
      "outputs": []
    },
    {
      "cell_type": "code",
      "source": [
        "! pip install pyspark"
      ],
      "metadata": {
        "id": "7rm6_g8dL52O",
        "colab": {
          "base_uri": "https://localhost:8080/"
        },
        "outputId": "afa828d1-26b5-4ca2-adf0-071005a52e2c"
      },
      "execution_count": 148,
      "outputs": [
        {
          "output_type": "stream",
          "name": "stdout",
          "text": [
            "Looking in indexes: https://pypi.org/simple, https://us-python.pkg.dev/colab-wheels/public/simple/\n",
            "Collecting pyspark\n",
            "  Downloading pyspark-3.3.1.tar.gz (281.4 MB)\n",
            "\u001b[K     |████████████████████████████████| 281.4 MB 34 kB/s \n",
            "\u001b[?25hCollecting py4j==0.10.9.5\n",
            "  Downloading py4j-0.10.9.5-py2.py3-none-any.whl (199 kB)\n",
            "\u001b[K     |████████████████████████████████| 199 kB 32.5 MB/s \n",
            "\u001b[?25hBuilding wheels for collected packages: pyspark\n",
            "  Building wheel for pyspark (setup.py) ... \u001b[?25l\u001b[?25hdone\n",
            "  Created wheel for pyspark: filename=pyspark-3.3.1-py2.py3-none-any.whl size=281845512 sha256=82403d9915079b4585b46132369c846fe9e2a58067be495ca3dc68988a7640f0\n",
            "  Stored in directory: /root/.cache/pip/wheels/43/dc/11/ec201cd671da62fa9c5cc77078235e40722170ceba231d7598\n",
            "Successfully built pyspark\n",
            "Installing collected packages: py4j, pyspark\n",
            "Successfully installed py4j-0.10.9.5 pyspark-3.3.1\n"
          ]
        }
      ]
    },
    {
      "cell_type": "code",
      "source": [
        "import pyspark "
      ],
      "metadata": {
        "id": "8x0w8wrrL54y"
      },
      "execution_count": 156,
      "outputs": []
    },
    {
      "cell_type": "code",
      "source": [
        "from pyspark.sql import SparkSession"
      ],
      "metadata": {
        "id": "5vubpV8kL574"
      },
      "execution_count": 150,
      "outputs": []
    },
    {
      "cell_type": "code",
      "source": [
        "spark= SparkSession.builder.appName('kmeans').getOrCreate()"
      ],
      "metadata": {
        "id": "C5m8yURLTPby"
      },
      "execution_count": 159,
      "outputs": []
    },
    {
      "cell_type": "code",
      "source": [
        "data = spark.read.csv('/content/drive/MyDrive/adm hw4/PCA_df.csv')\n",
        "data = data.rdd"
      ],
      "metadata": {
        "id": "gJP4683yRHdY"
      },
      "execution_count": 160,
      "outputs": []
    },
    {
      "cell_type": "code",
      "source": [
        "def get_InitialMeans(Dataset,k):\n",
        "  i= Dataset.takeSample(False, k)\n",
        "  return i"
      ],
      "metadata": {
        "id": "2xFvgo16RHf0"
      },
      "execution_count": 161,
      "outputs": []
    },
    {
      "cell_type": "code",
      "source": [
        "i= get_InitialMeans(data,10)\n",
        "i"
      ],
      "metadata": {
        "id": "2LHwofE_RHil",
        "outputId": "cc73f9a0-c53d-4606-b595-88cddec6cfeb",
        "colab": {
          "base_uri": "https://localhost:8080/"
        }
      },
      "execution_count": 168,
      "outputs": [
        {
          "output_type": "execute_result",
          "data": {
            "text/plain": [
              "[Row(_c0='0.20911661935761688', _c1='0.8034536868534753', _c2='-2.2471994737958556'),\n",
              " Row(_c0='-0.9048767137948119', _c1='-0.7325633722232237', _c2='1.7067236768081233'),\n",
              " Row(_c0='-1.0724449200629798', _c1='-0.9596478121306025', _c2='2.5516317919736653'),\n",
              " Row(_c0='-0.8709142168867413', _c1='-0.7266900704733261', _c2='1.663722404935637'),\n",
              " Row(_c0='0.4751726083248517', _c1='0.20046240847502014', _c2='-2.125526904652317'),\n",
              " Row(_c0='0.28855018591980675', _c1='0.17675364384827436', _c2='-1.6901438271440448'),\n",
              " Row(_c0='-0.7809856889362151', _c1='-0.672021512630491', _c2='1.3363035540723687'),\n",
              " Row(_c0='0.5881793649500608', _c1='-0.4801790084739237', _c2='-1.8891424853657102'),\n",
              " Row(_c0='-0.1955773138085697', _c1='-0.6937897097329665', _c2='-0.41393203598720907'),\n",
              " Row(_c0='-0.043057831368883304', _c1='-0.4684233535092208', _c2='-1.0246034558503434')]"
            ]
          },
          "metadata": {},
          "execution_count": 168
        }
      ]
    },
    {
      "cell_type": "code",
      "source": [
        "def k_means_Map(Dataset,centroids):\n",
        "   assigned_c=0\n",
        "   min_dist=float('inf') \n",
        "    \n",
        "   keyes = np.argmin(cdist(XA=Dataset, XB=centroids, metric= 'euclidean'),axis=1)\n",
        "   final_list=[]\n",
        "   for i in range(0, len(Dataset)):\n",
        "    final_list.append([keyes[i],Dataset[i].tolist()]) \n",
        "   return keyes, final_list"
      ],
      "metadata": {
        "id": "InAL6cHyRHk0"
      },
      "execution_count": null,
      "outputs": []
    },
    {
      "cell_type": "code",
      "source": [
        "def k_means_Map(Dataset,centroids):\n",
        "   assigned_c=0\n",
        "   min_dist=float('inf') \n",
        "   for i in range(0,len(centroids)+1):\n",
        "     d_o=0\n",
        "     for j in range(0,len(Dataset)+1):\n",
        "      d_n= (Dataset[j] - centroids[i][1][j])**2\n",
        "      d=d_n+d_o\n",
        "      d_o=d\n",
        "   return d\n"
      ],
      "metadata": {
        "id": "2TMnkG23RHnV"
      },
      "execution_count": 169,
      "outputs": []
    },
    {
      "cell_type": "code",
      "source": [
        "len(data)"
      ],
      "metadata": {
        "id": "mUDc7Ke_RHp0",
        "outputId": "9c2a346e-53ac-4ed7-9702-76984a8d57a9",
        "colab": {
          "base_uri": "https://localhost:8080/",
          "height": 165
        }
      },
      "execution_count": 176,
      "outputs": [
        {
          "output_type": "error",
          "ename": "TypeError",
          "evalue": "ignored",
          "traceback": [
            "\u001b[0;31m---------------------------------------------------------------------------\u001b[0m",
            "\u001b[0;31mTypeError\u001b[0m                                 Traceback (most recent call last)",
            "\u001b[0;32m<ipython-input-176-c6201f8cef64>\u001b[0m in \u001b[0;36m<module>\u001b[0;34m\u001b[0m\n\u001b[0;32m----> 1\u001b[0;31m \u001b[0mlen\u001b[0m\u001b[0;34m(\u001b[0m\u001b[0mdata\u001b[0m\u001b[0;34m)\u001b[0m\u001b[0;34m\u001b[0m\u001b[0;34m\u001b[0m\u001b[0m\n\u001b[0m",
            "\u001b[0;31mTypeError\u001b[0m: object of type 'RDD' has no len()"
          ]
        }
      ]
    },
    {
      "cell_type": "code",
      "source": [
        "list(enumerate(i))"
      ],
      "metadata": {
        "id": "sC1KDrXoRHsV",
        "outputId": "09ce6254-1d2c-497c-85eb-1a621d834091",
        "colab": {
          "base_uri": "https://localhost:8080/"
        }
      },
      "execution_count": 175,
      "outputs": [
        {
          "output_type": "execute_result",
          "data": {
            "text/plain": [
              "[(0,\n",
              "  Row(_c0='0.20911661935761688', _c1='0.8034536868534753', _c2='-2.2471994737958556')),\n",
              " (1,\n",
              "  Row(_c0='-0.9048767137948119', _c1='-0.7325633722232237', _c2='1.7067236768081233')),\n",
              " (2,\n",
              "  Row(_c0='-1.0724449200629798', _c1='-0.9596478121306025', _c2='2.5516317919736653')),\n",
              " (3,\n",
              "  Row(_c0='-0.8709142168867413', _c1='-0.7266900704733261', _c2='1.663722404935637')),\n",
              " (4,\n",
              "  Row(_c0='0.4751726083248517', _c1='0.20046240847502014', _c2='-2.125526904652317')),\n",
              " (5,\n",
              "  Row(_c0='0.28855018591980675', _c1='0.17675364384827436', _c2='-1.6901438271440448')),\n",
              " (6,\n",
              "  Row(_c0='-0.7809856889362151', _c1='-0.672021512630491', _c2='1.3363035540723687')),\n",
              " (7,\n",
              "  Row(_c0='0.5881793649500608', _c1='-0.4801790084739237', _c2='-1.8891424853657102')),\n",
              " (8,\n",
              "  Row(_c0='-0.1955773138085697', _c1='-0.6937897097329665', _c2='-0.41393203598720907')),\n",
              " (9,\n",
              "  Row(_c0='-0.043057831368883304', _c1='-0.4684233535092208', _c2='-1.0246034558503434'))]"
            ]
          },
          "metadata": {},
          "execution_count": 175
        }
      ]
    },
    {
      "cell_type": "code",
      "source": [],
      "metadata": {
        "id": "w3xn2U6NRHvI"
      },
      "execution_count": null,
      "outputs": []
    },
    {
      "cell_type": "code",
      "source": [],
      "metadata": {
        "id": "lVyLwbBxRHxx"
      },
      "execution_count": null,
      "outputs": []
    },
    {
      "cell_type": "code",
      "source": [],
      "metadata": {
        "id": "SIibe_MWRH0i"
      },
      "execution_count": null,
      "outputs": []
    },
    {
      "cell_type": "code",
      "source": [],
      "metadata": {
        "id": "tIsoIHnVRH29"
      },
      "execution_count": null,
      "outputs": []
    },
    {
      "cell_type": "code",
      "source": [],
      "metadata": {
        "id": "v5Rr-w6fRH5v"
      },
      "execution_count": null,
      "outputs": []
    },
    {
      "cell_type": "code",
      "source": [],
      "metadata": {
        "id": "14j6myFuRH9E"
      },
      "execution_count": null,
      "outputs": []
    },
    {
      "cell_type": "code",
      "source": [],
      "metadata": {
        "id": "PapqjXTXRH_X"
      },
      "execution_count": null,
      "outputs": []
    },
    {
      "cell_type": "code",
      "source": [],
      "metadata": {
        "id": "p0UMYslgRIC9"
      },
      "execution_count": null,
      "outputs": []
    },
    {
      "cell_type": "code",
      "source": [],
      "metadata": {
        "id": "Q_xoeR8DRIE9"
      },
      "execution_count": null,
      "outputs": []
    },
    {
      "cell_type": "code",
      "source": [],
      "metadata": {
        "id": "6c_IxnD_RIH_"
      },
      "execution_count": null,
      "outputs": []
    },
    {
      "cell_type": "code",
      "source": [],
      "metadata": {
        "id": "M7gqYCs2RILX"
      },
      "execution_count": null,
      "outputs": []
    },
    {
      "cell_type": "markdown",
      "source": [
        "# Algorithmic Question"
      ],
      "metadata": {
        "id": "mT6m6-LCUeUP"
      }
    },
    {
      "cell_type": "markdown",
      "source": [
        "E = entrances, S = students, G = guards"
      ],
      "metadata": {
        "id": "nz-DkhjPWiBb"
      }
    },
    {
      "cell_type": "code",
      "source": [
        "def algoQuest(E, S, G, students):\n",
        "  guards = 1\n",
        "  for i in range(1, len(students)):\n",
        "    if (students[i] != students[i-1]) and (students[i] not in students[:i]):  \n",
        "        if students[i-1] in students[i+1:]:\n",
        "            guards += 1\n",
        "  if guards <= G:\n",
        "    print('Yes.')\n",
        "  else:\n",
        "    print('No.')"
      ],
      "metadata": {
        "id": "LNwfZo1HVhq2"
      },
      "execution_count": 71,
      "outputs": []
    },
    {
      "cell_type": "markdown",
      "source": [
        "## Input 1"
      ],
      "metadata": {
        "id": "ZQTDb1ZMWuj5"
      }
    },
    {
      "cell_type": "code",
      "source": [
        "E1, S1, G1 = list(map(int, input().split()))\n",
        "students1 = list(map(int, input().split()))"
      ],
      "metadata": {
        "colab": {
          "base_uri": "https://localhost:8080/"
        },
        "id": "XGuBH3oGV0YT",
        "outputId": "27dc1992-3230-479f-dd0a-cf3dac430914"
      },
      "execution_count": 72,
      "outputs": [
        {
          "name": "stdout",
          "output_type": "stream",
          "text": [
            "4 5 1\n",
            "1 1 3 3 3\n"
          ]
        }
      ]
    },
    {
      "cell_type": "code",
      "source": [
        "algoQuest(E1, S1, G1, students1)"
      ],
      "metadata": {
        "colab": {
          "base_uri": "https://localhost:8080/"
        },
        "id": "fvEeoL1sV1wS",
        "outputId": "a56483de-8f86-43cc-98d0-42c29b9d765a"
      },
      "execution_count": 73,
      "outputs": [
        {
          "output_type": "stream",
          "name": "stdout",
          "text": [
            "Yes.\n"
          ]
        }
      ]
    },
    {
      "cell_type": "markdown",
      "source": [
        "## Input 2"
      ],
      "metadata": {
        "id": "m9GhRYBzWya6"
      }
    },
    {
      "cell_type": "code",
      "source": [
        "E2, S2, G2 = list(map(int, input().split()))\n",
        "students2 = list(map(int, input().split()))"
      ],
      "metadata": {
        "colab": {
          "base_uri": "https://localhost:8080/"
        },
        "id": "VMEmId0XWMxb",
        "outputId": "2672d3b1-ee26-4437-cca2-5cb21d0b208b"
      },
      "execution_count": null,
      "outputs": [
        {
          "name": "stdout",
          "output_type": "stream",
          "text": [
            "2 5 1\n",
            "1 2 1 2 2\n"
          ]
        }
      ]
    },
    {
      "cell_type": "code",
      "source": [
        "algoQuest(E2, S2, G2, students2)"
      ],
      "metadata": {
        "colab": {
          "base_uri": "https://localhost:8080/"
        },
        "id": "yrsGh_oiWC75",
        "outputId": "1428de8c-b438-4434-c5fd-ee1ee93af039"
      },
      "execution_count": null,
      "outputs": [
        {
          "output_type": "stream",
          "name": "stdout",
          "text": [
            "No.\n"
          ]
        }
      ]
    }
  ]
}