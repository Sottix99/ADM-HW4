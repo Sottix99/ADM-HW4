{
  "nbformat": 4,
  "nbformat_minor": 0,
  "metadata": {
    "colab": {
      "provenance": [],
      "collapsed_sections": [
        "Zj6S-31pwViL"
      ]
    },
    "kernelspec": {
      "name": "python3",
      "display_name": "Python 3"
    },
    "language_info": {
      "name": "python"
    }
  },
  "cells": [
    {
      "cell_type": "markdown",
      "source": [
        "# Load"
      ],
      "metadata": {
        "id": "vppMVOUFujHs"
      }
    },
    {
      "cell_type": "code",
      "execution_count": 2,
      "metadata": {
        "id": "c_eOQoqVtltJ"
      },
      "outputs": [],
      "source": [
        "%%capture\n",
        "import numpy as np\n",
        "import pandas as pd \n",
        "from tqdm import tqdm\n",
        "import matplotlib.pyplot as plt\n",
        "import time\n",
        "import csv\n",
        "import os\n",
        "import missingno as msno\n",
        "from collections import Counter\n",
        "from datetime import datetime\n",
        "from scipy.cluster.hierarchy import dendrogram, linkage\n",
        "from collections import defaultdict\n",
        "import statistics\n",
        "from sklearn.decomposition import PCA\n",
        "from sklearn.preprocessing import Normalizer, StandardScaler\n",
        "from sklearn import preprocessing\n",
        "import plotly.express as px\n",
        "import seaborn as sns"
      ]
    },
    {
      "cell_type": "code",
      "source": [
        "from google.colab import drive\n",
        "drive.mount('/content/drive')"
      ],
      "metadata": {
        "colab": {
          "base_uri": "https://localhost:8080/"
        },
        "id": "HXNW7Qhmt08y",
        "outputId": "208caca6-cfa6-4bd0-9938-c3ac75db74f5"
      },
      "execution_count": 3,
      "outputs": [
        {
          "output_type": "stream",
          "name": "stdout",
          "text": [
            "Mounted at /content/drive\n"
          ]
        }
      ]
    },
    {
      "cell_type": "markdown",
      "source": [
        "# 1 Finding Similar Costumers"
      ],
      "metadata": {
        "id": "1xq-qJ_8uqzK"
      }
    },
    {
      "cell_type": "markdown",
      "source": [
        "## 1.1 Set up the data"
      ],
      "metadata": {
        "id": "M_6BeDFKuy6l"
      }
    },
    {
      "cell_type": "markdown",
      "source": [
        "First, we load the dataset"
      ],
      "metadata": {
        "id": "XgTVJAEbLifV"
      }
    },
    {
      "cell_type": "code",
      "source": [
        "df_bank = pd.read_csv(r'/content/drive/MyDrive/adm hw4/bank_transactions.csv')"
      ],
      "metadata": {
        "id": "Gmz1KD_aLifc"
      },
      "execution_count": null,
      "outputs": []
    },
    {
      "cell_type": "code",
      "source": [
        "df_bank.head()"
      ],
      "metadata": {
        "colab": {
          "base_uri": "https://localhost:8080/",
          "height": 206
        },
        "id": "Tg--koIjuUHG",
        "outputId": "f69b3657-90fa-4d65-d127-d57a875dbb96"
      },
      "execution_count": null,
      "outputs": [
        {
          "output_type": "execute_result",
          "data": {
            "text/plain": [
              "  TransactionID CustomerID CustomerDOB CustGender CustLocation  \\\n",
              "0            T1   C5841053     10/1/94          F   JAMSHEDPUR   \n",
              "1            T2   C2142763      4/4/57          M      JHAJJAR   \n",
              "2            T3   C4417068    26/11/96          F       MUMBAI   \n",
              "3            T4   C5342380     14/9/73          F       MUMBAI   \n",
              "4            T5   C9031234     24/3/88          F  NAVI MUMBAI   \n",
              "\n",
              "   CustAccountBalance TransactionDate  TransactionTime  \\\n",
              "0            17819.05          2/8/16           143207   \n",
              "1             2270.69          2/8/16           141858   \n",
              "2            17874.44          2/8/16           142712   \n",
              "3           866503.21          2/8/16           142714   \n",
              "4             6714.43          2/8/16           181156   \n",
              "\n",
              "   TransactionAmount (INR)  \n",
              "0                     25.0  \n",
              "1                  27999.0  \n",
              "2                    459.0  \n",
              "3                   2060.0  \n",
              "4                   1762.5  "
            ],
            "text/html": [
              "\n",
              "  <div id=\"df-3e990654-85dd-4c10-96e0-f65ef67fbbe2\">\n",
              "    <div class=\"colab-df-container\">\n",
              "      <div>\n",
              "<style scoped>\n",
              "    .dataframe tbody tr th:only-of-type {\n",
              "        vertical-align: middle;\n",
              "    }\n",
              "\n",
              "    .dataframe tbody tr th {\n",
              "        vertical-align: top;\n",
              "    }\n",
              "\n",
              "    .dataframe thead th {\n",
              "        text-align: right;\n",
              "    }\n",
              "</style>\n",
              "<table border=\"1\" class=\"dataframe\">\n",
              "  <thead>\n",
              "    <tr style=\"text-align: right;\">\n",
              "      <th></th>\n",
              "      <th>TransactionID</th>\n",
              "      <th>CustomerID</th>\n",
              "      <th>CustomerDOB</th>\n",
              "      <th>CustGender</th>\n",
              "      <th>CustLocation</th>\n",
              "      <th>CustAccountBalance</th>\n",
              "      <th>TransactionDate</th>\n",
              "      <th>TransactionTime</th>\n",
              "      <th>TransactionAmount (INR)</th>\n",
              "    </tr>\n",
              "  </thead>\n",
              "  <tbody>\n",
              "    <tr>\n",
              "      <th>0</th>\n",
              "      <td>T1</td>\n",
              "      <td>C5841053</td>\n",
              "      <td>10/1/94</td>\n",
              "      <td>F</td>\n",
              "      <td>JAMSHEDPUR</td>\n",
              "      <td>17819.05</td>\n",
              "      <td>2/8/16</td>\n",
              "      <td>143207</td>\n",
              "      <td>25.0</td>\n",
              "    </tr>\n",
              "    <tr>\n",
              "      <th>1</th>\n",
              "      <td>T2</td>\n",
              "      <td>C2142763</td>\n",
              "      <td>4/4/57</td>\n",
              "      <td>M</td>\n",
              "      <td>JHAJJAR</td>\n",
              "      <td>2270.69</td>\n",
              "      <td>2/8/16</td>\n",
              "      <td>141858</td>\n",
              "      <td>27999.0</td>\n",
              "    </tr>\n",
              "    <tr>\n",
              "      <th>2</th>\n",
              "      <td>T3</td>\n",
              "      <td>C4417068</td>\n",
              "      <td>26/11/96</td>\n",
              "      <td>F</td>\n",
              "      <td>MUMBAI</td>\n",
              "      <td>17874.44</td>\n",
              "      <td>2/8/16</td>\n",
              "      <td>142712</td>\n",
              "      <td>459.0</td>\n",
              "    </tr>\n",
              "    <tr>\n",
              "      <th>3</th>\n",
              "      <td>T4</td>\n",
              "      <td>C5342380</td>\n",
              "      <td>14/9/73</td>\n",
              "      <td>F</td>\n",
              "      <td>MUMBAI</td>\n",
              "      <td>866503.21</td>\n",
              "      <td>2/8/16</td>\n",
              "      <td>142714</td>\n",
              "      <td>2060.0</td>\n",
              "    </tr>\n",
              "    <tr>\n",
              "      <th>4</th>\n",
              "      <td>T5</td>\n",
              "      <td>C9031234</td>\n",
              "      <td>24/3/88</td>\n",
              "      <td>F</td>\n",
              "      <td>NAVI MUMBAI</td>\n",
              "      <td>6714.43</td>\n",
              "      <td>2/8/16</td>\n",
              "      <td>181156</td>\n",
              "      <td>1762.5</td>\n",
              "    </tr>\n",
              "  </tbody>\n",
              "</table>\n",
              "</div>\n",
              "      <button class=\"colab-df-convert\" onclick=\"convertToInteractive('df-3e990654-85dd-4c10-96e0-f65ef67fbbe2')\"\n",
              "              title=\"Convert this dataframe to an interactive table.\"\n",
              "              style=\"display:none;\">\n",
              "        \n",
              "  <svg xmlns=\"http://www.w3.org/2000/svg\" height=\"24px\"viewBox=\"0 0 24 24\"\n",
              "       width=\"24px\">\n",
              "    <path d=\"M0 0h24v24H0V0z\" fill=\"none\"/>\n",
              "    <path d=\"M18.56 5.44l.94 2.06.94-2.06 2.06-.94-2.06-.94-.94-2.06-.94 2.06-2.06.94zm-11 1L8.5 8.5l.94-2.06 2.06-.94-2.06-.94L8.5 2.5l-.94 2.06-2.06.94zm10 10l.94 2.06.94-2.06 2.06-.94-2.06-.94-.94-2.06-.94 2.06-2.06.94z\"/><path d=\"M17.41 7.96l-1.37-1.37c-.4-.4-.92-.59-1.43-.59-.52 0-1.04.2-1.43.59L10.3 9.45l-7.72 7.72c-.78.78-.78 2.05 0 2.83L4 21.41c.39.39.9.59 1.41.59.51 0 1.02-.2 1.41-.59l7.78-7.78 2.81-2.81c.8-.78.8-2.07 0-2.86zM5.41 20L4 18.59l7.72-7.72 1.47 1.35L5.41 20z\"/>\n",
              "  </svg>\n",
              "      </button>\n",
              "      \n",
              "  <style>\n",
              "    .colab-df-container {\n",
              "      display:flex;\n",
              "      flex-wrap:wrap;\n",
              "      gap: 12px;\n",
              "    }\n",
              "\n",
              "    .colab-df-convert {\n",
              "      background-color: #E8F0FE;\n",
              "      border: none;\n",
              "      border-radius: 50%;\n",
              "      cursor: pointer;\n",
              "      display: none;\n",
              "      fill: #1967D2;\n",
              "      height: 32px;\n",
              "      padding: 0 0 0 0;\n",
              "      width: 32px;\n",
              "    }\n",
              "\n",
              "    .colab-df-convert:hover {\n",
              "      background-color: #E2EBFA;\n",
              "      box-shadow: 0px 1px 2px rgba(60, 64, 67, 0.3), 0px 1px 3px 1px rgba(60, 64, 67, 0.15);\n",
              "      fill: #174EA6;\n",
              "    }\n",
              "\n",
              "    [theme=dark] .colab-df-convert {\n",
              "      background-color: #3B4455;\n",
              "      fill: #D2E3FC;\n",
              "    }\n",
              "\n",
              "    [theme=dark] .colab-df-convert:hover {\n",
              "      background-color: #434B5C;\n",
              "      box-shadow: 0px 1px 3px 1px rgba(0, 0, 0, 0.15);\n",
              "      filter: drop-shadow(0px 1px 2px rgba(0, 0, 0, 0.3));\n",
              "      fill: #FFFFFF;\n",
              "    }\n",
              "  </style>\n",
              "\n",
              "      <script>\n",
              "        const buttonEl =\n",
              "          document.querySelector('#df-3e990654-85dd-4c10-96e0-f65ef67fbbe2 button.colab-df-convert');\n",
              "        buttonEl.style.display =\n",
              "          google.colab.kernel.accessAllowed ? 'block' : 'none';\n",
              "\n",
              "        async function convertToInteractive(key) {\n",
              "          const element = document.querySelector('#df-3e990654-85dd-4c10-96e0-f65ef67fbbe2');\n",
              "          const dataTable =\n",
              "            await google.colab.kernel.invokeFunction('convertToInteractive',\n",
              "                                                     [key], {});\n",
              "          if (!dataTable) return;\n",
              "\n",
              "          const docLinkHtml = 'Like what you see? Visit the ' +\n",
              "            '<a target=\"_blank\" href=https://colab.research.google.com/notebooks/data_table.ipynb>data table notebook</a>'\n",
              "            + ' to learn more about interactive tables.';\n",
              "          element.innerHTML = '';\n",
              "          dataTable['output_type'] = 'display_data';\n",
              "          await google.colab.output.renderOutput(dataTable, element);\n",
              "          const docLink = document.createElement('div');\n",
              "          docLink.innerHTML = docLinkHtml;\n",
              "          element.appendChild(docLink);\n",
              "        }\n",
              "      </script>\n",
              "    </div>\n",
              "  </div>\n",
              "  "
            ]
          },
          "metadata": {},
          "execution_count": 4
        }
      ]
    },
    {
      "cell_type": "markdown",
      "source": [
        "we look for the presence of any null values"
      ],
      "metadata": {
        "id": "7TaxRBWQq5Qc"
      }
    },
    {
      "cell_type": "code",
      "source": [
        "msno.bar(df_bank, color='red')"
      ],
      "metadata": {
        "colab": {
          "base_uri": "https://localhost:8080/",
          "height": 819
        },
        "id": "gwsIduMOUZ3g",
        "outputId": "5741641d-666a-4642-823c-79ad3dfc8350"
      },
      "execution_count": null,
      "outputs": [
        {
          "output_type": "execute_result",
          "data": {
            "text/plain": [
              "<matplotlib.axes._subplots.AxesSubplot at 0x7f40da5a2c70>"
            ]
          },
          "metadata": {},
          "execution_count": 5
        },
        {
          "output_type": "display_data",
          "data": {
            "text/plain": [
              "<Figure size 1800x720 with 3 Axes>"
            ],
            "image/png": "[encoded data removed]"
          },
          "metadata": {
            "needs_background": "light"
          }
        }
      ]
    },
    {
      "cell_type": "markdown",
      "source": [
        "Some variables like `CustomerDOB`, `CustGender`, `CustLocation` and `CustAccountBalance` have some null values"
      ],
      "metadata": {
        "id": "QGggQQelrCFR"
      }
    },
    {
      "cell_type": "code",
      "source": [
        "#drop nas\n",
        "df_bank.dropna(inplace=True) \n",
        "\n",
        "# change format of the date\n",
        "df_bank.CustomerDOB = pd.to_datetime(df_bank.CustomerDOB)\n",
        "df_bank.loc[df_bank['CustomerDOB'].dt.year >= 2022, ['CustomerDOB']] -= pd.DateOffset(years = 100)\n",
        "\n",
        "# change format of TransactionDate\n",
        "df_bank['TransactionDate'] = pd.to_datetime(df_bank['TransactionDate'])\n",
        "\n",
        "# change format of TransactionTime\n",
        "df_bank.TransactionTime = df_bank.TransactionTime.apply(lambda x: datetime.strptime(str(x).zfill(6), '%H%M%S').time())\n",
        "\n",
        "# drop year = 1800\n",
        "df_bank.drop(df_bank[df_bank.CustomerDOB.dt.year == 1800].index, axis=0, inplace=True)"
      ],
      "metadata": {
        "id": "DoCBzoleLyO9"
      },
      "execution_count": null,
      "outputs": []
    },
    {
      "cell_type": "code",
      "source": [
        "# change the type of TransactionAmount (INR)\n",
        "df_bank['TransactionAmount (INR)'] = df_bank['TransactionAmount (INR)'].astype(int)"
      ],
      "metadata": {
        "id": "1yxW75P-LyO9"
      },
      "execution_count": null,
      "outputs": []
    },
    {
      "cell_type": "code",
      "source": [
        "# we notice that there is row in which a gender is equal to T, so we decided to drop it\n",
        "df_bank.drop(df_bank[df_bank['CustGender'].isin(['T'])].index,axis=0,inplace=True)"
      ],
      "metadata": {
        "id": "HvkvW0vYLyO-"
      },
      "execution_count": null,
      "outputs": []
    },
    {
      "cell_type": "code",
      "source": [
        "df_bank.head()"
      ],
      "metadata": {
        "colab": {
          "base_uri": "https://localhost:8080/",
          "height": 206
        },
        "id": "amQp7LhaMy7O",
        "outputId": "e3ea7f89-a8cb-4625-f7c8-83f083515c48"
      },
      "execution_count": null,
      "outputs": [
        {
          "output_type": "execute_result",
          "data": {
            "text/plain": [
              "  TransactionID CustomerID CustomerDOB CustGender CustLocation  \\\n",
              "0            T1   C5841053  1994-10-01          F   JAMSHEDPUR   \n",
              "1            T2   C2142763  1957-04-04          M      JHAJJAR   \n",
              "2            T3   C4417068  1996-11-26          F       MUMBAI   \n",
              "3            T4   C5342380  1973-09-14          F       MUMBAI   \n",
              "4            T5   C9031234  1988-03-24          F  NAVI MUMBAI   \n",
              "\n",
              "   CustAccountBalance TransactionDate TransactionTime  TransactionAmount (INR)  \n",
              "0            17819.05      2016-02-08        14:32:07                       25  \n",
              "1             2270.69      2016-02-08        14:18:58                    27999  \n",
              "2            17874.44      2016-02-08        14:27:12                      459  \n",
              "3           866503.21      2016-02-08        14:27:14                     2060  \n",
              "4             6714.43      2016-02-08        18:11:56                     1762  "
            ],
            "text/html": [
              "\n",
              "  <div id=\"df-41c07a4c-1502-416f-8a05-f3a5685250ed\">\n",
              "    <div class=\"colab-df-container\">\n",
              "      <div>\n",
              "<style scoped>\n",
              "    .dataframe tbody tr th:only-of-type {\n",
              "        vertical-align: middle;\n",
              "    }\n",
              "\n",
              "    .dataframe tbody tr th {\n",
              "        vertical-align: top;\n",
              "    }\n",
              "\n",
              "    .dataframe thead th {\n",
              "        text-align: right;\n",
              "    }\n",
              "</style>\n",
              "<table border=\"1\" class=\"dataframe\">\n",
              "  <thead>\n",
              "    <tr style=\"text-align: right;\">\n",
              "      <th></th>\n",
              "      <th>TransactionID</th>\n",
              "      <th>CustomerID</th>\n",
              "      <th>CustomerDOB</th>\n",
              "      <th>CustGender</th>\n",
              "      <th>CustLocation</th>\n",
              "      <th>CustAccountBalance</th>\n",
              "      <th>TransactionDate</th>\n",
              "      <th>TransactionTime</th>\n",
              "      <th>TransactionAmount (INR)</th>\n",
              "    </tr>\n",
              "  </thead>\n",
              "  <tbody>\n",
              "    <tr>\n",
              "      <th>0</th>\n",
              "      <td>T1</td>\n",
              "      <td>C5841053</td>\n",
              "      <td>1994-10-01</td>\n",
              "      <td>F</td>\n",
              "      <td>JAMSHEDPUR</td>\n",
              "      <td>17819.05</td>\n",
              "      <td>2016-02-08</td>\n",
              "      <td>14:32:07</td>\n",
              "      <td>25</td>\n",
              "    </tr>\n",
              "    <tr>\n",
              "      <th>1</th>\n",
              "      <td>T2</td>\n",
              "      <td>C2142763</td>\n",
              "      <td>1957-04-04</td>\n",
              "      <td>M</td>\n",
              "      <td>JHAJJAR</td>\n",
              "      <td>2270.69</td>\n",
              "      <td>2016-02-08</td>\n",
              "      <td>14:18:58</td>\n",
              "      <td>27999</td>\n",
              "    </tr>\n",
              "    <tr>\n",
              "      <th>2</th>\n",
              "      <td>T3</td>\n",
              "      <td>C4417068</td>\n",
              "      <td>1996-11-26</td>\n",
              "      <td>F</td>\n",
              "      <td>MUMBAI</td>\n",
              "      <td>17874.44</td>\n",
              "      <td>2016-02-08</td>\n",
              "      <td>14:27:12</td>\n",
              "      <td>459</td>\n",
              "    </tr>\n",
              "    <tr>\n",
              "      <th>3</th>\n",
              "      <td>T4</td>\n",
              "      <td>C5342380</td>\n",
              "      <td>1973-09-14</td>\n",
              "      <td>F</td>\n",
              "      <td>MUMBAI</td>\n",
              "      <td>866503.21</td>\n",
              "      <td>2016-02-08</td>\n",
              "      <td>14:27:14</td>\n",
              "      <td>2060</td>\n",
              "    </tr>\n",
              "    <tr>\n",
              "      <th>4</th>\n",
              "      <td>T5</td>\n",
              "      <td>C9031234</td>\n",
              "      <td>1988-03-24</td>\n",
              "      <td>F</td>\n",
              "      <td>NAVI MUMBAI</td>\n",
              "      <td>6714.43</td>\n",
              "      <td>2016-02-08</td>\n",
              "      <td>18:11:56</td>\n",
              "      <td>1762</td>\n",
              "    </tr>\n",
              "  </tbody>\n",
              "</table>\n",
              "</div>\n",
              "      <button class=\"colab-df-convert\" onclick=\"convertToInteractive('df-41c07a4c-1502-416f-8a05-f3a5685250ed')\"\n",
              "              title=\"Convert this dataframe to an interactive table.\"\n",
              "              style=\"display:none;\">\n",
              "        \n",
              "  <svg xmlns=\"http://www.w3.org/2000/svg\" height=\"24px\"viewBox=\"0 0 24 24\"\n",
              "       width=\"24px\">\n",
              "    <path d=\"M0 0h24v24H0V0z\" fill=\"none\"/>\n",
              "    <path d=\"M18.56 5.44l.94 2.06.94-2.06 2.06-.94-2.06-.94-.94-2.06-.94 2.06-2.06.94zm-11 1L8.5 8.5l.94-2.06 2.06-.94-2.06-.94L8.5 2.5l-.94 2.06-2.06.94zm10 10l.94 2.06.94-2.06 2.06-.94-2.06-.94-.94-2.06-.94 2.06-2.06.94z\"/><path d=\"M17.41 7.96l-1.37-1.37c-.4-.4-.92-.59-1.43-.59-.52 0-1.04.2-1.43.59L10.3 9.45l-7.72 7.72c-.78.78-.78 2.05 0 2.83L4 21.41c.39.39.9.59 1.41.59.51 0 1.02-.2 1.41-.59l7.78-7.78 2.81-2.81c.8-.78.8-2.07 0-2.86zM5.41 20L4 18.59l7.72-7.72 1.47 1.35L5.41 20z\"/>\n",
              "  </svg>\n",
              "      </button>\n",
              "      \n",
              "  <style>\n",
              "    .colab-df-container {\n",
              "      display:flex;\n",
              "      flex-wrap:wrap;\n",
              "      gap: 12px;\n",
              "    }\n",
              "\n",
              "    .colab-df-convert {\n",
              "      background-color: #E8F0FE;\n",
              "      border: none;\n",
              "      border-radius: 50%;\n",
              "      cursor: pointer;\n",
              "      display: none;\n",
              "      fill: #1967D2;\n",
              "      height: 32px;\n",
              "      padding: 0 0 0 0;\n",
              "      width: 32px;\n",
              "    }\n",
              "\n",
              "    .colab-df-convert:hover {\n",
              "      background-color: #E2EBFA;\n",
              "      box-shadow: 0px 1px 2px rgba(60, 64, 67, 0.3), 0px 1px 3px 1px rgba(60, 64, 67, 0.15);\n",
              "      fill: #174EA6;\n",
              "    }\n",
              "\n",
              "    [theme=dark] .colab-df-convert {\n",
              "      background-color: #3B4455;\n",
              "      fill: #D2E3FC;\n",
              "    }\n",
              "\n",
              "    [theme=dark] .colab-df-convert:hover {\n",
              "      background-color: #434B5C;\n",
              "      box-shadow: 0px 1px 3px 1px rgba(0, 0, 0, 0.15);\n",
              "      filter: drop-shadow(0px 1px 2px rgba(0, 0, 0, 0.3));\n",
              "      fill: #FFFFFF;\n",
              "    }\n",
              "  </style>\n",
              "\n",
              "      <script>\n",
              "        const buttonEl =\n",
              "          document.querySelector('#df-41c07a4c-1502-416f-8a05-f3a5685250ed button.colab-df-convert');\n",
              "        buttonEl.style.display =\n",
              "          google.colab.kernel.accessAllowed ? 'block' : 'none';\n",
              "\n",
              "        async function convertToInteractive(key) {\n",
              "          const element = document.querySelector('#df-41c07a4c-1502-416f-8a05-f3a5685250ed');\n",
              "          const dataTable =\n",
              "            await google.colab.kernel.invokeFunction('convertToInteractive',\n",
              "                                                     [key], {});\n",
              "          if (!dataTable) return;\n",
              "\n",
              "          const docLinkHtml = 'Like what you see? Visit the ' +\n",
              "            '<a target=\"_blank\" href=https://colab.research.google.com/notebooks/data_table.ipynb>data table notebook</a>'\n",
              "            + ' to learn more about interactive tables.';\n",
              "          element.innerHTML = '';\n",
              "          dataTable['output_type'] = 'display_data';\n",
              "          await google.colab.output.renderOutput(dataTable, element);\n",
              "          const docLink = document.createElement('div');\n",
              "          docLink.innerHTML = docLinkHtml;\n",
              "          element.appendChild(docLink);\n",
              "        }\n",
              "      </script>\n",
              "    </div>\n",
              "  </div>\n",
              "  "
            ]
          },
          "metadata": {},
          "execution_count": 9
        }
      ]
    },
    {
      "cell_type": "code",
      "source": [
        "df_bank.info()"
      ],
      "metadata": {
        "colab": {
          "base_uri": "https://localhost:8080/"
        },
        "id": "2nfQ0F-JPHAA",
        "outputId": "4d69be38-0b25-4392-8950-1fc99136777b"
      },
      "execution_count": null,
      "outputs": [
        {
          "output_type": "stream",
          "name": "stdout",
          "text": [
            "<class 'pandas.core.frame.DataFrame'>\n",
            "Int64Index: 985322 entries, 0 to 1048566\n",
            "Data columns (total 9 columns):\n",
            " #   Column                   Non-Null Count   Dtype         \n",
            "---  ------                   --------------   -----         \n",
            " 0   TransactionID            985322 non-null  object        \n",
            " 1   CustomerID               985322 non-null  object        \n",
            " 2   CustomerDOB              985322 non-null  datetime64[ns]\n",
            " 3   CustGender               985322 non-null  object        \n",
            " 4   CustLocation             985322 non-null  object        \n",
            " 5   CustAccountBalance       985322 non-null  float64       \n",
            " 6   TransactionDate          985322 non-null  datetime64[ns]\n",
            " 7   TransactionTime          985322 non-null  object        \n",
            " 8   TransactionAmount (INR)  985322 non-null  int64         \n",
            "dtypes: datetime64[ns](2), float64(1), int64(1), object(5)\n",
            "memory usage: 107.4+ MB\n"
          ]
        }
      ]
    },
    {
      "cell_type": "markdown",
      "source": [
        "Now the df is clean"
      ],
      "metadata": {
        "id": "bE8CsZZtnd5t"
      }
    },
    {
      "cell_type": "markdown",
      "source": [
        "We decided to store the cleaned dataset in our drive folder to avoid the clean procedure again"
      ],
      "metadata": {
        "id": "DajgCPKPLyO-"
      }
    },
    {
      "cell_type": "code",
      "source": [
        "df_bank.to_csv('/content/drive/MyDrive/adm hw4/df_cleaned.csv', index=False)"
      ],
      "metadata": {
        "id": "jjwUdeVmLyO-"
      },
      "execution_count": null,
      "outputs": []
    },
    {
      "cell_type": "code",
      "source": [
        "df_bank = pd.read_csv(r'/content/drive/MyDrive/adm hw4/df_cleaned.csv')"
      ],
      "metadata": {
        "id": "Bjb5Vrw66dDB"
      },
      "execution_count": null,
      "outputs": []
    },
    {
      "cell_type": "markdown",
      "source": [
        "We create the Age column "
      ],
      "metadata": {
        "id": "3lCb05TjNDA9"
      }
    },
    {
      "cell_type": "code",
      "source": [
        "df_bank.CustomerDOB = pd.to_datetime(df_bank.CustomerDOB)\n",
        "df_bank['CustomerAge'] = (( pd.to_datetime('today') - df_bank.CustomerDOB ) / np.timedelta64(1, 'Y')).round(0)\n",
        "df_bank['CustomerAge'] = df_bank['CustomerAge'].astype(int)"
      ],
      "metadata": {
        "id": "AFOvGFbPNB_J"
      },
      "execution_count": null,
      "outputs": []
    },
    {
      "cell_type": "markdown",
      "source": [
        "To handle the multiple operations for each custumer ID, we select the mode for the variables regarding the gender and age, instead for  Balance and Transaction amount we use the mean."
      ],
      "metadata": {
        "id": "8_vq52QgKlcM"
      }
    },
    {
      "cell_type": "code",
      "source": [
        "# Mean for Transaction\n",
        "trans = df_bank[['CustomerID', 'TransactionAmount (INR)']].groupby(by = 'CustomerID', as_index = False, sort = False).mean().reset_index()\n",
        "trans = trans.drop(columns = 'index')\n",
        "trans.rename(columns = {'TransactionAmount (INR)' : 'Transaction_Avg'}, inplace = True)\n",
        "df_bank = df_bank.merge(right = trans, on = 'CustomerID')\n",
        "\n",
        "# Mean for Balance\n",
        "bal = df_bank[['CustomerID', 'CustAccountBalance']].groupby(by = 'CustomerID', as_index = False, sort = False).mean().reset_index()\n",
        "bal = bal.drop(columns = 'index')\n",
        "bal.rename(columns = {'CustAccountBalance' : 'Balance_Avg'}, inplace = True)\n",
        "df_bank = df_bank.merge(right = bal, on = 'CustomerID')\n",
        "\n",
        "# Mode for Gender                                                                                                    #if we have two mode, we take the first\n",
        "g=df_bank[['CustomerID', 'CustGender']].groupby(by = 'CustomerID', as_index = False, sort = False)['CustGender'].agg( lambda x: pd.Series.mode(x)[0]).reset_index() \n",
        "g = g.drop(columns = 'index')\n",
        "g.rename(columns = {'CustGender' : 'Gender_Mode'}, inplace = True)\n",
        "df_bank = df_bank.merge(right = g, on = 'CustomerID')\n",
        "\n",
        "# Mode for Age                                                                                                       #if we have two mode, we take the first\n",
        "ag = df_bank[['CustomerID', 'CustomerAge']].groupby(by = 'CustomerID', as_index = False, sort = False)['CustomerAge'].agg( lambda x: pd.Series.mode(x)[0]).reset_index()\n",
        "ag = ag.drop(columns = 'index')\n",
        "ag.rename(columns = {'CustomerAge' : 'Age_Mode'}, inplace = True)\n",
        "df_bank = df_bank.merge(right = ag, on = 'CustomerID')"
      ],
      "metadata": {
        "id": "6_-Cpzz8K9fa"
      },
      "execution_count": null,
      "outputs": []
    },
    {
      "cell_type": "code",
      "source": [
        "df_bank[['CustomerID','Age_Mode','Gender_Mode','Balance_Avg','Transaction_Avg']].nunique()"
      ],
      "metadata": {
        "colab": {
          "base_uri": "https://localhost:8080/"
        },
        "id": "o__YMgMEM4QS",
        "outputId": "d3ae3c35-994a-461d-fe54-32084fd58fdb"
      },
      "execution_count": null,
      "outputs": [
        {
          "output_type": "execute_result",
          "data": {
            "text/plain": [
              "CustomerID         839081\n",
              "Age_Mode               97\n",
              "Gender_Mode             2\n",
              "Balance_Avg        264602\n",
              "Transaction_Avg     27569\n",
              "dtype: int64"
            ]
          },
          "metadata": {},
          "execution_count": 15
        }
      ]
    },
    {
      "cell_type": "markdown",
      "source": [
        "Execpt for `Gender_Mode`, the other variables have too many unique values, we have to divide them into classes, so we create:\n",
        "\n",
        "\n",
        "\n",
        "\n",
        "####1.   `Balance_class`\n",
        "\n"
      ],
      "metadata": {
        "id": "7jjfK0tMNwj5"
      }
    },
    {
      "cell_type": "code",
      "source": [
        "df_bank['Balance_class'] = pd.cut(x=df_bank['Balance_Avg'], bins=[min(df_bank['Balance_Avg'])-1, 1000, 5000, 12000,\n",
        "                                          30000, 120000,max(df_bank['Balance_Avg'])+1])"
      ],
      "metadata": {
        "id": "13Z03ENdBQB4"
      },
      "execution_count": null,
      "outputs": []
    },
    {
      "cell_type": "code",
      "source": [
        "df_bank['Balance_class'].value_counts()"
      ],
      "metadata": {
        "colab": {
          "base_uri": "https://localhost:8080/"
        },
        "id": "bysaloqgVnOl",
        "outputId": "d747ca68-219e-43e6-fd41-9b85bc1f8b78"
      },
      "execution_count": null,
      "outputs": [
        {
          "output_type": "execute_result",
          "data": {
            "text/plain": [
              "(30000.0, 120000.0]        241800\n",
              "(12000.0, 30000.0]         216439\n",
              "(5000.0, 12000.0]          165918\n",
              "(120000.0, 115035496.1]    145669\n",
              "(1000.0, 5000.0]           119677\n",
              "(-1.0, 1000.0]              95819\n",
              "Name: Balance_class, dtype: int64"
            ]
          },
          "metadata": {},
          "execution_count": 17
        }
      ]
    },
    {
      "cell_type": "markdown",
      "source": [
        "####2.  `Transaction_class`"
      ],
      "metadata": {
        "id": "0bsAzKqVOVkp"
      }
    },
    {
      "cell_type": "code",
      "source": [
        "df_bank['Transaction_class']=pd.cut(x=df_bank['Transaction_Avg'], bins=[min(df_bank['Transaction_Avg'])-1,500,1500,\n",
        "                                          7000, 12000,max(df_bank['Transaction_Avg'])+1])"
      ],
      "metadata": {
        "id": "S8aHwA1jJKgA"
      },
      "execution_count": null,
      "outputs": []
    },
    {
      "cell_type": "code",
      "source": [
        "df_bank['Transaction_class'].value_counts()"
      ],
      "metadata": {
        "colab": {
          "base_uri": "https://localhost:8080/"
        },
        "id": "IdL26NxgKEmA",
        "outputId": "1d4131f4-edc3-42e7-8a77-90e7a41046fe"
      },
      "execution_count": null,
      "outputs": [
        {
          "output_type": "execute_result",
          "data": {
            "text/plain": [
              "(-1.0, 500.0]           508892\n",
              "(500.0, 1500.0]         278648\n",
              "(1500.0, 7000.0]        167092\n",
              "(12000.0, 1560035.0]     15403\n",
              "(7000.0, 12000.0]        15287\n",
              "Name: Transaction_class, dtype: int64"
            ]
          },
          "metadata": {},
          "execution_count": 19
        }
      ]
    },
    {
      "cell_type": "markdown",
      "source": [
        "####3. `Generation`\n",
        "\n",
        "\n",
        "\n"
      ],
      "metadata": {
        "id": "oKLGsjtoOqeP"
      }
    },
    {
      "cell_type": "code",
      "source": [
        "df_bank['Generation']=pd.cut(x=df_bank['Age_Mode'], bins=[min(df_bank['Age_Mode'])-1,18,30,\n",
        "                                          50, 75,max(df_bank['Age_Mode'])+1])"
      ],
      "metadata": {
        "id": "FAxL_IRkOp7K"
      },
      "execution_count": null,
      "outputs": []
    },
    {
      "cell_type": "code",
      "source": [
        "df_bank['Generation'].value_counts()"
      ],
      "metadata": {
        "colab": {
          "base_uri": "https://localhost:8080/"
        },
        "id": "0ZkhdGphOzqC",
        "outputId": "4a3fa1a5-b0d6-4257-9708-502de0dc927a"
      },
      "execution_count": null,
      "outputs": [
        {
          "output_type": "execute_result",
          "data": {
            "text/plain": [
              "(30, 50]     712259\n",
              "(18, 30]     213839\n",
              "(50, 75]      55905\n",
              "(75, 101]      2924\n",
              "(1, 18]         395\n",
              "Name: Generation, dtype: int64"
            ]
          },
          "metadata": {},
          "execution_count": 21
        }
      ]
    },
    {
      "cell_type": "markdown",
      "source": [
        "Now that we are done with systemizing the data, let's select only the columns that we think are interesting for our purposes"
      ],
      "metadata": {
        "id": "ndTieTo1Rjh2"
      }
    },
    {
      "cell_type": "code",
      "source": [
        "selected_cols=['CustomerID', 'Generation', 'Transaction_class', 'Balance_class', 'Gender_Mode']"
      ],
      "metadata": {
        "id": "1pjex4MpMOTq"
      },
      "execution_count": null,
      "outputs": []
    },
    {
      "cell_type": "code",
      "source": [
        "d=df_bank[selected_cols]\n",
        "d.drop_duplicates(inplace=True)\n",
        "d.drop('CustomerID', inplace=True, axis=1)\n",
        "d"
      ],
      "metadata": {
        "id": "W0UkGjYKlVSw",
        "colab": {
          "base_uri": "https://localhost:8080/",
          "height": 597
        },
        "outputId": "b01d685a-6ad0-4079-a110-f54cded64373"
      },
      "execution_count": null,
      "outputs": [
        {
          "output_type": "stream",
          "name": "stderr",
          "text": [
            "/usr/local/lib/python3.8/dist-packages/pandas/util/_decorators.py:311: SettingWithCopyWarning: \n",
            "A value is trying to be set on a copy of a slice from a DataFrame\n",
            "\n",
            "See the caveats in the documentation: https://pandas.pydata.org/pandas-docs/stable/user_guide/indexing.html#returning-a-view-versus-a-copy\n",
            "  return func(*args, **kwargs)\n",
            "/usr/local/lib/python3.8/dist-packages/pandas/core/frame.py:4906: SettingWithCopyWarning: \n",
            "A value is trying to be set on a copy of a slice from a DataFrame\n",
            "\n",
            "See the caveats in the documentation: https://pandas.pydata.org/pandas-docs/stable/user_guide/indexing.html#returning-a-view-versus-a-copy\n",
            "  return super().drop(\n"
          ]
        },
        {
          "output_type": "execute_result",
          "data": {
            "text/plain": [
              "       Generation     Transaction_class            Balance_class Gender_Mode\n",
              "0        (18, 30]         (-1.0, 500.0]       (12000.0, 30000.0]           F\n",
              "1        (50, 75]  (12000.0, 1560035.0]         (1000.0, 5000.0]           M\n",
              "2        (18, 30]         (-1.0, 500.0]       (12000.0, 30000.0]           F\n",
              "3        (30, 50]       (500.0, 1500.0]  (120000.0, 115035496.1]           F\n",
              "5        (30, 50]      (1500.0, 7000.0]        (5000.0, 12000.0]           F\n",
              "...           ...                   ...                      ...         ...\n",
              "985317   (30, 50]      (1500.0, 7000.0]           (-1.0, 1000.0]           M\n",
              "985318   (18, 30]       (500.0, 1500.0]         (1000.0, 5000.0]           M\n",
              "985319   (30, 50]       (500.0, 1500.0]        (5000.0, 12000.0]           M\n",
              "985320   (30, 50]         (-1.0, 500.0]       (12000.0, 30000.0]           M\n",
              "985321   (30, 50]       (500.0, 1500.0]        (5000.0, 12000.0]           M\n",
              "\n",
              "[839081 rows x 4 columns]"
            ],
            "text/html": [
              "\n",
              "  <div id=\"df-7a5961ad-f071-46a3-8704-7bdb571e50b7\">\n",
              "    <div class=\"colab-df-container\">\n",
              "      <div>\n",
              "<style scoped>\n",
              "    .dataframe tbody tr th:only-of-type {\n",
              "        vertical-align: middle;\n",
              "    }\n",
              "\n",
              "    .dataframe tbody tr th {\n",
              "        vertical-align: top;\n",
              "    }\n",
              "\n",
              "    .dataframe thead th {\n",
              "        text-align: right;\n",
              "    }\n",
              "</style>\n",
              "<table border=\"1\" class=\"dataframe\">\n",
              "  <thead>\n",
              "    <tr style=\"text-align: right;\">\n",
              "      <th></th>\n",
              "      <th>Generation</th>\n",
              "      <th>Transaction_class</th>\n",
              "      <th>Balance_class</th>\n",
              "      <th>Gender_Mode</th>\n",
              "    </tr>\n",
              "  </thead>\n",
              "  <tbody>\n",
              "    <tr>\n",
              "      <th>0</th>\n",
              "      <td>(18, 30]</td>\n",
              "      <td>(-1.0, 500.0]</td>\n",
              "      <td>(12000.0, 30000.0]</td>\n",
              "      <td>F</td>\n",
              "    </tr>\n",
              "    <tr>\n",
              "      <th>1</th>\n",
              "      <td>(50, 75]</td>\n",
              "      <td>(12000.0, 1560035.0]</td>\n",
              "      <td>(1000.0, 5000.0]</td>\n",
              "      <td>M</td>\n",
              "    </tr>\n",
              "    <tr>\n",
              "      <th>2</th>\n",
              "      <td>(18, 30]</td>\n",
              "      <td>(-1.0, 500.0]</td>\n",
              "      <td>(12000.0, 30000.0]</td>\n",
              "      <td>F</td>\n",
              "    </tr>\n",
              "    <tr>\n",
              "      <th>3</th>\n",
              "      <td>(30, 50]</td>\n",
              "      <td>(500.0, 1500.0]</td>\n",
              "      <td>(120000.0, 115035496.1]</td>\n",
              "      <td>F</td>\n",
              "    </tr>\n",
              "    <tr>\n",
              "      <th>5</th>\n",
              "      <td>(30, 50]</td>\n",
              "      <td>(1500.0, 7000.0]</td>\n",
              "      <td>(5000.0, 12000.0]</td>\n",
              "      <td>F</td>\n",
              "    </tr>\n",
              "    <tr>\n",
              "      <th>...</th>\n",
              "      <td>...</td>\n",
              "      <td>...</td>\n",
              "      <td>...</td>\n",
              "      <td>...</td>\n",
              "    </tr>\n",
              "    <tr>\n",
              "      <th>985317</th>\n",
              "      <td>(30, 50]</td>\n",
              "      <td>(1500.0, 7000.0]</td>\n",
              "      <td>(-1.0, 1000.0]</td>\n",
              "      <td>M</td>\n",
              "    </tr>\n",
              "    <tr>\n",
              "      <th>985318</th>\n",
              "      <td>(18, 30]</td>\n",
              "      <td>(500.0, 1500.0]</td>\n",
              "      <td>(1000.0, 5000.0]</td>\n",
              "      <td>M</td>\n",
              "    </tr>\n",
              "    <tr>\n",
              "      <th>985319</th>\n",
              "      <td>(30, 50]</td>\n",
              "      <td>(500.0, 1500.0]</td>\n",
              "      <td>(5000.0, 12000.0]</td>\n",
              "      <td>M</td>\n",
              "    </tr>\n",
              "    <tr>\n",
              "      <th>985320</th>\n",
              "      <td>(30, 50]</td>\n",
              "      <td>(-1.0, 500.0]</td>\n",
              "      <td>(12000.0, 30000.0]</td>\n",
              "      <td>M</td>\n",
              "    </tr>\n",
              "    <tr>\n",
              "      <th>985321</th>\n",
              "      <td>(30, 50]</td>\n",
              "      <td>(500.0, 1500.0]</td>\n",
              "      <td>(5000.0, 12000.0]</td>\n",
              "      <td>M</td>\n",
              "    </tr>\n",
              "  </tbody>\n",
              "</table>\n",
              "<p>839081 rows × 4 columns</p>\n",
              "</div>\n",
              "      <button class=\"colab-df-convert\" onclick=\"convertToInteractive('df-7a5961ad-f071-46a3-8704-7bdb571e50b7')\"\n",
              "              title=\"Convert this dataframe to an interactive table.\"\n",
              "              style=\"display:none;\">\n",
              "        \n",
              "  <svg xmlns=\"http://www.w3.org/2000/svg\" height=\"24px\"viewBox=\"0 0 24 24\"\n",
              "       width=\"24px\">\n",
              "    <path d=\"M0 0h24v24H0V0z\" fill=\"none\"/>\n",
              "    <path d=\"M18.56 5.44l.94 2.06.94-2.06 2.06-.94-2.06-.94-.94-2.06-.94 2.06-2.06.94zm-11 1L8.5 8.5l.94-2.06 2.06-.94-2.06-.94L8.5 2.5l-.94 2.06-2.06.94zm10 10l.94 2.06.94-2.06 2.06-.94-2.06-.94-.94-2.06-.94 2.06-2.06.94z\"/><path d=\"M17.41 7.96l-1.37-1.37c-.4-.4-.92-.59-1.43-.59-.52 0-1.04.2-1.43.59L10.3 9.45l-7.72 7.72c-.78.78-.78 2.05 0 2.83L4 21.41c.39.39.9.59 1.41.59.51 0 1.02-.2 1.41-.59l7.78-7.78 2.81-2.81c.8-.78.8-2.07 0-2.86zM5.41 20L4 18.59l7.72-7.72 1.47 1.35L5.41 20z\"/>\n",
              "  </svg>\n",
              "      </button>\n",
              "      \n",
              "  <style>\n",
              "    .colab-df-container {\n",
              "      display:flex;\n",
              "      flex-wrap:wrap;\n",
              "      gap: 12px;\n",
              "    }\n",
              "\n",
              "    .colab-df-convert {\n",
              "      background-color: #E8F0FE;\n",
              "      border: none;\n",
              "      border-radius: 50%;\n",
              "      cursor: pointer;\n",
              "      display: none;\n",
              "      fill: #1967D2;\n",
              "      height: 32px;\n",
              "      padding: 0 0 0 0;\n",
              "      width: 32px;\n",
              "    }\n",
              "\n",
              "    .colab-df-convert:hover {\n",
              "      background-color: #E2EBFA;\n",
              "      box-shadow: 0px 1px 2px rgba(60, 64, 67, 0.3), 0px 1px 3px 1px rgba(60, 64, 67, 0.15);\n",
              "      fill: #174EA6;\n",
              "    }\n",
              "\n",
              "    [theme=dark] .colab-df-convert {\n",
              "      background-color: #3B4455;\n",
              "      fill: #D2E3FC;\n",
              "    }\n",
              "\n",
              "    [theme=dark] .colab-df-convert:hover {\n",
              "      background-color: #434B5C;\n",
              "      box-shadow: 0px 1px 3px 1px rgba(0, 0, 0, 0.15);\n",
              "      filter: drop-shadow(0px 1px 2px rgba(0, 0, 0, 0.3));\n",
              "      fill: #FFFFFF;\n",
              "    }\n",
              "  </style>\n",
              "\n",
              "      <script>\n",
              "        const buttonEl =\n",
              "          document.querySelector('#df-7a5961ad-f071-46a3-8704-7bdb571e50b7 button.colab-df-convert');\n",
              "        buttonEl.style.display =\n",
              "          google.colab.kernel.accessAllowed ? 'block' : 'none';\n",
              "\n",
              "        async function convertToInteractive(key) {\n",
              "          const element = document.querySelector('#df-7a5961ad-f071-46a3-8704-7bdb571e50b7');\n",
              "          const dataTable =\n",
              "            await google.colab.kernel.invokeFunction('convertToInteractive',\n",
              "                                                     [key], {});\n",
              "          if (!dataTable) return;\n",
              "\n",
              "          const docLinkHtml = 'Like what you see? Visit the ' +\n",
              "            '<a target=\"_blank\" href=https://colab.research.google.com/notebooks/data_table.ipynb>data table notebook</a>'\n",
              "            + ' to learn more about interactive tables.';\n",
              "          element.innerHTML = '';\n",
              "          dataTable['output_type'] = 'display_data';\n",
              "          await google.colab.output.renderOutput(dataTable, element);\n",
              "          const docLink = document.createElement('div');\n",
              "          docLink.innerHTML = docLinkHtml;\n",
              "          element.appendChild(docLink);\n",
              "        }\n",
              "      </script>\n",
              "    </div>\n",
              "  </div>\n",
              "  "
            ]
          },
          "metadata": {},
          "execution_count": 23
        }
      ]
    },
    {
      "cell_type": "code",
      "source": [
        "d.to_csv('/content/drive/MyDrive/adm hw4/df_for1_2.csv', index=False)"
      ],
      "metadata": {
        "id": "ZfBAu_V5QvOC"
      },
      "execution_count": null,
      "outputs": []
    },
    {
      "cell_type": "code",
      "source": [
        "d.isnull().sum()"
      ],
      "metadata": {
        "colab": {
          "base_uri": "https://localhost:8080/"
        },
        "id": "KYx21C7spJ97",
        "outputId": "37ddef7c-d39c-4a9d-e73f-9b173f0bf5fa"
      },
      "execution_count": null,
      "outputs": [
        {
          "output_type": "execute_result",
          "data": {
            "text/plain": [
              "Generation           0\n",
              "Transaction_class    0\n",
              "Balance_class        0\n",
              "Gender_Mode          0\n",
              "dtype: int64"
            ]
          },
          "metadata": {},
          "execution_count": 25
        }
      ]
    },
    {
      "cell_type": "markdown",
      "source": [
        "## 1.2 Fingerprint hashing"
      ],
      "metadata": {
        "id": "eXz2j3cfQ0pm"
      }
    },
    {
      "cell_type": "code",
      "source": [
        "df1 = pd.read_csv(r'/content/drive/MyDrive/adm hw4/df_for1_2.csv')"
      ],
      "metadata": {
        "id": "zWAvrIrqQ2sX"
      },
      "execution_count": 4,
      "outputs": []
    },
    {
      "cell_type": "markdown",
      "source": [
        "We change the labels"
      ],
      "metadata": {
        "id": "KvSAOY8Cy4ai"
      }
    },
    {
      "cell_type": "code",
      "source": [
        "cleanup = {\"Generation\":     {\"(1, 18]\": '1',\"(18, 30]\": '2', \"(30, 50]\": '3',\n",
        "                              \"(50, 75]\": '4',\"(75, 101]\": '5',},\n",
        "           \"Transaction_class\": {\"(-1.0, 500.0]\": '1', \"(500.0, 1500.0]\": '2', \"(1500.0, 7000.0]\": '3', \"(7000.0, 12000.0]\": '4',\n",
        "                                  \"(12000.0, 1560035.0]\": '5' },\n",
        "           \"Balance_class\": {\"(-1.0, 1000.0]\": '1', \"(1000.0, 5000.0]\": '2', \"(5000.0, 12000.0]\": '3', \"(12000.0, 30000.0]\": '4',\n",
        "                                  \"(30000.0, 120000.0]\": '5' , \"(120000.0, 115035496.1]\" : '6'}}"
      ],
      "metadata": {
        "id": "5FIqGVhnl9p1"
      },
      "execution_count": 5,
      "outputs": []
    },
    {
      "cell_type": "code",
      "source": [
        "df1 = df1.replace(cleanup)\n",
        "df1.head()"
      ],
      "metadata": {
        "colab": {
          "base_uri": "https://localhost:8080/",
          "height": 206
        },
        "id": "9gY_r3STm8wp",
        "outputId": "afe87cf0-43ff-4641-a78d-fb1b4e7d783e"
      },
      "execution_count": 6,
      "outputs": [
        {
          "output_type": "execute_result",
          "data": {
            "text/plain": [
              "  Generation Transaction_class Balance_class Gender_Mode\n",
              "0          2                 1             4           F\n",
              "1          4                 5             2           M\n",
              "2          2                 1             4           F\n",
              "3          3                 2             6           F\n",
              "4          3                 3             3           F"
            ],
            "text/html": [
              "\n",
              "  <div id=\"df-31bdaa2c-c776-45b7-8885-bd6f5c8aa5de\">\n",
              "    <div class=\"colab-df-container\">\n",
              "      <div>\n",
              "<style scoped>\n",
              "    .dataframe tbody tr th:only-of-type {\n",
              "        vertical-align: middle;\n",
              "    }\n",
              "\n",
              "    .dataframe tbody tr th {\n",
              "        vertical-align: top;\n",
              "    }\n",
              "\n",
              "    .dataframe thead th {\n",
              "        text-align: right;\n",
              "    }\n",
              "</style>\n",
              "<table border=\"1\" class=\"dataframe\">\n",
              "  <thead>\n",
              "    <tr style=\"text-align: right;\">\n",
              "      <th></th>\n",
              "      <th>Generation</th>\n",
              "      <th>Transaction_class</th>\n",
              "      <th>Balance_class</th>\n",
              "      <th>Gender_Mode</th>\n",
              "    </tr>\n",
              "  </thead>\n",
              "  <tbody>\n",
              "    <tr>\n",
              "      <th>0</th>\n",
              "      <td>2</td>\n",
              "      <td>1</td>\n",
              "      <td>4</td>\n",
              "      <td>F</td>\n",
              "    </tr>\n",
              "    <tr>\n",
              "      <th>1</th>\n",
              "      <td>4</td>\n",
              "      <td>5</td>\n",
              "      <td>2</td>\n",
              "      <td>M</td>\n",
              "    </tr>\n",
              "    <tr>\n",
              "      <th>2</th>\n",
              "      <td>2</td>\n",
              "      <td>1</td>\n",
              "      <td>4</td>\n",
              "      <td>F</td>\n",
              "    </tr>\n",
              "    <tr>\n",
              "      <th>3</th>\n",
              "      <td>3</td>\n",
              "      <td>2</td>\n",
              "      <td>6</td>\n",
              "      <td>F</td>\n",
              "    </tr>\n",
              "    <tr>\n",
              "      <th>4</th>\n",
              "      <td>3</td>\n",
              "      <td>3</td>\n",
              "      <td>3</td>\n",
              "      <td>F</td>\n",
              "    </tr>\n",
              "  </tbody>\n",
              "</table>\n",
              "</div>\n",
              "      <button class=\"colab-df-convert\" onclick=\"convertToInteractive('df-31bdaa2c-c776-45b7-8885-bd6f5c8aa5de')\"\n",
              "              title=\"Convert this dataframe to an interactive table.\"\n",
              "              style=\"display:none;\">\n",
              "        \n",
              "  <svg xmlns=\"http://www.w3.org/2000/svg\" height=\"24px\"viewBox=\"0 0 24 24\"\n",
              "       width=\"24px\">\n",
              "    <path d=\"M0 0h24v24H0V0z\" fill=\"none\"/>\n",
              "    <path d=\"M18.56 5.44l.94 2.06.94-2.06 2.06-.94-2.06-.94-.94-2.06-.94 2.06-2.06.94zm-11 1L8.5 8.5l.94-2.06 2.06-.94-2.06-.94L8.5 2.5l-.94 2.06-2.06.94zm10 10l.94 2.06.94-2.06 2.06-.94-2.06-.94-.94-2.06-.94 2.06-2.06.94z\"/><path d=\"M17.41 7.96l-1.37-1.37c-.4-.4-.92-.59-1.43-.59-.52 0-1.04.2-1.43.59L10.3 9.45l-7.72 7.72c-.78.78-.78 2.05 0 2.83L4 21.41c.39.39.9.59 1.41.59.51 0 1.02-.2 1.41-.59l7.78-7.78 2.81-2.81c.8-.78.8-2.07 0-2.86zM5.41 20L4 18.59l7.72-7.72 1.47 1.35L5.41 20z\"/>\n",
              "  </svg>\n",
              "      </button>\n",
              "      \n",
              "  <style>\n",
              "    .colab-df-container {\n",
              "      display:flex;\n",
              "      flex-wrap:wrap;\n",
              "      gap: 12px;\n",
              "    }\n",
              "\n",
              "    .colab-df-convert {\n",
              "      background-color: #E8F0FE;\n",
              "      border: none;\n",
              "      border-radius: 50%;\n",
              "      cursor: pointer;\n",
              "      display: none;\n",
              "      fill: #1967D2;\n",
              "      height: 32px;\n",
              "      padding: 0 0 0 0;\n",
              "      width: 32px;\n",
              "    }\n",
              "\n",
              "    .colab-df-convert:hover {\n",
              "      background-color: #E2EBFA;\n",
              "      box-shadow: 0px 1px 2px rgba(60, 64, 67, 0.3), 0px 1px 3px 1px rgba(60, 64, 67, 0.15);\n",
              "      fill: #174EA6;\n",
              "    }\n",
              "\n",
              "    [theme=dark] .colab-df-convert {\n",
              "      background-color: #3B4455;\n",
              "      fill: #D2E3FC;\n",
              "    }\n",
              "\n",
              "    [theme=dark] .colab-df-convert:hover {\n",
              "      background-color: #434B5C;\n",
              "      box-shadow: 0px 1px 3px 1px rgba(0, 0, 0, 0.15);\n",
              "      filter: drop-shadow(0px 1px 2px rgba(0, 0, 0, 0.3));\n",
              "      fill: #FFFFFF;\n",
              "    }\n",
              "  </style>\n",
              "\n",
              "      <script>\n",
              "        const buttonEl =\n",
              "          document.querySelector('#df-31bdaa2c-c776-45b7-8885-bd6f5c8aa5de button.colab-df-convert');\n",
              "        buttonEl.style.display =\n",
              "          google.colab.kernel.accessAllowed ? 'block' : 'none';\n",
              "\n",
              "        async function convertToInteractive(key) {\n",
              "          const element = document.querySelector('#df-31bdaa2c-c776-45b7-8885-bd6f5c8aa5de');\n",
              "          const dataTable =\n",
              "            await google.colab.kernel.invokeFunction('convertToInteractive',\n",
              "                                                     [key], {});\n",
              "          if (!dataTable) return;\n",
              "\n",
              "          const docLinkHtml = 'Like what you see? Visit the ' +\n",
              "            '<a target=\"_blank\" href=https://colab.research.google.com/notebooks/data_table.ipynb>data table notebook</a>'\n",
              "            + ' to learn more about interactive tables.';\n",
              "          element.innerHTML = '';\n",
              "          dataTable['output_type'] = 'display_data';\n",
              "          await google.colab.output.renderOutput(dataTable, element);\n",
              "          const docLink = document.createElement('div');\n",
              "          docLink.innerHTML = docLinkHtml;\n",
              "          element.appendChild(docLink);\n",
              "        }\n",
              "      </script>\n",
              "    </div>\n",
              "  </div>\n",
              "  "
            ]
          },
          "metadata": {},
          "execution_count": 6
        }
      ]
    },
    {
      "cell_type": "markdown",
      "source": [
        "We need the set of all possible outcomes to create the index matrix"
      ],
      "metadata": {
        "id": "_V_zWzfYThrC"
      }
    },
    {
      "cell_type": "code",
      "source": [
        "Genders=set(df1.Gender_Mode)\n",
        "Generations=set(df1.Generation)\n",
        "Balances=set(df1.Balance_class)\n",
        "Transactions=set(df1.Transaction_class)"
      ],
      "metadata": {
        "id": "HnVtt2eWS13Z"
      },
      "execution_count": 7,
      "outputs": []
    },
    {
      "cell_type": "markdown",
      "source": [
        "Then we turn them into lists"
      ],
      "metadata": {
        "id": "4BgNeR9AybQs"
      }
    },
    {
      "cell_type": "code",
      "source": [
        "genders=list(Genders)\n",
        "generations=list(Generations)\n",
        "balances=list(Balances)\n",
        "transactions=list(Transactions)"
      ],
      "metadata": {
        "id": "toPI021Db5s8"
      },
      "execution_count": 8,
      "outputs": []
    },
    {
      "cell_type": "markdown",
      "source": [
        "The next step is to obtain the matrix consisting of zero/one, in which we will find 1 as the result if the customer has that characteristic, 0 otherwise.\n",
        "\n",
        "To do this first we define a function that taken as input an attribute of those defined above (for example Transactions), a dataset and the number that identifies the column related to the attribute in the dataset, provides as Output a vector 0/1 for each class of the attribute"
      ],
      "metadata": {
        "id": "OWKR0E9xgIGT"
      }
    },
    {
      "cell_type": "code",
      "source": [
        "def MapToZerOne(attr, n_col,df):\n",
        "  n=len(attr) # number of classes of attr\n",
        "  column=df[df.columns[n_col]] # The array containing all the data that is to be mapped \n",
        "  z= np.zeros(len(column)) # A vector of zeros that will later be used to start the stack process\n",
        "\n",
        "  for i in range(0,n): # For all classes of attr\n",
        "   temp= np.array([1 if x in attr[i] else 0 for x in np.array(column)]) # Maps in zero/one each client \n",
        "   h= np.vstack((z, temp)) # Stacks the old array with the new one\n",
        "   z=h # Update the old array\n",
        "  final=h[1:] # Remove the first array of all zeros created at the beginning\n",
        "  return final"
      ],
      "metadata": {
        "id": "ioC_S_edTkDa"
      },
      "execution_count": 9,
      "outputs": []
    },
    {
      "cell_type": "code",
      "source": [
        "MapToZerOne(genders, 3,df1)"
      ],
      "metadata": {
        "id": "TAwLl3D3inyX",
        "outputId": "4ef6cf94-d40d-4fa1-c60b-25a55403c2d8",
        "colab": {
          "base_uri": "https://localhost:8080/"
        }
      },
      "execution_count": 14,
      "outputs": [
        {
          "output_type": "execute_result",
          "data": {
            "text/plain": [
              "array([[1., 0., 1., ..., 0., 0., 0.],\n",
              "       [0., 1., 0., ..., 1., 1., 1.]])"
            ]
          },
          "metadata": {},
          "execution_count": 14
        }
      ]
    },
    {
      "cell_type": "markdown",
      "source": [
        "We can see that `genders` being an attr with only two classes, the two arrays are opposite."
      ],
      "metadata": {
        "id": "gefczLg2lJWE"
      }
    },
    {
      "cell_type": "markdown",
      "source": [
        "Next, we create a function that uses the one created earlier to make a stack of vectors for each class of our shingles"
      ],
      "metadata": {
        "id": "Ya_QsaC1mO3t"
      }
    },
    {
      "cell_type": "code",
      "source": [
        "def get_Matrix(df):\n",
        "  n_cols=len(df.columns) # Number of df's columns\n",
        "  l= len(df[df.columns[1]]) # Number of costumers\n",
        "  init=np.zeros(l) # A vector of zeros that will later be used to start the stack process\n",
        "  for j in range(0,n_cols): # For each column of the df\n",
        "    attr=set(df[df.columns[j]]) # Exctract the unique values\n",
        "    attr=list(attr) # Turn the set into list\n",
        "    tempr=MapToZerOne(attr,j,df) # Apply MapToZerOne function and obtain an array\n",
        "    hr= np.vstack((init, tempr)) # Stacks the previous arrays with the new ones\n",
        "    init=hr # Update the previous arrays\n",
        "  final2=hr[1:] # Remove the first array of all zeros created at the beginning\n",
        "  return final2"
      ],
      "metadata": {
        "id": "z2pr8wE_oJAG"
      },
      "execution_count": 10,
      "outputs": []
    },
    {
      "cell_type": "code",
      "source": [
        "matrix_onehot=get_Matrix(df1)\n",
        "matrix_onehot"
      ],
      "metadata": {
        "colab": {
          "base_uri": "https://localhost:8080/"
        },
        "id": "qhf0z-P5si7E",
        "outputId": "fb701234-183f-48a2-88c0-fcad0a0d6347"
      },
      "execution_count": 11,
      "outputs": [
        {
          "output_type": "execute_result",
          "data": {
            "text/plain": [
              "array([[0., 0., 0., ..., 0., 0., 0.],\n",
              "       [0., 0., 0., ..., 0., 0., 0.],\n",
              "       [0., 1., 0., ..., 0., 0., 0.],\n",
              "       ...,\n",
              "       [0., 1., 0., ..., 0., 0., 0.],\n",
              "       [1., 0., 1., ..., 0., 0., 0.],\n",
              "       [0., 1., 0., ..., 1., 1., 1.]])"
            ]
          },
          "metadata": {},
          "execution_count": 11
        }
      ]
    },
    {
      "cell_type": "markdown",
      "source": [
        "Although the first two arrays may appear as empty, if we add up each element, we find 1's, but they are very rare:"
      ],
      "metadata": {
        "id": "RbWinWe2l4__"
      }
    },
    {
      "cell_type": "code",
      "source": [
        "sum(matrix_onehot[0])"
      ],
      "metadata": {
        "id": "9kdEs0ZVllj6",
        "outputId": "3349d1ca-e4e3-4378-84cc-a78c41de01cd",
        "colab": {
          "base_uri": "https://localhost:8080/"
        }
      },
      "execution_count": 21,
      "outputs": [
        {
          "output_type": "execute_result",
          "data": {
            "text/plain": [
              "2910.0"
            ]
          },
          "metadata": {},
          "execution_count": 21
        }
      ]
    },
    {
      "cell_type": "code",
      "source": [
        "sum(matrix_onehot[1])"
      ],
      "metadata": {
        "id": "oc8X5ziFl12p",
        "outputId": "ee0d7bf7-b4dc-4280-8d61-d01bc5d548f9",
        "colab": {
          "base_uri": "https://localhost:8080/"
        }
      },
      "execution_count": 22,
      "outputs": [
        {
          "output_type": "execute_result",
          "data": {
            "text/plain": [
              "297.0"
            ]
          },
          "metadata": {},
          "execution_count": 22
        }
      ]
    },
    {
      "cell_type": "markdown",
      "source": [
        "The dimensioins match, we have a vector for each class of our shingles"
      ],
      "metadata": {
        "id": "xX811j8hywLi"
      }
    },
    {
      "cell_type": "code",
      "source": [
        "len(matrix_onehot) == len(genders)+len(generations)+len(balances)+len(transactions)"
      ],
      "metadata": {
        "colab": {
          "base_uri": "https://localhost:8080/"
        },
        "id": "d9Iy610ixNXu",
        "outputId": "7185d74d-8767-4146-8fb1-f7dc8a3b013b"
      },
      "execution_count": null,
      "outputs": [
        {
          "output_type": "execute_result",
          "data": {
            "text/plain": [
              "True"
            ]
          },
          "metadata": {},
          "execution_count": 34
        }
      ]
    },
    {
      "cell_type": "markdown",
      "source": [
        "#2 Grouping customers together!"
      ],
      "metadata": {
        "id": "Zj6S-31pwViL"
      }
    },
    {
      "cell_type": "markdown",
      "metadata": {
        "tags": [],
        "id": "210e9705-995c-4086-9454-c05a94db82e1"
      },
      "source": [
        "## 2.1 Getting your data + feature engineering\n"
      ]
    },
    {
      "cell_type": "markdown",
      "source": [
        "First, we load the  cleaned dataset in point 1.1"
      ],
      "metadata": {
        "id": "vhR4__rk5jtT"
      }
    },
    {
      "cell_type": "code",
      "source": [
        "# first we load the df\n",
        "df_bank = pd.read_csv(r'/content/drive/MyDrive/adm hw4/df_cleaned.csv')"
      ],
      "metadata": {
        "id": "rzcTnbJfwmkI"
      },
      "execution_count": null,
      "outputs": []
    },
    {
      "cell_type": "markdown",
      "source": [
        "Now we define the seven new features proposed in the homework:"
      ],
      "metadata": {
        "id": "lFCt4Bq_5tk3"
      }
    },
    {
      "cell_type": "code",
      "source": [
        "#1 Number of transactions\n",
        "temp = df_bank[['CustomerID', 'TransactionID']].groupby(by = 'CustomerID', as_index = False, sort = False).count().reset_index()\n",
        "temp = temp.drop(columns = 'index')\n",
        "temp.rename(columns = {'TransactionID' : 'Transaction_Frequency'}, inplace = True)\n",
        "df_bank = df_bank.merge(right = temp, on = 'CustomerID')\n",
        "\n",
        "\n",
        "#2 Number of transactions with a balance bigger than 100 USD\n",
        "bigger_100=df_bank['TransactionAmount (INR)'].apply(lambda x: x>=100)\n",
        "bigger_100=bigger_100*1\n",
        "df_bank.insert(10,\"Bigger100\",bigger_100)\n",
        "big = df_bank[['CustomerID', 'Bigger100']].groupby(by = 'CustomerID', as_index = False, sort = False).sum().reset_index()\n",
        "big = big.drop(columns = 'index')\n",
        "big.rename(columns = {'Bigger100' : 'Number_Bigger_100'}, inplace = True)\n",
        "df_bank = df_bank.merge(right = big, on = 'CustomerID')\n",
        "\n",
        "\n",
        "#3 Average amount of the transactions\n",
        "trans = df_bank[['CustomerID', 'TransactionAmount (INR)']].groupby(by = 'CustomerID', as_index = False, sort = False).mean().reset_index()\n",
        "trans = trans.drop(columns = 'index')\n",
        "trans.rename(columns = {'TransactionAmount (INR)' : 'Transaction_Avg'}, inplace = True)\n",
        "df_bank = df_bank.merge(right = trans, on = 'CustomerID')\n",
        "\n",
        "\n",
        "#4 Average balance\n",
        "bal = df_bank[['CustomerID', 'CustAccountBalance']].groupby(by = 'CustomerID', as_index = False, sort = False).mean().reset_index()\n",
        "bal = bal.drop(columns = 'index')\n",
        "bal.rename(columns = {'CustAccountBalance' : 'Balance_Avg'}, inplace = True)\n",
        "df_bank = df_bank.merge(right = bal, on = 'CustomerID')\n",
        "\n",
        "\n",
        "#5 Average difference between the balance and the transaction amount for each customer (this is mainly known in the banking world as utilisation).\n",
        "df_bank['Utilisation_0'] = df_bank['CustAccountBalance'] - df_bank['TransactionAmount (INR)']\n",
        "t = df_bank[['CustomerID', 'Utilisation_0']].groupby(by = 'CustomerID', as_index = False, sort = False).mean().reset_index()\n",
        "t = t.drop(columns = 'index')\n",
        "t.rename(columns = {'Utilisation_0' : 'Utilisation_Avg'}, inplace = True)\n",
        "df_bank = df_bank.merge(right = t, on = 'CustomerID')\n",
        "\n",
        "\n",
        "#6 Most common gender of the customer\n",
        "g=df_bank[['CustomerID', 'CustGender']].groupby(by = 'CustomerID', as_index = False, sort = False)['CustGender'].agg( lambda x: pd.Series.mode(x)[0]).reset_index() #if we have two mode, we take the first\n",
        "g = g.drop(columns = 'index')\n",
        "g.rename(columns = {'CustGender' : 'Gender_Mode'}, inplace = True)\n",
        "df_bank = df_bank.merge(right = g, on = 'CustomerID')\n",
        "\n",
        "\n",
        "#7 Most frequent location of the customer\n",
        "z=df_bank[['CustomerID', 'CustLocation']].groupby(by = 'CustomerID', as_index = False, sort = False)['CustLocation'].agg( lambda x: pd.Series.mode(x)[0]).reset_index() #if we have two mode, we take the first\n",
        "z = z.drop(columns = 'index')\n",
        "z.rename(columns = {'CustLocation' : 'Location_Mode'}, inplace = True)\n",
        "df_bank = df_bank.merge(right = z, on = 'CustomerID')"
      ],
      "metadata": {
        "id": "F77P5qUi6IIx"
      },
      "execution_count": null,
      "outputs": []
    },
    {
      "cell_type": "code",
      "source": [
        "df_bank.head()"
      ],
      "metadata": {
        "colab": {
          "base_uri": "https://localhost:8080/",
          "height": 287
        },
        "id": "CnOx9cYK8ZBp",
        "outputId": "d7d5ccaf-5b21-4972-eaea-5ca51bd740d4"
      },
      "execution_count": null,
      "outputs": [
        {
          "output_type": "execute_result",
          "data": {
            "text/plain": [
              "  TransactionID CustomerID CustomerDOB CustGender CustLocation  \\\n",
              "0            T1   C5841053  1994-10-01          F   JAMSHEDPUR   \n",
              "1            T2   C2142763  1957-04-04          M      JHAJJAR   \n",
              "2            T3   C4417068  1996-11-26          F       MUMBAI   \n",
              "3            T4   C5342380  1973-09-14          F       MUMBAI   \n",
              "4       T391139   C5342380  1979-05-29          M       MUMBAI   \n",
              "\n",
              "   CustAccountBalance TransactionDate TransactionTime  \\\n",
              "0            17819.05      2016-02-08        14:32:07   \n",
              "1             2270.69      2016-02-08        14:18:58   \n",
              "2            17874.44      2016-02-08        14:27:12   \n",
              "3           866503.21      2016-02-08        14:27:14   \n",
              "4             3195.78      2016-08-13        19:41:48   \n",
              "\n",
              "   TransactionAmount (INR)  Transaction_Frequency  Bigger100  \\\n",
              "0                       25                      1          0   \n",
              "1                    27999                      1          1   \n",
              "2                      459                      1          1   \n",
              "3                     2060                      2          1   \n",
              "4                      878                      2          1   \n",
              "\n",
              "   Number_Bigger_100  Transaction_Avg  Balance_Avg  Utilisation_0  \\\n",
              "0                  0             25.0    17819.050       17794.05   \n",
              "1                  1          27999.0     2270.690      -25728.31   \n",
              "2                  1            459.0    17874.440       17415.44   \n",
              "3                  2           1469.0   434849.495      864443.21   \n",
              "4                  2           1469.0   434849.495        2317.78   \n",
              "\n",
              "   Utilisation_Avg Gender_Mode Location_Mode  \n",
              "0        17794.050           F    JAMSHEDPUR  \n",
              "1       -25728.310           M       JHAJJAR  \n",
              "2        17415.440           F        MUMBAI  \n",
              "3       433380.495           F        MUMBAI  \n",
              "4       433380.495           F        MUMBAI  "
            ],
            "text/html": [
              "\n",
              "  <div id=\"df-add1c0cf-7e75-431d-bcb9-2cb6af1818e4\">\n",
              "    <div class=\"colab-df-container\">\n",
              "      <div>\n",
              "<style scoped>\n",
              "    .dataframe tbody tr th:only-of-type {\n",
              "        vertical-align: middle;\n",
              "    }\n",
              "\n",
              "    .dataframe tbody tr th {\n",
              "        vertical-align: top;\n",
              "    }\n",
              "\n",
              "    .dataframe thead th {\n",
              "        text-align: right;\n",
              "    }\n",
              "</style>\n",
              "<table border=\"1\" class=\"dataframe\">\n",
              "  <thead>\n",
              "    <tr style=\"text-align: right;\">\n",
              "      <th></th>\n",
              "      <th>TransactionID</th>\n",
              "      <th>CustomerID</th>\n",
              "      <th>CustomerDOB</th>\n",
              "      <th>CustGender</th>\n",
              "      <th>CustLocation</th>\n",
              "      <th>CustAccountBalance</th>\n",
              "      <th>TransactionDate</th>\n",
              "      <th>TransactionTime</th>\n",
              "      <th>TransactionAmount (INR)</th>\n",
              "      <th>Transaction_Frequency</th>\n",
              "      <th>Bigger100</th>\n",
              "      <th>Number_Bigger_100</th>\n",
              "      <th>Transaction_Avg</th>\n",
              "      <th>Balance_Avg</th>\n",
              "      <th>Utilisation_0</th>\n",
              "      <th>Utilisation_Avg</th>\n",
              "      <th>Gender_Mode</th>\n",
              "      <th>Location_Mode</th>\n",
              "    </tr>\n",
              "  </thead>\n",
              "  <tbody>\n",
              "    <tr>\n",
              "      <th>0</th>\n",
              "      <td>T1</td>\n",
              "      <td>C5841053</td>\n",
              "      <td>1994-10-01</td>\n",
              "      <td>F</td>\n",
              "      <td>JAMSHEDPUR</td>\n",
              "      <td>17819.05</td>\n",
              "      <td>2016-02-08</td>\n",
              "      <td>14:32:07</td>\n",
              "      <td>25</td>\n",
              "      <td>1</td>\n",
              "      <td>0</td>\n",
              "      <td>0</td>\n",
              "      <td>25.0</td>\n",
              "      <td>17819.050</td>\n",
              "      <td>17794.05</td>\n",
              "      <td>17794.050</td>\n",
              "      <td>F</td>\n",
              "      <td>JAMSHEDPUR</td>\n",
              "    </tr>\n",
              "    <tr>\n",
              "      <th>1</th>\n",
              "      <td>T2</td>\n",
              "      <td>C2142763</td>\n",
              "      <td>1957-04-04</td>\n",
              "      <td>M</td>\n",
              "      <td>JHAJJAR</td>\n",
              "      <td>2270.69</td>\n",
              "      <td>2016-02-08</td>\n",
              "      <td>14:18:58</td>\n",
              "      <td>27999</td>\n",
              "      <td>1</td>\n",
              "      <td>1</td>\n",
              "      <td>1</td>\n",
              "      <td>27999.0</td>\n",
              "      <td>2270.690</td>\n",
              "      <td>-25728.31</td>\n",
              "      <td>-25728.310</td>\n",
              "      <td>M</td>\n",
              "      <td>JHAJJAR</td>\n",
              "    </tr>\n",
              "    <tr>\n",
              "      <th>2</th>\n",
              "      <td>T3</td>\n",
              "      <td>C4417068</td>\n",
              "      <td>1996-11-26</td>\n",
              "      <td>F</td>\n",
              "      <td>MUMBAI</td>\n",
              "      <td>17874.44</td>\n",
              "      <td>2016-02-08</td>\n",
              "      <td>14:27:12</td>\n",
              "      <td>459</td>\n",
              "      <td>1</td>\n",
              "      <td>1</td>\n",
              "      <td>1</td>\n",
              "      <td>459.0</td>\n",
              "      <td>17874.440</td>\n",
              "      <td>17415.44</td>\n",
              "      <td>17415.440</td>\n",
              "      <td>F</td>\n",
              "      <td>MUMBAI</td>\n",
              "    </tr>\n",
              "    <tr>\n",
              "      <th>3</th>\n",
              "      <td>T4</td>\n",
              "      <td>C5342380</td>\n",
              "      <td>1973-09-14</td>\n",
              "      <td>F</td>\n",
              "      <td>MUMBAI</td>\n",
              "      <td>866503.21</td>\n",
              "      <td>2016-02-08</td>\n",
              "      <td>14:27:14</td>\n",
              "      <td>2060</td>\n",
              "      <td>2</td>\n",
              "      <td>1</td>\n",
              "      <td>2</td>\n",
              "      <td>1469.0</td>\n",
              "      <td>434849.495</td>\n",
              "      <td>864443.21</td>\n",
              "      <td>433380.495</td>\n",
              "      <td>F</td>\n",
              "      <td>MUMBAI</td>\n",
              "    </tr>\n",
              "    <tr>\n",
              "      <th>4</th>\n",
              "      <td>T391139</td>\n",
              "      <td>C5342380</td>\n",
              "      <td>1979-05-29</td>\n",
              "      <td>M</td>\n",
              "      <td>MUMBAI</td>\n",
              "      <td>3195.78</td>\n",
              "      <td>2016-08-13</td>\n",
              "      <td>19:41:48</td>\n",
              "      <td>878</td>\n",
              "      <td>2</td>\n",
              "      <td>1</td>\n",
              "      <td>2</td>\n",
              "      <td>1469.0</td>\n",
              "      <td>434849.495</td>\n",
              "      <td>2317.78</td>\n",
              "      <td>433380.495</td>\n",
              "      <td>F</td>\n",
              "      <td>MUMBAI</td>\n",
              "    </tr>\n",
              "  </tbody>\n",
              "</table>\n",
              "</div>\n",
              "      <button class=\"colab-df-convert\" onclick=\"convertToInteractive('df-add1c0cf-7e75-431d-bcb9-2cb6af1818e4')\"\n",
              "              title=\"Convert this dataframe to an interactive table.\"\n",
              "              style=\"display:none;\">\n",
              "        \n",
              "  <svg xmlns=\"http://www.w3.org/2000/svg\" height=\"24px\"viewBox=\"0 0 24 24\"\n",
              "       width=\"24px\">\n",
              "    <path d=\"M0 0h24v24H0V0z\" fill=\"none\"/>\n",
              "    <path d=\"M18.56 5.44l.94 2.06.94-2.06 2.06-.94-2.06-.94-.94-2.06-.94 2.06-2.06.94zm-11 1L8.5 8.5l.94-2.06 2.06-.94-2.06-.94L8.5 2.5l-.94 2.06-2.06.94zm10 10l.94 2.06.94-2.06 2.06-.94-2.06-.94-.94-2.06-.94 2.06-2.06.94z\"/><path d=\"M17.41 7.96l-1.37-1.37c-.4-.4-.92-.59-1.43-.59-.52 0-1.04.2-1.43.59L10.3 9.45l-7.72 7.72c-.78.78-.78 2.05 0 2.83L4 21.41c.39.39.9.59 1.41.59.51 0 1.02-.2 1.41-.59l7.78-7.78 2.81-2.81c.8-.78.8-2.07 0-2.86zM5.41 20L4 18.59l7.72-7.72 1.47 1.35L5.41 20z\"/>\n",
              "  </svg>\n",
              "      </button>\n",
              "      \n",
              "  <style>\n",
              "    .colab-df-container {\n",
              "      display:flex;\n",
              "      flex-wrap:wrap;\n",
              "      gap: 12px;\n",
              "    }\n",
              "\n",
              "    .colab-df-convert {\n",
              "      background-color: #E8F0FE;\n",
              "      border: none;\n",
              "      border-radius: 50%;\n",
              "      cursor: pointer;\n",
              "      display: none;\n",
              "      fill: #1967D2;\n",
              "      height: 32px;\n",
              "      padding: 0 0 0 0;\n",
              "      width: 32px;\n",
              "    }\n",
              "\n",
              "    .colab-df-convert:hover {\n",
              "      background-color: #E2EBFA;\n",
              "      box-shadow: 0px 1px 2px rgba(60, 64, 67, 0.3), 0px 1px 3px 1px rgba(60, 64, 67, 0.15);\n",
              "      fill: #174EA6;\n",
              "    }\n",
              "\n",
              "    [theme=dark] .colab-df-convert {\n",
              "      background-color: #3B4455;\n",
              "      fill: #D2E3FC;\n",
              "    }\n",
              "\n",
              "    [theme=dark] .colab-df-convert:hover {\n",
              "      background-color: #434B5C;\n",
              "      box-shadow: 0px 1px 3px 1px rgba(0, 0, 0, 0.15);\n",
              "      filter: drop-shadow(0px 1px 2px rgba(0, 0, 0, 0.3));\n",
              "      fill: #FFFFFF;\n",
              "    }\n",
              "  </style>\n",
              "\n",
              "      <script>\n",
              "        const buttonEl =\n",
              "          document.querySelector('#df-add1c0cf-7e75-431d-bcb9-2cb6af1818e4 button.colab-df-convert');\n",
              "        buttonEl.style.display =\n",
              "          google.colab.kernel.accessAllowed ? 'block' : 'none';\n",
              "\n",
              "        async function convertToInteractive(key) {\n",
              "          const element = document.querySelector('#df-add1c0cf-7e75-431d-bcb9-2cb6af1818e4');\n",
              "          const dataTable =\n",
              "            await google.colab.kernel.invokeFunction('convertToInteractive',\n",
              "                                                     [key], {});\n",
              "          if (!dataTable) return;\n",
              "\n",
              "          const docLinkHtml = 'Like what you see? Visit the ' +\n",
              "            '<a target=\"_blank\" href=https://colab.research.google.com/notebooks/data_table.ipynb>data table notebook</a>'\n",
              "            + ' to learn more about interactive tables.';\n",
              "          element.innerHTML = '';\n",
              "          dataTable['output_type'] = 'display_data';\n",
              "          await google.colab.output.renderOutput(dataTable, element);\n",
              "          const docLink = document.createElement('div');\n",
              "          docLink.innerHTML = docLinkHtml;\n",
              "          element.appendChild(docLink);\n",
              "        }\n",
              "      </script>\n",
              "    </div>\n",
              "  </div>\n",
              "  "
            ]
          },
          "metadata": {},
          "execution_count": 38
        }
      ]
    },
    {
      "cell_type": "markdown",
      "source": [
        "So, now we finally have the dataset with the 7 features requested.\n",
        "\n",
        "We decided to store the dataset in our drive folder to avoid the procedure again"
      ],
      "metadata": {
        "id": "xK3Yc293vyzH"
      }
    },
    {
      "cell_type": "code",
      "source": [
        "df_bank.to_csv('/content/drive/MyDrive/adm hw4/df7.csv', index=False)"
      ],
      "metadata": {
        "id": "iVReZAVvvQnT"
      },
      "execution_count": null,
      "outputs": []
    },
    {
      "cell_type": "markdown",
      "source": [
        "In order not to stress the ram too much, we delete the dataset from the memory"
      ],
      "metadata": {
        "id": "ZWPf05uPSNXN"
      }
    },
    {
      "cell_type": "code",
      "source": [
        "del df_bank"
      ],
      "metadata": {
        "id": "xWbPO7eGQmGw"
      },
      "execution_count": null,
      "outputs": []
    },
    {
      "cell_type": "code",
      "source": [
        "df7 = pd.read_csv(r'/content/drive/MyDrive/adm hw4/df7.csv')"
      ],
      "metadata": {
        "id": "YV9dZLad3W_r"
      },
      "execution_count": null,
      "outputs": []
    },
    {
      "cell_type": "markdown",
      "source": [
        "The next step is to add at least 20 new features in the dataset"
      ],
      "metadata": {
        "id": "F6dMoqN-VLFo"
      }
    },
    {
      "cell_type": "code",
      "source": [
        "def generations(age):\n",
        "    \"\"\"\n",
        "    this function takes as input the date of birth and divides it into the various generations\n",
        "    \n",
        "    \"\"\"\n",
        "    if age=='1800-01-01 00:00:00' or age is np.nan:\n",
        "        return 'Missing'\n",
        "    if int(age) in [i for i in range(10,23)]: #we are now assuming that there are not people born before 1922 \n",
        "        return 'Gen Alpha'\n",
        "    elif int(age) in [i for i in range(23,46)]:\n",
        "        return 'Silent Gen'\n",
        "    elif int(age) in [i for i in range(46,65)]:\n",
        "        return 'Boomers'\n",
        "    elif int(age) in [i for i in range(65,81)]:\n",
        "        return 'Gen X'\n",
        "    elif int(age) in [i for i in range(81,97)]:\n",
        "        return 'Gen Y'\n",
        "    else: # %y goes from 00 to 99 so we only miss the range 1997-2010 (i.e. Gen Z)\n",
        "        return 'Gen Z'"
      ],
      "metadata": {
        "id": "2q19dEcC_Bn-"
      },
      "execution_count": null,
      "outputs": []
    },
    {
      "cell_type": "code",
      "source": [
        "#8 Debt for each Custumer ID\n",
        "debt=df7['Utilisation_Avg'].apply(lambda x: x<0) #if they did, on average, transactions bigger than their balance\n",
        "debt=debt*1\n",
        "df7['Debt']=debt\n",
        "\n",
        "#9 Percentile of Balance_Avg for each Custumer ID\n",
        "df7['Balance_Avg_Percentile'] = df7.Balance_Avg.rank(pct = True)\n",
        "\n",
        "#10 Percentile of Utilisation_Avg for each Custumer ID\n",
        "df7['Utilisation_Avg_Percentile'] = df7.Utilisation_Avg.rank(pct = True)\n",
        "\n",
        "#11 Average Age for each Custumer ID\n",
        "df7.CustomerDOB = pd.to_datetime(df7.CustomerDOB)\n",
        "df7['CustomerAge'] = (( pd.to_datetime('today') - df7.CustomerDOB ) / np.timedelta64(1, 'Y')).round(0)\n",
        "df7['CustomerAge'] = df7['CustomerAge'].astype(int)\n",
        "trans = df7[['CustomerID', 'CustomerAge']].groupby(by = 'CustomerID', as_index = False, sort = False).mean().reset_index()\n",
        "trans = trans.drop(columns = 'index')\n",
        "trans.rename(columns = {'CustomerAge' : 'Avg_customerAge'}, inplace = True)\n",
        "df7 = df7.merge(right = trans, on = 'CustomerID')\n",
        "\n",
        "#12  Averange Generations for each Custumer ID\n",
        "gen=df7['Avg_customerAge'].apply(lambda x: generations(x))\n",
        "df7['Generation']=gen\n",
        "\n",
        "#13 Sum Transactions for each Custumer ID\n",
        "trans = df7[['CustomerID', 'TransactionAmount (INR)']].groupby(by = 'CustomerID', as_index = False, sort = False).sum().reset_index()\n",
        "trans = trans.drop(columns = 'index')\n",
        "trans.rename(columns = {'TransactionAmount (INR)' : 'Transaction_Sum'}, inplace = True)\n",
        "df7 = df7.merge(right = trans, on = 'CustomerID')\n",
        "\n",
        "#14 Standard deviation of Transaction for each Custumer ID\n",
        "trans = df7[['CustomerID', 'TransactionAmount (INR)']].groupby(by = 'CustomerID', as_index = False, sort = False).std().reset_index()\n",
        "trans = trans.drop(columns = 'index')\n",
        "trans.rename(columns = {'TransactionAmount (INR)' : 'Transaction_Std'}, inplace = True)\n",
        "df7 = df7.merge(right = trans, on = 'CustomerID')\n",
        "df7['Transaction_Std'] = df7['Transaction_Std'].fillna(0)\n",
        "\n",
        "#15 Month of transaction\n",
        "df7['TransactionDate'] = pd.to_datetime(df7['TransactionDate'])\n",
        "df7['TransactionMonth'] = df7['TransactionDate'].dt.month\n",
        "\n",
        "#16 percentage of balance in transaction in average (transaction/balance)\n",
        "df7['Transaction_percent_Avg']= df7['Transaction_Avg']/df7['Balance_Avg']\n",
        "\n",
        "#17 Number of transactions with a balance bigger than 500 USD\n",
        "bigger_500=df7['TransactionAmount (INR)'].apply(lambda x: x>=500)\n",
        "bigger_500=bigger_500*1\n",
        "df7.insert(10,\"Bigger500\",bigger_500)\n",
        "big = df7[['CustomerID', 'Bigger500']].groupby(by = 'CustomerID', as_index = False, sort = False).sum().reset_index()\n",
        "big = big.drop(columns = 'index')\n",
        "big.rename(columns = {'Bigger500' : 'Number_Bigger_500'}, inplace = True)\n",
        "df7 = df7.merge(right = big, on = 'CustomerID')\n",
        "\n",
        "#18 Number of transactions with a balance bigger than 10000 USD\n",
        "bigger_10000=df7['TransactionAmount (INR)'].apply(lambda x: x>=10000)\n",
        "bigger_10000=bigger_10000*1\n",
        "df7.insert(10,\"Bigger10000\",bigger_10000)\n",
        "big = df7[['CustomerID', 'Bigger10000']].groupby(by = 'CustomerID', as_index = False, sort = False).sum().reset_index()\n",
        "big = big.drop(columns = 'index')\n",
        "big.rename(columns = {'Bigger10000' : 'Number_Bigger_10000'}, inplace = True)\n",
        "df7 = df7.merge(right = big, on = 'CustomerID')\n",
        "\n",
        "#19 Percentile of Age for each Custumer ID\n",
        "df7['Avg_customerAge_Percentile'] = df7.Avg_customerAge.rank(pct = True)\n",
        "\n",
        "#20 Max Transaction for each Custumer\n",
        "temp = df7[['CustomerID', 'TransactionAmount (INR)']].groupby(by = 'CustomerID', as_index = False, sort = False).max().reset_index()\n",
        "temp = temp.drop(columns = 'index')\n",
        "temp.rename(columns = {'TransactionAmount (INR)' : 'Transaction_Max'}, inplace = True)\n",
        "df7 = df7.merge(right = temp, on = 'CustomerID')\n",
        "\n",
        "#21 Min Transaction for each Custumer\n",
        "temp = df7[['CustomerID', 'TransactionAmount (INR)']].groupby(by = 'CustomerID', as_index = False, sort = False).min().reset_index()\n",
        "temp = temp.drop(columns = 'index')\n",
        "temp.rename(columns = {'TransactionAmount (INR)' : 'Transaction_Min'}, inplace = True)\n",
        "df7 = df7.merge(right = temp, on = 'CustomerID')\n",
        "\n",
        "#22 Max Balance for each Custumer\n",
        "temp = df7[['CustomerID', 'CustAccountBalance']].groupby(by = 'CustomerID', as_index = False, sort = False).max().reset_index()\n",
        "temp = temp.drop(columns = 'index')\n",
        "temp.rename(columns = {'CustAccountBalance' : 'Balance_Max'}, inplace = True)\n",
        "df7 = df7.merge(right = temp, on = 'CustomerID')\n",
        "\n",
        "#23 Min Balance for each Custumer\n",
        "temp = df7[['CustomerID', 'CustAccountBalance']].groupby(by = 'CustomerID', as_index = False, sort = False).min().reset_index()\n",
        "temp = temp.drop(columns = 'index')\n",
        "temp.rename(columns = {'CustAccountBalance' : 'Balance_Min'}, inplace = True)\n",
        "df7 = df7.merge(right = temp, on = 'CustomerID')\n",
        "\n",
        "#24 Median Balance for each Custumer\n",
        "temp = df7[['CustomerID', 'CustAccountBalance']].groupby(by = 'CustomerID', as_index = False, sort = False)['CustAccountBalance'].median().reset_index()\n",
        "temp = temp.drop(columns = 'index')\n",
        "temp.rename(columns = {'CustAccountBalance' : 'Balance_Median'}, inplace = True)\n",
        "df7 = df7.merge(right = temp, on = 'CustomerID')\n",
        "\n",
        "#25 Median Transaction for each Custumer\n",
        "temp = df7[['CustomerID', 'TransactionAmount (INR)']].groupby(by = 'CustomerID', as_index = False, sort = False)['TransactionAmount (INR)'].median().reset_index()\n",
        "temp = temp.drop(columns = 'index')\n",
        "temp.rename(columns = {'TransactionAmount (INR)' : 'Transaction_Median'}, inplace = True)\n",
        "df7 = df7.merge(right = temp, on = 'CustomerID')\n",
        "\n",
        "#26 Min Utilization for each Custumer\n",
        "t = df7[['CustomerID', 'Utilisation_0']].groupby(by = 'CustomerID', as_index = False, sort = False).min().reset_index()\n",
        "t = t.drop(columns = 'index')\n",
        "t.rename(columns = {'Utilisation_0' : 'Utilisation_Min'}, inplace = True)\n",
        "df7 = df7.merge(right = t, on = 'CustomerID')\n",
        "\n",
        "#27 Max Utilization for each Custumer\n",
        "t = df7[['CustomerID', 'Utilisation_0']].groupby(by = 'CustomerID', as_index = False, sort = False).max().reset_index()\n",
        "t = t.drop(columns = 'index')\n",
        "t.rename(columns = {'Utilisation_0' : 'Utilisation_Max'}, inplace = True)\n",
        "df7 = df7.merge(right = t, on = 'CustomerID')\n",
        "\n",
        "#28 Median Utilization for each Custumer\n",
        "t = df7[['CustomerID', 'Utilisation_0']].groupby(by = 'CustomerID', as_index = False, sort = False)['Utilisation_0'].median().reset_index()\n",
        "t = t.drop(columns = 'index')\n",
        "t.rename(columns = {'Utilisation_0' : 'Utilisation_Median'}, inplace = True)\n",
        "df7 = df7.merge(right = t, on = 'CustomerID')\n"
      ],
      "metadata": {
        "id": "TUeg6QRn3O4p"
      },
      "execution_count": null,
      "outputs": []
    },
    {
      "cell_type": "code",
      "source": [
        "df7.head()"
      ],
      "metadata": {
        "colab": {
          "base_uri": "https://localhost:8080/",
          "height": 317
        },
        "id": "0NnMy4_1FEIF",
        "outputId": "c1e7c694-0ea7-48c3-e067-9a7b681477a8"
      },
      "execution_count": null,
      "outputs": [
        {
          "output_type": "execute_result",
          "data": {
            "text/plain": [
              "  TransactionID CustomerID CustomerDOB CustGender CustLocation  \\\n",
              "0            T1   C5841053  1994-10-01          F   JAMSHEDPUR   \n",
              "1            T2   C2142763  1957-04-04          M      JHAJJAR   \n",
              "2            T3   C4417068  1996-11-26          F       MUMBAI   \n",
              "3            T4   C5342380  1973-09-14          F       MUMBAI   \n",
              "4       T391139   C5342380  1979-05-29          M       MUMBAI   \n",
              "\n",
              "   CustAccountBalance TransactionDate TransactionTime  \\\n",
              "0            17819.05      2016-02-08        14:32:07   \n",
              "1             2270.69      2016-02-08        14:18:58   \n",
              "2            17874.44      2016-02-08        14:27:12   \n",
              "3           866503.21      2016-02-08        14:27:14   \n",
              "4             3195.78      2016-08-13        19:41:48   \n",
              "\n",
              "   TransactionAmount (INR)  Transaction_Frequency  ...  \\\n",
              "0                       25                      1  ...   \n",
              "1                    27999                      1  ...   \n",
              "2                      459                      1  ...   \n",
              "3                     2060                      2  ...   \n",
              "4                      878                      2  ...   \n",
              "\n",
              "   Avg_customerAge_Percentile  Transaction_Max  Transaction_Min  Balance_Max  \\\n",
              "0                    0.038146               25               25     17819.05   \n",
              "1                    0.988004            27999            27999      2270.69   \n",
              "2                    0.009189              459              459     17874.44   \n",
              "3                    0.886232             2060              878    866503.21   \n",
              "4                    0.886232             2060              878    866503.21   \n",
              "\n",
              "   Balance_Min  Balance_Median  Transaction_Median  Utilisation_Min  \\\n",
              "0     17819.05       17819.050                25.0         17794.05   \n",
              "1      2270.69        2270.690             27999.0        -25728.31   \n",
              "2     17874.44       17874.440               459.0         17415.44   \n",
              "3      3195.78      434849.495              1469.0          2317.78   \n",
              "4      3195.78      434849.495              1469.0          2317.78   \n",
              "\n",
              "  Utilisation_Max Utilisation_Median  \n",
              "0        17794.05          17794.050  \n",
              "1       -25728.31         -25728.310  \n",
              "2        17415.44          17415.440  \n",
              "3       864443.21         433380.495  \n",
              "4       864443.21         433380.495  \n",
              "\n",
              "[5 rows x 42 columns]"
            ],
            "text/html": [
              "\n",
              "  <div id=\"df-31a13d0d-2679-4ac6-9725-361bde48a271\">\n",
              "    <div class=\"colab-df-container\">\n",
              "      <div>\n",
              "<style scoped>\n",
              "    .dataframe tbody tr th:only-of-type {\n",
              "        vertical-align: middle;\n",
              "    }\n",
              "\n",
              "    .dataframe tbody tr th {\n",
              "        vertical-align: top;\n",
              "    }\n",
              "\n",
              "    .dataframe thead th {\n",
              "        text-align: right;\n",
              "    }\n",
              "</style>\n",
              "<table border=\"1\" class=\"dataframe\">\n",
              "  <thead>\n",
              "    <tr style=\"text-align: right;\">\n",
              "      <th></th>\n",
              "      <th>TransactionID</th>\n",
              "      <th>CustomerID</th>\n",
              "      <th>CustomerDOB</th>\n",
              "      <th>CustGender</th>\n",
              "      <th>CustLocation</th>\n",
              "      <th>CustAccountBalance</th>\n",
              "      <th>TransactionDate</th>\n",
              "      <th>TransactionTime</th>\n",
              "      <th>TransactionAmount (INR)</th>\n",
              "      <th>Transaction_Frequency</th>\n",
              "      <th>...</th>\n",
              "      <th>Avg_customerAge_Percentile</th>\n",
              "      <th>Transaction_Max</th>\n",
              "      <th>Transaction_Min</th>\n",
              "      <th>Balance_Max</th>\n",
              "      <th>Balance_Min</th>\n",
              "      <th>Balance_Median</th>\n",
              "      <th>Transaction_Median</th>\n",
              "      <th>Utilisation_Min</th>\n",
              "      <th>Utilisation_Max</th>\n",
              "      <th>Utilisation_Median</th>\n",
              "    </tr>\n",
              "  </thead>\n",
              "  <tbody>\n",
              "    <tr>\n",
              "      <th>0</th>\n",
              "      <td>T1</td>\n",
              "      <td>C5841053</td>\n",
              "      <td>1994-10-01</td>\n",
              "      <td>F</td>\n",
              "      <td>JAMSHEDPUR</td>\n",
              "      <td>17819.05</td>\n",
              "      <td>2016-02-08</td>\n",
              "      <td>14:32:07</td>\n",
              "      <td>25</td>\n",
              "      <td>1</td>\n",
              "      <td>...</td>\n",
              "      <td>0.038146</td>\n",
              "      <td>25</td>\n",
              "      <td>25</td>\n",
              "      <td>17819.05</td>\n",
              "      <td>17819.05</td>\n",
              "      <td>17819.050</td>\n",
              "      <td>25.0</td>\n",
              "      <td>17794.05</td>\n",
              "      <td>17794.05</td>\n",
              "      <td>17794.050</td>\n",
              "    </tr>\n",
              "    <tr>\n",
              "      <th>1</th>\n",
              "      <td>T2</td>\n",
              "      <td>C2142763</td>\n",
              "      <td>1957-04-04</td>\n",
              "      <td>M</td>\n",
              "      <td>JHAJJAR</td>\n",
              "      <td>2270.69</td>\n",
              "      <td>2016-02-08</td>\n",
              "      <td>14:18:58</td>\n",
              "      <td>27999</td>\n",
              "      <td>1</td>\n",
              "      <td>...</td>\n",
              "      <td>0.988004</td>\n",
              "      <td>27999</td>\n",
              "      <td>27999</td>\n",
              "      <td>2270.69</td>\n",
              "      <td>2270.69</td>\n",
              "      <td>2270.690</td>\n",
              "      <td>27999.0</td>\n",
              "      <td>-25728.31</td>\n",
              "      <td>-25728.31</td>\n",
              "      <td>-25728.310</td>\n",
              "    </tr>\n",
              "    <tr>\n",
              "      <th>2</th>\n",
              "      <td>T3</td>\n",
              "      <td>C4417068</td>\n",
              "      <td>1996-11-26</td>\n",
              "      <td>F</td>\n",
              "      <td>MUMBAI</td>\n",
              "      <td>17874.44</td>\n",
              "      <td>2016-02-08</td>\n",
              "      <td>14:27:12</td>\n",
              "      <td>459</td>\n",
              "      <td>1</td>\n",
              "      <td>...</td>\n",
              "      <td>0.009189</td>\n",
              "      <td>459</td>\n",
              "      <td>459</td>\n",
              "      <td>17874.44</td>\n",
              "      <td>17874.44</td>\n",
              "      <td>17874.440</td>\n",
              "      <td>459.0</td>\n",
              "      <td>17415.44</td>\n",
              "      <td>17415.44</td>\n",
              "      <td>17415.440</td>\n",
              "    </tr>\n",
              "    <tr>\n",
              "      <th>3</th>\n",
              "      <td>T4</td>\n",
              "      <td>C5342380</td>\n",
              "      <td>1973-09-14</td>\n",
              "      <td>F</td>\n",
              "      <td>MUMBAI</td>\n",
              "      <td>866503.21</td>\n",
              "      <td>2016-02-08</td>\n",
              "      <td>14:27:14</td>\n",
              "      <td>2060</td>\n",
              "      <td>2</td>\n",
              "      <td>...</td>\n",
              "      <td>0.886232</td>\n",
              "      <td>2060</td>\n",
              "      <td>878</td>\n",
              "      <td>866503.21</td>\n",
              "      <td>3195.78</td>\n",
              "      <td>434849.495</td>\n",
              "      <td>1469.0</td>\n",
              "      <td>2317.78</td>\n",
              "      <td>864443.21</td>\n",
              "      <td>433380.495</td>\n",
              "    </tr>\n",
              "    <tr>\n",
              "      <th>4</th>\n",
              "      <td>T391139</td>\n",
              "      <td>C5342380</td>\n",
              "      <td>1979-05-29</td>\n",
              "      <td>M</td>\n",
              "      <td>MUMBAI</td>\n",
              "      <td>3195.78</td>\n",
              "      <td>2016-08-13</td>\n",
              "      <td>19:41:48</td>\n",
              "      <td>878</td>\n",
              "      <td>2</td>\n",
              "      <td>...</td>\n",
              "      <td>0.886232</td>\n",
              "      <td>2060</td>\n",
              "      <td>878</td>\n",
              "      <td>866503.21</td>\n",
              "      <td>3195.78</td>\n",
              "      <td>434849.495</td>\n",
              "      <td>1469.0</td>\n",
              "      <td>2317.78</td>\n",
              "      <td>864443.21</td>\n",
              "      <td>433380.495</td>\n",
              "    </tr>\n",
              "  </tbody>\n",
              "</table>\n",
              "<p>5 rows × 42 columns</p>\n",
              "</div>\n",
              "      <button class=\"colab-df-convert\" onclick=\"convertToInteractive('df-31a13d0d-2679-4ac6-9725-361bde48a271')\"\n",
              "              title=\"Convert this dataframe to an interactive table.\"\n",
              "              style=\"display:none;\">\n",
              "        \n",
              "  <svg xmlns=\"http://www.w3.org/2000/svg\" height=\"24px\"viewBox=\"0 0 24 24\"\n",
              "       width=\"24px\">\n",
              "    <path d=\"M0 0h24v24H0V0z\" fill=\"none\"/>\n",
              "    <path d=\"M18.56 5.44l.94 2.06.94-2.06 2.06-.94-2.06-.94-.94-2.06-.94 2.06-2.06.94zm-11 1L8.5 8.5l.94-2.06 2.06-.94-2.06-.94L8.5 2.5l-.94 2.06-2.06.94zm10 10l.94 2.06.94-2.06 2.06-.94-2.06-.94-.94-2.06-.94 2.06-2.06.94z\"/><path d=\"M17.41 7.96l-1.37-1.37c-.4-.4-.92-.59-1.43-.59-.52 0-1.04.2-1.43.59L10.3 9.45l-7.72 7.72c-.78.78-.78 2.05 0 2.83L4 21.41c.39.39.9.59 1.41.59.51 0 1.02-.2 1.41-.59l7.78-7.78 2.81-2.81c.8-.78.8-2.07 0-2.86zM5.41 20L4 18.59l7.72-7.72 1.47 1.35L5.41 20z\"/>\n",
              "  </svg>\n",
              "      </button>\n",
              "      \n",
              "  <style>\n",
              "    .colab-df-container {\n",
              "      display:flex;\n",
              "      flex-wrap:wrap;\n",
              "      gap: 12px;\n",
              "    }\n",
              "\n",
              "    .colab-df-convert {\n",
              "      background-color: #E8F0FE;\n",
              "      border: none;\n",
              "      border-radius: 50%;\n",
              "      cursor: pointer;\n",
              "      display: none;\n",
              "      fill: #1967D2;\n",
              "      height: 32px;\n",
              "      padding: 0 0 0 0;\n",
              "      width: 32px;\n",
              "    }\n",
              "\n",
              "    .colab-df-convert:hover {\n",
              "      background-color: #E2EBFA;\n",
              "      box-shadow: 0px 1px 2px rgba(60, 64, 67, 0.3), 0px 1px 3px 1px rgba(60, 64, 67, 0.15);\n",
              "      fill: #174EA6;\n",
              "    }\n",
              "\n",
              "    [theme=dark] .colab-df-convert {\n",
              "      background-color: #3B4455;\n",
              "      fill: #D2E3FC;\n",
              "    }\n",
              "\n",
              "    [theme=dark] .colab-df-convert:hover {\n",
              "      background-color: #434B5C;\n",
              "      box-shadow: 0px 1px 3px 1px rgba(0, 0, 0, 0.15);\n",
              "      filter: drop-shadow(0px 1px 2px rgba(0, 0, 0, 0.3));\n",
              "      fill: #FFFFFF;\n",
              "    }\n",
              "  </style>\n",
              "\n",
              "      <script>\n",
              "        const buttonEl =\n",
              "          document.querySelector('#df-31a13d0d-2679-4ac6-9725-361bde48a271 button.colab-df-convert');\n",
              "        buttonEl.style.display =\n",
              "          google.colab.kernel.accessAllowed ? 'block' : 'none';\n",
              "\n",
              "        async function convertToInteractive(key) {\n",
              "          const element = document.querySelector('#df-31a13d0d-2679-4ac6-9725-361bde48a271');\n",
              "          const dataTable =\n",
              "            await google.colab.kernel.invokeFunction('convertToInteractive',\n",
              "                                                     [key], {});\n",
              "          if (!dataTable) return;\n",
              "\n",
              "          const docLinkHtml = 'Like what you see? Visit the ' +\n",
              "            '<a target=\"_blank\" href=https://colab.research.google.com/notebooks/data_table.ipynb>data table notebook</a>'\n",
              "            + ' to learn more about interactive tables.';\n",
              "          element.innerHTML = '';\n",
              "          dataTable['output_type'] = 'display_data';\n",
              "          await google.colab.output.renderOutput(dataTable, element);\n",
              "          const docLink = document.createElement('div');\n",
              "          docLink.innerHTML = docLinkHtml;\n",
              "          element.appendChild(docLink);\n",
              "        }\n",
              "      </script>\n",
              "    </div>\n",
              "  </div>\n",
              "  "
            ]
          },
          "metadata": {},
          "execution_count": 44
        }
      ]
    },
    {
      "cell_type": "markdown",
      "source": [
        "During the procedures, some extra columns were created and now it is time to remove them"
      ],
      "metadata": {
        "id": "Up4z-0vGVYvI"
      }
    },
    {
      "cell_type": "code",
      "source": [
        "colstoremove=['Bigger100',\n",
        " 'Bigger10000',\n",
        " 'Bigger500',\n",
        " 'CustAccountBalance',\n",
        " 'CustGender',\n",
        " 'CustLocation',\n",
        " 'CustomerAge',\n",
        " 'CustomerDOB',\n",
        " 'TransactionAmount (INR)',\n",
        " 'TransactionDate',\n",
        " 'TransactionID',\n",
        " 'TransactionMonth',\n",
        " 'TransactionTime',\n",
        " 'Utilisation_0']"
      ],
      "metadata": {
        "id": "71P3Ac_OROct"
      },
      "execution_count": null,
      "outputs": []
    },
    {
      "cell_type": "code",
      "source": [
        "def removeColList(df,colstoremove):\n",
        "  \"\"\"\n",
        "  Given a list of columns and a dataframe, this function removes the required columns from the dataframe\n",
        "  \"\"\"\n",
        "  my_cols = set(df.columns)\n",
        "  for i in colstoremove:\n",
        "   my_cols.remove(i)\n",
        "  my_cols = list(my_cols)\n",
        "  Final_df = df[my_cols]\n",
        "  return Final_df\n"
      ],
      "metadata": {
        "id": "DTVW97fnS9V1"
      },
      "execution_count": null,
      "outputs": []
    },
    {
      "cell_type": "code",
      "source": [
        "Final_df = removeColList(df7,colstoremove)"
      ],
      "metadata": {
        "id": "tRbqSEDwTkmE"
      },
      "execution_count": null,
      "outputs": []
    },
    {
      "cell_type": "code",
      "source": [
        "Final_df.head()"
      ],
      "metadata": {
        "colab": {
          "base_uri": "https://localhost:8080/",
          "height": 299
        },
        "id": "aO4-Hot7UFNF",
        "outputId": "1f5e888a-2e4c-4543-e22f-95c53a73e4af"
      },
      "execution_count": null,
      "outputs": [
        {
          "output_type": "execute_result",
          "data": {
            "text/plain": [
              "   Balance_Median  Balance_Avg_Percentile  Avg_customerAge_Percentile  \\\n",
              "0       17819.050                0.481766                    0.038146   \n",
              "1        2270.690                0.138440                    0.988004   \n",
              "2       17874.440                0.482572                    0.009189   \n",
              "3      434849.495                0.957291                    0.886232   \n",
              "4      434849.495                0.957291                    0.886232   \n",
              "\n",
              "  Location_Mode  Utilisation_Avg  Utilisation_Min  Balance_Max  \\\n",
              "0    JAMSHEDPUR        17794.050         17794.05     17819.05   \n",
              "1       JHAJJAR       -25728.310        -25728.31      2270.69   \n",
              "2        MUMBAI        17415.440         17415.44     17874.44   \n",
              "3        MUMBAI       433380.495          2317.78    866503.21   \n",
              "4        MUMBAI       433380.495          2317.78    866503.21   \n",
              "\n",
              "   Avg_customerAge  Transaction_Min  Number_Bigger_10000  ...  \\\n",
              "0             28.0               25                    0  ...   \n",
              "1             66.0            27999                    1  ...   \n",
              "2             26.0              459                    0  ...   \n",
              "3             46.5              878                    0  ...   \n",
              "4             46.5              878                    0  ...   \n",
              "\n",
              "   Transaction_Sum  Gender_Mode  Balance_Min Transaction_Median  \\\n",
              "0               25            F     17819.05               25.0   \n",
              "1            27999            M      2270.69            27999.0   \n",
              "2              459            F     17874.44              459.0   \n",
              "3             2938            F      3195.78             1469.0   \n",
              "4             2938            F      3195.78             1469.0   \n",
              "\n",
              "   Transaction_Avg  Transaction_Std  Generation  Debt  \\\n",
              "0             25.0         0.000000  Silent Gen     0   \n",
              "1          27999.0         0.000000       Gen X     1   \n",
              "2            459.0         0.000000  Silent Gen     0   \n",
              "3           1469.0       835.800215     Boomers     0   \n",
              "4           1469.0       835.800215     Boomers     0   \n",
              "\n",
              "   Transaction_percent_Avg Utilisation_Avg_Percentile  \n",
              "0                 0.001403                   0.495681  \n",
              "1                12.330613                   0.000902  \n",
              "2                 0.025679                   0.490606  \n",
              "3                 0.003378                   0.957365  \n",
              "4                 0.003378                   0.957365  \n",
              "\n",
              "[5 rows x 28 columns]"
            ],
            "text/html": [
              "\n",
              "  <div id=\"df-6b12d3c7-bb99-4199-8abe-9f4d3fa99a0a\">\n",
              "    <div class=\"colab-df-container\">\n",
              "      <div>\n",
              "<style scoped>\n",
              "    .dataframe tbody tr th:only-of-type {\n",
              "        vertical-align: middle;\n",
              "    }\n",
              "\n",
              "    .dataframe tbody tr th {\n",
              "        vertical-align: top;\n",
              "    }\n",
              "\n",
              "    .dataframe thead th {\n",
              "        text-align: right;\n",
              "    }\n",
              "</style>\n",
              "<table border=\"1\" class=\"dataframe\">\n",
              "  <thead>\n",
              "    <tr style=\"text-align: right;\">\n",
              "      <th></th>\n",
              "      <th>Balance_Median</th>\n",
              "      <th>Balance_Avg_Percentile</th>\n",
              "      <th>Avg_customerAge_Percentile</th>\n",
              "      <th>Location_Mode</th>\n",
              "      <th>Utilisation_Avg</th>\n",
              "      <th>Utilisation_Min</th>\n",
              "      <th>Balance_Max</th>\n",
              "      <th>Avg_customerAge</th>\n",
              "      <th>Transaction_Min</th>\n",
              "      <th>Number_Bigger_10000</th>\n",
              "      <th>...</th>\n",
              "      <th>Transaction_Sum</th>\n",
              "      <th>Gender_Mode</th>\n",
              "      <th>Balance_Min</th>\n",
              "      <th>Transaction_Median</th>\n",
              "      <th>Transaction_Avg</th>\n",
              "      <th>Transaction_Std</th>\n",
              "      <th>Generation</th>\n",
              "      <th>Debt</th>\n",
              "      <th>Transaction_percent_Avg</th>\n",
              "      <th>Utilisation_Avg_Percentile</th>\n",
              "    </tr>\n",
              "  </thead>\n",
              "  <tbody>\n",
              "    <tr>\n",
              "      <th>0</th>\n",
              "      <td>17819.050</td>\n",
              "      <td>0.481766</td>\n",
              "      <td>0.038146</td>\n",
              "      <td>JAMSHEDPUR</td>\n",
              "      <td>17794.050</td>\n",
              "      <td>17794.05</td>\n",
              "      <td>17819.05</td>\n",
              "      <td>28.0</td>\n",
              "      <td>25</td>\n",
              "      <td>0</td>\n",
              "      <td>...</td>\n",
              "      <td>25</td>\n",
              "      <td>F</td>\n",
              "      <td>17819.05</td>\n",
              "      <td>25.0</td>\n",
              "      <td>25.0</td>\n",
              "      <td>0.000000</td>\n",
              "      <td>Silent Gen</td>\n",
              "      <td>0</td>\n",
              "      <td>0.001403</td>\n",
              "      <td>0.495681</td>\n",
              "    </tr>\n",
              "    <tr>\n",
              "      <th>1</th>\n",
              "      <td>2270.690</td>\n",
              "      <td>0.138440</td>\n",
              "      <td>0.988004</td>\n",
              "      <td>JHAJJAR</td>\n",
              "      <td>-25728.310</td>\n",
              "      <td>-25728.31</td>\n",
              "      <td>2270.69</td>\n",
              "      <td>66.0</td>\n",
              "      <td>27999</td>\n",
              "      <td>1</td>\n",
              "      <td>...</td>\n",
              "      <td>27999</td>\n",
              "      <td>M</td>\n",
              "      <td>2270.69</td>\n",
              "      <td>27999.0</td>\n",
              "      <td>27999.0</td>\n",
              "      <td>0.000000</td>\n",
              "      <td>Gen X</td>\n",
              "      <td>1</td>\n",
              "      <td>12.330613</td>\n",
              "      <td>0.000902</td>\n",
              "    </tr>\n",
              "    <tr>\n",
              "      <th>2</th>\n",
              "      <td>17874.440</td>\n",
              "      <td>0.482572</td>\n",
              "      <td>0.009189</td>\n",
              "      <td>MUMBAI</td>\n",
              "      <td>17415.440</td>\n",
              "      <td>17415.44</td>\n",
              "      <td>17874.44</td>\n",
              "      <td>26.0</td>\n",
              "      <td>459</td>\n",
              "      <td>0</td>\n",
              "      <td>...</td>\n",
              "      <td>459</td>\n",
              "      <td>F</td>\n",
              "      <td>17874.44</td>\n",
              "      <td>459.0</td>\n",
              "      <td>459.0</td>\n",
              "      <td>0.000000</td>\n",
              "      <td>Silent Gen</td>\n",
              "      <td>0</td>\n",
              "      <td>0.025679</td>\n",
              "      <td>0.490606</td>\n",
              "    </tr>\n",
              "    <tr>\n",
              "      <th>3</th>\n",
              "      <td>434849.495</td>\n",
              "      <td>0.957291</td>\n",
              "      <td>0.886232</td>\n",
              "      <td>MUMBAI</td>\n",
              "      <td>433380.495</td>\n",
              "      <td>2317.78</td>\n",
              "      <td>866503.21</td>\n",
              "      <td>46.5</td>\n",
              "      <td>878</td>\n",
              "      <td>0</td>\n",
              "      <td>...</td>\n",
              "      <td>2938</td>\n",
              "      <td>F</td>\n",
              "      <td>3195.78</td>\n",
              "      <td>1469.0</td>\n",
              "      <td>1469.0</td>\n",
              "      <td>835.800215</td>\n",
              "      <td>Boomers</td>\n",
              "      <td>0</td>\n",
              "      <td>0.003378</td>\n",
              "      <td>0.957365</td>\n",
              "    </tr>\n",
              "    <tr>\n",
              "      <th>4</th>\n",
              "      <td>434849.495</td>\n",
              "      <td>0.957291</td>\n",
              "      <td>0.886232</td>\n",
              "      <td>MUMBAI</td>\n",
              "      <td>433380.495</td>\n",
              "      <td>2317.78</td>\n",
              "      <td>866503.21</td>\n",
              "      <td>46.5</td>\n",
              "      <td>878</td>\n",
              "      <td>0</td>\n",
              "      <td>...</td>\n",
              "      <td>2938</td>\n",
              "      <td>F</td>\n",
              "      <td>3195.78</td>\n",
              "      <td>1469.0</td>\n",
              "      <td>1469.0</td>\n",
              "      <td>835.800215</td>\n",
              "      <td>Boomers</td>\n",
              "      <td>0</td>\n",
              "      <td>0.003378</td>\n",
              "      <td>0.957365</td>\n",
              "    </tr>\n",
              "  </tbody>\n",
              "</table>\n",
              "<p>5 rows × 28 columns</p>\n",
              "</div>\n",
              "      <button class=\"colab-df-convert\" onclick=\"convertToInteractive('df-6b12d3c7-bb99-4199-8abe-9f4d3fa99a0a')\"\n",
              "              title=\"Convert this dataframe to an interactive table.\"\n",
              "              style=\"display:none;\">\n",
              "        \n",
              "  <svg xmlns=\"http://www.w3.org/2000/svg\" height=\"24px\"viewBox=\"0 0 24 24\"\n",
              "       width=\"24px\">\n",
              "    <path d=\"M0 0h24v24H0V0z\" fill=\"none\"/>\n",
              "    <path d=\"M18.56 5.44l.94 2.06.94-2.06 2.06-.94-2.06-.94-.94-2.06-.94 2.06-2.06.94zm-11 1L8.5 8.5l.94-2.06 2.06-.94-2.06-.94L8.5 2.5l-.94 2.06-2.06.94zm10 10l.94 2.06.94-2.06 2.06-.94-2.06-.94-.94-2.06-.94 2.06-2.06.94z\"/><path d=\"M17.41 7.96l-1.37-1.37c-.4-.4-.92-.59-1.43-.59-.52 0-1.04.2-1.43.59L10.3 9.45l-7.72 7.72c-.78.78-.78 2.05 0 2.83L4 21.41c.39.39.9.59 1.41.59.51 0 1.02-.2 1.41-.59l7.78-7.78 2.81-2.81c.8-.78.8-2.07 0-2.86zM5.41 20L4 18.59l7.72-7.72 1.47 1.35L5.41 20z\"/>\n",
              "  </svg>\n",
              "      </button>\n",
              "      \n",
              "  <style>\n",
              "    .colab-df-container {\n",
              "      display:flex;\n",
              "      flex-wrap:wrap;\n",
              "      gap: 12px;\n",
              "    }\n",
              "\n",
              "    .colab-df-convert {\n",
              "      background-color: #E8F0FE;\n",
              "      border: none;\n",
              "      border-radius: 50%;\n",
              "      cursor: pointer;\n",
              "      display: none;\n",
              "      fill: #1967D2;\n",
              "      height: 32px;\n",
              "      padding: 0 0 0 0;\n",
              "      width: 32px;\n",
              "    }\n",
              "\n",
              "    .colab-df-convert:hover {\n",
              "      background-color: #E2EBFA;\n",
              "      box-shadow: 0px 1px 2px rgba(60, 64, 67, 0.3), 0px 1px 3px 1px rgba(60, 64, 67, 0.15);\n",
              "      fill: #174EA6;\n",
              "    }\n",
              "\n",
              "    [theme=dark] .colab-df-convert {\n",
              "      background-color: #3B4455;\n",
              "      fill: #D2E3FC;\n",
              "    }\n",
              "\n",
              "    [theme=dark] .colab-df-convert:hover {\n",
              "      background-color: #434B5C;\n",
              "      box-shadow: 0px 1px 3px 1px rgba(0, 0, 0, 0.15);\n",
              "      filter: drop-shadow(0px 1px 2px rgba(0, 0, 0, 0.3));\n",
              "      fill: #FFFFFF;\n",
              "    }\n",
              "  </style>\n",
              "\n",
              "      <script>\n",
              "        const buttonEl =\n",
              "          document.querySelector('#df-6b12d3c7-bb99-4199-8abe-9f4d3fa99a0a button.colab-df-convert');\n",
              "        buttonEl.style.display =\n",
              "          google.colab.kernel.accessAllowed ? 'block' : 'none';\n",
              "\n",
              "        async function convertToInteractive(key) {\n",
              "          const element = document.querySelector('#df-6b12d3c7-bb99-4199-8abe-9f4d3fa99a0a');\n",
              "          const dataTable =\n",
              "            await google.colab.kernel.invokeFunction('convertToInteractive',\n",
              "                                                     [key], {});\n",
              "          if (!dataTable) return;\n",
              "\n",
              "          const docLinkHtml = 'Like what you see? Visit the ' +\n",
              "            '<a target=\"_blank\" href=https://colab.research.google.com/notebooks/data_table.ipynb>data table notebook</a>'\n",
              "            + ' to learn more about interactive tables.';\n",
              "          element.innerHTML = '';\n",
              "          dataTable['output_type'] = 'display_data';\n",
              "          await google.colab.output.renderOutput(dataTable, element);\n",
              "          const docLink = document.createElement('div');\n",
              "          docLink.innerHTML = docLinkHtml;\n",
              "          element.appendChild(docLink);\n",
              "        }\n",
              "      </script>\n",
              "    </div>\n",
              "  </div>\n",
              "  "
            ]
          },
          "metadata": {},
          "execution_count": 48
        }
      ]
    },
    {
      "cell_type": "markdown",
      "source": [
        "We stored the final Dataset in our drive"
      ],
      "metadata": {
        "id": "SNIHGLZLVtq1"
      }
    },
    {
      "cell_type": "code",
      "source": [
        "Final_df.to_csv('/content/drive/MyDrive/adm hw4/Final_df.csv', index=False)"
      ],
      "metadata": {
        "id": "5l58NOW2Uigw"
      },
      "execution_count": null,
      "outputs": []
    },
    {
      "cell_type": "code",
      "source": [
        "del Final_df"
      ],
      "metadata": {
        "id": "NgNzIHcdW3FP"
      },
      "execution_count": null,
      "outputs": []
    },
    {
      "cell_type": "markdown",
      "source": [
        "## 2.2 Choose your features (variables)!"
      ],
      "metadata": {
        "id": "fun2ENl3Wsus"
      }
    },
    {
      "cell_type": "markdown",
      "source": [
        "First we load the dataset"
      ],
      "metadata": {
        "id": "g7gNa5Ok1RXk"
      }
    },
    {
      "cell_type": "code",
      "source": [
        "Fd = pd.read_csv(r'/content/drive/MyDrive/adm hw4/Final_df.csv')"
      ],
      "metadata": {
        "id": "NNsNdxm_YSDn"
      },
      "execution_count": null,
      "outputs": []
    },
    {
      "cell_type": "code",
      "source": [
        "Fd.drop_duplicates(inplace=True)\n",
        "Fd.dropna(inplace=True)\n",
        "Fd.set_index('CustomerID',inplace=True)"
      ],
      "metadata": {
        "id": "q4PGZqQFWuqT"
      },
      "execution_count": null,
      "outputs": []
    },
    {
      "cell_type": "markdown",
      "source": [
        "Then we select the columns"
      ],
      "metadata": {
        "id": "L2x47Xjv1YUN"
      }
    },
    {
      "cell_type": "code",
      "source": [
        "Fd.columns"
      ],
      "metadata": {
        "colab": {
          "base_uri": "https://localhost:8080/"
        },
        "id": "amQTFw6MbwX0",
        "outputId": "903f0885-4f85-4bbf-bf93-837e92e5b2f3"
      },
      "execution_count": null,
      "outputs": [
        {
          "output_type": "execute_result",
          "data": {
            "text/plain": [
              "Index(['Balance_Median', 'Balance_Avg_Percentile',\n",
              "       'Avg_customerAge_Percentile', 'Location_Mode', 'Utilisation_Avg',\n",
              "       'Utilisation_Min', 'Balance_Max', 'Avg_customerAge', 'Transaction_Min',\n",
              "       'Number_Bigger_10000', 'Transaction_Max', 'Utilisation_Median',\n",
              "       'Utilisation_Max', 'Transaction_Frequency', 'Number_Bigger_500',\n",
              "       'Number_Bigger_100', 'Balance_Avg', 'Transaction_Sum', 'Gender_Mode',\n",
              "       'Balance_Min', 'Transaction_Median', 'Transaction_Avg',\n",
              "       'Transaction_Std', 'Generation', 'Debt', 'Transaction_percent_Avg',\n",
              "       'Utilisation_Avg_Percentile'],\n",
              "      dtype='object')"
            ]
          },
          "metadata": {},
          "execution_count": 20
        }
      ]
    },
    {
      "cell_type": "code",
      "source": [
        "cols_to_norm = ['Utilisation_Max',  'Balance_Median',\n",
        "       'Avg_customerAge', 'Balance_Max', 'Number_Bigger_500', 'Balance_Min',\n",
        "       'Utilisation_Median', 'Transaction_Frequency',\n",
        "        'Utilisation_Avg', 'Transaction_Min',\n",
        "       'Number_Bigger_10000', 'Transaction_Sum', 'Transaction_Median',\n",
        "       'Number_Bigger_100', 'Balance_Avg', 'Transaction_Max',\n",
        "       'Transaction_Avg', 'Utilisation_Min','Utilisation_Avg_Percentile','Utilisation_Avg_Percentile', 'Balance_Avg_Percentile','Transaction_Std']"
      ],
      "metadata": {
        "id": "IUZ0Oh4KVtwv"
      },
      "execution_count": null,
      "outputs": []
    },
    {
      "cell_type": "markdown",
      "source": [
        "we scale our features with the scikit-learn package"
      ],
      "metadata": {
        "id": "9VYaPKxQ3lN7"
      }
    },
    {
      "cell_type": "code",
      "source": [
        "Fds=StandardScaler().fit_transform(Fd[cols_to_norm].to_numpy())"
      ],
      "metadata": {
        "id": "8xvUwdSHYaar"
      },
      "execution_count": null,
      "outputs": []
    },
    {
      "cell_type": "markdown",
      "source": [
        "Since PCA can only be applied on numeric variables, we decide to eliminate all variables that are not. so we remain only with the features in the `Fds` dataset"
      ],
      "metadata": {
        "id": "bjnGbzV65AMu"
      }
    },
    {
      "cell_type": "code",
      "source": [
        "Fds = pd.DataFrame(Fds, columns=cols_to_norm)\n",
        "Fds"
      ],
      "metadata": {
        "colab": {
          "base_uri": "https://localhost:8080/",
          "height": 488
        },
        "id": "PAFWPejLfd1v",
        "outputId": "65761c74-3ae3-402b-887c-fd338706cf5a"
      },
      "execution_count": null,
      "outputs": [
        {
          "output_type": "execute_result",
          "data": {
            "text/plain": [
              "        Utilisation_Max  Balance_Median  Avg_customerAge  Balance_Max  \\\n",
              "0             -0.115772       -0.110569        -1.125945    -0.117390   \n",
              "1             -0.165224       -0.130388         3.395195    -0.135049   \n",
              "2             -0.116202       -0.110498        -1.363900    -0.117327   \n",
              "3              0.846226        0.421014         1.075137     0.846510   \n",
              "4             -0.130363       -0.124723        -0.293103    -0.130002   \n",
              "...                 ...             ...              ...          ...   \n",
              "839073        -0.138871       -0.132690         0.658716    -0.137100   \n",
              "839074        -0.136317       -0.131736        -0.887990    -0.136251   \n",
              "839075        -0.128223       -0.123550        -0.650035    -0.128957   \n",
              "839076        -0.105481       -0.098469        -0.769013    -0.106609   \n",
              "839077        -0.125630       -0.120385         0.777693    -0.126137   \n",
              "\n",
              "        Number_Bigger_500  Balance_Min  Utilisation_Median  \\\n",
              "0               -0.953556    -0.098038           -0.108797   \n",
              "1                0.774670    -0.118601           -0.164296   \n",
              "2               -0.953556    -0.097964           -0.109280   \n",
              "3                2.502896    -0.117377            0.421153   \n",
              "4                0.774670    -0.112724           -0.125173   \n",
              "...                   ...          ...                 ...   \n",
              "839073           0.774670    -0.120989           -0.134721   \n",
              "839074           0.774670    -0.120000           -0.131854   \n",
              "839075           0.774670    -0.111506           -0.122771   \n",
              "839076          -0.953556    -0.085484           -0.097247   \n",
              "839077           0.774670    -0.108223           -0.119861   \n",
              "\n",
              "        Transaction_Frequency  Utilisation_Avg  Transaction_Min  \\\n",
              "0                   -0.400542        -0.110195        -0.214271   \n",
              "1                   -0.400542        -0.165571         4.539665   \n",
              "2                   -0.400542        -0.110677        -0.140516   \n",
              "3                    1.897625         0.418578        -0.069311   \n",
              "4                   -0.400542        -0.126534         0.080917   \n",
              "...                       ...              ...              ...   \n",
              "839073              -0.400542        -0.136061         0.291304   \n",
              "839074              -0.400542        -0.133201         0.036393   \n",
              "839075              -0.400542        -0.124137        -0.082736   \n",
              "839076              -0.400542        -0.098671        -0.140346   \n",
              "839077              -0.400542        -0.121234        -0.048578   \n",
              "\n",
              "        Number_Bigger_10000  Transaction_Sum  Transaction_Median  \\\n",
              "0                 -0.160579        -0.251284           -0.234566   \n",
              "1                  6.177371         3.931646            4.404349   \n",
              "2                 -0.160579        -0.186388           -0.162596   \n",
              "3                 -0.160579         0.184295            0.004892   \n",
              "4                 -0.160579         0.008448            0.053480   \n",
              "...                     ...              ...                 ...   \n",
              "839073            -0.160579         0.193566            0.258777   \n",
              "839074            -0.160579        -0.030728            0.010033   \n",
              "839075            -0.160579        -0.135548           -0.106214   \n",
              "839076            -0.160579        -0.186239           -0.162430   \n",
              "839077            -0.160579        -0.105493           -0.072882   \n",
              "\n",
              "        Number_Bigger_100  Balance_Avg  Transaction_Max  Transaction_Avg  \\\n",
              "0               -1.818622    -0.111969        -0.243202        -0.236314   \n",
              "1                0.031866    -0.131744         3.977559         4.391156   \n",
              "2                0.031866    -0.111898        -0.177720        -0.164522   \n",
              "3                1.882353     0.418433         0.063842         0.002553   \n",
              "4                0.031866    -0.126092         0.018879         0.051021   \n",
              "...                   ...          ...              ...              ...   \n",
              "839073           0.031866    -0.134041         0.205670         0.255811   \n",
              "839074           0.031866    -0.133090        -0.020652         0.007681   \n",
              "839075           0.031866    -0.124921        -0.126420        -0.108279   \n",
              "839076           0.031866    -0.099896        -0.177569        -0.164357   \n",
              "839077           0.031866    -0.121764        -0.096093        -0.075030   \n",
              "\n",
              "        Utilisation_Min  Utilisation_Avg_Percentile  \\\n",
              "0             -0.096229                    0.029822   \n",
              "1             -0.153810                   -1.663313   \n",
              "2             -0.096730                    0.012457   \n",
              "3             -0.116704                    1.609706   \n",
              "4             -0.113219                   -0.843167   \n",
              "...                 ...                         ...   \n",
              "839073        -0.123125                   -1.627866   \n",
              "839074        -0.120151                   -1.517168   \n",
              "839075        -0.110726                   -0.671814   \n",
              "839076        -0.084246                    0.356921   \n",
              "839077        -0.107708                   -0.491507   \n",
              "\n",
              "        Utilisation_Avg_Percentile  Balance_Avg_Percentile  Transaction_Std  \n",
              "0                         0.029822               -0.016879        -0.112608  \n",
              "1                        -1.663313               -1.190474        -0.112608  \n",
              "2                         0.012457               -0.014123        -0.112608  \n",
              "3                         1.609706                1.608613         0.283006  \n",
              "4                        -0.843167               -0.755006        -0.112608  \n",
              "...                            ...                     ...              ...  \n",
              "839073                   -1.627866               -1.408375        -0.112608  \n",
              "839074                   -1.517168               -1.305384        -0.112608  \n",
              "839075                   -0.671814               -0.679128        -0.112608  \n",
              "839076                    0.356921                0.333810        -0.112608  \n",
              "839077                   -0.491507               -0.482362        -0.112608  \n",
              "\n",
              "[839078 rows x 22 columns]"
            ],
            "text/html": [
              "\n",
              "  <div id=\"df-2ea9b9a0-7669-48df-8470-df42ef41b82e\">\n",
              "    <div class=\"colab-df-container\">\n",
              "      <div>\n",
              "<style scoped>\n",
              "    .dataframe tbody tr th:only-of-type {\n",
              "        vertical-align: middle;\n",
              "    }\n",
              "\n",
              "    .dataframe tbody tr th {\n",
              "        vertical-align: top;\n",
              "    }\n",
              "\n",
              "    .dataframe thead th {\n",
              "        text-align: right;\n",
              "    }\n",
              "</style>\n",
              "<table border=\"1\" class=\"dataframe\">\n",
              "  <thead>\n",
              "    <tr style=\"text-align: right;\">\n",
              "      <th></th>\n",
              "      <th>Utilisation_Max</th>\n",
              "      <th>Balance_Median</th>\n",
              "      <th>Avg_customerAge</th>\n",
              "      <th>Balance_Max</th>\n",
              "      <th>Number_Bigger_500</th>\n",
              "      <th>Balance_Min</th>\n",
              "      <th>Utilisation_Median</th>\n",
              "      <th>Transaction_Frequency</th>\n",
              "      <th>Utilisation_Avg</th>\n",
              "      <th>Transaction_Min</th>\n",
              "      <th>Number_Bigger_10000</th>\n",
              "      <th>Transaction_Sum</th>\n",
              "      <th>Transaction_Median</th>\n",
              "      <th>Number_Bigger_100</th>\n",
              "      <th>Balance_Avg</th>\n",
              "      <th>Transaction_Max</th>\n",
              "      <th>Transaction_Avg</th>\n",
              "      <th>Utilisation_Min</th>\n",
              "      <th>Utilisation_Avg_Percentile</th>\n",
              "      <th>Utilisation_Avg_Percentile</th>\n",
              "      <th>Balance_Avg_Percentile</th>\n",
              "      <th>Transaction_Std</th>\n",
              "    </tr>\n",
              "  </thead>\n",
              "  <tbody>\n",
              "    <tr>\n",
              "      <th>0</th>\n",
              "      <td>-0.115772</td>\n",
              "      <td>-0.110569</td>\n",
              "      <td>-1.125945</td>\n",
              "      <td>-0.117390</td>\n",
              "      <td>-0.953556</td>\n",
              "      <td>-0.098038</td>\n",
              "      <td>-0.108797</td>\n",
              "      <td>-0.400542</td>\n",
              "      <td>-0.110195</td>\n",
              "      <td>-0.214271</td>\n",
              "      <td>-0.160579</td>\n",
              "      <td>-0.251284</td>\n",
              "      <td>-0.234566</td>\n",
              "      <td>-1.818622</td>\n",
              "      <td>-0.111969</td>\n",
              "      <td>-0.243202</td>\n",
              "      <td>-0.236314</td>\n",
              "      <td>-0.096229</td>\n",
              "      <td>0.029822</td>\n",
              "      <td>0.029822</td>\n",
              "      <td>-0.016879</td>\n",
              "      <td>-0.112608</td>\n",
              "    </tr>\n",
              "    <tr>\n",
              "      <th>1</th>\n",
              "      <td>-0.165224</td>\n",
              "      <td>-0.130388</td>\n",
              "      <td>3.395195</td>\n",
              "      <td>-0.135049</td>\n",
              "      <td>0.774670</td>\n",
              "      <td>-0.118601</td>\n",
              "      <td>-0.164296</td>\n",
              "      <td>-0.400542</td>\n",
              "      <td>-0.165571</td>\n",
              "      <td>4.539665</td>\n",
              "      <td>6.177371</td>\n",
              "      <td>3.931646</td>\n",
              "      <td>4.404349</td>\n",
              "      <td>0.031866</td>\n",
              "      <td>-0.131744</td>\n",
              "      <td>3.977559</td>\n",
              "      <td>4.391156</td>\n",
              "      <td>-0.153810</td>\n",
              "      <td>-1.663313</td>\n",
              "      <td>-1.663313</td>\n",
              "      <td>-1.190474</td>\n",
              "      <td>-0.112608</td>\n",
              "    </tr>\n",
              "    <tr>\n",
              "      <th>2</th>\n",
              "      <td>-0.116202</td>\n",
              "      <td>-0.110498</td>\n",
              "      <td>-1.363900</td>\n",
              "      <td>-0.117327</td>\n",
              "      <td>-0.953556</td>\n",
              "      <td>-0.097964</td>\n",
              "      <td>-0.109280</td>\n",
              "      <td>-0.400542</td>\n",
              "      <td>-0.110677</td>\n",
              "      <td>-0.140516</td>\n",
              "      <td>-0.160579</td>\n",
              "      <td>-0.186388</td>\n",
              "      <td>-0.162596</td>\n",
              "      <td>0.031866</td>\n",
              "      <td>-0.111898</td>\n",
              "      <td>-0.177720</td>\n",
              "      <td>-0.164522</td>\n",
              "      <td>-0.096730</td>\n",
              "      <td>0.012457</td>\n",
              "      <td>0.012457</td>\n",
              "      <td>-0.014123</td>\n",
              "      <td>-0.112608</td>\n",
              "    </tr>\n",
              "    <tr>\n",
              "      <th>3</th>\n",
              "      <td>0.846226</td>\n",
              "      <td>0.421014</td>\n",
              "      <td>1.075137</td>\n",
              "      <td>0.846510</td>\n",
              "      <td>2.502896</td>\n",
              "      <td>-0.117377</td>\n",
              "      <td>0.421153</td>\n",
              "      <td>1.897625</td>\n",
              "      <td>0.418578</td>\n",
              "      <td>-0.069311</td>\n",
              "      <td>-0.160579</td>\n",
              "      <td>0.184295</td>\n",
              "      <td>0.004892</td>\n",
              "      <td>1.882353</td>\n",
              "      <td>0.418433</td>\n",
              "      <td>0.063842</td>\n",
              "      <td>0.002553</td>\n",
              "      <td>-0.116704</td>\n",
              "      <td>1.609706</td>\n",
              "      <td>1.609706</td>\n",
              "      <td>1.608613</td>\n",
              "      <td>0.283006</td>\n",
              "    </tr>\n",
              "    <tr>\n",
              "      <th>4</th>\n",
              "      <td>-0.130363</td>\n",
              "      <td>-0.124723</td>\n",
              "      <td>-0.293103</td>\n",
              "      <td>-0.130002</td>\n",
              "      <td>0.774670</td>\n",
              "      <td>-0.112724</td>\n",
              "      <td>-0.125173</td>\n",
              "      <td>-0.400542</td>\n",
              "      <td>-0.126534</td>\n",
              "      <td>0.080917</td>\n",
              "      <td>-0.160579</td>\n",
              "      <td>0.008448</td>\n",
              "      <td>0.053480</td>\n",
              "      <td>0.031866</td>\n",
              "      <td>-0.126092</td>\n",
              "      <td>0.018879</td>\n",
              "      <td>0.051021</td>\n",
              "      <td>-0.113219</td>\n",
              "      <td>-0.843167</td>\n",
              "      <td>-0.843167</td>\n",
              "      <td>-0.755006</td>\n",
              "      <td>-0.112608</td>\n",
              "    </tr>\n",
              "    <tr>\n",
              "      <th>...</th>\n",
              "      <td>...</td>\n",
              "      <td>...</td>\n",
              "      <td>...</td>\n",
              "      <td>...</td>\n",
              "      <td>...</td>\n",
              "      <td>...</td>\n",
              "      <td>...</td>\n",
              "      <td>...</td>\n",
              "      <td>...</td>\n",
              "      <td>...</td>\n",
              "      <td>...</td>\n",
              "      <td>...</td>\n",
              "      <td>...</td>\n",
              "      <td>...</td>\n",
              "      <td>...</td>\n",
              "      <td>...</td>\n",
              "      <td>...</td>\n",
              "      <td>...</td>\n",
              "      <td>...</td>\n",
              "      <td>...</td>\n",
              "      <td>...</td>\n",
              "      <td>...</td>\n",
              "    </tr>\n",
              "    <tr>\n",
              "      <th>839073</th>\n",
              "      <td>-0.138871</td>\n",
              "      <td>-0.132690</td>\n",
              "      <td>0.658716</td>\n",
              "      <td>-0.137100</td>\n",
              "      <td>0.774670</td>\n",
              "      <td>-0.120989</td>\n",
              "      <td>-0.134721</td>\n",
              "      <td>-0.400542</td>\n",
              "      <td>-0.136061</td>\n",
              "      <td>0.291304</td>\n",
              "      <td>-0.160579</td>\n",
              "      <td>0.193566</td>\n",
              "      <td>0.258777</td>\n",
              "      <td>0.031866</td>\n",
              "      <td>-0.134041</td>\n",
              "      <td>0.205670</td>\n",
              "      <td>0.255811</td>\n",
              "      <td>-0.123125</td>\n",
              "      <td>-1.627866</td>\n",
              "      <td>-1.627866</td>\n",
              "      <td>-1.408375</td>\n",
              "      <td>-0.112608</td>\n",
              "    </tr>\n",
              "    <tr>\n",
              "      <th>839074</th>\n",
              "      <td>-0.136317</td>\n",
              "      <td>-0.131736</td>\n",
              "      <td>-0.887990</td>\n",
              "      <td>-0.136251</td>\n",
              "      <td>0.774670</td>\n",
              "      <td>-0.120000</td>\n",
              "      <td>-0.131854</td>\n",
              "      <td>-0.400542</td>\n",
              "      <td>-0.133201</td>\n",
              "      <td>0.036393</td>\n",
              "      <td>-0.160579</td>\n",
              "      <td>-0.030728</td>\n",
              "      <td>0.010033</td>\n",
              "      <td>0.031866</td>\n",
              "      <td>-0.133090</td>\n",
              "      <td>-0.020652</td>\n",
              "      <td>0.007681</td>\n",
              "      <td>-0.120151</td>\n",
              "      <td>-1.517168</td>\n",
              "      <td>-1.517168</td>\n",
              "      <td>-1.305384</td>\n",
              "      <td>-0.112608</td>\n",
              "    </tr>\n",
              "    <tr>\n",
              "      <th>839075</th>\n",
              "      <td>-0.128223</td>\n",
              "      <td>-0.123550</td>\n",
              "      <td>-0.650035</td>\n",
              "      <td>-0.128957</td>\n",
              "      <td>0.774670</td>\n",
              "      <td>-0.111506</td>\n",
              "      <td>-0.122771</td>\n",
              "      <td>-0.400542</td>\n",
              "      <td>-0.124137</td>\n",
              "      <td>-0.082736</td>\n",
              "      <td>-0.160579</td>\n",
              "      <td>-0.135548</td>\n",
              "      <td>-0.106214</td>\n",
              "      <td>0.031866</td>\n",
              "      <td>-0.124921</td>\n",
              "      <td>-0.126420</td>\n",
              "      <td>-0.108279</td>\n",
              "      <td>-0.110726</td>\n",
              "      <td>-0.671814</td>\n",
              "      <td>-0.671814</td>\n",
              "      <td>-0.679128</td>\n",
              "      <td>-0.112608</td>\n",
              "    </tr>\n",
              "    <tr>\n",
              "      <th>839076</th>\n",
              "      <td>-0.105481</td>\n",
              "      <td>-0.098469</td>\n",
              "      <td>-0.769013</td>\n",
              "      <td>-0.106609</td>\n",
              "      <td>-0.953556</td>\n",
              "      <td>-0.085484</td>\n",
              "      <td>-0.097247</td>\n",
              "      <td>-0.400542</td>\n",
              "      <td>-0.098671</td>\n",
              "      <td>-0.140346</td>\n",
              "      <td>-0.160579</td>\n",
              "      <td>-0.186239</td>\n",
              "      <td>-0.162430</td>\n",
              "      <td>0.031866</td>\n",
              "      <td>-0.099896</td>\n",
              "      <td>-0.177569</td>\n",
              "      <td>-0.164357</td>\n",
              "      <td>-0.084246</td>\n",
              "      <td>0.356921</td>\n",
              "      <td>0.356921</td>\n",
              "      <td>0.333810</td>\n",
              "      <td>-0.112608</td>\n",
              "    </tr>\n",
              "    <tr>\n",
              "      <th>839077</th>\n",
              "      <td>-0.125630</td>\n",
              "      <td>-0.120385</td>\n",
              "      <td>0.777693</td>\n",
              "      <td>-0.126137</td>\n",
              "      <td>0.774670</td>\n",
              "      <td>-0.108223</td>\n",
              "      <td>-0.119861</td>\n",
              "      <td>-0.400542</td>\n",
              "      <td>-0.121234</td>\n",
              "      <td>-0.048578</td>\n",
              "      <td>-0.160579</td>\n",
              "      <td>-0.105493</td>\n",
              "      <td>-0.072882</td>\n",
              "      <td>0.031866</td>\n",
              "      <td>-0.121764</td>\n",
              "      <td>-0.096093</td>\n",
              "      <td>-0.075030</td>\n",
              "      <td>-0.107708</td>\n",
              "      <td>-0.491507</td>\n",
              "      <td>-0.491507</td>\n",
              "      <td>-0.482362</td>\n",
              "      <td>-0.112608</td>\n",
              "    </tr>\n",
              "  </tbody>\n",
              "</table>\n",
              "<p>839078 rows × 22 columns</p>\n",
              "</div>\n",
              "      <button class=\"colab-df-convert\" onclick=\"convertToInteractive('df-2ea9b9a0-7669-48df-8470-df42ef41b82e')\"\n",
              "              title=\"Convert this dataframe to an interactive table.\"\n",
              "              style=\"display:none;\">\n",
              "        \n",
              "  <svg xmlns=\"http://www.w3.org/2000/svg\" height=\"24px\"viewBox=\"0 0 24 24\"\n",
              "       width=\"24px\">\n",
              "    <path d=\"M0 0h24v24H0V0z\" fill=\"none\"/>\n",
              "    <path d=\"M18.56 5.44l.94 2.06.94-2.06 2.06-.94-2.06-.94-.94-2.06-.94 2.06-2.06.94zm-11 1L8.5 8.5l.94-2.06 2.06-.94-2.06-.94L8.5 2.5l-.94 2.06-2.06.94zm10 10l.94 2.06.94-2.06 2.06-.94-2.06-.94-.94-2.06-.94 2.06-2.06.94z\"/><path d=\"M17.41 7.96l-1.37-1.37c-.4-.4-.92-.59-1.43-.59-.52 0-1.04.2-1.43.59L10.3 9.45l-7.72 7.72c-.78.78-.78 2.05 0 2.83L4 21.41c.39.39.9.59 1.41.59.51 0 1.02-.2 1.41-.59l7.78-7.78 2.81-2.81c.8-.78.8-2.07 0-2.86zM5.41 20L4 18.59l7.72-7.72 1.47 1.35L5.41 20z\"/>\n",
              "  </svg>\n",
              "      </button>\n",
              "      \n",
              "  <style>\n",
              "    .colab-df-container {\n",
              "      display:flex;\n",
              "      flex-wrap:wrap;\n",
              "      gap: 12px;\n",
              "    }\n",
              "\n",
              "    .colab-df-convert {\n",
              "      background-color: #E8F0FE;\n",
              "      border: none;\n",
              "      border-radius: 50%;\n",
              "      cursor: pointer;\n",
              "      display: none;\n",
              "      fill: #1967D2;\n",
              "      height: 32px;\n",
              "      padding: 0 0 0 0;\n",
              "      width: 32px;\n",
              "    }\n",
              "\n",
              "    .colab-df-convert:hover {\n",
              "      background-color: #E2EBFA;\n",
              "      box-shadow: 0px 1px 2px rgba(60, 64, 67, 0.3), 0px 1px 3px 1px rgba(60, 64, 67, 0.15);\n",
              "      fill: #174EA6;\n",
              "    }\n",
              "\n",
              "    [theme=dark] .colab-df-convert {\n",
              "      background-color: #3B4455;\n",
              "      fill: #D2E3FC;\n",
              "    }\n",
              "\n",
              "    [theme=dark] .colab-df-convert:hover {\n",
              "      background-color: #434B5C;\n",
              "      box-shadow: 0px 1px 3px 1px rgba(0, 0, 0, 0.15);\n",
              "      filter: drop-shadow(0px 1px 2px rgba(0, 0, 0, 0.3));\n",
              "      fill: #FFFFFF;\n",
              "    }\n",
              "  </style>\n",
              "\n",
              "      <script>\n",
              "        const buttonEl =\n",
              "          document.querySelector('#df-2ea9b9a0-7669-48df-8470-df42ef41b82e button.colab-df-convert');\n",
              "        buttonEl.style.display =\n",
              "          google.colab.kernel.accessAllowed ? 'block' : 'none';\n",
              "\n",
              "        async function convertToInteractive(key) {\n",
              "          const element = document.querySelector('#df-2ea9b9a0-7669-48df-8470-df42ef41b82e');\n",
              "          const dataTable =\n",
              "            await google.colab.kernel.invokeFunction('convertToInteractive',\n",
              "                                                     [key], {});\n",
              "          if (!dataTable) return;\n",
              "\n",
              "          const docLinkHtml = 'Like what you see? Visit the ' +\n",
              "            '<a target=\"_blank\" href=https://colab.research.google.com/notebooks/data_table.ipynb>data table notebook</a>'\n",
              "            + ' to learn more about interactive tables.';\n",
              "          element.innerHTML = '';\n",
              "          dataTable['output_type'] = 'display_data';\n",
              "          await google.colab.output.renderOutput(dataTable, element);\n",
              "          const docLink = document.createElement('div');\n",
              "          docLink.innerHTML = docLinkHtml;\n",
              "          element.appendChild(docLink);\n",
              "        }\n",
              "      </script>\n",
              "    </div>\n",
              "  </div>\n",
              "  "
            ]
          },
          "metadata": {},
          "execution_count": 23
        }
      ]
    },
    {
      "cell_type": "markdown",
      "source": [
        "`Fds` is our dataset that we use for the Principal Component Analysis (PCA).\n"
      ],
      "metadata": {
        "id": "MUodSREa1cT6"
      }
    },
    {
      "cell_type": "code",
      "source": [
        "Fds.to_csv('/content/drive/MyDrive/adm hw4/FDS_scaled.csv', index=False)"
      ],
      "metadata": {
        "id": "38tWYkIjSRBc"
      },
      "execution_count": null,
      "outputs": []
    },
    {
      "cell_type": "code",
      "source": [
        "Fds= pd.read_csv(r'/content/drive/MyDrive/adm hw4/FDS_scaled.csv')"
      ],
      "metadata": {
        "id": "GtrQ-gPi4iBT"
      },
      "execution_count": null,
      "outputs": []
    },
    {
      "cell_type": "code",
      "source": [
        "pca = PCA()\n",
        "pca.fit(Fds)"
      ],
      "metadata": {
        "colab": {
          "base_uri": "https://localhost:8080/"
        },
        "id": "XArxFQ_pZYIK",
        "outputId": "496f2364-a04a-44b7-debf-0866a0a98915"
      },
      "execution_count": null,
      "outputs": [
        {
          "output_type": "execute_result",
          "data": {
            "text/plain": [
              "PCA()"
            ]
          },
          "metadata": {},
          "execution_count": 26
        }
      ]
    },
    {
      "cell_type": "code",
      "source": [
        "cumulatevariance=np.cumsum(pca.explained_variance_ratio_)\n",
        "cumulatevariance"
      ],
      "metadata": {
        "colab": {
          "base_uri": "https://localhost:8080/"
        },
        "id": "FD29IyzdbjSh",
        "outputId": "861aa5d3-09cd-4b43-d63a-d33dee699d20"
      },
      "execution_count": null,
      "outputs": [
        {
          "output_type": "execute_result",
          "data": {
            "text/plain": [
              "array([0.36280824, 0.60569387, 0.74550976, 0.83112996, 0.87832204,\n",
              "       0.91966715, 0.94721786, 0.97286015, 0.98630114, 0.99856206,\n",
              "       0.99912989, 0.99960827, 0.99992175, 0.99999194, 0.9999974 ,\n",
              "       0.99999876, 0.99999987, 0.99999999, 1.        , 1.        ,\n",
              "       1.        , 1.        ])"
            ]
          },
          "metadata": {},
          "execution_count": 27
        }
      ]
    },
    {
      "cell_type": "code",
      "source": [
        "fig=px.area(\n",
        "    x=range(1, cumulatevariance.shape[0] + 1),\n",
        "    y=cumulatevariance,\n",
        "    labels={\"x\": \"Number of Components\", \"y\": \"Cumulative Explained Variance\"}\n",
        ")\n",
        "fig.add_vline(x=3, line_width=3, line_color=\"Orange\")"
      ],
      "metadata": {
        "colab": {
          "base_uri": "https://localhost:8080/",
          "height": 542
        },
        "id": "aIOCzVYcIIhG",
        "outputId": "c56adda8-5435-44a3-af6e-177322ad2b5c"
      },
      "execution_count": null,
      "outputs": [
        {
          "output_type": "display_data",
          "data": {
            "text/html": [
              "<html>\n",
              "<head><meta charset=\"utf-8\" /></head>\n",
              "<body>\n",
              "    <div>            <script src=\"https://cdnjs.cloudflare.com/ajax/libs/mathjax/2.7.5/MathJax.js?config=TeX-AMS-MML_SVG\"></script><script type=\"text/javascript\">if (window.MathJax) {MathJax.Hub.Config({SVG: {font: \"STIX-Web\"}});}</script>                <script type=\"text/javascript\">window.PlotlyConfig = {MathJaxConfig: 'local'};</script>\n",
              "        <script src=\"https://cdn.plot.ly/plotly-2.8.3.min.js\"></script>                <div id=\"f5a26a42-cf66-46d1-9c0e-fa044f94d608\" class=\"plotly-graph-div\" style=\"height:525px; width:100%;\"></div>            <script type=\"text/javascript\">                                    window.PLOTLYENV=window.PLOTLYENV || {};                                    if (document.getElementById(\"f5a26a42-cf66-46d1-9c0e-fa044f94d608\")) {                    Plotly.newPlot(                        \"f5a26a42-cf66-46d1-9c0e-fa044f94d608\",                        [{\"hovertemplate\":\"Number of Components=%{x}<br>Cumulative Explained Variance=%{y}<extra></extra>\",\"legendgroup\":\"\",\"line\":{\"color\":\"#636efa\"},\"marker\":{\"symbol\":\"circle\"},\"mode\":\"lines\",\"name\":\"\",\"orientation\":\"v\",\"showlegend\":false,\"stackgroup\":\"1\",\"x\":[1,2,3,4,5,6,7,8,9,10,11,12,13,14,15,16,17,18,19,20,21,22],\"xaxis\":\"x\",\"y\":[0.36280823854116095,0.6056938650263816,0.7455097587026716,0.8311299649727085,0.8783220448254245,0.9196671532532705,0.9472178641176207,0.9728601471889107,0.9863011412219727,0.9985620615727121,0.9991298906608393,0.9996082712091252,0.9999217524539096,0.9999919421809176,0.9999973977342606,0.9999987597485728,0.9999998694335993,0.9999999930660912,0.99999999988626,0.9999999999999998,0.9999999999999998,0.9999999999999998],\"yaxis\":\"y\",\"type\":\"scatter\"}],                        {\"template\":{\"data\":{\"bar\":[{\"error_x\":{\"color\":\"#2a3f5f\"},\"error_y\":{\"color\":\"#2a3f5f\"},\"marker\":{\"line\":{\"color\":\"#E5ECF6\",\"width\":0.5},\"pattern\":{\"fillmode\":\"overlay\",\"size\":10,\"solidity\":0.2}},\"type\":\"bar\"}],\"barpolar\":[{\"marker\":{\"line\":{\"color\":\"#E5ECF6\",\"width\":0.5},\"pattern\":{\"fillmode\":\"overlay\",\"size\":10,\"solidity\":0.2}},\"type\":\"barpolar\"}],\"carpet\":[{\"aaxis\":{\"endlinecolor\":\"#2a3f5f\",\"gridcolor\":\"white\",\"linecolor\":\"white\",\"minorgridcolor\":\"white\",\"startlinecolor\":\"#2a3f5f\"},\"baxis\":{\"endlinecolor\":\"#2a3f5f\",\"gridcolor\":\"white\",\"linecolor\":\"white\",\"minorgridcolor\":\"white\",\"startlinecolor\":\"#2a3f5f\"},\"type\":\"carpet\"}],\"choropleth\":[{\"colorbar\":{\"outlinewidth\":0,\"ticks\":\"\"},\"type\":\"choropleth\"}],\"contour\":[{\"colorbar\":{\"outlinewidth\":0,\"ticks\":\"\"},\"colorscale\":[[0.0,\"#0d0887\"],[0.1111111111111111,\"#46039f\"],[0.2222222222222222,\"#7201a8\"],[0.3333333333333333,\"#9c179e\"],[0.4444444444444444,\"#bd3786\"],[0.5555555555555556,\"#d8576b\"],[0.6666666666666666,\"#ed7953\"],[0.7777777777777778,\"#fb9f3a\"],[0.8888888888888888,\"#fdca26\"],[1.0,\"#f0f921\"]],\"type\":\"contour\"}],\"contourcarpet\":[{\"colorbar\":{\"outlinewidth\":0,\"ticks\":\"\"},\"type\":\"contourcarpet\"}],\"heatmap\":[{\"colorbar\":{\"outlinewidth\":0,\"ticks\":\"\"},\"colorscale\":[[0.0,\"#0d0887\"],[0.1111111111111111,\"#46039f\"],[0.2222222222222222,\"#7201a8\"],[0.3333333333333333,\"#9c179e\"],[0.4444444444444444,\"#bd3786\"],[0.5555555555555556,\"#d8576b\"],[0.6666666666666666,\"#ed7953\"],[0.7777777777777778,\"#fb9f3a\"],[0.8888888888888888,\"#fdca26\"],[1.0,\"#f0f921\"]],\"type\":\"heatmap\"}],\"heatmapgl\":[{\"colorbar\":{\"outlinewidth\":0,\"ticks\":\"\"},\"colorscale\":[[0.0,\"#0d0887\"],[0.1111111111111111,\"#46039f\"],[0.2222222222222222,\"#7201a8\"],[0.3333333333333333,\"#9c179e\"],[0.4444444444444444,\"#bd3786\"],[0.5555555555555556,\"#d8576b\"],[0.6666666666666666,\"#ed7953\"],[0.7777777777777778,\"#fb9f3a\"],[0.8888888888888888,\"#fdca26\"],[1.0,\"#f0f921\"]],\"type\":\"heatmapgl\"}],\"histogram\":[{\"marker\":{\"pattern\":{\"fillmode\":\"overlay\",\"size\":10,\"solidity\":0.2}},\"type\":\"histogram\"}],\"histogram2d\":[{\"colorbar\":{\"outlinewidth\":0,\"ticks\":\"\"},\"colorscale\":[[0.0,\"#0d0887\"],[0.1111111111111111,\"#46039f\"],[0.2222222222222222,\"#7201a8\"],[0.3333333333333333,\"#9c179e\"],[0.4444444444444444,\"#bd3786\"],[0.5555555555555556,\"#d8576b\"],[0.6666666666666666,\"#ed7953\"],[0.7777777777777778,\"#fb9f3a\"],[0.8888888888888888,\"#fdca26\"],[1.0,\"#f0f921\"]],\"type\":\"histogram2d\"}],\"histogram2dcontour\":[{\"colorbar\":{\"outlinewidth\":0,\"ticks\":\"\"},\"colorscale\":[[0.0,\"#0d0887\"],[0.1111111111111111,\"#46039f\"],[0.2222222222222222,\"#7201a8\"],[0.3333333333333333,\"#9c179e\"],[0.4444444444444444,\"#bd3786\"],[0.5555555555555556,\"#d8576b\"],[0.6666666666666666,\"#ed7953\"],[0.7777777777777778,\"#fb9f3a\"],[0.8888888888888888,\"#fdca26\"],[1.0,\"#f0f921\"]],\"type\":\"histogram2dcontour\"}],\"mesh3d\":[{\"colorbar\":{\"outlinewidth\":0,\"ticks\":\"\"},\"type\":\"mesh3d\"}],\"parcoords\":[{\"line\":{\"colorbar\":{\"outlinewidth\":0,\"ticks\":\"\"}},\"type\":\"parcoords\"}],\"pie\":[{\"automargin\":true,\"type\":\"pie\"}],\"scatter\":[{\"marker\":{\"colorbar\":{\"outlinewidth\":0,\"ticks\":\"\"}},\"type\":\"scatter\"}],\"scatter3d\":[{\"line\":{\"colorbar\":{\"outlinewidth\":0,\"ticks\":\"\"}},\"marker\":{\"colorbar\":{\"outlinewidth\":0,\"ticks\":\"\"}},\"type\":\"scatter3d\"}],\"scattercarpet\":[{\"marker\":{\"colorbar\":{\"outlinewidth\":0,\"ticks\":\"\"}},\"type\":\"scattercarpet\"}],\"scattergeo\":[{\"marker\":{\"colorbar\":{\"outlinewidth\":0,\"ticks\":\"\"}},\"type\":\"scattergeo\"}],\"scattergl\":[{\"marker\":{\"colorbar\":{\"outlinewidth\":0,\"ticks\":\"\"}},\"type\":\"scattergl\"}],\"scattermapbox\":[{\"marker\":{\"colorbar\":{\"outlinewidth\":0,\"ticks\":\"\"}},\"type\":\"scattermapbox\"}],\"scatterpolar\":[{\"marker\":{\"colorbar\":{\"outlinewidth\":0,\"ticks\":\"\"}},\"type\":\"scatterpolar\"}],\"scatterpolargl\":[{\"marker\":{\"colorbar\":{\"outlinewidth\":0,\"ticks\":\"\"}},\"type\":\"scatterpolargl\"}],\"scatterternary\":[{\"marker\":{\"colorbar\":{\"outlinewidth\":0,\"ticks\":\"\"}},\"type\":\"scatterternary\"}],\"surface\":[{\"colorbar\":{\"outlinewidth\":0,\"ticks\":\"\"},\"colorscale\":[[0.0,\"#0d0887\"],[0.1111111111111111,\"#46039f\"],[0.2222222222222222,\"#7201a8\"],[0.3333333333333333,\"#9c179e\"],[0.4444444444444444,\"#bd3786\"],[0.5555555555555556,\"#d8576b\"],[0.6666666666666666,\"#ed7953\"],[0.7777777777777778,\"#fb9f3a\"],[0.8888888888888888,\"#fdca26\"],[1.0,\"#f0f921\"]],\"type\":\"surface\"}],\"table\":[{\"cells\":{\"fill\":{\"color\":\"#EBF0F8\"},\"line\":{\"color\":\"white\"}},\"header\":{\"fill\":{\"color\":\"#C8D4E3\"},\"line\":{\"color\":\"white\"}},\"type\":\"table\"}]},\"layout\":{\"annotationdefaults\":{\"arrowcolor\":\"#2a3f5f\",\"arrowhead\":0,\"arrowwidth\":1},\"autotypenumbers\":\"strict\",\"coloraxis\":{\"colorbar\":{\"outlinewidth\":0,\"ticks\":\"\"}},\"colorscale\":{\"diverging\":[[0,\"#8e0152\"],[0.1,\"#c51b7d\"],[0.2,\"#de77ae\"],[0.3,\"#f1b6da\"],[0.4,\"#fde0ef\"],[0.5,\"#f7f7f7\"],[0.6,\"#e6f5d0\"],[0.7,\"#b8e186\"],[0.8,\"#7fbc41\"],[0.9,\"#4d9221\"],[1,\"#276419\"]],\"sequential\":[[0.0,\"#0d0887\"],[0.1111111111111111,\"#46039f\"],[0.2222222222222222,\"#7201a8\"],[0.3333333333333333,\"#9c179e\"],[0.4444444444444444,\"#bd3786\"],[0.5555555555555556,\"#d8576b\"],[0.6666666666666666,\"#ed7953\"],[0.7777777777777778,\"#fb9f3a\"],[0.8888888888888888,\"#fdca26\"],[1.0,\"#f0f921\"]],\"sequentialminus\":[[0.0,\"#0d0887\"],[0.1111111111111111,\"#46039f\"],[0.2222222222222222,\"#7201a8\"],[0.3333333333333333,\"#9c179e\"],[0.4444444444444444,\"#bd3786\"],[0.5555555555555556,\"#d8576b\"],[0.6666666666666666,\"#ed7953\"],[0.7777777777777778,\"#fb9f3a\"],[0.8888888888888888,\"#fdca26\"],[1.0,\"#f0f921\"]]},\"colorway\":[\"#636efa\",\"#EF553B\",\"#00cc96\",\"#ab63fa\",\"#FFA15A\",\"#19d3f3\",\"#FF6692\",\"#B6E880\",\"#FF97FF\",\"#FECB52\"],\"font\":{\"color\":\"#2a3f5f\"},\"geo\":{\"bgcolor\":\"white\",\"lakecolor\":\"white\",\"landcolor\":\"#E5ECF6\",\"showlakes\":true,\"showland\":true,\"subunitcolor\":\"white\"},\"hoverlabel\":{\"align\":\"left\"},\"hovermode\":\"closest\",\"mapbox\":{\"style\":\"light\"},\"paper_bgcolor\":\"white\",\"plot_bgcolor\":\"#E5ECF6\",\"polar\":{\"angularaxis\":{\"gridcolor\":\"white\",\"linecolor\":\"white\",\"ticks\":\"\"},\"bgcolor\":\"#E5ECF6\",\"radialaxis\":{\"gridcolor\":\"white\",\"linecolor\":\"white\",\"ticks\":\"\"}},\"scene\":{\"xaxis\":{\"backgroundcolor\":\"#E5ECF6\",\"gridcolor\":\"white\",\"gridwidth\":2,\"linecolor\":\"white\",\"showbackground\":true,\"ticks\":\"\",\"zerolinecolor\":\"white\"},\"yaxis\":{\"backgroundcolor\":\"#E5ECF6\",\"gridcolor\":\"white\",\"gridwidth\":2,\"linecolor\":\"white\",\"showbackground\":true,\"ticks\":\"\",\"zerolinecolor\":\"white\"},\"zaxis\":{\"backgroundcolor\":\"#E5ECF6\",\"gridcolor\":\"white\",\"gridwidth\":2,\"linecolor\":\"white\",\"showbackground\":true,\"ticks\":\"\",\"zerolinecolor\":\"white\"}},\"shapedefaults\":{\"line\":{\"color\":\"#2a3f5f\"}},\"ternary\":{\"aaxis\":{\"gridcolor\":\"white\",\"linecolor\":\"white\",\"ticks\":\"\"},\"baxis\":{\"gridcolor\":\"white\",\"linecolor\":\"white\",\"ticks\":\"\"},\"bgcolor\":\"#E5ECF6\",\"caxis\":{\"gridcolor\":\"white\",\"linecolor\":\"white\",\"ticks\":\"\"}},\"title\":{\"x\":0.05},\"xaxis\":{\"automargin\":true,\"gridcolor\":\"white\",\"linecolor\":\"white\",\"ticks\":\"\",\"title\":{\"standoff\":15},\"zerolinecolor\":\"white\",\"zerolinewidth\":2},\"yaxis\":{\"automargin\":true,\"gridcolor\":\"white\",\"linecolor\":\"white\",\"ticks\":\"\",\"title\":{\"standoff\":15},\"zerolinecolor\":\"white\",\"zerolinewidth\":2}}},\"xaxis\":{\"anchor\":\"y\",\"domain\":[0.0,1.0],\"title\":{\"text\":\"Number of Components\"}},\"yaxis\":{\"anchor\":\"x\",\"domain\":[0.0,1.0],\"title\":{\"text\":\"Cumulative Explained Variance\"}},\"legend\":{\"tracegroupgap\":0},\"margin\":{\"t\":60},\"shapes\":[{\"line\":{\"color\":\"Orange\",\"width\":3},\"type\":\"line\",\"x0\":3,\"x1\":3,\"xref\":\"x\",\"y0\":0,\"y1\":1,\"yref\":\"y domain\"}]},                        {\"responsive\": true}                    ).then(function(){\n",
              "                            \n",
              "var gd = document.getElementById('f5a26a42-cf66-46d1-9c0e-fa044f94d608');\n",
              "var x = new MutationObserver(function (mutations, observer) {{\n",
              "        var display = window.getComputedStyle(gd).display;\n",
              "        if (!display || display === 'none') {{\n",
              "            console.log([gd, 'removed!']);\n",
              "            Plotly.purge(gd);\n",
              "            observer.disconnect();\n",
              "        }}\n",
              "}});\n",
              "\n",
              "// Listen for the removal of the full notebook cells\n",
              "var notebookContainer = gd.closest('#notebook-container');\n",
              "if (notebookContainer) {{\n",
              "    x.observe(notebookContainer, {childList: true});\n",
              "}}\n",
              "\n",
              "// Listen for the clearing of the current output cell\n",
              "var outputEl = gd.closest('.output');\n",
              "if (outputEl) {{\n",
              "    x.observe(outputEl, {childList: true});\n",
              "}}\n",
              "\n",
              "                        })                };                            </script>        </div>\n",
              "</body>\n",
              "</html>"
            ]
          },
          "metadata": {}
        }
      ]
    },
    {
      "cell_type": "markdown",
      "source": [
        "since the package `plotly.express` has visualization problems with GitHub, we have also included the picture of the graph in the notebook"
      ],
      "metadata": {
        "id": "LEPTR3HCbmAN"
      }
    },
    {
      "cell_type": "markdown",
      "source": [
        "![newplot (1).png](data:image/png;base64,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)"
      ],
      "metadata": {
        "id": "SFENPNFU2cjm"
      }
    },
    {
      "cell_type": "markdown",
      "source": [
        "We have that the threshold of 70% of total variance is reached after 3 components.\n",
        "\n",
        "So we extract the first 3 components by creating a new dataset"
      ],
      "metadata": {
        "id": "4D-5zUqAgF4L"
      }
    },
    {
      "cell_type": "code",
      "source": [
        "df_c = pd.DataFrame(pca.transform(Fds))\n",
        "df_c = df_c.iloc[0:, :3]"
      ],
      "metadata": {
        "id": "Dg7YxHnRgzw2"
      },
      "execution_count": null,
      "outputs": []
    },
    {
      "cell_type": "code",
      "source": [
        "df_c"
      ],
      "metadata": {
        "colab": {
          "base_uri": "https://localhost:8080/",
          "height": 424
        },
        "id": "h2rEBn9Kg7uW",
        "outputId": "a4c50991-aed9-465c-df5a-dbf2a436377a"
      },
      "execution_count": null,
      "outputs": [
        {
          "output_type": "execute_result",
          "data": {
            "text/plain": [
              "               0          1         2\n",
              "0      -0.553798  -0.830687  0.778555\n",
              "1       1.019988  10.456264  3.524781\n",
              "2      -0.498669  -0.555498  0.383484\n",
              "3       1.907916   0.724195 -3.851677\n",
              "4      -0.605334   0.041669  1.119952\n",
              "...          ...        ...       ...\n",
              "839073 -0.758507   0.399970  2.145569\n",
              "839074 -0.896436  -0.158291  2.137264\n",
              "839075 -0.626336  -0.274727  0.906058\n",
              "839076 -0.307044  -0.480915 -0.221679\n",
              "839077 -0.449010  -0.107464  0.410935\n",
              "\n",
              "[839078 rows x 3 columns]"
            ],
            "text/html": [
              "\n",
              "  <div id=\"df-7cfd6431-b854-4a16-b541-30dcca8d702f\">\n",
              "    <div class=\"colab-df-container\">\n",
              "      <div>\n",
              "<style scoped>\n",
              "    .dataframe tbody tr th:only-of-type {\n",
              "        vertical-align: middle;\n",
              "    }\n",
              "\n",
              "    .dataframe tbody tr th {\n",
              "        vertical-align: top;\n",
              "    }\n",
              "\n",
              "    .dataframe thead th {\n",
              "        text-align: right;\n",
              "    }\n",
              "</style>\n",
              "<table border=\"1\" class=\"dataframe\">\n",
              "  <thead>\n",
              "    <tr style=\"text-align: right;\">\n",
              "      <th></th>\n",
              "      <th>0</th>\n",
              "      <th>1</th>\n",
              "      <th>2</th>\n",
              "    </tr>\n",
              "  </thead>\n",
              "  <tbody>\n",
              "    <tr>\n",
              "      <th>0</th>\n",
              "      <td>-0.553798</td>\n",
              "      <td>-0.830687</td>\n",
              "      <td>0.778555</td>\n",
              "    </tr>\n",
              "    <tr>\n",
              "      <th>1</th>\n",
              "      <td>1.019988</td>\n",
              "      <td>10.456264</td>\n",
              "      <td>3.524781</td>\n",
              "    </tr>\n",
              "    <tr>\n",
              "      <th>2</th>\n",
              "      <td>-0.498669</td>\n",
              "      <td>-0.555498</td>\n",
              "      <td>0.383484</td>\n",
              "    </tr>\n",
              "    <tr>\n",
              "      <th>3</th>\n",
              "      <td>1.907916</td>\n",
              "      <td>0.724195</td>\n",
              "      <td>-3.851677</td>\n",
              "    </tr>\n",
              "    <tr>\n",
              "      <th>4</th>\n",
              "      <td>-0.605334</td>\n",
              "      <td>0.041669</td>\n",
              "      <td>1.119952</td>\n",
              "    </tr>\n",
              "    <tr>\n",
              "      <th>...</th>\n",
              "      <td>...</td>\n",
              "      <td>...</td>\n",
              "      <td>...</td>\n",
              "    </tr>\n",
              "    <tr>\n",
              "      <th>839073</th>\n",
              "      <td>-0.758507</td>\n",
              "      <td>0.399970</td>\n",
              "      <td>2.145569</td>\n",
              "    </tr>\n",
              "    <tr>\n",
              "      <th>839074</th>\n",
              "      <td>-0.896436</td>\n",
              "      <td>-0.158291</td>\n",
              "      <td>2.137264</td>\n",
              "    </tr>\n",
              "    <tr>\n",
              "      <th>839075</th>\n",
              "      <td>-0.626336</td>\n",
              "      <td>-0.274727</td>\n",
              "      <td>0.906058</td>\n",
              "    </tr>\n",
              "    <tr>\n",
              "      <th>839076</th>\n",
              "      <td>-0.307044</td>\n",
              "      <td>-0.480915</td>\n",
              "      <td>-0.221679</td>\n",
              "    </tr>\n",
              "    <tr>\n",
              "      <th>839077</th>\n",
              "      <td>-0.449010</td>\n",
              "      <td>-0.107464</td>\n",
              "      <td>0.410935</td>\n",
              "    </tr>\n",
              "  </tbody>\n",
              "</table>\n",
              "<p>839078 rows × 3 columns</p>\n",
              "</div>\n",
              "      <button class=\"colab-df-convert\" onclick=\"convertToInteractive('df-7cfd6431-b854-4a16-b541-30dcca8d702f')\"\n",
              "              title=\"Convert this dataframe to an interactive table.\"\n",
              "              style=\"display:none;\">\n",
              "        \n",
              "  <svg xmlns=\"http://www.w3.org/2000/svg\" height=\"24px\"viewBox=\"0 0 24 24\"\n",
              "       width=\"24px\">\n",
              "    <path d=\"M0 0h24v24H0V0z\" fill=\"none\"/>\n",
              "    <path d=\"M18.56 5.44l.94 2.06.94-2.06 2.06-.94-2.06-.94-.94-2.06-.94 2.06-2.06.94zm-11 1L8.5 8.5l.94-2.06 2.06-.94-2.06-.94L8.5 2.5l-.94 2.06-2.06.94zm10 10l.94 2.06.94-2.06 2.06-.94-2.06-.94-.94-2.06-.94 2.06-2.06.94z\"/><path d=\"M17.41 7.96l-1.37-1.37c-.4-.4-.92-.59-1.43-.59-.52 0-1.04.2-1.43.59L10.3 9.45l-7.72 7.72c-.78.78-.78 2.05 0 2.83L4 21.41c.39.39.9.59 1.41.59.51 0 1.02-.2 1.41-.59l7.78-7.78 2.81-2.81c.8-.78.8-2.07 0-2.86zM5.41 20L4 18.59l7.72-7.72 1.47 1.35L5.41 20z\"/>\n",
              "  </svg>\n",
              "      </button>\n",
              "      \n",
              "  <style>\n",
              "    .colab-df-container {\n",
              "      display:flex;\n",
              "      flex-wrap:wrap;\n",
              "      gap: 12px;\n",
              "    }\n",
              "\n",
              "    .colab-df-convert {\n",
              "      background-color: #E8F0FE;\n",
              "      border: none;\n",
              "      border-radius: 50%;\n",
              "      cursor: pointer;\n",
              "      display: none;\n",
              "      fill: #1967D2;\n",
              "      height: 32px;\n",
              "      padding: 0 0 0 0;\n",
              "      width: 32px;\n",
              "    }\n",
              "\n",
              "    .colab-df-convert:hover {\n",
              "      background-color: #E2EBFA;\n",
              "      box-shadow: 0px 1px 2px rgba(60, 64, 67, 0.3), 0px 1px 3px 1px rgba(60, 64, 67, 0.15);\n",
              "      fill: #174EA6;\n",
              "    }\n",
              "\n",
              "    [theme=dark] .colab-df-convert {\n",
              "      background-color: #3B4455;\n",
              "      fill: #D2E3FC;\n",
              "    }\n",
              "\n",
              "    [theme=dark] .colab-df-convert:hover {\n",
              "      background-color: #434B5C;\n",
              "      box-shadow: 0px 1px 3px 1px rgba(0, 0, 0, 0.15);\n",
              "      filter: drop-shadow(0px 1px 2px rgba(0, 0, 0, 0.3));\n",
              "      fill: #FFFFFF;\n",
              "    }\n",
              "  </style>\n",
              "\n",
              "      <script>\n",
              "        const buttonEl =\n",
              "          document.querySelector('#df-7cfd6431-b854-4a16-b541-30dcca8d702f button.colab-df-convert');\n",
              "        buttonEl.style.display =\n",
              "          google.colab.kernel.accessAllowed ? 'block' : 'none';\n",
              "\n",
              "        async function convertToInteractive(key) {\n",
              "          const element = document.querySelector('#df-7cfd6431-b854-4a16-b541-30dcca8d702f');\n",
              "          const dataTable =\n",
              "            await google.colab.kernel.invokeFunction('convertToInteractive',\n",
              "                                                     [key], {});\n",
              "          if (!dataTable) return;\n",
              "\n",
              "          const docLinkHtml = 'Like what you see? Visit the ' +\n",
              "            '<a target=\"_blank\" href=https://colab.research.google.com/notebooks/data_table.ipynb>data table notebook</a>'\n",
              "            + ' to learn more about interactive tables.';\n",
              "          element.innerHTML = '';\n",
              "          dataTable['output_type'] = 'display_data';\n",
              "          await google.colab.output.renderOutput(dataTable, element);\n",
              "          const docLink = document.createElement('div');\n",
              "          docLink.innerHTML = docLinkHtml;\n",
              "          element.appendChild(docLink);\n",
              "        }\n",
              "      </script>\n",
              "    </div>\n",
              "  </div>\n",
              "  "
            ]
          },
          "metadata": {},
          "execution_count": 30
        }
      ]
    },
    {
      "cell_type": "markdown",
      "source": [
        "To avoid redoing these procedures we decide to save the dataset in our drive"
      ],
      "metadata": {
        "id": "mApM3uQj3Loe"
      }
    },
    {
      "cell_type": "code",
      "source": [
        "df_c.to_csv('/content/drive/MyDrive/adm hw4/PCA_df.csv', index=False)"
      ],
      "metadata": {
        "id": "nN1BxKfLSsMw"
      },
      "execution_count": null,
      "outputs": []
    },
    {
      "cell_type": "markdown",
      "source": [
        "## 2.3 Clustering!"
      ],
      "metadata": {
        "id": "vH7V9NdZzUoE"
      }
    },
    {
      "cell_type": "markdown",
      "source": [
        "##### kmeans_python_basic"
      ],
      "metadata": {
        "id": "dC8QXhLq58cU"
      }
    },
    {
      "cell_type": "markdown",
      "source": [
        "The kmeans with MapReduce consists in 5 steps:\n",
        "* **STEP 1** : Select k initial means uniformly at random from the Dataset\n",
        "* **STEP 2** : Apply the MapReduce\n",
        "* **STEP 3** : Compute the new means from the MapReduce\n",
        "* **STEP 4** : Save the new means and broadcast them\n",
        "* **STEP 5** : Untill the convergence, repeat step 2,3 and 4"
      ],
      "metadata": {
        "id": "4d8WwtqhdPte"
      }
    },
    {
      "cell_type": "code",
      "source": [
        "from scipy.spatial.distance import cdist "
      ],
      "metadata": {
        "id": "uCS2Zjs7Jj7R"
      },
      "execution_count": null,
      "outputs": []
    },
    {
      "cell_type": "code",
      "source": [
        "df_c = pd.read_csv(r'/content/drive/MyDrive/adm hw4/PCA_df.csv')"
      ],
      "metadata": {
        "id": "K99pp1ODQep6"
      },
      "execution_count": null,
      "outputs": []
    },
    {
      "cell_type": "code",
      "source": [
        "df_c=df_c.to_numpy()"
      ],
      "metadata": {
        "id": "vrWjaNd4-VXv"
      },
      "execution_count": null,
      "outputs": []
    },
    {
      "cell_type": "code",
      "source": [
        "def get_InitialMeans(Dataset,k):\n",
        "  \"\"\" this function is responsible for the first step\n",
        "  \"\"\"\n",
        "  i=np.random.randint(0,len(Dataset), k)\n",
        "  c=Dataset[i, :]\n",
        "  return c"
      ],
      "metadata": {
        "id": "GwFErz0RLFus"
      },
      "execution_count": null,
      "outputs": []
    },
    {
      "cell_type": "code",
      "source": [
        "def k_means_Map(Dataset,centroids):\n",
        "  \"\"\" this function is responsible for the Map part in the second step\n",
        "  \"\"\"\n",
        "   keyes = np.argmin(cdist(XA=Dataset, XB=centroids, metric= 'euclidean'),axis=1)\n",
        "   final_list=[]\n",
        "   for i in range(0, len(Dataset)):\n",
        "    final_list.append([keyes[i],Dataset[i].tolist()]) \n",
        "   return keyes, final_list"
      ],
      "metadata": {
        "id": "rm3UpRAbRWXZ"
      },
      "execution_count": null,
      "outputs": []
    },
    {
      "cell_type": "code",
      "source": [
        "def k_means_Reduce(keyes,map_list,k):\n",
        "  \"\"\" this function is responsible for the Reduce part in the second step\n",
        "  \"\"\"\n",
        "  reduce_list=[]\n",
        "  partition_dimension=[]\n",
        "  for i in range(0,k):\n",
        "    lst = np.array([item[1]  for item in map_list if item[0]==i])\n",
        "    partition_dimension.append([i+1,len(lst)])\n",
        "    reduce_list.append([i+1,lst.sum(axis=0)])\n",
        "  return reduce_list, partition_dimension"
      ],
      "metadata": {
        "id": "1KQ3g6h3cpMn"
      },
      "execution_count": null,
      "outputs": []
    },
    {
      "cell_type": "code",
      "source": [
        "def get_NewMeans(sum_values,dim_partition,k):\n",
        "  \"\"\" this function is responsible for the third step\n",
        "  \"\"\"\n",
        "  means=[]\n",
        "  for i in range(1,k+1):\n",
        "    compute_mean=[]\n",
        "    dim=[item[1] for item in dim_partition if item[0]==i]\n",
        "    compute_mean=[item[1]/dim[0]  for item in sum_values if item[0]==i]\n",
        "    means.append(compute_mean)\n",
        "    means_list = [arr[0].tolist() for arr in means]\n",
        "  return means_list\n"
      ],
      "metadata": {
        "id": "9x0N9amNo7Fd"
      },
      "execution_count": null,
      "outputs": []
    },
    {
      "cell_type": "code",
      "source": [
        "def k_means(Dataset,k,iterations):\n",
        "    \"\"\" this is our kmeans, uses the functions defined above and stops after a fixed number of iterations\n",
        "    \"\"\"\n",
        "\n",
        "    # STEP 1 \n",
        "    init_means = get_InitialMeans(Dataset,k)\n",
        "    \n",
        "\n",
        "    for _ in range(iterations): # Repeat steps for the number of iterations\n",
        "      # STEP 2 \n",
        "      keyes, mapped_list = k_means_Map(Dataset,init_means)\n",
        "      sum_v, dim_p = k_means_Reduce(keyes,mapped_list,k)\n",
        "\n",
        "      # STEP 3 \n",
        "      new_means=get_NewMeans(sum_v,dim_p,k)\n",
        "\n",
        "      init_means=new_means\n",
        "    # STEP 4 repeate the step with an iterative function for find the optimal partition\n",
        "    df = pd.DataFrame(Dataset, columns = ['Column_A','Column_B','Column_C'])\n",
        "    df['Cluster']= keyes\n",
        "    return mapped_list, new_means, keyes, df"
      ],
      "metadata": {
        "id": "VREfebFB3Kqp"
      },
      "execution_count": null,
      "outputs": []
    },
    {
      "cell_type": "code",
      "source": [
        "mapped_list, new_means, keyes, df_k = k_means(df_c,10,10)"
      ],
      "metadata": {
        "id": "y78dLZaSUA1h"
      },
      "execution_count": null,
      "outputs": []
    },
    {
      "cell_type": "markdown",
      "source": [
        "##### PySpark"
      ],
      "metadata": {
        "id": "yY4opnq_6JBX"
      }
    },
    {
      "cell_type": "code",
      "source": [
        "! pip install pyspark"
      ],
      "metadata": {
        "id": "7rm6_g8dL52O",
        "colab": {
          "base_uri": "https://localhost:8080/"
        },
        "outputId": "b72cca53-9c1c-4baa-b1bf-db9bd063a72b"
      },
      "execution_count": null,
      "outputs": [
        {
          "output_type": "stream",
          "name": "stdout",
          "text": [
            "Looking in indexes: https://pypi.org/simple, https://us-python.pkg.dev/colab-wheels/public/simple/\n",
            "Collecting pyspark\n",
            "  Downloading pyspark-3.3.1.tar.gz (281.4 MB)\n",
            "\u001b[K     |████████████████████████████████| 281.4 MB 38 kB/s \n",
            "\u001b[?25hCollecting py4j==0.10.9.5\n",
            "  Downloading py4j-0.10.9.5-py2.py3-none-any.whl (199 kB)\n",
            "\u001b[K     |████████████████████████████████| 199 kB 61.3 MB/s \n",
            "\u001b[?25hBuilding wheels for collected packages: pyspark\n",
            "  Building wheel for pyspark (setup.py) ... \u001b[?25l\u001b[?25hdone\n",
            "  Created wheel for pyspark: filename=pyspark-3.3.1-py2.py3-none-any.whl size=281845512 sha256=7da6fe3f1083487644116755fbd26166d41f78d74c927b07340281de58ef36b8\n",
            "  Stored in directory: /root/.cache/pip/wheels/43/dc/11/ec201cd671da62fa9c5cc77078235e40722170ceba231d7598\n",
            "Successfully built pyspark\n",
            "Installing collected packages: py4j, pyspark\n",
            "Successfully installed py4j-0.10.9.5 pyspark-3.3.1\n"
          ]
        }
      ]
    },
    {
      "cell_type": "code",
      "source": [
        "import pyspark "
      ],
      "metadata": {
        "id": "8x0w8wrrL54y"
      },
      "execution_count": null,
      "outputs": []
    },
    {
      "cell_type": "code",
      "source": [
        "from pyspark.sql import SparkSession"
      ],
      "metadata": {
        "id": "5vubpV8kL574"
      },
      "execution_count": null,
      "outputs": []
    },
    {
      "cell_type": "code",
      "source": [
        "spark= SparkSession.builder.appName('kmeans').getOrCreate()"
      ],
      "metadata": {
        "id": "C5m8yURLTPby"
      },
      "execution_count": null,
      "outputs": []
    },
    {
      "cell_type": "code",
      "source": [
        "data = spark.read.csv('/content/drive/MyDrive/adm hw4/PCA_df.csv')\n",
        "data = data.rdd"
      ],
      "metadata": {
        "id": "gJP4683yRHdY"
      },
      "execution_count": null,
      "outputs": []
    },
    {
      "cell_type": "code",
      "source": [
        "def get_InitialMeans_Spark(Dataset,k):\n",
        "  i= Dataset.takeSample(False, k)\n",
        "  return i"
      ],
      "metadata": {
        "id": "2xFvgo16RHf0"
      },
      "execution_count": null,
      "outputs": []
    },
    {
      "cell_type": "code",
      "source": [
        "i= get_InitialMeans_Spark(data,10)\n",
        "i"
      ],
      "metadata": {
        "id": "2LHwofE_RHil",
        "outputId": "d3209cf4-654f-48a3-a088-616880037511",
        "colab": {
          "base_uri": "https://localhost:8080/"
        }
      },
      "execution_count": null,
      "outputs": [
        {
          "output_type": "execute_result",
          "data": {
            "text/plain": [
              "[Row(_c0='0.5827088553863867', _c1='-0.08329363061391225', _c2='-2.214041582664777'),\n",
              " Row(_c0='-0.6375570634346432', _c1='0.13377228326250545', _c2='1.396411951878798'),\n",
              " Row(_c0='-0.26544417414227733', _c1='-0.09627994541829243', _c2='-0.3181816793243201'),\n",
              " Row(_c0='-0.3501720047434864', _c1='0.4684689676449441', _c2='0.47162938493186424'),\n",
              " Row(_c0='-0.06972710405505216', _c1='1.1824106543376554', _c2='-0.926921271739339'),\n",
              " Row(_c0='-1.0356187127510685', _c1='-0.804333695024544', _c2='2.41907833888463'),\n",
              " Row(_c0='-0.10432428883182064', _c1='0.08459608869809793', _c2='-0.7522892116351115'),\n",
              " Row(_c0='0.9348028156071454', _c1='1.7216763721687272', _c2='-3.9504608727283776'),\n",
              " Row(_c0='-0.35909871466615956', _c1='1.0756519604359727', _c2='0.3821387750437541'),\n",
              " Row(_c0='1.3239331580213525', _c1='0.9566933072958292', _c2='-2.592059987618391')]"
            ]
          },
          "metadata": {},
          "execution_count": 10
        }
      ]
    },
    {
      "cell_type": "code",
      "source": [
        "list(enumerate(i))"
      ],
      "metadata": {
        "id": "l-anufdyyjKm",
        "outputId": "beec313d-f157-41c7-9f1f-1866fb80d9f3",
        "colab": {
          "base_uri": "https://localhost:8080/"
        }
      },
      "execution_count": null,
      "outputs": [
        {
          "output_type": "execute_result",
          "data": {
            "text/plain": [
              "[(0,\n",
              "  Row(_c0='0.5827088553863867', _c1='-0.08329363061391225', _c2='-2.214041582664777')),\n",
              " (1,\n",
              "  Row(_c0='-0.6375570634346432', _c1='0.13377228326250545', _c2='1.396411951878798')),\n",
              " (2,\n",
              "  Row(_c0='-0.26544417414227733', _c1='-0.09627994541829243', _c2='-0.3181816793243201')),\n",
              " (3,\n",
              "  Row(_c0='-0.3501720047434864', _c1='0.4684689676449441', _c2='0.47162938493186424')),\n",
              " (4,\n",
              "  Row(_c0='-0.06972710405505216', _c1='1.1824106543376554', _c2='-0.926921271739339')),\n",
              " (5,\n",
              "  Row(_c0='-1.0356187127510685', _c1='-0.804333695024544', _c2='2.41907833888463')),\n",
              " (6,\n",
              "  Row(_c0='-0.10432428883182064', _c1='0.08459608869809793', _c2='-0.7522892116351115')),\n",
              " (7,\n",
              "  Row(_c0='0.9348028156071454', _c1='1.7216763721687272', _c2='-3.9504608727283776')),\n",
              " (8,\n",
              "  Row(_c0='-0.35909871466615956', _c1='1.0756519604359727', _c2='0.3821387750437541')),\n",
              " (9,\n",
              "  Row(_c0='1.3239331580213525', _c1='0.9566933072958292', _c2='-2.592059987618391'))]"
            ]
          },
          "metadata": {},
          "execution_count": 11
        }
      ]
    },
    {
      "cell_type": "code",
      "source": [
        "_\n",
        "import spark.ml.linalg.Vector\n",
        "import org.apache.spark.ml.linalg.Vectors"
      ],
      "metadata": {
        "id": "PoJQ0ozb2tYh",
        "outputId": "2a2cc074-af5f-4877-b395-e6b6d29793db",
        "colab": {
          "base_uri": "https://localhost:8080/",
          "height": 340
        }
      },
      "execution_count": null,
      "outputs": [
        {
          "output_type": "error",
          "ename": "ModuleNotFoundError",
          "evalue": "ignored",
          "traceback": [
            "\u001b[0;31m---------------------------------------------------------------------------\u001b[0m",
            "\u001b[0;31mModuleNotFoundError\u001b[0m                       Traceback (most recent call last)",
            "\u001b[0;32m<ipython-input-15-e4d4ed86d788>\u001b[0m in \u001b[0;36m<module>\u001b[0;34m\u001b[0m\n\u001b[1;32m      1\u001b[0m \u001b[0m_\u001b[0m\u001b[0;34m\u001b[0m\u001b[0;34m\u001b[0m\u001b[0m\n\u001b[0;32m----> 2\u001b[0;31m \u001b[0;32mimport\u001b[0m \u001b[0mspark\u001b[0m\u001b[0;34m.\u001b[0m\u001b[0mml\u001b[0m\u001b[0;34m.\u001b[0m\u001b[0mlinalg\u001b[0m\u001b[0;34m.\u001b[0m\u001b[0mVector\u001b[0m\u001b[0;34m\u001b[0m\u001b[0;34m\u001b[0m\u001b[0m\n\u001b[0m\u001b[1;32m      3\u001b[0m \u001b[0;32mimport\u001b[0m \u001b[0morg\u001b[0m\u001b[0;34m.\u001b[0m\u001b[0mapache\u001b[0m\u001b[0;34m.\u001b[0m\u001b[0mspark\u001b[0m\u001b[0;34m.\u001b[0m\u001b[0mml\u001b[0m\u001b[0;34m.\u001b[0m\u001b[0mlinalg\u001b[0m\u001b[0;34m.\u001b[0m\u001b[0mVectors\u001b[0m\u001b[0;34m\u001b[0m\u001b[0;34m\u001b[0m\u001b[0m\n",
            "\u001b[0;31mModuleNotFoundError\u001b[0m: No module named 'spark'",
            "",
            "\u001b[0;31m---------------------------------------------------------------------------\u001b[0;32m\nNOTE: If your import is failing due to a missing package, you can\nmanually install dependencies using either !pip or !apt.\n\nTo view examples of installing some common dependencies, click the\n\"Open Examples\" button below.\n\u001b[0;31m---------------------------------------------------------------------------\u001b[0m\n"
          ],
          "errorDetails": {
            "actions": [
              {
                "action": "open_url",
                "actionText": "Open Examples",
                "url": "/notebooks/snippets/importing_libraries.ipynb"
              }
            ]
          }
        }
      ]
    },
    {
      "cell_type": "code",
      "source": [
        "sqrt(Vectors.sqdist(v1, v2)"
      ],
      "metadata": {
        "id": "kAR23Msk2pPK"
      },
      "execution_count": null,
      "outputs": []
    },
    {
      "cell_type": "code",
      "source": [
        "def k_means_Map(Dataset,centroids):\n",
        "   assigned_c=0\n",
        "   min_dist=float('inf') \n",
        "    \n",
        "   keyes = np.argmin(cdist(XA=Dataset, XB=centroids, metric= 'euclidean'),axis=1)\n",
        "   final_list=[]\n",
        "   for i in range(0, len(Dataset)):\n",
        "    final_list.append([keyes[i],Dataset[i].tolist()]) \n",
        "   return keyes, final_list"
      ],
      "metadata": {
        "id": "InAL6cHyRHk0"
      },
      "execution_count": null,
      "outputs": []
    },
    {
      "cell_type": "code",
      "source": [
        "def k_means_Map(Dataset,centroids):\n",
        "   assigned_c=0\n",
        "   min_dist=float('inf') \n",
        "   for i in range(0,len(centroids)+1):\n",
        "     d_o=0\n",
        "     for j in range(0,len(Dataset)+1):\n",
        "      d_n= (Dataset[j] - centroids[i][1][j])**2\n",
        "      d=d_n+d_o\n",
        "      d_o=d\n",
        "   return d\n"
      ],
      "metadata": {
        "id": "2TMnkG23RHnV"
      },
      "execution_count": null,
      "outputs": []
    },
    {
      "cell_type": "markdown",
      "source": [
        "### 2.3.4"
      ],
      "metadata": {
        "id": "6zj9zS7z6N8j"
      }
    },
    {
      "cell_type": "code",
      "source": [
        "from sklearn.cluster import KMeans\n",
        "from yellowbrick.cluster import KElbowVisualizer"
      ],
      "metadata": {
        "id": "zothDGZE8y-E"
      },
      "execution_count": null,
      "outputs": []
    },
    {
      "cell_type": "markdown",
      "source": [
        "We Used the k_means ++ from the scikit-learn library"
      ],
      "metadata": {
        "id": "Xxq9-AeXTqTl"
      }
    },
    {
      "cell_type": "markdown",
      "source": [
        "Inside the `KElbowVisualizer` method there are three different metric to evaluate the number of clusters:\n",
        "\n",
        "*   distortion\n",
        "*   calinski_harabasz\n",
        "*   silhouette\n",
        "\n",
        "We used the first two.\n",
        "\n",
        "\n"
      ],
      "metadata": {
        "id": "DXij0iMT_hbN"
      }
    },
    {
      "cell_type": "markdown",
      "source": [
        "We want to apply the reported metrics to both datasets (the one resulting from the pca (`df_c`) and `Final_df` from the point 2.1) to see the number of clusters suggested in the two cases. \n",
        "\n",
        "But we will only apply the kmeans to the `Final_df`"
      ],
      "metadata": {
        "id": "rPoWWbavBFqC"
      }
    },
    {
      "cell_type": "markdown",
      "source": [
        "#### `df_c`"
      ],
      "metadata": {
        "id": "E7X1RcoK8Vrz"
      }
    },
    {
      "cell_type": "code",
      "source": [
        "df_c = pd.read_csv(r'/content/drive/MyDrive/adm hw4/PCA_df.csv')"
      ],
      "metadata": {
        "id": "iLQfiaFV__cm"
      },
      "execution_count": null,
      "outputs": []
    },
    {
      "cell_type": "code",
      "source": [
        "df_c=df_c.to_numpy()"
      ],
      "metadata": {
        "id": "li0idK4e0W4K"
      },
      "execution_count": null,
      "outputs": []
    },
    {
      "cell_type": "markdown",
      "source": [
        "Let's apply kmeans++ :"
      ],
      "metadata": {
        "id": "tPgvmlQ6ABj5"
      }
    },
    {
      "cell_type": "code",
      "source": [
        "plt.figure(figsize = (18, 6))\n",
        "model = KMeans(init = 'k-means++')\n",
        "vd = KElbowVisualizer(model, k = (2,20), metric = 'distortion', timings = False)\n",
        "vd.fit(df_c)\n",
        "vd.show()"
      ],
      "metadata": {
        "colab": {
          "base_uri": "https://localhost:8080/",
          "height": 420
        },
        "id": "ZK6XKgfe2dPU",
        "outputId": "94f33d9a-28dc-4595-b6f5-fa8edcb90ee6"
      },
      "execution_count": null,
      "outputs": [
        {
          "output_type": "display_data",
          "data": {
            "text/plain": [
              "<Figure size 1296x432 with 1 Axes>"
            ],
            "image/png": "[encoded data removed]"
          },
          "metadata": {}
        },
        {
          "output_type": "execute_result",
          "data": {
            "text/plain": [
              "<matplotlib.axes._subplots.AxesSubplot at 0x7f40b3e55880>"
            ]
          },
          "metadata": {},
          "execution_count": 79
        }
      ]
    },
    {
      "cell_type": "code",
      "source": [
        "plt.figure(figsize = (18, 6))\n",
        "model = KMeans(init = 'k-means++')\n",
        "va = KElbowVisualizer(model, k = (2,20), metric = 'calinski_harabasz', timings = False)\n",
        "va.fit(df_c)\n",
        "va.show()"
      ],
      "metadata": {
        "id": "E_6wP25gAK0W",
        "outputId": "6a51d15d-a3bb-4a2e-89df-2dd28ca2b2c1",
        "colab": {
          "base_uri": "https://localhost:8080/",
          "height": 420
        }
      },
      "execution_count": null,
      "outputs": [
        {
          "output_type": "display_data",
          "data": {
            "text/plain": [
              "<Figure size 1296x432 with 1 Axes>"
            ],
            "image/png": "[encoded data removed]"
          },
          "metadata": {}
        },
        {
          "output_type": "execute_result",
          "data": {
            "text/plain": [
              "<matplotlib.axes._subplots.AxesSubplot at 0x7f6d6be2f4f0>"
            ]
          },
          "metadata": {},
          "execution_count": 6
        }
      ]
    },
    {
      "cell_type": "markdown",
      "source": [
        "The two measurements suggest us two different values, namely 8 and 14 respectively.\n",
        "\n"
      ],
      "metadata": {
        "id": "vM6fPM-LAKaz"
      }
    },
    {
      "cell_type": "markdown",
      "source": [
        "#### `Final_df`"
      ],
      "metadata": {
        "id": "7yivkKf1Qmao"
      }
    },
    {
      "cell_type": "markdown",
      "source": [
        "We load the dataset and apply the classical cleaning operations "
      ],
      "metadata": {
        "id": "QEE3k9Nq9Jm8"
      }
    },
    {
      "cell_type": "code",
      "source": [
        "dataset = pd.read_csv(r'/content/drive/MyDrive/adm hw4/Final_df.csv')"
      ],
      "metadata": {
        "id": "SIibe_MWRH0i"
      },
      "execution_count": null,
      "outputs": []
    },
    {
      "cell_type": "code",
      "source": [
        "dataset.drop_duplicates(inplace=True)\n",
        "dataset.dropna(inplace=True)\n",
        "dataset.set_index('CustomerID',inplace=True)"
      ],
      "metadata": {
        "id": "1Jm1nZb96kvd"
      },
      "execution_count": null,
      "outputs": []
    },
    {
      "cell_type": "markdown",
      "source": [
        "We immediately divide the variable `Transaction_percent_Avg` in 4 classes"
      ],
      "metadata": {
        "id": "mPcvNLh49Tfq"
      }
    },
    {
      "cell_type": "code",
      "source": [
        "dataset.Transaction_percent_Avg = pd.cut(dataset.Transaction_percent_Avg, bins=[min(dataset.Transaction_percent_Avg)-1, 25, 50, 75, 100, max(dataset.Transaction_percent_Avg)])"
      ],
      "metadata": {
        "id": "XGRkHPby9G5-"
      },
      "execution_count": null,
      "outputs": []
    },
    {
      "cell_type": "markdown",
      "source": [
        "We save a copy of our dataset before the standardize operations"
      ],
      "metadata": {
        "id": "-vUijOj59E6s"
      }
    },
    {
      "cell_type": "code",
      "source": [
        "dataset_k=dataset"
      ],
      "metadata": {
        "id": "2UtmooiJ86cy"
      },
      "execution_count": null,
      "outputs": []
    },
    {
      "cell_type": "markdown",
      "source": [
        "we apply some feature engeniring operations:\n",
        "* Recode `Gender_Mode` into 0/1"
      ],
      "metadata": {
        "id": "8d43iaUK9iN0"
      }
    },
    {
      "cell_type": "code",
      "source": [
        "cleanup_g = {\"Gender_Mode\" : {'F':0, 'M':1}}"
      ],
      "metadata": {
        "id": "14j6myFuRH9E"
      },
      "execution_count": null,
      "outputs": []
    },
    {
      "cell_type": "code",
      "source": [
        "dataset = dataset.replace(cleanup_g)"
      ],
      "metadata": {
        "id": "KUbTbxDf8Hz-"
      },
      "execution_count": null,
      "outputs": []
    },
    {
      "cell_type": "markdown",
      "source": [
        "* Change the strings of `Location_Mode`, `Transaction_percent_Avg` and `Generation` to numerical categorical values\n",
        "\n"
      ],
      "metadata": {
        "id": "q7vYM8ng90jk"
      }
    },
    {
      "cell_type": "code",
      "source": [
        "dataset.Location_Mode = pd.Categorical(dataset.Location_Mode)\n",
        "dataset['Location_Mode'] = dataset.Location_Mode.cat.codes"
      ],
      "metadata": {
        "id": "2Kox1qRE7pLt"
      },
      "execution_count": null,
      "outputs": []
    },
    {
      "cell_type": "code",
      "source": [
        "dataset.Transaction_percent_Avg = pd.Categorical(dataset.Transaction_percent_Avg)\n",
        "dataset.Transaction_percent_Avg = dataset.Transaction_percent_Avg.cat.codes"
      ],
      "metadata": {
        "id": "TIoVawPSJ1HK"
      },
      "execution_count": null,
      "outputs": []
    },
    {
      "cell_type": "code",
      "source": [
        "dataset.Generation = pd.Categorical(dataset.Generation)\n",
        "dataset['Generation'] = dataset.Generation.cat.codes"
      ],
      "metadata": {
        "id": "xzSNqf4s775d"
      },
      "execution_count": null,
      "outputs": []
    },
    {
      "cell_type": "code",
      "source": [
        "dataset.dropna(inplace=True)"
      ],
      "metadata": {
        "id": "0BLdazYv8O33"
      },
      "execution_count": null,
      "outputs": []
    },
    {
      "cell_type": "markdown",
      "source": [
        "* As before we standardize the variables, this time in an interval [0,1]"
      ],
      "metadata": {
        "id": "YAOZNOtf-fh7"
      }
    },
    {
      "cell_type": "code",
      "source": [
        "cols_to_norm = ['Utilisation_Max',  'Balance_Median',\n",
        "       'Avg_customerAge', 'Balance_Max', 'Number_Bigger_500', 'Balance_Min',\n",
        "       'Utilisation_Median', 'Transaction_Frequency',\n",
        "       'Debt', 'Utilisation_Avg', 'Transaction_Min',\n",
        "       'Number_Bigger_10000', 'Transaction_Sum', 'Transaction_Median',\n",
        "       'Number_Bigger_100', 'Balance_Avg', 'Transaction_Max',\n",
        "       'Transaction_Avg', 'Utilisation_Min','Utilisation_Avg_Percentile','Utilisation_Avg_Percentile', 'Balance_Avg_Percentile','Transaction_Std']"
      ],
      "metadata": {
        "id": "E6zjeXwV9bk1"
      },
      "execution_count": null,
      "outputs": []
    },
    {
      "cell_type": "code",
      "source": [
        "min_max_scaler = preprocessing.MinMaxScaler()\n",
        "dataset[cols_to_norm]=min_max_scaler.fit_transform(dataset[cols_to_norm])"
      ],
      "metadata": {
        "id": "1fZMxbFL-TWh"
      },
      "execution_count": null,
      "outputs": []
    },
    {
      "cell_type": "code",
      "source": [
        "dataset"
      ],
      "metadata": {
        "id": "Ig1nB9LT9xwn",
        "outputId": "23965ec1-30f1-44c8-86f4-d85574e72c51",
        "colab": {
          "base_uri": "https://localhost:8080/",
          "height": 519
        }
      },
      "execution_count": null,
      "outputs": [
        {
          "output_type": "execute_result",
          "data": {
            "text/plain": [
              "            Balance_Median  Balance_Avg_Percentile  \\\n",
              "CustomerID                                           \n",
              "C5841053          0.000155                0.481375   \n",
              "C2142763          0.000020                0.137788   \n",
              "C4417068          0.000155                0.482182   \n",
              "C5342380          0.003780                0.957262   \n",
              "C9031234          0.000058                0.265278   \n",
              "...                    ...                     ...   \n",
              "C5028150          0.000004                0.073994   \n",
              "C1034220          0.000011                0.104146   \n",
              "C8020229          0.000066                0.287492   \n",
              "C6459278          0.000237                0.584044   \n",
              "C6420483          0.000088                0.345098   \n",
              "\n",
              "            Avg_customerAge_Percentile  Location_Mode  Utilisation_Avg  \\\n",
              "CustomerID                                                               \n",
              "C5841053                      0.038146           3072         0.013173   \n",
              "C2142763                      0.988004           3127         0.012800   \n",
              "C4417068                      0.009189           4530         0.013170   \n",
              "C5342380                      0.886232           4530         0.016739   \n",
              "C9031234                      0.461564           4859         0.013063   \n",
              "...                                ...            ...              ...   \n",
              "C5028150                      0.817752           5688         0.012999   \n",
              "C1034220                      0.115802            672         0.013018   \n",
              "C8020229                      0.245361           4957         0.013079   \n",
              "C6459278                      0.175809           4838         0.013251   \n",
              "C6420483                      0.841186           7699         0.013099   \n",
              "\n",
              "            Utilisation_Min  Balance_Max  Avg_customerAge  Transaction_Min  \\\n",
              "CustomerID                                                                   \n",
              "C5841053           0.013173     0.000155         0.265306         0.000016   \n",
              "C2142763           0.012800     0.000020         0.653061         0.017948   \n",
              "C4417068           0.013170     0.000155         0.244898         0.000294   \n",
              "C5342380           0.013040     0.007532         0.454082         0.000563   \n",
              "C9031234           0.013063     0.000058         0.336735         0.001129   \n",
              "...                     ...          ...              ...              ...   \n",
              "C5028150           0.012999     0.000004         0.418367         0.001923   \n",
              "C1034220           0.013018     0.000011         0.285714         0.000962   \n",
              "C8020229           0.013079     0.000066         0.306122         0.000512   \n",
              "C6459278           0.013251     0.000237         0.295918         0.000295   \n",
              "C6420483           0.013099     0.000088         0.428571         0.000641   \n",
              "\n",
              "            Number_Bigger_10000  Transaction_Max  Utilisation_Median  \\\n",
              "CustomerID                                                             \n",
              "C5841053                    0.0         0.000016            0.013173   \n",
              "C2142763                    0.5         0.017948            0.012800   \n",
              "C4417068                    0.0         0.000294            0.013170   \n",
              "C5342380                    0.0         0.001320            0.016739   \n",
              "C9031234                    0.0         0.001129            0.013063   \n",
              "...                         ...              ...                 ...   \n",
              "C5028150                    0.0         0.001923            0.012999   \n",
              "C1034220                    0.0         0.000962            0.013018   \n",
              "C8020229                    0.0         0.000512            0.013079   \n",
              "C6459278                    0.0         0.000295            0.013251   \n",
              "C6420483                    0.0         0.000641            0.013099   \n",
              "\n",
              "            Utilisation_Max  Transaction_Frequency  Number_Bigger_500  \\\n",
              "CustomerID                                                              \n",
              "C5841053           0.013173                    0.0                0.0   \n",
              "C2142763           0.012800                    0.0                0.2   \n",
              "C4417068           0.013170                    0.0                0.0   \n",
              "C5342380           0.020437                    0.2                0.4   \n",
              "C9031234           0.013063                    0.0                0.2   \n",
              "...                     ...                    ...                ...   \n",
              "C5028150           0.012999                    0.0                0.2   \n",
              "C1034220           0.013018                    0.0                0.2   \n",
              "C8020229           0.013079                    0.0                0.2   \n",
              "C6459278           0.013251                    0.0                0.0   \n",
              "C6420483           0.013099                    0.0                0.2   \n",
              "\n",
              "            Number_Bigger_100  Balance_Avg  Transaction_Sum  Gender_Mode  \\\n",
              "CustomerID                                                                 \n",
              "C5841053             0.000000     0.000155         0.000016            0   \n",
              "C2142763             0.166667     0.000020         0.017948            1   \n",
              "C4417068             0.166667     0.000155         0.000294            0   \n",
              "C5342380             0.333333     0.003780         0.001883            0   \n",
              "C9031234             0.166667     0.000058         0.001129            0   \n",
              "...                       ...          ...              ...          ...   \n",
              "C5028150             0.166667     0.000004         0.001923            1   \n",
              "C1034220             0.166667     0.000011         0.000962            1   \n",
              "C8020229             0.166667     0.000066         0.000512            1   \n",
              "C6459278             0.166667     0.000237         0.000295            1   \n",
              "C6420483             0.166667     0.000088         0.000641            1   \n",
              "\n",
              "            Balance_Min  Transaction_Median  Transaction_Avg  Transaction_Std  \\\n",
              "CustomerID                                                                      \n",
              "C5841053       0.000155            0.000016         0.000016         0.000000   \n",
              "C2142763       0.000020            0.017948         0.017948         0.000000   \n",
              "C4417068       0.000155            0.000294         0.000294         0.000000   \n",
              "C5342380       0.000028            0.000942         0.000942         0.001633   \n",
              "C9031234       0.000058            0.001129         0.001129         0.000000   \n",
              "...                 ...                 ...              ...              ...   \n",
              "C5028150       0.000004            0.001923         0.001923         0.000000   \n",
              "C1034220       0.000011            0.000962         0.000962         0.000000   \n",
              "C8020229       0.000066            0.000512         0.000512         0.000000   \n",
              "C6459278       0.000237            0.000295         0.000295         0.000000   \n",
              "C6420483       0.000088            0.000641         0.000641         0.000000   \n",
              "\n",
              "            Generation  Debt  Transaction_percent_Avg  \\\n",
              "CustomerID                                              \n",
              "C5841053             5   0.0                        0   \n",
              "C2142763             2   1.0                        0   \n",
              "C4417068             5   0.0                        0   \n",
              "C5342380             0   0.0                        0   \n",
              "C9031234             5   0.0                        0   \n",
              "...                ...   ...                      ...   \n",
              "C5028150             5   1.0                        0   \n",
              "C1034220             5   1.0                        0   \n",
              "C8020229             5   0.0                        0   \n",
              "C6459278             5   0.0                        0   \n",
              "C6420483             5   0.0                        0   \n",
              "\n",
              "            Utilisation_Avg_Percentile  \n",
              "CustomerID                              \n",
              "C5841053                      0.495680  \n",
              "C2142763                      0.000901  \n",
              "C4417068                      0.490606  \n",
              "C5342380                      0.957365  \n",
              "C9031234                      0.240569  \n",
              "...                                ...  \n",
              "C5028150                      0.011259  \n",
              "C1034220                      0.043608  \n",
              "C8020229                      0.290643  \n",
              "C6459278                      0.591267  \n",
              "C6420483                      0.343334  \n",
              "\n",
              "[839078 rows x 27 columns]"
            ],
            "text/html": [
              "\n",
              "  <div id=\"df-c51a7042-808a-45da-9265-f9296d82afd8\">\n",
              "    <div class=\"colab-df-container\">\n",
              "      <div>\n",
              "<style scoped>\n",
              "    .dataframe tbody tr th:only-of-type {\n",
              "        vertical-align: middle;\n",
              "    }\n",
              "\n",
              "    .dataframe tbody tr th {\n",
              "        vertical-align: top;\n",
              "    }\n",
              "\n",
              "    .dataframe thead th {\n",
              "        text-align: right;\n",
              "    }\n",
              "</style>\n",
              "<table border=\"1\" class=\"dataframe\">\n",
              "  <thead>\n",
              "    <tr style=\"text-align: right;\">\n",
              "      <th></th>\n",
              "      <th>Balance_Median</th>\n",
              "      <th>Balance_Avg_Percentile</th>\n",
              "      <th>Avg_customerAge_Percentile</th>\n",
              "      <th>Location_Mode</th>\n",
              "      <th>Utilisation_Avg</th>\n",
              "      <th>Utilisation_Min</th>\n",
              "      <th>Balance_Max</th>\n",
              "      <th>Avg_customerAge</th>\n",
              "      <th>Transaction_Min</th>\n",
              "      <th>Number_Bigger_10000</th>\n",
              "      <th>Transaction_Max</th>\n",
              "      <th>Utilisation_Median</th>\n",
              "      <th>Utilisation_Max</th>\n",
              "      <th>Transaction_Frequency</th>\n",
              "      <th>Number_Bigger_500</th>\n",
              "      <th>Number_Bigger_100</th>\n",
              "      <th>Balance_Avg</th>\n",
              "      <th>Transaction_Sum</th>\n",
              "      <th>Gender_Mode</th>\n",
              "      <th>Balance_Min</th>\n",
              "      <th>Transaction_Median</th>\n",
              "      <th>Transaction_Avg</th>\n",
              "      <th>Transaction_Std</th>\n",
              "      <th>Generation</th>\n",
              "      <th>Debt</th>\n",
              "      <th>Transaction_percent_Avg</th>\n",
              "      <th>Utilisation_Avg_Percentile</th>\n",
              "    </tr>\n",
              "    <tr>\n",
              "      <th>CustomerID</th>\n",
              "      <th></th>\n",
              "      <th></th>\n",
              "      <th></th>\n",
              "      <th></th>\n",
              "      <th></th>\n",
              "      <th></th>\n",
              "      <th></th>\n",
              "      <th></th>\n",
              "      <th></th>\n",
              "      <th></th>\n",
              "      <th></th>\n",
              "      <th></th>\n",
              "      <th></th>\n",
              "      <th></th>\n",
              "      <th></th>\n",
              "      <th></th>\n",
              "      <th></th>\n",
              "      <th></th>\n",
              "      <th></th>\n",
              "      <th></th>\n",
              "      <th></th>\n",
              "      <th></th>\n",
              "      <th></th>\n",
              "      <th></th>\n",
              "      <th></th>\n",
              "      <th></th>\n",
              "      <th></th>\n",
              "    </tr>\n",
              "  </thead>\n",
              "  <tbody>\n",
              "    <tr>\n",
              "      <th>C5841053</th>\n",
              "      <td>0.000155</td>\n",
              "      <td>0.481375</td>\n",
              "      <td>0.038146</td>\n",
              "      <td>3072</td>\n",
              "      <td>0.013173</td>\n",
              "      <td>0.013173</td>\n",
              "      <td>0.000155</td>\n",
              "      <td>0.265306</td>\n",
              "      <td>0.000016</td>\n",
              "      <td>0.0</td>\n",
              "      <td>0.000016</td>\n",
              "      <td>0.013173</td>\n",
              "      <td>0.013173</td>\n",
              "      <td>0.0</td>\n",
              "      <td>0.0</td>\n",
              "      <td>0.000000</td>\n",
              "      <td>0.000155</td>\n",
              "      <td>0.000016</td>\n",
              "      <td>0</td>\n",
              "      <td>0.000155</td>\n",
              "      <td>0.000016</td>\n",
              "      <td>0.000016</td>\n",
              "      <td>0.000000</td>\n",
              "      <td>5</td>\n",
              "      <td>0.0</td>\n",
              "      <td>0</td>\n",
              "      <td>0.495680</td>\n",
              "    </tr>\n",
              "    <tr>\n",
              "      <th>C2142763</th>\n",
              "      <td>0.000020</td>\n",
              "      <td>0.137788</td>\n",
              "      <td>0.988004</td>\n",
              "      <td>3127</td>\n",
              "      <td>0.012800</td>\n",
              "      <td>0.012800</td>\n",
              "      <td>0.000020</td>\n",
              "      <td>0.653061</td>\n",
              "      <td>0.017948</td>\n",
              "      <td>0.5</td>\n",
              "      <td>0.017948</td>\n",
              "      <td>0.012800</td>\n",
              "      <td>0.012800</td>\n",
              "      <td>0.0</td>\n",
              "      <td>0.2</td>\n",
              "      <td>0.166667</td>\n",
              "      <td>0.000020</td>\n",
              "      <td>0.017948</td>\n",
              "      <td>1</td>\n",
              "      <td>0.000020</td>\n",
              "      <td>0.017948</td>\n",
              "      <td>0.017948</td>\n",
              "      <td>0.000000</td>\n",
              "      <td>2</td>\n",
              "      <td>1.0</td>\n",
              "      <td>0</td>\n",
              "      <td>0.000901</td>\n",
              "    </tr>\n",
              "    <tr>\n",
              "      <th>C4417068</th>\n",
              "      <td>0.000155</td>\n",
              "      <td>0.482182</td>\n",
              "      <td>0.009189</td>\n",
              "      <td>4530</td>\n",
              "      <td>0.013170</td>\n",
              "      <td>0.013170</td>\n",
              "      <td>0.000155</td>\n",
              "      <td>0.244898</td>\n",
              "      <td>0.000294</td>\n",
              "      <td>0.0</td>\n",
              "      <td>0.000294</td>\n",
              "      <td>0.013170</td>\n",
              "      <td>0.013170</td>\n",
              "      <td>0.0</td>\n",
              "      <td>0.0</td>\n",
              "      <td>0.166667</td>\n",
              "      <td>0.000155</td>\n",
              "      <td>0.000294</td>\n",
              "      <td>0</td>\n",
              "      <td>0.000155</td>\n",
              "      <td>0.000294</td>\n",
              "      <td>0.000294</td>\n",
              "      <td>0.000000</td>\n",
              "      <td>5</td>\n",
              "      <td>0.0</td>\n",
              "      <td>0</td>\n",
              "      <td>0.490606</td>\n",
              "    </tr>\n",
              "    <tr>\n",
              "      <th>C5342380</th>\n",
              "      <td>0.003780</td>\n",
              "      <td>0.957262</td>\n",
              "      <td>0.886232</td>\n",
              "      <td>4530</td>\n",
              "      <td>0.016739</td>\n",
              "      <td>0.013040</td>\n",
              "      <td>0.007532</td>\n",
              "      <td>0.454082</td>\n",
              "      <td>0.000563</td>\n",
              "      <td>0.0</td>\n",
              "      <td>0.001320</td>\n",
              "      <td>0.016739</td>\n",
              "      <td>0.020437</td>\n",
              "      <td>0.2</td>\n",
              "      <td>0.4</td>\n",
              "      <td>0.333333</td>\n",
              "      <td>0.003780</td>\n",
              "      <td>0.001883</td>\n",
              "      <td>0</td>\n",
              "      <td>0.000028</td>\n",
              "      <td>0.000942</td>\n",
              "      <td>0.000942</td>\n",
              "      <td>0.001633</td>\n",
              "      <td>0</td>\n",
              "      <td>0.0</td>\n",
              "      <td>0</td>\n",
              "      <td>0.957365</td>\n",
              "    </tr>\n",
              "    <tr>\n",
              "      <th>C9031234</th>\n",
              "      <td>0.000058</td>\n",
              "      <td>0.265278</td>\n",
              "      <td>0.461564</td>\n",
              "      <td>4859</td>\n",
              "      <td>0.013063</td>\n",
              "      <td>0.013063</td>\n",
              "      <td>0.000058</td>\n",
              "      <td>0.336735</td>\n",
              "      <td>0.001129</td>\n",
              "      <td>0.0</td>\n",
              "      <td>0.001129</td>\n",
              "      <td>0.013063</td>\n",
              "      <td>0.013063</td>\n",
              "      <td>0.0</td>\n",
              "      <td>0.2</td>\n",
              "      <td>0.166667</td>\n",
              "      <td>0.000058</td>\n",
              "      <td>0.001129</td>\n",
              "      <td>0</td>\n",
              "      <td>0.000058</td>\n",
              "      <td>0.001129</td>\n",
              "      <td>0.001129</td>\n",
              "      <td>0.000000</td>\n",
              "      <td>5</td>\n",
              "      <td>0.0</td>\n",
              "      <td>0</td>\n",
              "      <td>0.240569</td>\n",
              "    </tr>\n",
              "    <tr>\n",
              "      <th>...</th>\n",
              "      <td>...</td>\n",
              "      <td>...</td>\n",
              "      <td>...</td>\n",
              "      <td>...</td>\n",
              "      <td>...</td>\n",
              "      <td>...</td>\n",
              "      <td>...</td>\n",
              "      <td>...</td>\n",
              "      <td>...</td>\n",
              "      <td>...</td>\n",
              "      <td>...</td>\n",
              "      <td>...</td>\n",
              "      <td>...</td>\n",
              "      <td>...</td>\n",
              "      <td>...</td>\n",
              "      <td>...</td>\n",
              "      <td>...</td>\n",
              "      <td>...</td>\n",
              "      <td>...</td>\n",
              "      <td>...</td>\n",
              "      <td>...</td>\n",
              "      <td>...</td>\n",
              "      <td>...</td>\n",
              "      <td>...</td>\n",
              "      <td>...</td>\n",
              "      <td>...</td>\n",
              "      <td>...</td>\n",
              "    </tr>\n",
              "    <tr>\n",
              "      <th>C5028150</th>\n",
              "      <td>0.000004</td>\n",
              "      <td>0.073994</td>\n",
              "      <td>0.817752</td>\n",
              "      <td>5688</td>\n",
              "      <td>0.012999</td>\n",
              "      <td>0.012999</td>\n",
              "      <td>0.000004</td>\n",
              "      <td>0.418367</td>\n",
              "      <td>0.001923</td>\n",
              "      <td>0.0</td>\n",
              "      <td>0.001923</td>\n",
              "      <td>0.012999</td>\n",
              "      <td>0.012999</td>\n",
              "      <td>0.0</td>\n",
              "      <td>0.2</td>\n",
              "      <td>0.166667</td>\n",
              "      <td>0.000004</td>\n",
              "      <td>0.001923</td>\n",
              "      <td>1</td>\n",
              "      <td>0.000004</td>\n",
              "      <td>0.001923</td>\n",
              "      <td>0.001923</td>\n",
              "      <td>0.000000</td>\n",
              "      <td>5</td>\n",
              "      <td>1.0</td>\n",
              "      <td>0</td>\n",
              "      <td>0.011259</td>\n",
              "    </tr>\n",
              "    <tr>\n",
              "      <th>C1034220</th>\n",
              "      <td>0.000011</td>\n",
              "      <td>0.104146</td>\n",
              "      <td>0.115802</td>\n",
              "      <td>672</td>\n",
              "      <td>0.013018</td>\n",
              "      <td>0.013018</td>\n",
              "      <td>0.000011</td>\n",
              "      <td>0.285714</td>\n",
              "      <td>0.000962</td>\n",
              "      <td>0.0</td>\n",
              "      <td>0.000962</td>\n",
              "      <td>0.013018</td>\n",
              "      <td>0.013018</td>\n",
              "      <td>0.0</td>\n",
              "      <td>0.2</td>\n",
              "      <td>0.166667</td>\n",
              "      <td>0.000011</td>\n",
              "      <td>0.000962</td>\n",
              "      <td>1</td>\n",
              "      <td>0.000011</td>\n",
              "      <td>0.000962</td>\n",
              "      <td>0.000962</td>\n",
              "      <td>0.000000</td>\n",
              "      <td>5</td>\n",
              "      <td>1.0</td>\n",
              "      <td>0</td>\n",
              "      <td>0.043608</td>\n",
              "    </tr>\n",
              "    <tr>\n",
              "      <th>C8020229</th>\n",
              "      <td>0.000066</td>\n",
              "      <td>0.287492</td>\n",
              "      <td>0.245361</td>\n",
              "      <td>4957</td>\n",
              "      <td>0.013079</td>\n",
              "      <td>0.013079</td>\n",
              "      <td>0.000066</td>\n",
              "      <td>0.306122</td>\n",
              "      <td>0.000512</td>\n",
              "      <td>0.0</td>\n",
              "      <td>0.000512</td>\n",
              "      <td>0.013079</td>\n",
              "      <td>0.013079</td>\n",
              "      <td>0.0</td>\n",
              "      <td>0.2</td>\n",
              "      <td>0.166667</td>\n",
              "      <td>0.000066</td>\n",
              "      <td>0.000512</td>\n",
              "      <td>1</td>\n",
              "      <td>0.000066</td>\n",
              "      <td>0.000512</td>\n",
              "      <td>0.000512</td>\n",
              "      <td>0.000000</td>\n",
              "      <td>5</td>\n",
              "      <td>0.0</td>\n",
              "      <td>0</td>\n",
              "      <td>0.290643</td>\n",
              "    </tr>\n",
              "    <tr>\n",
              "      <th>C6459278</th>\n",
              "      <td>0.000237</td>\n",
              "      <td>0.584044</td>\n",
              "      <td>0.175809</td>\n",
              "      <td>4838</td>\n",
              "      <td>0.013251</td>\n",
              "      <td>0.013251</td>\n",
              "      <td>0.000237</td>\n",
              "      <td>0.295918</td>\n",
              "      <td>0.000295</td>\n",
              "      <td>0.0</td>\n",
              "      <td>0.000295</td>\n",
              "      <td>0.013251</td>\n",
              "      <td>0.013251</td>\n",
              "      <td>0.0</td>\n",
              "      <td>0.0</td>\n",
              "      <td>0.166667</td>\n",
              "      <td>0.000237</td>\n",
              "      <td>0.000295</td>\n",
              "      <td>1</td>\n",
              "      <td>0.000237</td>\n",
              "      <td>0.000295</td>\n",
              "      <td>0.000295</td>\n",
              "      <td>0.000000</td>\n",
              "      <td>5</td>\n",
              "      <td>0.0</td>\n",
              "      <td>0</td>\n",
              "      <td>0.591267</td>\n",
              "    </tr>\n",
              "    <tr>\n",
              "      <th>C6420483</th>\n",
              "      <td>0.000088</td>\n",
              "      <td>0.345098</td>\n",
              "      <td>0.841186</td>\n",
              "      <td>7699</td>\n",
              "      <td>0.013099</td>\n",
              "      <td>0.013099</td>\n",
              "      <td>0.000088</td>\n",
              "      <td>0.428571</td>\n",
              "      <td>0.000641</td>\n",
              "      <td>0.0</td>\n",
              "      <td>0.000641</td>\n",
              "      <td>0.013099</td>\n",
              "      <td>0.013099</td>\n",
              "      <td>0.0</td>\n",
              "      <td>0.2</td>\n",
              "      <td>0.166667</td>\n",
              "      <td>0.000088</td>\n",
              "      <td>0.000641</td>\n",
              "      <td>1</td>\n",
              "      <td>0.000088</td>\n",
              "      <td>0.000641</td>\n",
              "      <td>0.000641</td>\n",
              "      <td>0.000000</td>\n",
              "      <td>5</td>\n",
              "      <td>0.0</td>\n",
              "      <td>0</td>\n",
              "      <td>0.343334</td>\n",
              "    </tr>\n",
              "  </tbody>\n",
              "</table>\n",
              "<p>839078 rows × 27 columns</p>\n",
              "</div>\n",
              "      <button class=\"colab-df-convert\" onclick=\"convertToInteractive('df-c51a7042-808a-45da-9265-f9296d82afd8')\"\n",
              "              title=\"Convert this dataframe to an interactive table.\"\n",
              "              style=\"display:none;\">\n",
              "        \n",
              "  <svg xmlns=\"http://www.w3.org/2000/svg\" height=\"24px\"viewBox=\"0 0 24 24\"\n",
              "       width=\"24px\">\n",
              "    <path d=\"M0 0h24v24H0V0z\" fill=\"none\"/>\n",
              "    <path d=\"M18.56 5.44l.94 2.06.94-2.06 2.06-.94-2.06-.94-.94-2.06-.94 2.06-2.06.94zm-11 1L8.5 8.5l.94-2.06 2.06-.94-2.06-.94L8.5 2.5l-.94 2.06-2.06.94zm10 10l.94 2.06.94-2.06 2.06-.94-2.06-.94-.94-2.06-.94 2.06-2.06.94z\"/><path d=\"M17.41 7.96l-1.37-1.37c-.4-.4-.92-.59-1.43-.59-.52 0-1.04.2-1.43.59L10.3 9.45l-7.72 7.72c-.78.78-.78 2.05 0 2.83L4 21.41c.39.39.9.59 1.41.59.51 0 1.02-.2 1.41-.59l7.78-7.78 2.81-2.81c.8-.78.8-2.07 0-2.86zM5.41 20L4 18.59l7.72-7.72 1.47 1.35L5.41 20z\"/>\n",
              "  </svg>\n",
              "      </button>\n",
              "      \n",
              "  <style>\n",
              "    .colab-df-container {\n",
              "      display:flex;\n",
              "      flex-wrap:wrap;\n",
              "      gap: 12px;\n",
              "    }\n",
              "\n",
              "    .colab-df-convert {\n",
              "      background-color: #E8F0FE;\n",
              "      border: none;\n",
              "      border-radius: 50%;\n",
              "      cursor: pointer;\n",
              "      display: none;\n",
              "      fill: #1967D2;\n",
              "      height: 32px;\n",
              "      padding: 0 0 0 0;\n",
              "      width: 32px;\n",
              "    }\n",
              "\n",
              "    .colab-df-convert:hover {\n",
              "      background-color: #E2EBFA;\n",
              "      box-shadow: 0px 1px 2px rgba(60, 64, 67, 0.3), 0px 1px 3px 1px rgba(60, 64, 67, 0.15);\n",
              "      fill: #174EA6;\n",
              "    }\n",
              "\n",
              "    [theme=dark] .colab-df-convert {\n",
              "      background-color: #3B4455;\n",
              "      fill: #D2E3FC;\n",
              "    }\n",
              "\n",
              "    [theme=dark] .colab-df-convert:hover {\n",
              "      background-color: #434B5C;\n",
              "      box-shadow: 0px 1px 3px 1px rgba(0, 0, 0, 0.15);\n",
              "      filter: drop-shadow(0px 1px 2px rgba(0, 0, 0, 0.3));\n",
              "      fill: #FFFFFF;\n",
              "    }\n",
              "  </style>\n",
              "\n",
              "      <script>\n",
              "        const buttonEl =\n",
              "          document.querySelector('#df-c51a7042-808a-45da-9265-f9296d82afd8 button.colab-df-convert');\n",
              "        buttonEl.style.display =\n",
              "          google.colab.kernel.accessAllowed ? 'block' : 'none';\n",
              "\n",
              "        async function convertToInteractive(key) {\n",
              "          const element = document.querySelector('#df-c51a7042-808a-45da-9265-f9296d82afd8');\n",
              "          const dataTable =\n",
              "            await google.colab.kernel.invokeFunction('convertToInteractive',\n",
              "                                                     [key], {});\n",
              "          if (!dataTable) return;\n",
              "\n",
              "          const docLinkHtml = 'Like what you see? Visit the ' +\n",
              "            '<a target=\"_blank\" href=https://colab.research.google.com/notebooks/data_table.ipynb>data table notebook</a>'\n",
              "            + ' to learn more about interactive tables.';\n",
              "          element.innerHTML = '';\n",
              "          dataTable['output_type'] = 'display_data';\n",
              "          await google.colab.output.renderOutput(dataTable, element);\n",
              "          const docLink = document.createElement('div');\n",
              "          docLink.innerHTML = docLinkHtml;\n",
              "          element.appendChild(docLink);\n",
              "        }\n",
              "      </script>\n",
              "    </div>\n",
              "  </div>\n",
              "  "
            ]
          },
          "metadata": {},
          "execution_count": 88
        }
      ]
    },
    {
      "cell_type": "markdown",
      "source": [
        "We can now therefore apply the kmeans"
      ],
      "metadata": {
        "id": "JMsUVl0y-pYk"
      }
    },
    {
      "cell_type": "code",
      "source": [
        "plt.figure(figsize = (18, 6))\n",
        "m = KMeans(init = 'k-means++')\n",
        "elbow = KElbowVisualizer(m, k = (2,20), metric = 'distortion', timings = False)\n",
        "elbow.fit(dataset)\n",
        "elbow.show()"
      ],
      "metadata": {
        "id": "PapqjXTXRH_X",
        "outputId": "e301eeab-28d1-47cb-f03e-d11f32f86907",
        "colab": {
          "base_uri": "https://localhost:8080/",
          "height": 420
        }
      },
      "execution_count": null,
      "outputs": [
        {
          "output_type": "display_data",
          "data": {
            "text/plain": [
              "<Figure size 1296x432 with 1 Axes>"
            ],
            "image/png": "[encoded data removed]"
          },
          "metadata": {}
        },
        {
          "output_type": "execute_result",
          "data": {
            "text/plain": [
              "<matplotlib.axes._subplots.AxesSubplot at 0x7fc8aa3a91f0>"
            ]
          },
          "metadata": {},
          "execution_count": 135
        }
      ]
    },
    {
      "cell_type": "code",
      "source": [
        "plt.figure(figsize = (18, 6))\n",
        "m1 = KMeans(init = 'k-means++')\n",
        "calinski = KElbowVisualizer(m1, k = (2,20), metric = 'calinski_harabasz', timings = False)\n",
        "calinski.fit(dataset)\n",
        "calinski.show()"
      ],
      "metadata": {
        "id": "5A-Fy6xUAeIO",
        "outputId": "0747aec9-8d56-4fd9-8a04-422dbeabab58",
        "colab": {
          "base_uri": "https://localhost:8080/",
          "height": 420
        }
      },
      "execution_count": null,
      "outputs": [
        {
          "output_type": "display_data",
          "data": {
            "text/plain": [
              "<Figure size 1296x432 with 1 Axes>"
            ],
            "image/png": "[encoded data removed]"
          },
          "metadata": {}
        },
        {
          "output_type": "execute_result",
          "data": {
            "text/plain": [
              "<matplotlib.axes._subplots.AxesSubplot at 0x7fc897a23d60>"
            ]
          },
          "metadata": {},
          "execution_count": 136
        }
      ]
    },
    {
      "cell_type": "markdown",
      "source": [
        "The two reported metrics again suggest to us two different numbers of clusters: 5 and 2\n",
        "We chose to place k=4 as it is a value between the two.\n",
        "\n",
        "It must be remembered, however, that the suggested cluster value in this dataset is lower than that calculated in the dataset where pca was applied."
      ],
      "metadata": {
        "id": "ZZXdWP2d-xAC"
      }
    },
    {
      "cell_type": "code",
      "source": [
        "kmeans = KMeans(init = 'k-means++',n_clusters = 4)\n",
        "kmeans.fit(dataset)"
      ],
      "metadata": {
        "id": "W9vSN-HnBvRz",
        "outputId": "f50fc463-5cc2-44c7-bb2c-9f300b824751",
        "colab": {
          "base_uri": "https://localhost:8080/"
        }
      },
      "execution_count": null,
      "outputs": [
        {
          "output_type": "execute_result",
          "data": {
            "text/plain": [
              "KMeans(n_clusters=4)"
            ]
          },
          "metadata": {},
          "execution_count": 90
        }
      ]
    },
    {
      "cell_type": "markdown",
      "source": [
        "We extract the lable for each client and insert it into a column of the dataset"
      ],
      "metadata": {
        "id": "LrvtaCeM_Th4"
      }
    },
    {
      "cell_type": "code",
      "source": [
        "dataset_k[\"cluster\"] = kmeans.labels_"
      ],
      "metadata": {
        "id": "R8SikhM1Bvbd"
      },
      "execution_count": null,
      "outputs": []
    },
    {
      "cell_type": "code",
      "source": [
        "dataset[\"cluster\"] = kmeans.labels_"
      ],
      "metadata": {
        "id": "78waQJuXLbd-"
      },
      "execution_count": null,
      "outputs": []
    },
    {
      "cell_type": "markdown",
      "source": [
        "We save the dataset for use in the next step"
      ],
      "metadata": {
        "id": "a66b-TtI_cq3"
      }
    },
    {
      "cell_type": "code",
      "source": [
        "dataset_k.to_csv('/content/drive/MyDrive/adm hw4/kmeans_dataset.csv', index=False)"
      ],
      "metadata": {
        "id": "heKk6YFZCtc5"
      },
      "execution_count": null,
      "outputs": []
    },
    {
      "cell_type": "code",
      "source": [
        "dataset.to_csv('/content/drive/MyDrive/adm hw4/dataset_for_evaluation.csv', index=False)"
      ],
      "metadata": {
        "id": "GEJokFGyLfu4"
      },
      "execution_count": null,
      "outputs": []
    },
    {
      "cell_type": "markdown",
      "source": [
        "# 2.4"
      ],
      "metadata": {
        "id": "g3bsUXpOQo4z"
      }
    },
    {
      "cell_type": "code",
      "source": [
        "datak = pd.read_csv(r'/content/drive/MyDrive/adm hw4/kmeans_dataset.csv')"
      ],
      "metadata": {
        "id": "QZI1YmMzD-D9"
      },
      "execution_count": null,
      "outputs": []
    },
    {
      "cell_type": "code",
      "source": [
        "datak.columns"
      ],
      "metadata": {
        "id": "aQzObOrqoVqE",
        "outputId": "647b5a30-2933-4904-b9d4-82fb3850bb46",
        "colab": {
          "base_uri": "https://localhost:8080/"
        }
      },
      "execution_count": null,
      "outputs": [
        {
          "output_type": "execute_result",
          "data": {
            "text/plain": [
              "Index(['Balance_Median', 'Balance_Avg_Percentile',\n",
              "       'Avg_customerAge_Percentile', 'Location_Mode', 'Utilisation_Avg',\n",
              "       'Utilisation_Min', 'Balance_Max', 'Avg_customerAge', 'Transaction_Min',\n",
              "       'Number_Bigger_10000', 'Transaction_Max', 'Utilisation_Median',\n",
              "       'Utilisation_Max', 'Transaction_Frequency', 'Number_Bigger_500',\n",
              "       'Number_Bigger_100', 'Balance_Avg', 'Transaction_Sum', 'Gender_Mode',\n",
              "       'Balance_Min', 'Transaction_Median', 'Transaction_Avg',\n",
              "       'Transaction_Std', 'Generation', 'Debt', 'Transaction_percent_Avg',\n",
              "       'Utilisation_Avg_Percentile', 'cluster'],\n",
              "      dtype='object')"
            ]
          },
          "metadata": {},
          "execution_count": 94
        }
      ]
    },
    {
      "cell_type": "markdown",
      "source": [
        "We think that the 3 features that are important to identify the cluster of the customer are : `Transaction_Frequency`, `Number_Bigger_500` and `Utilisation_Max`\n",
        "\n"
      ],
      "metadata": {
        "id": "Tp_L55ZBS4Oa"
      }
    },
    {
      "cell_type": "markdown",
      "source": [
        "#### `Transaction_Frequency`"
      ],
      "metadata": {
        "id": "a3_1aMckrXcp"
      }
    },
    {
      "cell_type": "markdown",
      "source": [
        "Let's reduce the column: "
      ],
      "metadata": {
        "id": "iDNN23IMwxcQ"
      }
    },
    {
      "cell_type": "code",
      "source": [
        "modf= {\"Transaction_Frequency\": {1:'1',2:'2',3:'3',4:'4+', 5:'4+', 6:'4+'}}"
      ],
      "metadata": {
        "id": "JXepEu5kkdMr"
      },
      "execution_count": null,
      "outputs": []
    },
    {
      "cell_type": "code",
      "source": [
        "datak=datak.replace(modf)"
      ],
      "metadata": {
        "id": "tggV88j_kyW8"
      },
      "execution_count": null,
      "outputs": []
    },
    {
      "cell_type": "markdown",
      "source": [
        "Now we can plot the  first Pivot table"
      ],
      "metadata": {
        "id": "3LivypZEw8Tv"
      }
    },
    {
      "cell_type": "code",
      "source": [
        "round(pd.crosstab(index=datak[\"cluster\"], columns=datak['Transaction_Frequency'],normalize='index', margins=True)*100,2)"
      ],
      "metadata": {
        "id": "aVQYzHmRNcd_",
        "outputId": "637217b3-7add-4790-adca-e1f20f97106e",
        "colab": {
          "base_uri": "https://localhost:8080/",
          "height": 238
        }
      },
      "execution_count": null,
      "outputs": [
        {
          "output_type": "execute_result",
          "data": {
            "text/plain": [
              "Transaction_Frequency      1      2     3    4+\n",
              "cluster                                        \n",
              "0                      75.86  20.55  3.23  0.36\n",
              "1                      90.76   8.50  0.69  0.06\n",
              "2                      82.79  15.38  1.69  0.15\n",
              "3                      98.02   1.89  0.08  0.01\n",
              "All                    84.64  13.48  1.70  0.17"
            ],
            "text/html": [
              "\n",
              "  <div id=\"df-13723fec-3a2d-4800-afd3-edb7a13befed\">\n",
              "    <div class=\"colab-df-container\">\n",
              "      <div>\n",
              "<style scoped>\n",
              "    .dataframe tbody tr th:only-of-type {\n",
              "        vertical-align: middle;\n",
              "    }\n",
              "\n",
              "    .dataframe tbody tr th {\n",
              "        vertical-align: top;\n",
              "    }\n",
              "\n",
              "    .dataframe thead th {\n",
              "        text-align: right;\n",
              "    }\n",
              "</style>\n",
              "<table border=\"1\" class=\"dataframe\">\n",
              "  <thead>\n",
              "    <tr style=\"text-align: right;\">\n",
              "      <th>Transaction_Frequency</th>\n",
              "      <th>1</th>\n",
              "      <th>2</th>\n",
              "      <th>3</th>\n",
              "      <th>4+</th>\n",
              "    </tr>\n",
              "    <tr>\n",
              "      <th>cluster</th>\n",
              "      <th></th>\n",
              "      <th></th>\n",
              "      <th></th>\n",
              "      <th></th>\n",
              "    </tr>\n",
              "  </thead>\n",
              "  <tbody>\n",
              "    <tr>\n",
              "      <th>0</th>\n",
              "      <td>75.86</td>\n",
              "      <td>20.55</td>\n",
              "      <td>3.23</td>\n",
              "      <td>0.36</td>\n",
              "    </tr>\n",
              "    <tr>\n",
              "      <th>1</th>\n",
              "      <td>90.76</td>\n",
              "      <td>8.50</td>\n",
              "      <td>0.69</td>\n",
              "      <td>0.06</td>\n",
              "    </tr>\n",
              "    <tr>\n",
              "      <th>2</th>\n",
              "      <td>82.79</td>\n",
              "      <td>15.38</td>\n",
              "      <td>1.69</td>\n",
              "      <td>0.15</td>\n",
              "    </tr>\n",
              "    <tr>\n",
              "      <th>3</th>\n",
              "      <td>98.02</td>\n",
              "      <td>1.89</td>\n",
              "      <td>0.08</td>\n",
              "      <td>0.01</td>\n",
              "    </tr>\n",
              "    <tr>\n",
              "      <th>All</th>\n",
              "      <td>84.64</td>\n",
              "      <td>13.48</td>\n",
              "      <td>1.70</td>\n",
              "      <td>0.17</td>\n",
              "    </tr>\n",
              "  </tbody>\n",
              "</table>\n",
              "</div>\n",
              "      <button class=\"colab-df-convert\" onclick=\"convertToInteractive('df-13723fec-3a2d-4800-afd3-edb7a13befed')\"\n",
              "              title=\"Convert this dataframe to an interactive table.\"\n",
              "              style=\"display:none;\">\n",
              "        \n",
              "  <svg xmlns=\"http://www.w3.org/2000/svg\" height=\"24px\"viewBox=\"0 0 24 24\"\n",
              "       width=\"24px\">\n",
              "    <path d=\"M0 0h24v24H0V0z\" fill=\"none\"/>\n",
              "    <path d=\"M18.56 5.44l.94 2.06.94-2.06 2.06-.94-2.06-.94-.94-2.06-.94 2.06-2.06.94zm-11 1L8.5 8.5l.94-2.06 2.06-.94-2.06-.94L8.5 2.5l-.94 2.06-2.06.94zm10 10l.94 2.06.94-2.06 2.06-.94-2.06-.94-.94-2.06-.94 2.06-2.06.94z\"/><path d=\"M17.41 7.96l-1.37-1.37c-.4-.4-.92-.59-1.43-.59-.52 0-1.04.2-1.43.59L10.3 9.45l-7.72 7.72c-.78.78-.78 2.05 0 2.83L4 21.41c.39.39.9.59 1.41.59.51 0 1.02-.2 1.41-.59l7.78-7.78 2.81-2.81c.8-.78.8-2.07 0-2.86zM5.41 20L4 18.59l7.72-7.72 1.47 1.35L5.41 20z\"/>\n",
              "  </svg>\n",
              "      </button>\n",
              "      \n",
              "  <style>\n",
              "    .colab-df-container {\n",
              "      display:flex;\n",
              "      flex-wrap:wrap;\n",
              "      gap: 12px;\n",
              "    }\n",
              "\n",
              "    .colab-df-convert {\n",
              "      background-color: #E8F0FE;\n",
              "      border: none;\n",
              "      border-radius: 50%;\n",
              "      cursor: pointer;\n",
              "      display: none;\n",
              "      fill: #1967D2;\n",
              "      height: 32px;\n",
              "      padding: 0 0 0 0;\n",
              "      width: 32px;\n",
              "    }\n",
              "\n",
              "    .colab-df-convert:hover {\n",
              "      background-color: #E2EBFA;\n",
              "      box-shadow: 0px 1px 2px rgba(60, 64, 67, 0.3), 0px 1px 3px 1px rgba(60, 64, 67, 0.15);\n",
              "      fill: #174EA6;\n",
              "    }\n",
              "\n",
              "    [theme=dark] .colab-df-convert {\n",
              "      background-color: #3B4455;\n",
              "      fill: #D2E3FC;\n",
              "    }\n",
              "\n",
              "    [theme=dark] .colab-df-convert:hover {\n",
              "      background-color: #434B5C;\n",
              "      box-shadow: 0px 1px 3px 1px rgba(0, 0, 0, 0.15);\n",
              "      filter: drop-shadow(0px 1px 2px rgba(0, 0, 0, 0.3));\n",
              "      fill: #FFFFFF;\n",
              "    }\n",
              "  </style>\n",
              "\n",
              "      <script>\n",
              "        const buttonEl =\n",
              "          document.querySelector('#df-13723fec-3a2d-4800-afd3-edb7a13befed button.colab-df-convert');\n",
              "        buttonEl.style.display =\n",
              "          google.colab.kernel.accessAllowed ? 'block' : 'none';\n",
              "\n",
              "        async function convertToInteractive(key) {\n",
              "          const element = document.querySelector('#df-13723fec-3a2d-4800-afd3-edb7a13befed');\n",
              "          const dataTable =\n",
              "            await google.colab.kernel.invokeFunction('convertToInteractive',\n",
              "                                                     [key], {});\n",
              "          if (!dataTable) return;\n",
              "\n",
              "          const docLinkHtml = 'Like what you see? Visit the ' +\n",
              "            '<a target=\"_blank\" href=https://colab.research.google.com/notebooks/data_table.ipynb>data table notebook</a>'\n",
              "            + ' to learn more about interactive tables.';\n",
              "          element.innerHTML = '';\n",
              "          dataTable['output_type'] = 'display_data';\n",
              "          await google.colab.output.renderOutput(dataTable, element);\n",
              "          const docLink = document.createElement('div');\n",
              "          docLink.innerHTML = docLinkHtml;\n",
              "          element.appendChild(docLink);\n",
              "        }\n",
              "      </script>\n",
              "    </div>\n",
              "  </div>\n",
              "  "
            ]
          },
          "metadata": {},
          "execution_count": 97
        }
      ]
    },
    {
      "cell_type": "markdown",
      "source": [
        "Although in all clusters the individuals who made transactions = 1 are always greater than the others, we can see that cluster 2 is composed almost predominantly of people with the transition frequency = 1.\n",
        "\n",
        "Furthermore, in clusters 0 and 3, we can see rather high values relative to the mean for frequencies=2 and low values for frequencies = 1"
      ],
      "metadata": {
        "id": "mF6c0wRHRCf0"
      }
    },
    {
      "cell_type": "markdown",
      "source": [
        "#### `Number_Bigger_500`"
      ],
      "metadata": {
        "id": "IxGvtprercgs"
      }
    },
    {
      "cell_type": "markdown",
      "source": [
        "As before, we reduce the columns:"
      ],
      "metadata": {
        "id": "h9CdxfFVxM1u"
      }
    },
    {
      "cell_type": "code",
      "source": [
        "modb= {\"Number_Bigger_500\": {0:'0',1:'1',2:'2',3:'3+',4:'3+', 5:'3+'}}"
      ],
      "metadata": {
        "id": "jkOxBXRoqm4u"
      },
      "execution_count": null,
      "outputs": []
    },
    {
      "cell_type": "code",
      "source": [
        "datak=datak.replace(modb)"
      ],
      "metadata": {
        "id": "6flwDApaqm4v"
      },
      "execution_count": null,
      "outputs": []
    },
    {
      "cell_type": "code",
      "source": [
        "round(pd.crosstab(index=datak[\"cluster\"], columns=datak['Number_Bigger_500'],normalize='index', margins=True)*100,2)"
      ],
      "metadata": {
        "id": "pg3G5Wk_CzF4",
        "outputId": "47bf8c22-52f4-44f8-f5af-938878c9ab23",
        "colab": {
          "base_uri": "https://localhost:8080/",
          "height": 238
        }
      },
      "execution_count": null,
      "outputs": [
        {
          "output_type": "execute_result",
          "data": {
            "text/plain": [
              "Number_Bigger_500      0      1     2    3+\n",
              "cluster                                    \n",
              "0                  47.75  46.17  5.65  0.44\n",
              "1                  47.89  49.70  2.30  0.11\n",
              "2                  48.90  46.85  4.02  0.23\n",
              "3                  56.38  43.21  0.40  0.01\n",
              "All                48.94  47.20  3.63  0.24"
            ],
            "text/html": [
              "\n",
              "  <div id=\"df-e7fa4b54-d89a-4298-9572-9b0019867811\">\n",
              "    <div class=\"colab-df-container\">\n",
              "      <div>\n",
              "<style scoped>\n",
              "    .dataframe tbody tr th:only-of-type {\n",
              "        vertical-align: middle;\n",
              "    }\n",
              "\n",
              "    .dataframe tbody tr th {\n",
              "        vertical-align: top;\n",
              "    }\n",
              "\n",
              "    .dataframe thead th {\n",
              "        text-align: right;\n",
              "    }\n",
              "</style>\n",
              "<table border=\"1\" class=\"dataframe\">\n",
              "  <thead>\n",
              "    <tr style=\"text-align: right;\">\n",
              "      <th>Number_Bigger_500</th>\n",
              "      <th>0</th>\n",
              "      <th>1</th>\n",
              "      <th>2</th>\n",
              "      <th>3+</th>\n",
              "    </tr>\n",
              "    <tr>\n",
              "      <th>cluster</th>\n",
              "      <th></th>\n",
              "      <th></th>\n",
              "      <th></th>\n",
              "      <th></th>\n",
              "    </tr>\n",
              "  </thead>\n",
              "  <tbody>\n",
              "    <tr>\n",
              "      <th>0</th>\n",
              "      <td>47.75</td>\n",
              "      <td>46.17</td>\n",
              "      <td>5.65</td>\n",
              "      <td>0.44</td>\n",
              "    </tr>\n",
              "    <tr>\n",
              "      <th>1</th>\n",
              "      <td>47.89</td>\n",
              "      <td>49.70</td>\n",
              "      <td>2.30</td>\n",
              "      <td>0.11</td>\n",
              "    </tr>\n",
              "    <tr>\n",
              "      <th>2</th>\n",
              "      <td>48.90</td>\n",
              "      <td>46.85</td>\n",
              "      <td>4.02</td>\n",
              "      <td>0.23</td>\n",
              "    </tr>\n",
              "    <tr>\n",
              "      <th>3</th>\n",
              "      <td>56.38</td>\n",
              "      <td>43.21</td>\n",
              "      <td>0.40</td>\n",
              "      <td>0.01</td>\n",
              "    </tr>\n",
              "    <tr>\n",
              "      <th>All</th>\n",
              "      <td>48.94</td>\n",
              "      <td>47.20</td>\n",
              "      <td>3.63</td>\n",
              "      <td>0.24</td>\n",
              "    </tr>\n",
              "  </tbody>\n",
              "</table>\n",
              "</div>\n",
              "      <button class=\"colab-df-convert\" onclick=\"convertToInteractive('df-e7fa4b54-d89a-4298-9572-9b0019867811')\"\n",
              "              title=\"Convert this dataframe to an interactive table.\"\n",
              "              style=\"display:none;\">\n",
              "        \n",
              "  <svg xmlns=\"http://www.w3.org/2000/svg\" height=\"24px\"viewBox=\"0 0 24 24\"\n",
              "       width=\"24px\">\n",
              "    <path d=\"M0 0h24v24H0V0z\" fill=\"none\"/>\n",
              "    <path d=\"M18.56 5.44l.94 2.06.94-2.06 2.06-.94-2.06-.94-.94-2.06-.94 2.06-2.06.94zm-11 1L8.5 8.5l.94-2.06 2.06-.94-2.06-.94L8.5 2.5l-.94 2.06-2.06.94zm10 10l.94 2.06.94-2.06 2.06-.94-2.06-.94-.94-2.06-.94 2.06-2.06.94z\"/><path d=\"M17.41 7.96l-1.37-1.37c-.4-.4-.92-.59-1.43-.59-.52 0-1.04.2-1.43.59L10.3 9.45l-7.72 7.72c-.78.78-.78 2.05 0 2.83L4 21.41c.39.39.9.59 1.41.59.51 0 1.02-.2 1.41-.59l7.78-7.78 2.81-2.81c.8-.78.8-2.07 0-2.86zM5.41 20L4 18.59l7.72-7.72 1.47 1.35L5.41 20z\"/>\n",
              "  </svg>\n",
              "      </button>\n",
              "      \n",
              "  <style>\n",
              "    .colab-df-container {\n",
              "      display:flex;\n",
              "      flex-wrap:wrap;\n",
              "      gap: 12px;\n",
              "    }\n",
              "\n",
              "    .colab-df-convert {\n",
              "      background-color: #E8F0FE;\n",
              "      border: none;\n",
              "      border-radius: 50%;\n",
              "      cursor: pointer;\n",
              "      display: none;\n",
              "      fill: #1967D2;\n",
              "      height: 32px;\n",
              "      padding: 0 0 0 0;\n",
              "      width: 32px;\n",
              "    }\n",
              "\n",
              "    .colab-df-convert:hover {\n",
              "      background-color: #E2EBFA;\n",
              "      box-shadow: 0px 1px 2px rgba(60, 64, 67, 0.3), 0px 1px 3px 1px rgba(60, 64, 67, 0.15);\n",
              "      fill: #174EA6;\n",
              "    }\n",
              "\n",
              "    [theme=dark] .colab-df-convert {\n",
              "      background-color: #3B4455;\n",
              "      fill: #D2E3FC;\n",
              "    }\n",
              "\n",
              "    [theme=dark] .colab-df-convert:hover {\n",
              "      background-color: #434B5C;\n",
              "      box-shadow: 0px 1px 3px 1px rgba(0, 0, 0, 0.15);\n",
              "      filter: drop-shadow(0px 1px 2px rgba(0, 0, 0, 0.3));\n",
              "      fill: #FFFFFF;\n",
              "    }\n",
              "  </style>\n",
              "\n",
              "      <script>\n",
              "        const buttonEl =\n",
              "          document.querySelector('#df-e7fa4b54-d89a-4298-9572-9b0019867811 button.colab-df-convert');\n",
              "        buttonEl.style.display =\n",
              "          google.colab.kernel.accessAllowed ? 'block' : 'none';\n",
              "\n",
              "        async function convertToInteractive(key) {\n",
              "          const element = document.querySelector('#df-e7fa4b54-d89a-4298-9572-9b0019867811');\n",
              "          const dataTable =\n",
              "            await google.colab.kernel.invokeFunction('convertToInteractive',\n",
              "                                                     [key], {});\n",
              "          if (!dataTable) return;\n",
              "\n",
              "          const docLinkHtml = 'Like what you see? Visit the ' +\n",
              "            '<a target=\"_blank\" href=https://colab.research.google.com/notebooks/data_table.ipynb>data table notebook</a>'\n",
              "            + ' to learn more about interactive tables.';\n",
              "          element.innerHTML = '';\n",
              "          dataTable['output_type'] = 'display_data';\n",
              "          await google.colab.output.renderOutput(dataTable, element);\n",
              "          const docLink = document.createElement('div');\n",
              "          docLink.innerHTML = docLinkHtml;\n",
              "          element.appendChild(docLink);\n",
              "        }\n",
              "      </script>\n",
              "    </div>\n",
              "  </div>\n",
              "  "
            ]
          },
          "metadata": {},
          "execution_count": 100
        }
      ]
    },
    {
      "cell_type": "markdown",
      "source": [
        "Even if the differences in the data are not huge, we can see that in cluster 2 there are on average 10% more individuals with N_Bigger_500 = 0 than in the other clusters, also less than 0.5% of the individuals have N_bigger_500 >= 2 when in the other clusters the average is about 4%"
      ],
      "metadata": {
        "id": "x3u0qxCsqCmD"
      }
    },
    {
      "cell_type": "markdown",
      "source": [
        "#### `Utilisation_Max`\n",
        "\n"
      ],
      "metadata": {
        "id": "d__iiRo4tsqz"
      }
    },
    {
      "cell_type": "markdown",
      "source": [
        "This is a continuous variable, so first we need to understand the distribution before dividing it into categories: "
      ],
      "metadata": {
        "id": "awa7UQwwxU1h"
      }
    },
    {
      "cell_type": "code",
      "source": [
        "datak.Utilisation_Max.describe()"
      ],
      "metadata": {
        "id": "Q_xoeR8DRIE9",
        "colab": {
          "base_uri": "https://localhost:8080/"
        },
        "outputId": "027ab1ef-83c7-4a47-f90a-827800557665"
      },
      "execution_count": null,
      "outputs": [
        {
          "output_type": "execute_result",
          "data": {
            "text/plain": [
              "count    8.390780e+05\n",
              "mean     1.196845e+05\n",
              "std      8.800945e+05\n",
              "min     -1.517546e+06\n",
              "25%      4.848712e+03\n",
              "50%      1.808086e+04\n",
              "75%      6.222816e+04\n",
              "max      1.150349e+08\n",
              "Name: Utilisation_Max, dtype: float64"
            ]
          },
          "metadata": {},
          "execution_count": 101
        }
      ]
    },
    {
      "cell_type": "markdown",
      "source": [
        "We divided the variable into 4 categories:\n",
        "* In the first we included all negative values\n",
        "* In the second we go from zero to 10000 which is a value between the first and second quartiles\n",
        "* As right boundary for the third group we used a number slightly lower than the third quartile\n",
        "* The last class goes up to the maximum of the distribution"
      ],
      "metadata": {
        "id": "kOvLL6O7xyI7"
      }
    },
    {
      "cell_type": "code",
      "source": [
        "datak['Utilisation_Max_r'] = pd.cut(datak.Utilisation_Max, [min(datak.Utilisation_Max)-1,0,10000,60000,max(datak.Utilisation_Max)], include_lowest=True)"
      ],
      "metadata": {
        "id": "6c_IxnD_RIH_"
      },
      "execution_count": null,
      "outputs": []
    },
    {
      "cell_type": "code",
      "source": [
        "round(pd.crosstab(index=datak[\"cluster\"], columns=datak['Utilisation_Max_r'],normalize='index', margins=True)*100,2)"
      ],
      "metadata": {
        "id": "M7gqYCs2RILX",
        "colab": {
          "base_uri": "https://localhost:8080/",
          "height": 238
        },
        "outputId": "fdbaa469-01e2-4dba-a515-bb89b8591377"
      },
      "execution_count": null,
      "outputs": [
        {
          "output_type": "execute_result",
          "data": {
            "text/plain": [
              "Utilisation_Max_r  (-1517547.111, 0.0]  (0.0, 10000.0]  (10000.0, 60000.0]  \\\n",
              "cluster                                                                      \n",
              "0                                 7.81           27.57               38.56   \n",
              "1                                 8.64           27.55               36.17   \n",
              "2                                 8.10           28.56               37.66   \n",
              "3                                10.77           35.81               35.90   \n",
              "All                               8.45           28.63               37.29   \n",
              "\n",
              "Utilisation_Max_r  (60000.0, 115034895.1]  \n",
              "cluster                                    \n",
              "0                                   26.06  \n",
              "1                                   27.64  \n",
              "2                                   25.68  \n",
              "3                                   17.52  \n",
              "All                                 25.63  "
            ],
            "text/html": [
              "\n",
              "  <div id=\"df-c0643d67-3d8e-418b-80c4-bd45dfc346ba\">\n",
              "    <div class=\"colab-df-container\">\n",
              "      <div>\n",
              "<style scoped>\n",
              "    .dataframe tbody tr th:only-of-type {\n",
              "        vertical-align: middle;\n",
              "    }\n",
              "\n",
              "    .dataframe tbody tr th {\n",
              "        vertical-align: top;\n",
              "    }\n",
              "\n",
              "    .dataframe thead th {\n",
              "        text-align: right;\n",
              "    }\n",
              "</style>\n",
              "<table border=\"1\" class=\"dataframe\">\n",
              "  <thead>\n",
              "    <tr style=\"text-align: right;\">\n",
              "      <th>Utilisation_Max_r</th>\n",
              "      <th>(-1517547.111, 0.0]</th>\n",
              "      <th>(0.0, 10000.0]</th>\n",
              "      <th>(10000.0, 60000.0]</th>\n",
              "      <th>(60000.0, 115034895.1]</th>\n",
              "    </tr>\n",
              "    <tr>\n",
              "      <th>cluster</th>\n",
              "      <th></th>\n",
              "      <th></th>\n",
              "      <th></th>\n",
              "      <th></th>\n",
              "    </tr>\n",
              "  </thead>\n",
              "  <tbody>\n",
              "    <tr>\n",
              "      <th>0</th>\n",
              "      <td>7.81</td>\n",
              "      <td>27.57</td>\n",
              "      <td>38.56</td>\n",
              "      <td>26.06</td>\n",
              "    </tr>\n",
              "    <tr>\n",
              "      <th>1</th>\n",
              "      <td>8.64</td>\n",
              "      <td>27.55</td>\n",
              "      <td>36.17</td>\n",
              "      <td>27.64</td>\n",
              "    </tr>\n",
              "    <tr>\n",
              "      <th>2</th>\n",
              "      <td>8.10</td>\n",
              "      <td>28.56</td>\n",
              "      <td>37.66</td>\n",
              "      <td>25.68</td>\n",
              "    </tr>\n",
              "    <tr>\n",
              "      <th>3</th>\n",
              "      <td>10.77</td>\n",
              "      <td>35.81</td>\n",
              "      <td>35.90</td>\n",
              "      <td>17.52</td>\n",
              "    </tr>\n",
              "    <tr>\n",
              "      <th>All</th>\n",
              "      <td>8.45</td>\n",
              "      <td>28.63</td>\n",
              "      <td>37.29</td>\n",
              "      <td>25.63</td>\n",
              "    </tr>\n",
              "  </tbody>\n",
              "</table>\n",
              "</div>\n",
              "      <button class=\"colab-df-convert\" onclick=\"convertToInteractive('df-c0643d67-3d8e-418b-80c4-bd45dfc346ba')\"\n",
              "              title=\"Convert this dataframe to an interactive table.\"\n",
              "              style=\"display:none;\">\n",
              "        \n",
              "  <svg xmlns=\"http://www.w3.org/2000/svg\" height=\"24px\"viewBox=\"0 0 24 24\"\n",
              "       width=\"24px\">\n",
              "    <path d=\"M0 0h24v24H0V0z\" fill=\"none\"/>\n",
              "    <path d=\"M18.56 5.44l.94 2.06.94-2.06 2.06-.94-2.06-.94-.94-2.06-.94 2.06-2.06.94zm-11 1L8.5 8.5l.94-2.06 2.06-.94-2.06-.94L8.5 2.5l-.94 2.06-2.06.94zm10 10l.94 2.06.94-2.06 2.06-.94-2.06-.94-.94-2.06-.94 2.06-2.06.94z\"/><path d=\"M17.41 7.96l-1.37-1.37c-.4-.4-.92-.59-1.43-.59-.52 0-1.04.2-1.43.59L10.3 9.45l-7.72 7.72c-.78.78-.78 2.05 0 2.83L4 21.41c.39.39.9.59 1.41.59.51 0 1.02-.2 1.41-.59l7.78-7.78 2.81-2.81c.8-.78.8-2.07 0-2.86zM5.41 20L4 18.59l7.72-7.72 1.47 1.35L5.41 20z\"/>\n",
              "  </svg>\n",
              "      </button>\n",
              "      \n",
              "  <style>\n",
              "    .colab-df-container {\n",
              "      display:flex;\n",
              "      flex-wrap:wrap;\n",
              "      gap: 12px;\n",
              "    }\n",
              "\n",
              "    .colab-df-convert {\n",
              "      background-color: #E8F0FE;\n",
              "      border: none;\n",
              "      border-radius: 50%;\n",
              "      cursor: pointer;\n",
              "      display: none;\n",
              "      fill: #1967D2;\n",
              "      height: 32px;\n",
              "      padding: 0 0 0 0;\n",
              "      width: 32px;\n",
              "    }\n",
              "\n",
              "    .colab-df-convert:hover {\n",
              "      background-color: #E2EBFA;\n",
              "      box-shadow: 0px 1px 2px rgba(60, 64, 67, 0.3), 0px 1px 3px 1px rgba(60, 64, 67, 0.15);\n",
              "      fill: #174EA6;\n",
              "    }\n",
              "\n",
              "    [theme=dark] .colab-df-convert {\n",
              "      background-color: #3B4455;\n",
              "      fill: #D2E3FC;\n",
              "    }\n",
              "\n",
              "    [theme=dark] .colab-df-convert:hover {\n",
              "      background-color: #434B5C;\n",
              "      box-shadow: 0px 1px 3px 1px rgba(0, 0, 0, 0.15);\n",
              "      filter: drop-shadow(0px 1px 2px rgba(0, 0, 0, 0.3));\n",
              "      fill: #FFFFFF;\n",
              "    }\n",
              "  </style>\n",
              "\n",
              "      <script>\n",
              "        const buttonEl =\n",
              "          document.querySelector('#df-c0643d67-3d8e-418b-80c4-bd45dfc346ba button.colab-df-convert');\n",
              "        buttonEl.style.display =\n",
              "          google.colab.kernel.accessAllowed ? 'block' : 'none';\n",
              "\n",
              "        async function convertToInteractive(key) {\n",
              "          const element = document.querySelector('#df-c0643d67-3d8e-418b-80c4-bd45dfc346ba');\n",
              "          const dataTable =\n",
              "            await google.colab.kernel.invokeFunction('convertToInteractive',\n",
              "                                                     [key], {});\n",
              "          if (!dataTable) return;\n",
              "\n",
              "          const docLinkHtml = 'Like what you see? Visit the ' +\n",
              "            '<a target=\"_blank\" href=https://colab.research.google.com/notebooks/data_table.ipynb>data table notebook</a>'\n",
              "            + ' to learn more about interactive tables.';\n",
              "          element.innerHTML = '';\n",
              "          dataTable['output_type'] = 'display_data';\n",
              "          await google.colab.output.renderOutput(dataTable, element);\n",
              "          const docLink = document.createElement('div');\n",
              "          docLink.innerHTML = docLinkHtml;\n",
              "          element.appendChild(docLink);\n",
              "        }\n",
              "      </script>\n",
              "    </div>\n",
              "  </div>\n",
              "  "
            ]
          },
          "metadata": {},
          "execution_count": 103
        }
      ]
    },
    {
      "cell_type": "markdown",
      "source": [
        "In cluster 2 we can see that in the two lowest classes of utilization_max there are more individuals (10.8% in the first and 35.8% in the second) in proportion to the other groups ( average of about 8 and 28, respectively). also in this cluster, we can see a lower presence of individuals belonging to the highest class ( 17% compared to the average of 25)."
      ],
      "metadata": {
        "id": "fB_ZxnRNuaZe"
      }
    },
    {
      "cell_type": "markdown",
      "source": [
        "To estimate clustering algorithm performance we load the dataset stored before in 2.3:"
      ],
      "metadata": {
        "id": "Dp8RSNrqEF9I"
      }
    },
    {
      "cell_type": "code",
      "source": [
        "d_performance=pd.read_csv(r'/content/drive/MyDrive/adm hw4/dataset_for_evaluation.csv')"
      ],
      "metadata": {
        "id": "4hJ1_qPQB8PJ"
      },
      "execution_count": null,
      "outputs": []
    },
    {
      "cell_type": "markdown",
      "source": [
        "let's look at two metrics to get an idea:\n",
        "* **calinski_harabasz**: is defined as the ratio between the within-cluster dispersion and the between-cluster dispersion\n",
        "* **ddavies_bouldin_score**: the average similarity measure of each cluster with its most similar cluster"
      ],
      "metadata": {
        "id": "qUZN1Oz4ImXf"
      }
    },
    {
      "cell_type": "code",
      "source": [
        "from sklearn.metrics import calinski_harabasz_score, davies_bouldin_score\n",
        "from sklearn.cluster import KMeans"
      ],
      "metadata": {
        "id": "Vlo25oAEJXBL"
      },
      "execution_count": null,
      "outputs": []
    },
    {
      "cell_type": "code",
      "source": [
        "calinski_harabasz_score(d_performance.loc[:, d_performance.columns != \"cluster\"], d_performance[\"cluster\"])"
      ],
      "metadata": {
        "colab": {
          "base_uri": "https://localhost:8080/"
        },
        "id": "KBovqfs-JT4S",
        "outputId": "98dcfa68-3992-4be8-cd9f-52796f699ae0"
      },
      "execution_count": null,
      "outputs": [
        {
          "output_type": "execute_result",
          "data": {
            "text/plain": [
              "4364393.424125163"
            ]
          },
          "metadata": {},
          "execution_count": 113
        }
      ]
    },
    {
      "cell_type": "markdown",
      "source": [
        "In that metric the higher the Index is, the better the performance. \n",
        "We can say that is pretty high"
      ],
      "metadata": {
        "id": "e4aNaso4Ni4L"
      }
    },
    {
      "cell_type": "code",
      "source": [
        "davies_bouldin_score(d_performance.loc[:, d_performance.columns != \"cluster\"], d_performance[\"cluster\"])"
      ],
      "metadata": {
        "colab": {
          "base_uri": "https://localhost:8080/"
        },
        "id": "T5Bvde-eMag1",
        "outputId": "b3583df9-2e36-44a7-8f5a-ad63b732640c"
      },
      "execution_count": null,
      "outputs": [
        {
          "output_type": "execute_result",
          "data": {
            "text/plain": [
              "0.42176359140486896"
            ]
          },
          "metadata": {},
          "execution_count": 121
        }
      ]
    },
    {
      "cell_type": "markdown",
      "source": [
        "Instead for the Davies Bouldin score lower values correspond to better clustering performance.\n",
        "\n",
        "In our case, the score is near to zero"
      ],
      "metadata": {
        "id": "wyo5LWplNaZu"
      }
    },
    {
      "cell_type": "markdown",
      "source": [
        "Thus, both metrics affirm that our clusters are divided quite well"
      ],
      "metadata": {
        "id": "KvYAtCW8OQ6_"
      }
    },
    {
      "cell_type": "markdown",
      "source": [
        "# Algorithmic Question"
      ],
      "metadata": {
        "id": "mT6m6-LCUeUP"
      }
    },
    {
      "cell_type": "markdown",
      "source": [
        "E = entrances, S = students, G = guards"
      ],
      "metadata": {
        "id": "nz-DkhjPWiBb"
      }
    },
    {
      "cell_type": "code",
      "source": [
        "def algoQuest(E, S, G, students):\n",
        "  guards = 1\n",
        "  for i in range(1, len(students)):\n",
        "    if (students[i] != students[i-1]) and (students[i] not in students[:i]):  \n",
        "        if students[i-1] in students[i+1:]:\n",
        "            guards += 1\n",
        "  if guards <= G:\n",
        "    print('Yes.')\n",
        "  else:\n",
        "    print('No.')"
      ],
      "metadata": {
        "id": "LNwfZo1HVhq2"
      },
      "execution_count": null,
      "outputs": []
    },
    {
      "cell_type": "markdown",
      "source": [
        "## Input 1"
      ],
      "metadata": {
        "id": "ZQTDb1ZMWuj5"
      }
    },
    {
      "cell_type": "code",
      "source": [
        "E1, S1, G1 = list(map(int, input().split()))\n",
        "students1 = list(map(int, input().split()))"
      ],
      "metadata": {
        "colab": {
          "base_uri": "https://localhost:8080/"
        },
        "id": "XGuBH3oGV0YT",
        "outputId": "27dc1992-3230-479f-dd0a-cf3dac430914"
      },
      "execution_count": null,
      "outputs": [
        {
          "name": "stdout",
          "output_type": "stream",
          "text": [
            "4 5 1\n",
            "1 1 3 3 3\n"
          ]
        }
      ]
    },
    {
      "cell_type": "code",
      "source": [
        "algoQuest(E1, S1, G1, students1)"
      ],
      "metadata": {
        "colab": {
          "base_uri": "https://localhost:8080/"
        },
        "id": "fvEeoL1sV1wS",
        "outputId": "a56483de-8f86-43cc-98d0-42c29b9d765a"
      },
      "execution_count": null,
      "outputs": [
        {
          "output_type": "stream",
          "name": "stdout",
          "text": [
            "Yes.\n"
          ]
        }
      ]
    },
    {
      "cell_type": "markdown",
      "source": [
        "## Input 2"
      ],
      "metadata": {
        "id": "m9GhRYBzWya6"
      }
    },
    {
      "cell_type": "code",
      "source": [
        "E2, S2, G2 = list(map(int, input().split()))\n",
        "students2 = list(map(int, input().split()))"
      ],
      "metadata": {
        "colab": {
          "base_uri": "https://localhost:8080/"
        },
        "id": "VMEmId0XWMxb",
        "outputId": "2672d3b1-ee26-4437-cca2-5cb21d0b208b"
      },
      "execution_count": null,
      "outputs": [
        {
          "name": "stdout",
          "output_type": "stream",
          "text": [
            "2 5 1\n",
            "1 2 1 2 2\n"
          ]
        }
      ]
    },
    {
      "cell_type": "code",
      "source": [
        "algoQuest(E2, S2, G2, students2)"
      ],
      "metadata": {
        "colab": {
          "base_uri": "https://localhost:8080/"
        },
        "id": "yrsGh_oiWC75",
        "outputId": "1428de8c-b438-4434-c5fd-ee1ee93af039"
      },
      "execution_count": null,
      "outputs": [
        {
          "output_type": "stream",
          "name": "stdout",
          "text": [
            "No.\n"
          ]
        }
      ]
    }
  ]
}